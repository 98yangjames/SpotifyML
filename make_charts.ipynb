{
 "cells": [
  {
   "cell_type": "code",
   "execution_count": 1,
   "metadata": {},
   "outputs": [],
   "source": [
    "import pandas as pd\n",
    "import plotly.express as px"
   ]
  },
  {
   "cell_type": "code",
   "execution_count": 21,
   "metadata": {},
   "outputs": [],
   "source": [
    "df = pd.read_csv('Data/Listening_Data/songs_listened_to_with_all_info_unique.csv')"
   ]
  },
  {
   "cell_type": "code",
   "execution_count": 22,
   "metadata": {},
   "outputs": [],
   "source": [
    "test = df[df['artistName'] == 'Blxst'].sort_values('endTime', ascending=False)"
   ]
  },
  {
   "cell_type": "code",
   "execution_count": 23,
   "metadata": {},
   "outputs": [
    {
     "data": {
      "text/html": [
       "<div>\n",
       "<style scoped>\n",
       "    .dataframe tbody tr th:only-of-type {\n",
       "        vertical-align: middle;\n",
       "    }\n",
       "\n",
       "    .dataframe tbody tr th {\n",
       "        vertical-align: top;\n",
       "    }\n",
       "\n",
       "    .dataframe thead th {\n",
       "        text-align: right;\n",
       "    }\n",
       "</style>\n",
       "<table border=\"1\" class=\"dataframe\">\n",
       "  <thead>\n",
       "    <tr style=\"text-align: right;\">\n",
       "      <th></th>\n",
       "      <th>Unnamed: 0.1</th>\n",
       "      <th>Unnamed: 0</th>\n",
       "      <th>endTime</th>\n",
       "      <th>artistName</th>\n",
       "      <th>trackName</th>\n",
       "      <th>albumName</th>\n",
       "      <th>msPlayed</th>\n",
       "      <th>month</th>\n",
       "      <th>year</th>\n",
       "      <th>Season</th>\n",
       "      <th>...</th>\n",
       "      <th>liveness</th>\n",
       "      <th>valence</th>\n",
       "      <th>tempo</th>\n",
       "      <th>type</th>\n",
       "      <th>id</th>\n",
       "      <th>uri</th>\n",
       "      <th>track_href</th>\n",
       "      <th>analysis_url</th>\n",
       "      <th>duration_ms</th>\n",
       "      <th>time_signature</th>\n",
       "    </tr>\n",
       "  </thead>\n",
       "  <tbody>\n",
       "    <tr>\n",
       "      <th>350</th>\n",
       "      <td>535</td>\n",
       "      <td>535</td>\n",
       "      <td>9/9/2022 16:31</td>\n",
       "      <td>Blxst</td>\n",
       "      <td>Forever Humble</td>\n",
       "      <td>No Love Lost</td>\n",
       "      <td>123844</td>\n",
       "      <td>9</td>\n",
       "      <td>2022</td>\n",
       "      <td>4</td>\n",
       "      <td>...</td>\n",
       "      <td>0.0676</td>\n",
       "      <td>0.459</td>\n",
       "      <td>101.081</td>\n",
       "      <td>audio_features</td>\n",
       "      <td>5FWVkOvM9A4EUqxFRJ2A1U</td>\n",
       "      <td>spotify:track:5FWVkOvM9A4EUqxFRJ2A1U</td>\n",
       "      <td>https://api.spotify.com/v1/tracks/5FWVkOvM9A4E...</td>\n",
       "      <td>https://api.spotify.com/v1/audio-analysis/5FWV...</td>\n",
       "      <td>123845</td>\n",
       "      <td>4</td>\n",
       "    </tr>\n",
       "    <tr>\n",
       "      <th>10298</th>\n",
       "      <td>48520</td>\n",
       "      <td>36448</td>\n",
       "      <td>9/9/2022 15:55</td>\n",
       "      <td>Blxst</td>\n",
       "      <td>Keep Comin' Back</td>\n",
       "      <td>Before You Go</td>\n",
       "      <td>145759</td>\n",
       "      <td>9</td>\n",
       "      <td>2022</td>\n",
       "      <td>4</td>\n",
       "      <td>...</td>\n",
       "      <td>0.0888</td>\n",
       "      <td>0.749</td>\n",
       "      <td>122.932</td>\n",
       "      <td>audio_features</td>\n",
       "      <td>4OTfzPtlbQOrZfzxOxeUfL</td>\n",
       "      <td>spotify:track:4OTfzPtlbQOrZfzxOxeUfL</td>\n",
       "      <td>https://api.spotify.com/v1/tracks/4OTfzPtlbQOr...</td>\n",
       "      <td>https://api.spotify.com/v1/audio-analysis/4OTf...</td>\n",
       "      <td>145759</td>\n",
       "      <td>5</td>\n",
       "    </tr>\n",
       "    <tr>\n",
       "      <th>10191</th>\n",
       "      <td>48273</td>\n",
       "      <td>36201</td>\n",
       "      <td>9/9/2022 15:40</td>\n",
       "      <td>Blxst</td>\n",
       "      <td>Every Good Girl</td>\n",
       "      <td>Before You Go</td>\n",
       "      <td>137840</td>\n",
       "      <td>9</td>\n",
       "      <td>2022</td>\n",
       "      <td>4</td>\n",
       "      <td>...</td>\n",
       "      <td>0.1510</td>\n",
       "      <td>0.460</td>\n",
       "      <td>92.916</td>\n",
       "      <td>audio_features</td>\n",
       "      <td>6VYBCG9nCZwUUImVqZQVet</td>\n",
       "      <td>spotify:track:6VYBCG9nCZwUUImVqZQVet</td>\n",
       "      <td>https://api.spotify.com/v1/tracks/6VYBCG9nCZwU...</td>\n",
       "      <td>https://api.spotify.com/v1/audio-analysis/6VYB...</td>\n",
       "      <td>176851</td>\n",
       "      <td>4</td>\n",
       "    </tr>\n",
       "    <tr>\n",
       "      <th>10190</th>\n",
       "      <td>48272</td>\n",
       "      <td>36200</td>\n",
       "      <td>9/8/2022 2:54</td>\n",
       "      <td>Blxst</td>\n",
       "      <td>Every Good Girl</td>\n",
       "      <td>Before You Go</td>\n",
       "      <td>4063</td>\n",
       "      <td>9</td>\n",
       "      <td>2022</td>\n",
       "      <td>4</td>\n",
       "      <td>...</td>\n",
       "      <td>0.1510</td>\n",
       "      <td>0.460</td>\n",
       "      <td>92.916</td>\n",
       "      <td>audio_features</td>\n",
       "      <td>6VYBCG9nCZwUUImVqZQVet</td>\n",
       "      <td>spotify:track:6VYBCG9nCZwUUImVqZQVet</td>\n",
       "      <td>https://api.spotify.com/v1/tracks/6VYBCG9nCZwU...</td>\n",
       "      <td>https://api.spotify.com/v1/audio-analysis/6VYB...</td>\n",
       "      <td>176851</td>\n",
       "      <td>4</td>\n",
       "    </tr>\n",
       "    <tr>\n",
       "      <th>10189</th>\n",
       "      <td>48271</td>\n",
       "      <td>36199</td>\n",
       "      <td>9/6/2022 3:28</td>\n",
       "      <td>Blxst</td>\n",
       "      <td>Every Good Girl</td>\n",
       "      <td>Before You Go</td>\n",
       "      <td>176850</td>\n",
       "      <td>9</td>\n",
       "      <td>2022</td>\n",
       "      <td>4</td>\n",
       "      <td>...</td>\n",
       "      <td>0.1510</td>\n",
       "      <td>0.460</td>\n",
       "      <td>92.916</td>\n",
       "      <td>audio_features</td>\n",
       "      <td>6VYBCG9nCZwUUImVqZQVet</td>\n",
       "      <td>spotify:track:6VYBCG9nCZwUUImVqZQVet</td>\n",
       "      <td>https://api.spotify.com/v1/tracks/6VYBCG9nCZwU...</td>\n",
       "      <td>https://api.spotify.com/v1/audio-analysis/6VYB...</td>\n",
       "      <td>176851</td>\n",
       "      <td>4</td>\n",
       "    </tr>\n",
       "    <tr>\n",
       "      <th>...</th>\n",
       "      <td>...</td>\n",
       "      <td>...</td>\n",
       "      <td>...</td>\n",
       "      <td>...</td>\n",
       "      <td>...</td>\n",
       "      <td>...</td>\n",
       "      <td>...</td>\n",
       "      <td>...</td>\n",
       "      <td>...</td>\n",
       "      <td>...</td>\n",
       "      <td>...</td>\n",
       "      <td>...</td>\n",
       "      <td>...</td>\n",
       "      <td>...</td>\n",
       "      <td>...</td>\n",
       "      <td>...</td>\n",
       "      <td>...</td>\n",
       "      <td>...</td>\n",
       "      <td>...</td>\n",
       "      <td>...</td>\n",
       "      <td>...</td>\n",
       "    </tr>\n",
       "    <tr>\n",
       "      <th>2302</th>\n",
       "      <td>11470</td>\n",
       "      <td>7952</td>\n",
       "      <td>1/12/2023 2:17</td>\n",
       "      <td>Blxst</td>\n",
       "      <td>Overrated</td>\n",
       "      <td>No Love Lost</td>\n",
       "      <td>146938</td>\n",
       "      <td>1</td>\n",
       "      <td>2023</td>\n",
       "      <td>1</td>\n",
       "      <td>...</td>\n",
       "      <td>0.1030</td>\n",
       "      <td>0.466</td>\n",
       "      <td>97.897</td>\n",
       "      <td>audio_features</td>\n",
       "      <td>6Fc9IYSkbmVwv4dlzn8hJb</td>\n",
       "      <td>spotify:track:6Fc9IYSkbmVwv4dlzn8hJb</td>\n",
       "      <td>https://api.spotify.com/v1/tracks/6Fc9IYSkbmVw...</td>\n",
       "      <td>https://api.spotify.com/v1/audio-analysis/6Fc9...</td>\n",
       "      <td>146939</td>\n",
       "      <td>4</td>\n",
       "    </tr>\n",
       "    <tr>\n",
       "      <th>4076</th>\n",
       "      <td>20998</td>\n",
       "      <td>15286</td>\n",
       "      <td>1/12/2023 2:11</td>\n",
       "      <td>Blxst</td>\n",
       "      <td>Movie</td>\n",
       "      <td>Geography</td>\n",
       "      <td>115263</td>\n",
       "      <td>1</td>\n",
       "      <td>2023</td>\n",
       "      <td>1</td>\n",
       "      <td>...</td>\n",
       "      <td>0.2670</td>\n",
       "      <td>0.182</td>\n",
       "      <td>122.043</td>\n",
       "      <td>audio_features</td>\n",
       "      <td>6pxElwU80zhjbCC77Vn8EI</td>\n",
       "      <td>spotify:track:6pxElwU80zhjbCC77Vn8EI</td>\n",
       "      <td>https://api.spotify.com/v1/tracks/6pxElwU80zhj...</td>\n",
       "      <td>https://api.spotify.com/v1/audio-analysis/6pxE...</td>\n",
       "      <td>357357</td>\n",
       "      <td>3</td>\n",
       "    </tr>\n",
       "    <tr>\n",
       "      <th>3106</th>\n",
       "      <td>14232</td>\n",
       "      <td>10501</td>\n",
       "      <td>1/11/2023 23:30</td>\n",
       "      <td>Blxst</td>\n",
       "      <td>Wrong or Right</td>\n",
       "      <td>No Love Lost</td>\n",
       "      <td>172800</td>\n",
       "      <td>1</td>\n",
       "      <td>2023</td>\n",
       "      <td>1</td>\n",
       "      <td>...</td>\n",
       "      <td>0.1020</td>\n",
       "      <td>0.455</td>\n",
       "      <td>100.132</td>\n",
       "      <td>audio_features</td>\n",
       "      <td>6qY4SYsByMNcrhVjSMd0Ow</td>\n",
       "      <td>spotify:track:6qY4SYsByMNcrhVjSMd0Ow</td>\n",
       "      <td>https://api.spotify.com/v1/tracks/6qY4SYsByMNc...</td>\n",
       "      <td>https://api.spotify.com/v1/audio-analysis/6qY4...</td>\n",
       "      <td>163200</td>\n",
       "      <td>4</td>\n",
       "    </tr>\n",
       "    <tr>\n",
       "      <th>2195</th>\n",
       "      <td>11249</td>\n",
       "      <td>7752</td>\n",
       "      <td>1/10/2023 19:20</td>\n",
       "      <td>Blxst</td>\n",
       "      <td>About You</td>\n",
       "      <td>Trigga Reloaded</td>\n",
       "      <td>170702</td>\n",
       "      <td>1</td>\n",
       "      <td>2023</td>\n",
       "      <td>1</td>\n",
       "      <td>...</td>\n",
       "      <td>0.2600</td>\n",
       "      <td>0.718</td>\n",
       "      <td>204.002</td>\n",
       "      <td>audio_features</td>\n",
       "      <td>2ssYQKMqVUkoQgi02PmDPB</td>\n",
       "      <td>spotify:track:2ssYQKMqVUkoQgi02PmDPB</td>\n",
       "      <td>https://api.spotify.com/v1/tracks/2ssYQKMqVUko...</td>\n",
       "      <td>https://api.spotify.com/v1/audio-analysis/2ssY...</td>\n",
       "      <td>196900</td>\n",
       "      <td>4</td>\n",
       "    </tr>\n",
       "    <tr>\n",
       "      <th>1123</th>\n",
       "      <td>5308</td>\n",
       "      <td>3924</td>\n",
       "      <td>1/1/2023 5:02</td>\n",
       "      <td>Blxst</td>\n",
       "      <td>Chosen (feat. Ty Dolla $ign)</td>\n",
       "      <td>No Love Lost</td>\n",
       "      <td>161684</td>\n",
       "      <td>1</td>\n",
       "      <td>2023</td>\n",
       "      <td>1</td>\n",
       "      <td>...</td>\n",
       "      <td>0.0809</td>\n",
       "      <td>0.605</td>\n",
       "      <td>93.421</td>\n",
       "      <td>audio_features</td>\n",
       "      <td>1dIWPXMX4kRHj6Dt2DStUQ</td>\n",
       "      <td>spotify:track:1dIWPXMX4kRHj6Dt2DStUQ</td>\n",
       "      <td>https://api.spotify.com/v1/tracks/1dIWPXMX4kRH...</td>\n",
       "      <td>https://api.spotify.com/v1/audio-analysis/1dIW...</td>\n",
       "      <td>161684</td>\n",
       "      <td>4</td>\n",
       "    </tr>\n",
       "  </tbody>\n",
       "</table>\n",
       "<p>907 rows × 29 columns</p>\n",
       "</div>"
      ],
      "text/plain": [
       "       Unnamed: 0.1  Unnamed: 0          endTime artistName  \\\n",
       "350             535         535   9/9/2022 16:31      Blxst   \n",
       "10298         48520       36448   9/9/2022 15:55      Blxst   \n",
       "10191         48273       36201   9/9/2022 15:40      Blxst   \n",
       "10190         48272       36200    9/8/2022 2:54      Blxst   \n",
       "10189         48271       36199    9/6/2022 3:28      Blxst   \n",
       "...             ...         ...              ...        ...   \n",
       "2302          11470        7952   1/12/2023 2:17      Blxst   \n",
       "4076          20998       15286   1/12/2023 2:11      Blxst   \n",
       "3106          14232       10501  1/11/2023 23:30      Blxst   \n",
       "2195          11249        7752  1/10/2023 19:20      Blxst   \n",
       "1123           5308        3924    1/1/2023 5:02      Blxst   \n",
       "\n",
       "                          trackName        albumName  msPlayed  month  year  \\\n",
       "350                  Forever Humble     No Love Lost    123844      9  2022   \n",
       "10298              Keep Comin' Back    Before You Go    145759      9  2022   \n",
       "10191               Every Good Girl    Before You Go    137840      9  2022   \n",
       "10190               Every Good Girl    Before You Go      4063      9  2022   \n",
       "10189               Every Good Girl    Before You Go    176850      9  2022   \n",
       "...                             ...              ...       ...    ...   ...   \n",
       "2302                      Overrated     No Love Lost    146938      1  2023   \n",
       "4076                          Movie        Geography    115263      1  2023   \n",
       "3106                 Wrong or Right     No Love Lost    172800      1  2023   \n",
       "2195                      About You  Trigga Reloaded    170702      1  2023   \n",
       "1123   Chosen (feat. Ty Dolla $ign)     No Love Lost    161684      1  2023   \n",
       "\n",
       "       Season  ... liveness  valence    tempo            type  \\\n",
       "350         4  ...   0.0676    0.459  101.081  audio_features   \n",
       "10298       4  ...   0.0888    0.749  122.932  audio_features   \n",
       "10191       4  ...   0.1510    0.460   92.916  audio_features   \n",
       "10190       4  ...   0.1510    0.460   92.916  audio_features   \n",
       "10189       4  ...   0.1510    0.460   92.916  audio_features   \n",
       "...       ...  ...      ...      ...      ...             ...   \n",
       "2302        1  ...   0.1030    0.466   97.897  audio_features   \n",
       "4076        1  ...   0.2670    0.182  122.043  audio_features   \n",
       "3106        1  ...   0.1020    0.455  100.132  audio_features   \n",
       "2195        1  ...   0.2600    0.718  204.002  audio_features   \n",
       "1123        1  ...   0.0809    0.605   93.421  audio_features   \n",
       "\n",
       "                           id                                   uri  \\\n",
       "350    5FWVkOvM9A4EUqxFRJ2A1U  spotify:track:5FWVkOvM9A4EUqxFRJ2A1U   \n",
       "10298  4OTfzPtlbQOrZfzxOxeUfL  spotify:track:4OTfzPtlbQOrZfzxOxeUfL   \n",
       "10191  6VYBCG9nCZwUUImVqZQVet  spotify:track:6VYBCG9nCZwUUImVqZQVet   \n",
       "10190  6VYBCG9nCZwUUImVqZQVet  spotify:track:6VYBCG9nCZwUUImVqZQVet   \n",
       "10189  6VYBCG9nCZwUUImVqZQVet  spotify:track:6VYBCG9nCZwUUImVqZQVet   \n",
       "...                       ...                                   ...   \n",
       "2302   6Fc9IYSkbmVwv4dlzn8hJb  spotify:track:6Fc9IYSkbmVwv4dlzn8hJb   \n",
       "4076   6pxElwU80zhjbCC77Vn8EI  spotify:track:6pxElwU80zhjbCC77Vn8EI   \n",
       "3106   6qY4SYsByMNcrhVjSMd0Ow  spotify:track:6qY4SYsByMNcrhVjSMd0Ow   \n",
       "2195   2ssYQKMqVUkoQgi02PmDPB  spotify:track:2ssYQKMqVUkoQgi02PmDPB   \n",
       "1123   1dIWPXMX4kRHj6Dt2DStUQ  spotify:track:1dIWPXMX4kRHj6Dt2DStUQ   \n",
       "\n",
       "                                              track_href  \\\n",
       "350    https://api.spotify.com/v1/tracks/5FWVkOvM9A4E...   \n",
       "10298  https://api.spotify.com/v1/tracks/4OTfzPtlbQOr...   \n",
       "10191  https://api.spotify.com/v1/tracks/6VYBCG9nCZwU...   \n",
       "10190  https://api.spotify.com/v1/tracks/6VYBCG9nCZwU...   \n",
       "10189  https://api.spotify.com/v1/tracks/6VYBCG9nCZwU...   \n",
       "...                                                  ...   \n",
       "2302   https://api.spotify.com/v1/tracks/6Fc9IYSkbmVw...   \n",
       "4076   https://api.spotify.com/v1/tracks/6pxElwU80zhj...   \n",
       "3106   https://api.spotify.com/v1/tracks/6qY4SYsByMNc...   \n",
       "2195   https://api.spotify.com/v1/tracks/2ssYQKMqVUko...   \n",
       "1123   https://api.spotify.com/v1/tracks/1dIWPXMX4kRH...   \n",
       "\n",
       "                                            analysis_url  duration_ms  \\\n",
       "350    https://api.spotify.com/v1/audio-analysis/5FWV...       123845   \n",
       "10298  https://api.spotify.com/v1/audio-analysis/4OTf...       145759   \n",
       "10191  https://api.spotify.com/v1/audio-analysis/6VYB...       176851   \n",
       "10190  https://api.spotify.com/v1/audio-analysis/6VYB...       176851   \n",
       "10189  https://api.spotify.com/v1/audio-analysis/6VYB...       176851   \n",
       "...                                                  ...          ...   \n",
       "2302   https://api.spotify.com/v1/audio-analysis/6Fc9...       146939   \n",
       "4076   https://api.spotify.com/v1/audio-analysis/6pxE...       357357   \n",
       "3106   https://api.spotify.com/v1/audio-analysis/6qY4...       163200   \n",
       "2195   https://api.spotify.com/v1/audio-analysis/2ssY...       196900   \n",
       "1123   https://api.spotify.com/v1/audio-analysis/1dIW...       161684   \n",
       "\n",
       "       time_signature  \n",
       "350                 4  \n",
       "10298               5  \n",
       "10191               4  \n",
       "10190               4  \n",
       "10189               4  \n",
       "...               ...  \n",
       "2302                4  \n",
       "4076                3  \n",
       "3106                4  \n",
       "2195                4  \n",
       "1123                4  \n",
       "\n",
       "[907 rows x 29 columns]"
      ]
     },
     "execution_count": 23,
     "metadata": {},
     "output_type": "execute_result"
    }
   ],
   "source": [
    "test"
   ]
  },
  {
   "cell_type": "code",
   "execution_count": 24,
   "metadata": {},
   "outputs": [
    {
     "data": {
      "application/vnd.plotly.v1+json": {
       "config": {
        "plotlyServerURL": "https://plot.ly"
       },
       "data": [
        {
         "hovertemplate": "endTime=%{x}<br>trackName=%{y}<br>Season=%{marker.color}<extra></extra>",
         "legendgroup": "",
         "marker": {
          "color": [
           4,
           4,
           4,
           4,
           4,
           4,
           4,
           4,
           4,
           4,
           4,
           4,
           4,
           4,
           4,
           4,
           4,
           4,
           4,
           4,
           4,
           4,
           4,
           4,
           4,
           4,
           4,
           4,
           4,
           4,
           4,
           4,
           4,
           3,
           3,
           3,
           3,
           3,
           3,
           3,
           3,
           3,
           3,
           3,
           3,
           3,
           3,
           3,
           3,
           3,
           3,
           3,
           3,
           3,
           3,
           3,
           3,
           3,
           3,
           3,
           3,
           3,
           3,
           3,
           3,
           3,
           3,
           3,
           3,
           3,
           3,
           3,
           3,
           3,
           3,
           3,
           3,
           3,
           3,
           3,
           3,
           3,
           3,
           3,
           3,
           3,
           3,
           3,
           3,
           3,
           3,
           3,
           3,
           3,
           3,
           3,
           3,
           3,
           3,
           3,
           3,
           3,
           3,
           3,
           3,
           3,
           3,
           3,
           3,
           3,
           3,
           3,
           3,
           3,
           3,
           3,
           3,
           3,
           3,
           3,
           3,
           3,
           3,
           3,
           3,
           3,
           3,
           3,
           3,
           3,
           3,
           3,
           3,
           3,
           3,
           3,
           3,
           3,
           3,
           3,
           3,
           3,
           3,
           3,
           3,
           3,
           3,
           3,
           3,
           3,
           3,
           3,
           3,
           3,
           3,
           3,
           3,
           3,
           3,
           3,
           3,
           3,
           3,
           3,
           3,
           3,
           3,
           3,
           3,
           3,
           3,
           3,
           3,
           3,
           3,
           3,
           3,
           3,
           3,
           3,
           3,
           3,
           3,
           3,
           3,
           3,
           3,
           3,
           3,
           3,
           3,
           3,
           3,
           3,
           3,
           3,
           3,
           3,
           3,
           3,
           3,
           3,
           3,
           3,
           3,
           3,
           3,
           2,
           2,
           2,
           2,
           2,
           2,
           2,
           2,
           2,
           2,
           2,
           2,
           2,
           2,
           2,
           2,
           2,
           2,
           2,
           2,
           2,
           2,
           2,
           2,
           2,
           2,
           2,
           2,
           2,
           2,
           2,
           2,
           2,
           2,
           2,
           2,
           2,
           2,
           2,
           2,
           2,
           2,
           2,
           2,
           2,
           2,
           2,
           2,
           2,
           2,
           2,
           2,
           2,
           2,
           2,
           2,
           2,
           2,
           2,
           2,
           2,
           2,
           2,
           2,
           2,
           2,
           2,
           2,
           2,
           2,
           2,
           2,
           2,
           2,
           2,
           2,
           2,
           2,
           2,
           2,
           2,
           2,
           2,
           2,
           2,
           2,
           2,
           2,
           2,
           2,
           2,
           2,
           2,
           2,
           2,
           2,
           2,
           2,
           2,
           2,
           2,
           2,
           2,
           2,
           2,
           2,
           2,
           2,
           2,
           2,
           2,
           2,
           2,
           2,
           2,
           2,
           2,
           2,
           2,
           2,
           2,
           2,
           2,
           2,
           2,
           2,
           2,
           2,
           2,
           2,
           2,
           2,
           2,
           2,
           2,
           2,
           2,
           2,
           2,
           2,
           2,
           2,
           2,
           2,
           2,
           2,
           2,
           2,
           2,
           2,
           2,
           2,
           2,
           2,
           2,
           2,
           2,
           2,
           2,
           2,
           2,
           2,
           2,
           2,
           2,
           2,
           2,
           2,
           2,
           2,
           2,
           2,
           2,
           2,
           2,
           2,
           2,
           2,
           2,
           2,
           2,
           2,
           2,
           2,
           2,
           2,
           2,
           2,
           2,
           2,
           2,
           2,
           2,
           2,
           2,
           2,
           2,
           2,
           2,
           2,
           2,
           2,
           2,
           2,
           2,
           2,
           2,
           2,
           2,
           2,
           2,
           2,
           2,
           2,
           2,
           2,
           2,
           2,
           2,
           2,
           2,
           2,
           2,
           2,
           2,
           2,
           2,
           2,
           2,
           2,
           2,
           2,
           2,
           2,
           2,
           2,
           2,
           2,
           2,
           2,
           2,
           2,
           2,
           2,
           2,
           2,
           2,
           2,
           2,
           2,
           2,
           2,
           2,
           2,
           2,
           2,
           2,
           2,
           2,
           2,
           2,
           2,
           2,
           2,
           2,
           2,
           2,
           2,
           2,
           2,
           2,
           2,
           2,
           2,
           2,
           2,
           2,
           2,
           2,
           2,
           2,
           2,
           2,
           2,
           2,
           2,
           2,
           2,
           2,
           2,
           2,
           2,
           2,
           2,
           2,
           2,
           2,
           2,
           2,
           2,
           2,
           2,
           2,
           2,
           2,
           2,
           2,
           2,
           2,
           2,
           2,
           2,
           2,
           2,
           2,
           2,
           2,
           2,
           2,
           2,
           2,
           2,
           2,
           2,
           2,
           2,
           2,
           2,
           2,
           2,
           2,
           2,
           2,
           2,
           2,
           2,
           2,
           2,
           2,
           2,
           2,
           2,
           2,
           2,
           2,
           2,
           2,
           2,
           2,
           2,
           2,
           2,
           2,
           2,
           2,
           2,
           2,
           2,
           2,
           2,
           2,
           2,
           2,
           2,
           2,
           2,
           2,
           2,
           2,
           2,
           2,
           2,
           2,
           2,
           2,
           2,
           2,
           2,
           2,
           2,
           2,
           2,
           2,
           2,
           2,
           2,
           2,
           2,
           2,
           2,
           2,
           2,
           2,
           2,
           2,
           2,
           2,
           2,
           2,
           2,
           2,
           2,
           2,
           2,
           2,
           2,
           2,
           2,
           2,
           2,
           2,
           2,
           2,
           2,
           2,
           2,
           2,
           2,
           2,
           2,
           2,
           2,
           1,
           1,
           1,
           1,
           1,
           1,
           1,
           1,
           1,
           1,
           1,
           1,
           1,
           1,
           1,
           1,
           1,
           1,
           1,
           1,
           1,
           1,
           1,
           1,
           1,
           1,
           1,
           1,
           1,
           1,
           1,
           1,
           1,
           1,
           1,
           1,
           1,
           1,
           1,
           1,
           1,
           1,
           1,
           1,
           1,
           1,
           1,
           1,
           1,
           1,
           1,
           1,
           1,
           1,
           1,
           1,
           1,
           1,
           1,
           1,
           1,
           1,
           1,
           1,
           1,
           1,
           1,
           1,
           1,
           1,
           1,
           1,
           1,
           1,
           1,
           1,
           1,
           1,
           1,
           1,
           1,
           1,
           1,
           1,
           1,
           1,
           1,
           1,
           1,
           1,
           1,
           1,
           1,
           1,
           1,
           1,
           1,
           1,
           1,
           1,
           1,
           1,
           1,
           1,
           1,
           1,
           1,
           1,
           1,
           1,
           1,
           1,
           1,
           1,
           1,
           1,
           1,
           1,
           1,
           1,
           1,
           1,
           1,
           1,
           4,
           4,
           4,
           4,
           4,
           4,
           4,
           4,
           4,
           4,
           4,
           4,
           4,
           4,
           4,
           4,
           4,
           4,
           4,
           4,
           4,
           4,
           4,
           4,
           4,
           4,
           4,
           4,
           4,
           4,
           4,
           4,
           4,
           4,
           4,
           4,
           4,
           4,
           4,
           4,
           4,
           4,
           4,
           4,
           4,
           4,
           4,
           4,
           4,
           4,
           4,
           4,
           4,
           4,
           4,
           4,
           4,
           4,
           4,
           4,
           4,
           4,
           4,
           4,
           4,
           4,
           4,
           4,
           4,
           4,
           4,
           4,
           4,
           1,
           1,
           1,
           1,
           1,
           1,
           1,
           1,
           1,
           1,
           1,
           1,
           1,
           1,
           1,
           1,
           1,
           1,
           1,
           1,
           1,
           1,
           1,
           1,
           1,
           1,
           1,
           1,
           1,
           1,
           1,
           1,
           1,
           1,
           1,
           1,
           1,
           1,
           1,
           1,
           1,
           1,
           1,
           1,
           1,
           1,
           1,
           1,
           1,
           1,
           1,
           1,
           1,
           1,
           1,
           1,
           1,
           1,
           1,
           1,
           1,
           1,
           1,
           1,
           1,
           1,
           1,
           1,
           1,
           1,
           1,
           1,
           1,
           1,
           1,
           1,
           1,
           1,
           1,
           1,
           1
          ],
          "coloraxis": "coloraxis",
          "symbol": "circle"
         },
         "mode": "markers",
         "name": "",
         "orientation": "v",
         "showlegend": false,
         "type": "scatter",
         "x": [
          "9/9/2022 16:31",
          "9/9/2022 15:55",
          "9/9/2022 15:40",
          "9/8/2022 2:54",
          "9/6/2022 3:28",
          "9/3/2022 4:17",
          "9/3/2022 3:52",
          "9/3/2022 23:23",
          "9/29/2022 0:45",
          "9/29/2022 0:34",
          "9/27/2022 23:30",
          "9/24/2022 16:07",
          "9/23/2022 17:16",
          "9/20/2022 20:05",
          "9/20/2022 20:03",
          "9/20/2022 20:00",
          "9/20/2022 19:57",
          "9/20/2022 19:55",
          "9/20/2022 19:38",
          "9/2/2022 23:55",
          "9/2/2022 15:09",
          "9/18/2022 20:50",
          "9/18/2022 20:29",
          "9/18/2022 20:19",
          "9/17/2022 7:17",
          "9/15/2022 20:43",
          "9/15/2022 20:35",
          "9/14/2022 23:39",
          "9/12/2022 3:39",
          "9/10/2022 2:06",
          "9/10/2022 20:34",
          "9/10/2022 18:02",
          "9/10/2022 17:41",
          "8/7/2022 19:01",
          "8/7/2022 18:51",
          "8/30/2022 22:43",
          "8/30/2022 20:58",
          "8/29/2022 19:45",
          "8/28/2022 18:09",
          "8/28/2022 17:58",
          "8/28/2022 17:32",
          "8/28/2022 17:26",
          "8/28/2022 17:19",
          "8/26/2022 4:10",
          "8/23/2022 19:01",
          "8/22/2022 3:41",
          "8/21/2022 18:40",
          "8/21/2022 18:19",
          "8/21/2022 18:14",
          "8/20/2022 23:05",
          "8/20/2022 22:49",
          "8/20/2022 21:47",
          "8/20/2022 0:31",
          "8/20/2022 0:29",
          "8/20/2022 0:26",
          "8/20/2022 0:23",
          "8/20/2022 0:19",
          "8/2/2022 1:53",
          "8/19/2022 23:46",
          "8/19/2022 23:36",
          "8/19/2022 23:20",
          "8/18/2022 16:15",
          "8/18/2022 15:59",
          "8/17/2022 15:06",
          "8/15/2022 23:25",
          "8/15/2022 21:31",
          "8/15/2022 20:52",
          "8/13/2022 3:18",
          "8/13/2022 3:13",
          "8/13/2022 18:27",
          "8/11/2022 20:53",
          "8/11/2022 20:50",
          "7/8/2022 6:03",
          "7/5/2022 22:17",
          "7/31/2022 1:00",
          "7/30/2022 23:59",
          "7/30/2022 23:56",
          "7/30/2022 23:53",
          "7/30/2022 0:38",
          "7/28/2022 21:06",
          "7/28/2022 21:03",
          "7/28/2022 21:01",
          "7/28/2022 20:59",
          "7/28/2022 20:58",
          "7/27/2022 16:57",
          "7/27/2022 16:54",
          "7/27/2022 16:51",
          "7/26/2022 0:51",
          "7/26/2022 0:19",
          "7/26/2022 0:17",
          "7/24/2022 21:38",
          "7/24/2022 21:35",
          "7/24/2022 20:17",
          "7/24/2022 18:53",
          "7/23/2022 20:18",
          "7/23/2022 20:14",
          "7/23/2022 20:12",
          "7/2/2022 0:19",
          "7/17/2022 0:14",
          "7/17/2022 0:03",
          "7/16/2022 23:30",
          "7/16/2022 22:54",
          "7/16/2022 22:36",
          "7/16/2022 22:26",
          "7/16/2022 21:46",
          "7/16/2022 21:44",
          "7/16/2022 20:45",
          "7/16/2022 20:37",
          "7/16/2022 16:12",
          "7/15/2022 2:42",
          "7/15/2022 2:39",
          "7/15/2022 2:36",
          "7/15/2022 2:24",
          "7/15/2022 2:15",
          "7/15/2022 0:17",
          "7/13/2022 23:09",
          "7/13/2022 0:35",
          "7/12/2022 23:10",
          "7/12/2022 1:35",
          "7/12/2022 0:07",
          "7/10/2022 23:15",
          "7/10/2022 21:38",
          "7/10/2022 1:56",
          "7/10/2022 1:17",
          "7/10/2022 1:12",
          "7/10/2022 1:02",
          "6/9/2022 1:11",
          "6/9/2022 18:58",
          "6/9/2022 0:50",
          "6/8/2022 20:21",
          "6/7/2022 1:20",
          "6/7/2022 19:01",
          "6/7/2022 0:38",
          "6/6/2022 2:13",
          "6/6/2022 1:56",
          "6/5/2022 3:26",
          "6/5/2022 18:25",
          "6/4/2022 5:21",
          "6/4/2022 5:16",
          "6/4/2022 4:01",
          "6/4/2022 21:43",
          "6/4/2022 21:41",
          "6/4/2022 21:39",
          "6/4/2022 21:36",
          "6/4/2022 21:33",
          "6/30/2022 1:35",
          "6/30/2022 1:16",
          "6/3/2022 19:34",
          "6/3/2022 19:31",
          "6/3/2022 19:28",
          "6/3/2022 19:25",
          "6/3/2022 19:23",
          "6/29/2022 4:06",
          "6/28/2022 23:50",
          "6/27/2022 3:35",
          "6/27/2022 2:58",
          "6/27/2022 2:55",
          "6/27/2022 2:14",
          "6/27/2022 1:46",
          "6/25/2022 18:34",
          "6/24/2022 22:52",
          "6/22/2022 22:56",
          "6/22/2022 22:54",
          "6/22/2022 22:45",
          "6/22/2022 22:42",
          "6/22/2022 21:49",
          "6/20/2022 2:23",
          "6/20/2022 18:02",
          "6/20/2022 17:44",
          "6/20/2022 17:41",
          "6/2/2022 23:52",
          "6/2/2022 19:50",
          "6/2/2022 19:26",
          "6/2/2022 19:07",
          "6/2/2022 18:20",
          "6/2/2022 18:19",
          "6/2/2022 18:13",
          "6/2/2022 18:03",
          "6/2/2022 17:44",
          "6/18/2022 2:44",
          "6/18/2022 2:40",
          "6/18/2022 2:37",
          "6/18/2022 2:15",
          "6/18/2022 2:04",
          "6/16/2022 0:05",
          "6/15/2022 20:24",
          "6/14/2022 1:05",
          "6/14/2022 15:41",
          "6/14/2022 15:23",
          "6/14/2022 0:47",
          "6/14/2022 0:37",
          "6/13/2022 4:25",
          "6/13/2022 4:18",
          "6/13/2022 1:37",
          "6/13/2022 1:28",
          "6/13/2022 1:12",
          "6/13/2022 18:54",
          "6/13/2022 18:34",
          "6/13/2022 18:24",
          "6/13/2022 15:19",
          "6/11/2022 19:06",
          "6/11/2022 18:55",
          "6/10/2022 19:08",
          "6/10/2022 17:59",
          "6/10/2022 14:32",
          "6/1/2022 19:38",
          "6/1/2022 19:28",
          "5/9/2022 23:39",
          "5/9/2022 19:52",
          "5/9/2022 19:43",
          "5/8/2022 5:48",
          "5/8/2022 18:27",
          "5/8/2022 18:20",
          "5/8/2022 18:15",
          "5/8/2022 18:12",
          "5/8/2022 18:09",
          "5/8/2022 16:28",
          "5/8/2022 16:21",
          "5/8/2022 16:14",
          "5/8/2022 16:06",
          "5/7/2022 3:06",
          "5/7/2022 2:59",
          "5/7/2022 18:10",
          "5/7/2022 18:01",
          "5/7/2022 17:58",
          "5/7/2022 17:55",
          "5/7/2022 17:52",
          "5/7/2022 0:42",
          "5/6/2022 6:50",
          "5/6/2022 6:04",
          "5/6/2022 5:57",
          "5/6/2022 5:48",
          "5/6/2022 5:37",
          "5/6/2022 3:50",
          "5/6/2022 21:44",
          "5/6/2022 21:41",
          "5/6/2022 21:36",
          "5/6/2022 1:49",
          "5/6/2022 18:00",
          "5/6/2022 0:01",
          "5/6/2022 0:00",
          "5/5/2022 6:14",
          "5/5/2022 6:12",
          "5/5/2022 6:08",
          "5/5/2022 6:05",
          "5/5/2022 23:57",
          "5/5/2022 23:16",
          "5/4/2022 2:09",
          "5/4/2022 2:00",
          "5/4/2022 22:47",
          "5/4/2022 22:03",
          "5/4/2022 21:59",
          "5/4/2022 21:57",
          "5/4/2022 21:54",
          "5/4/2022 20:11",
          "5/4/2022 20:07",
          "5/4/2022 20:04",
          "5/4/2022 1:58",
          "5/4/2022 1:56",
          "5/4/2022 19:58",
          "5/4/2022 19:56",
          "5/4/2022 19:53",
          "5/31/2022 6:55",
          "5/31/2022 5:06",
          "5/31/2022 5:00",
          "5/31/2022 1:09",
          "5/31/2022 16:12",
          "5/31/2022 15:50",
          "5/31/2022 0:12",
          "5/30/2022 18:45",
          "5/30/2022 15:59",
          "5/30/2022 15:50",
          "5/3/2022 22:50",
          "5/3/2022 20:44",
          "5/3/2022 19:41",
          "5/3/2022 19:39",
          "5/3/2022 19:38",
          "5/29/2022 6:20",
          "5/29/2022 6:17",
          "5/29/2022 3:09",
          "5/29/2022 2:40",
          "5/29/2022 19:32",
          "5/29/2022 19:31",
          "5/29/2022 19:29",
          "5/28/2022 8:02",
          "5/28/2022 7:45",
          "5/28/2022 7:33",
          "5/28/2022 3:08",
          "5/28/2022 2:38",
          "5/28/2022 2:35",
          "5/28/2022 2:32",
          "5/28/2022 2:17",
          "5/27/2022 4:43",
          "5/27/2022 4:29",
          "5/27/2022 4:07",
          "5/27/2022 3:49",
          "5/27/2022 20:22",
          "5/26/2022 19:19",
          "5/26/2022 19:16",
          "5/26/2022 19:11",
          "5/26/2022 19:07",
          "5/26/2022 18:59",
          "5/26/2022 18:58",
          "5/25/2022 20:14",
          "5/25/2022 20:11",
          "5/25/2022 1:44",
          "5/24/2022 3:46",
          "5/24/2022 20:46",
          "5/24/2022 20:43",
          "5/24/2022 19:36",
          "5/24/2022 0:19",
          "5/23/2022 22:07",
          "5/23/2022 22:04",
          "5/23/2022 22:02",
          "5/23/2022 20:22",
          "5/23/2022 20:20",
          "5/23/2022 20:17",
          "5/23/2022 20:14",
          "5/23/2022 20:13",
          "5/22/2022 23:29",
          "5/22/2022 23:09",
          "5/22/2022 22:55",
          "5/21/2022 6:20",
          "5/21/2022 19:40",
          "5/21/2022 18:26",
          "5/21/2022 18:10",
          "5/2/2022 22:26",
          "5/2/2022 22:04",
          "5/2/2022 21:58",
          "5/2/2022 21:55",
          "5/2/2022 16:41",
          "5/2/2022 16:38",
          "5/18/2022 6:17",
          "5/18/2022 6:07",
          "5/18/2022 5:50",
          "5/18/2022 5:37",
          "5/18/2022 5:19",
          "5/18/2022 5:05",
          "5/18/2022 0:24",
          "5/18/2022 0:22",
          "5/18/2022 0:03",
          "5/17/2022 23:50",
          "5/17/2022 1:10",
          "5/17/2022 0:18",
          "5/16/2022 6:09",
          "5/16/2022 6:06",
          "5/16/2022 6:00",
          "5/16/2022 2:38",
          "5/16/2022 2:32",
          "5/16/2022 22:14",
          "5/16/2022 20:01",
          "5/16/2022 19:58",
          "5/16/2022 19:26",
          "5/16/2022 19:23",
          "5/16/2022 19:21",
          "5/16/2022 19:03",
          "5/16/2022 18:59",
          "5/16/2022 18:56",
          "5/16/2022 18:38",
          "5/16/2022 18:36",
          "5/16/2022 18:33",
          "5/16/2022 18:30",
          "5/16/2022 18:28",
          "5/16/2022 18:25",
          "5/16/2022 17:42",
          "5/16/2022 17:37",
          "5/16/2022 17:34",
          "5/16/2022 17:32",
          "5/15/2022 5:56",
          "5/15/2022 0:34",
          "5/14/2022 23:44",
          "5/14/2022 23:40",
          "5/13/2022 19:52",
          "5/12/2022 5:56",
          "5/12/2022 2:02",
          "5/12/2022 22:30",
          "5/12/2022 22:25",
          "5/12/2022 22:23",
          "5/12/2022 20:22",
          "5/12/2022 19:28",
          "5/11/2022 23:55",
          "5/11/2022 23:54",
          "5/11/2022 23:50",
          "5/11/2022 19:42",
          "5/11/2022 17:16",
          "5/10/2022 22:59",
          "5/10/2022 22:24",
          "5/10/2022 0:52",
          "5/1/2022 6:12",
          "5/1/2022 5:42",
          "5/1/2022 5:30",
          "5/1/2022 5:27",
          "5/1/2022 5:25",
          "5/1/2022 17:53",
          "5/1/2022 17:51",
          "4/9/2022 21:47",
          "4/9/2022 20:04",
          "4/9/2022 1:24",
          "4/9/2022 1:21",
          "4/8/2022 3:14",
          "4/8/2022 2:57",
          "4/8/2022 2:50",
          "4/8/2022 2:47",
          "4/8/2022 2:44",
          "4/8/2022 2:36",
          "4/8/2022 2:31",
          "4/8/2022 2:29",
          "4/8/2022 1:24",
          "4/8/2022 18:54",
          "4/8/2022 18:52",
          "4/7/2022 21:44",
          "4/7/2022 21:41",
          "4/7/2022 21:36",
          "4/7/2022 19:53",
          "4/7/2022 19:33",
          "4/7/2022 17:29",
          "4/7/2022 15:22",
          "4/6/2022 22:28",
          "4/6/2022 22:20",
          "4/6/2022 22:14",
          "4/6/2022 22:09",
          "4/6/2022 22:07",
          "4/6/2022 22:04",
          "4/6/2022 22:00",
          "4/6/2022 15:38",
          "4/5/2022 22:53",
          "4/5/2022 22:52",
          "4/5/2022 22:49",
          "4/5/2022 22:46",
          "4/5/2022 22:23",
          "4/5/2022 20:41",
          "4/5/2022 20:25",
          "4/5/2022 19:23",
          "4/5/2022 19:15",
          "4/5/2022 18:53",
          "4/5/2022 0:47",
          "4/30/2022 19:51",
          "4/30/2022 19:34",
          "4/30/2022 18:01",
          "4/30/2022 17:46",
          "4/30/2022 0:51",
          "4/3/2022 5:38",
          "4/3/2022 4:18",
          "4/3/2022 3:23",
          "4/3/2022 3:22",
          "4/3/2022 3:19",
          "4/3/2022 3:16",
          "4/3/2022 1:54",
          "4/29/2022 4:58",
          "4/29/2022 4:45",
          "4/29/2022 23:25",
          "4/29/2022 19:22",
          "4/29/2022 19:11",
          "4/29/2022 19:09",
          "4/29/2022 18:20",
          "4/29/2022 18:17",
          "4/29/2022 17:29",
          "4/29/2022 15:37",
          "4/28/2022 20:22",
          "4/28/2022 20:19",
          "4/28/2022 18:29",
          "4/28/2022 18:21",
          "4/28/2022 18:18",
          "4/28/2022 18:15",
          "4/28/2022 18:12",
          "4/28/2022 18:10",
          "4/28/2022 18:00",
          "4/28/2022 17:57",
          "4/28/2022 17:55",
          "4/28/2022 17:52",
          "4/28/2022 17:51",
          "4/28/2022 17:48",
          "4/28/2022 17:46",
          "4/28/2022 17:45",
          "4/28/2022 15:25",
          "4/28/2022 15:22",
          "4/27/2022 22:41",
          "4/27/2022 17:33",
          "4/27/2022 17:17",
          "4/27/2022 16:52",
          "4/27/2022 16:49",
          "4/27/2022 16:00",
          "4/27/2022 15:44",
          "4/27/2022 15:02",
          "4/27/2022 14:56",
          "4/25/2022 19:15",
          "4/25/2022 18:49",
          "4/23/2022 19:42",
          "4/23/2022 19:22",
          "4/23/2022 15:48",
          "4/22/2022 23:13",
          "4/22/2022 23:10",
          "4/22/2022 21:47",
          "4/20/2022 23:57",
          "4/20/2022 23:55",
          "4/20/2022 23:48",
          "4/2/2022 2:06",
          "4/19/2022 1:28",
          "4/18/2022 18:29",
          "4/16/2022 20:05",
          "4/16/2022 19:55",
          "4/16/2022 0:10",
          "4/16/2022 0:08",
          "4/16/2022 0:05",
          "4/16/2022 0:03",
          "4/15/2022 23:40",
          "4/15/2022 1:26",
          "4/15/2022 18:11",
          "4/15/2022 18:04",
          "4/15/2022 18:01",
          "4/15/2022 17:15",
          "4/14/2022 16:38",
          "4/14/2022 16:31",
          "4/14/2022 16:15",
          "4/13/2022 6:53",
          "4/13/2022 5:56",
          "4/13/2022 5:47",
          "4/12/2022 3:09",
          "4/12/2022 21:26",
          "4/12/2022 1:21",
          "4/12/2022 18:37",
          "4/12/2022 15:48",
          "4/12/2022 15:38",
          "4/12/2022 0:57",
          "4/11/2022 3:48",
          "4/11/2022 3:21",
          "4/11/2022 17:57",
          "4/11/2022 16:27",
          "4/11/2022 16:10",
          "4/1/2022 5:53",
          "4/1/2022 3:07",
          "3/9/2022 20:34",
          "3/9/2022 20:18",
          "3/7/2022 5:28",
          "3/7/2022 5:05",
          "3/7/2022 2:15",
          "3/7/2022 23:55",
          "3/7/2022 23:30",
          "3/7/2022 23:04",
          "3/7/2022 1:47",
          "3/6/2022 5:32",
          "3/5/2022 8:42",
          "3/5/2022 5:28",
          "3/5/2022 4:59",
          "3/5/2022 18:29",
          "3/4/2022 8:32",
          "3/4/2022 8:18",
          "3/4/2022 7:58",
          "3/4/2022 23:32",
          "3/4/2022 23:03",
          "3/4/2022 22:35",
          "3/4/2022 18:29",
          "3/31/2022 21:24",
          "3/31/2022 20:51",
          "3/31/2022 16:58",
          "3/30/2022 3:47",
          "3/30/2022 3:31",
          "3/30/2022 3:12",
          "3/30/2022 2:53",
          "3/30/2022 2:29",
          "3/30/2022 18:39",
          "3/3/2022 4:25",
          "3/3/2022 23:19",
          "3/29/2022 23:53",
          "3/29/2022 19:59",
          "3/28/2022 20:10",
          "3/26/2022 3:30",
          "3/26/2022 3:19",
          "3/26/2022 2:37",
          "3/26/2022 2:31",
          "3/26/2022 19:37",
          "3/26/2022 19:35",
          "3/26/2022 16:54",
          "3/26/2022 16:34",
          "3/25/2022 4:43",
          "3/25/2022 2:29",
          "3/25/2022 23:56",
          "3/25/2022 22:27",
          "3/25/2022 19:06",
          "3/25/2022 10:27",
          "3/25/2022 10:25",
          "3/25/2022 10:22",
          "3/25/2022 10:17",
          "3/24/2022 21:34",
          "3/24/2022 20:14",
          "3/23/2022 22:27",
          "3/23/2022 0:33",
          "3/22/2022 4:00",
          "3/22/2022 17:47",
          "3/21/2022 19:58",
          "3/2/2022 7:58",
          "3/2/2022 7:42",
          "3/2/2022 23:35",
          "3/2/2022 21:32",
          "3/2/2022 17:15",
          "3/18/2022 20:29",
          "3/17/2022 5:47",
          "3/17/2022 5:30",
          "3/17/2022 5:08",
          "3/17/2022 23:50",
          "3/17/2022 23:25",
          "3/17/2022 20:20",
          "3/17/2022 20:18",
          "3/16/2022 4:42",
          "3/16/2022 3:47",
          "3/16/2022 2:28",
          "3/16/2022 21:18",
          "3/16/2022 1:45",
          "3/16/2022 19:28",
          "3/15/2022 4:11",
          "3/15/2022 20:46",
          "3/15/2022 18:03",
          "3/15/2022 16:01",
          "3/14/2022 0:56",
          "3/13/2022 18:27",
          "3/13/2022 18:10",
          "3/11/2022 1:51",
          "3/11/2022 19:10",
          "3/11/2022 19:01",
          "3/10/2022 4:57",
          "3/10/2022 22:38",
          "3/10/2022 22:13",
          "3/1/2022 3:17",
          "3/1/2022 3:11",
          "3/1/2022 2:30",
          "3/1/2022 23:47",
          "3/1/2022 21:14",
          "3/1/2022 20:23",
          "3/1/2022 0:18",
          "2/9/2022 18:34",
          "2/9/2022 18:32",
          "2/9/2022 18:29",
          "2/9/2022 17:21",
          "2/8/2022 21:51",
          "2/6/2022 5:01",
          "2/6/2022 18:01",
          "2/5/2022 8:22",
          "2/5/2022 3:06",
          "2/5/2022 2:44",
          "2/5/2022 2:36",
          "2/5/2022 19:39",
          "2/5/2022 19:12",
          "2/3/2022 6:20",
          "2/26/2022 6:46",
          "2/26/2022 5:48",
          "2/26/2022 2:01",
          "2/26/2022 22:55",
          "2/26/2022 22:51",
          "2/26/2022 1:47",
          "2/25/2022 8:30",
          "2/25/2022 8:16",
          "2/25/2022 17:13",
          "2/23/2022 20:20",
          "2/23/2022 20:06",
          "2/23/2022 19:40",
          "2/22/2022 23:04",
          "2/22/2022 22:52",
          "2/22/2022 22:28",
          "2/22/2022 19:48",
          "2/22/2022 19:46",
          "2/22/2022 19:43",
          "2/22/2022 19:41",
          "2/22/2022 19:38",
          "2/21/2022 19:21",
          "2/2/2022 3:16",
          "2/2/2022 22:44",
          "2/2/2022 22:41",
          "2/19/2022 2:16",
          "2/19/2022 1:41",
          "2/18/2022 23:55",
          "2/18/2022 1:29",
          "2/18/2022 17:32",
          "2/18/2022 17:25",
          "2/17/2022 6:46",
          "2/17/2022 6:43",
          "2/17/2022 6:40",
          "2/17/2022 6:37",
          "2/17/2022 3:37",
          "2/17/2022 20:44",
          "2/17/2022 20:41",
          "2/17/2022 20:39",
          "2/17/2022 19:24",
          "2/17/2022 17:17",
          "2/16/2022 22:45",
          "2/16/2022 22:42",
          "2/16/2022 22:36",
          "2/16/2022 22:12",
          "2/16/2022 18:26",
          "2/15/2022 1:35",
          "2/15/2022 18:17",
          "2/15/2022 18:16",
          "2/15/2022 18:14",
          "2/15/2022 18:12",
          "2/15/2022 18:05",
          "2/15/2022 0:18",
          "2/13/2022 7:36",
          "2/13/2022 7:33",
          "2/13/2022 7:31",
          "2/13/2022 7:28",
          "2/13/2022 6:23",
          "2/13/2022 6:04",
          "2/13/2022 22:34",
          "2/13/2022 19:10",
          "2/13/2022 19:03",
          "2/13/2022 19:02",
          "2/13/2022 19:00",
          "2/13/2022 18:57",
          "2/12/2022 5:18",
          "2/12/2022 5:10",
          "2/12/2022 20:23",
          "2/12/2022 19:13",
          "2/11/2022 2:21",
          "2/11/2022 2:19",
          "2/11/2022 16:57",
          "2/11/2022 16:51",
          "2/11/2022 16:34",
          "2/11/2022 16:31",
          "2/11/2022 16:27",
          "2/1/2022 6:10",
          "2/1/2022 4:01",
          "2/1/2022 23:10",
          "2/1/2022 23:07",
          "2/1/2022 20:58",
          "2/1/2022 20:47",
          "2/1/2022 19:43",
          "2/1/2022 19:38",
          "2/1/2022 18:56",
          "2/1/2022 17:01",
          "12/9/2022 22:19",
          "12/9/2022 22:04",
          "12/7/2022 3:56",
          "12/7/2022 22:05",
          "12/7/2022 16:51",
          "12/4/2022 1:17",
          "12/4/2022 1:10",
          "12/31/2022 2:50",
          "12/3/2022 0:05",
          "12/25/2022 3:17",
          "12/23/2022 3:42",
          "12/2/2022 23:48",
          "12/2/2022 0:16",
          "12/19/2022 22:57",
          "12/17/2022 0:16",
          "12/16/2022 22:50",
          "12/14/2022 4:08",
          "12/14/2022 20:16",
          "12/14/2022 20:06",
          "12/14/2022 19:56",
          "12/12/2022 3:48",
          "12/11/2022 20:37",
          "12/11/2022 19:11",
          "12/11/2022 18:55",
          "12/11/2022 17:45",
          "11/8/2022 22:42",
          "11/4/2022 19:43",
          "11/4/2022 17:45",
          "11/4/2022 17:42",
          "11/4/2022 17:39",
          "11/4/2022 16:31",
          "11/4/2022 16:29",
          "11/3/2022 23:10",
          "11/3/2022 18:25",
          "11/28/2022 0:58",
          "11/28/2022 0:43",
          "11/27/2022 22:37",
          "11/26/2022 1:00",
          "11/26/2022 19:32",
          "11/26/2022 19:06",
          "11/26/2022 19:03",
          "11/25/2022 21:32",
          "11/25/2022 21:22",
          "11/24/2022 17:50",
          "11/24/2022 17:49",
          "11/23/2022 0:08",
          "11/23/2022 0:06",
          "11/23/2022 0:03",
          "11/22/2022 23:47",
          "11/2/2022 3:59",
          "11/2/2022 21:46",
          "11/18/2022 1:56",
          "11/18/2022 0:37",
          "11/18/2022 0:22",
          "11/17/2022 3:59",
          "11/17/2022 2:35",
          "11/16/2022 18:29",
          "11/14/2022 23:12",
          "11/14/2022 22:53",
          "11/14/2022 22:43",
          "11/13/2022 0:14",
          "11/13/2022 0:12",
          "11/13/2022 0:11",
          "11/12/2022 20:02",
          "11/12/2022 19:32",
          "11/12/2022 19:31",
          "11/12/2022 19:16",
          "11/11/2022 21:26",
          "11/11/2022 21:25",
          "11/11/2022 19:35",
          "11/11/2022 19:33",
          "11/10/2022 21:18",
          "11/10/2022 1:58",
          "10/6/2022 19:23",
          "10/30/2022 21:38",
          "10/30/2022 21:27",
          "10/30/2022 19:31",
          "10/3/2022 19:21",
          "10/29/2022 20:51",
          "10/29/2022 20:46",
          "10/29/2022 20:38",
          "10/27/2022 3:05",
          "10/27/2022 2:41",
          "10/26/2022 21:11",
          "10/26/2022 21:06",
          "10/26/2022 21:03",
          "10/26/2022 20:53",
          "10/24/2022 23:54",
          "10/22/2022 19:07",
          "10/2/2022 16:27",
          "10/2/2022 15:47",
          "10/18/2022 2:59",
          "10/16/2022 1:24",
          "10/15/2022 4:23",
          "10/15/2022 4:16",
          "10/13/2022 22:52",
          "10/10/2022 3:16",
          "10/1/2022 22:28",
          "1/8/2023 1:49",
          "1/31/2022 5:08",
          "1/31/2022 4:34",
          "1/31/2022 19:32",
          "1/31/2022 19:29",
          "1/30/2022 7:12",
          "1/30/2022 0:59",
          "1/30/2022 0:31",
          "1/29/2022 2:34",
          "1/29/2022 20:21",
          "1/29/2022 18:52",
          "1/29/2022 18:50",
          "1/29/2022 18:43",
          "1/29/2022 18:17",
          "1/29/2022 15:52",
          "1/28/2022 20:31",
          "1/28/2022 17:26",
          "1/27/2022 6:58",
          "1/27/2022 6:20",
          "1/27/2022 4:56",
          "1/27/2022 4:53",
          "1/27/2022 22:52",
          "1/27/2022 22:46",
          "1/27/2022 22:08",
          "1/27/2022 21:45",
          "1/27/2022 19:38",
          "1/27/2022 19:36",
          "1/27/2022 0:53",
          "1/26/2022 5:24",
          "1/26/2022 19:18",
          "1/26/2022 0:06",
          "1/25/2022 23:35",
          "1/25/2022 23:29",
          "1/25/2022 17:46",
          "1/25/2022 17:42",
          "1/25/2022 0:42",
          "1/24/2022 7:37",
          "1/24/2022 7:31",
          "1/24/2022 7:15",
          "1/24/2022 5:28",
          "1/24/2022 5:16",
          "1/24/2022 5:00",
          "1/24/2022 4:43",
          "1/24/2022 4:34",
          "1/24/2022 21:44",
          "1/24/2022 19:06",
          "1/22/2022 2:41",
          "1/22/2022 20:13",
          "1/22/2022 20:08",
          "1/22/2022 11:07",
          "1/22/2022 10:46",
          "1/22/2022 10:34",
          "1/21/2022 4:53",
          "1/21/2022 4:42",
          "1/21/2022 2:51",
          "1/21/2022 2:48",
          "1/21/2022 2:27",
          "1/21/2022 2:05",
          "1/21/2022 22:25",
          "1/21/2022 20:57",
          "1/21/2022 20:52",
          "1/21/2022 20:45",
          "1/21/2022 20:42",
          "1/21/2022 20:11",
          "1/20/2022 5:15",
          "1/20/2022 4:59",
          "1/17/2023 1:41",
          "1/15/2023 21:44",
          "1/15/2023 21:33",
          "1/15/2023 21:18",
          "1/14/2023 3:11",
          "1/13/2023 4:09",
          "1/13/2023 19:45",
          "1/12/2023 2:27",
          "1/12/2023 2:25",
          "1/12/2023 2:22",
          "1/12/2023 2:17",
          "1/12/2023 2:11",
          "1/11/2023 23:30",
          "1/10/2023 19:20",
          "1/1/2023 5:02"
         ],
         "xaxis": "x",
         "y": [
          "Forever Humble",
          "Keep Comin' Back",
          "Every Good Girl",
          "Every Good Girl",
          "Every Good Girl",
          "Chosen (feat. Ty Dolla $ign)",
          "Fake Love In LA",
          "Forever Humble",
          "Fck Boys",
          "Chosen (feat. Ty Dolla $ign)",
          "Got It All",
          "Every Good Girl",
          "Every Good Girl",
          "Talk to Me Nicely",
          "Keep Comin' Back",
          "Be Forreal",
          "Fake Love In LA",
          "Every Good Girl",
          "Chosen (feat. Ty Dolla $ign)",
          "Every Good Girl",
          "Every Good Girl",
          "Still Omw",
          "Let It Be Known",
          "Keep Comin' Back",
          "Chosen (feat. Ty Dolla $ign)",
          "Still Omw",
          "Forever Humble",
          "Keep Comin' Back",
          "Got It All",
          "Chosen (feat. Ty Dolla $ign)",
          "Every Good Girl",
          "Keep Comin' Back",
          "Keep Comin' Back",
          "Let It Be Known",
          "Keep Comin' Back",
          "Every Good Girl",
          "Every Good Girl",
          "Let It Be Known",
          "Let It Be Known",
          "Still Omw",
          "Wrong or Right",
          "Got It All",
          "Chosen (feat. Ty Dolla $ign)",
          "Chosen (feat. Ty Dolla $ign)",
          "Wrong or Right",
          "Chosen (feat. Ty Dolla $ign)",
          "Got It All",
          "Chosen (feat. Ty Dolla $ign)",
          "Wrong or Right",
          "Chosen (feat. Ty Dolla $ign)",
          "Every Good Girl",
          "Wrong or Right",
          "Talk to Me Nicely",
          "Be Forreal",
          "Every Good Girl",
          "Talk to Me Nicely",
          "Bacc Home",
          "Sometimes",
          "About You",
          "Wrong or Right",
          "Chosen (feat. Ty Dolla $ign)",
          "Wrong or Right",
          "Be Forreal",
          "Every Good Girl",
          "Keep Comin' Back",
          "Still Omw",
          "Let It Be Known",
          "Forever Humble",
          "Wrong or Right",
          "Got It All",
          "Wrong or Right",
          "Wrong or Right",
          "Be Forreal",
          "Fck Boys",
          "Wake It Up",
          "Wrong or Right",
          "Let It Be Known",
          "Keep Comin' Back",
          "Keep Comin' Back",
          "Chosen (feat. Ty Dolla $ign)",
          "Got It All",
          "Forever Humble",
          "Got It All",
          "Wrong or Right",
          "Every Good Girl",
          "Got It All",
          "Wrong or Right",
          "Keep Comin' Back",
          "Still Omw",
          "Wrong or Right",
          "Overrated",
          "Falling",
          "Chosen (feat. Ty Dolla $ign)",
          "About You",
          "About You",
          "About You",
          "Every Good Girl",
          "Every Good Girl",
          "Forever Humble",
          "Be Forreal",
          "Talk to Me Nicely",
          "Still Omw",
          "Let It Be Known",
          "Keep Comin' Back",
          "Wrong or Right",
          "Overrated",
          "Every Good Girl",
          "Every Good Girl",
          "Every Good Girl",
          "Be Forreal",
          "Fake Love In LA",
          "Every Good Girl",
          "Wake It Up",
          "Chosen (feat. Ty Dolla $ign)",
          "Talk to Me Nicely",
          "Got It All",
          "Still Omw",
          "Keep Comin' Back",
          "Wake It Up",
          "Talk to Me Nicely",
          "Keep Comin' Back",
          "Chosen (feat. Ty Dolla $ign)",
          "Chosen (feat. Ty Dolla $ign)",
          "About You",
          "Chosen (feat. Ty Dolla $ign)",
          "Keep Comin' Back",
          "Be Alone",
          "Movie",
          "Every Good Girl",
          "Every Good Girl",
          "Keep Comin' Back",
          "Wrong or Right",
          "Still Omw",
          "Forever Humble",
          "Wrong or Right",
          "Still Omw",
          "Talk to Me Nicely",
          "About You",
          "About You",
          "Overrated",
          "Chosen (feat. Ty Dolla $ign)",
          "Talk to Me Nicely",
          "Wrong or Right",
          "Keep Comin' Back",
          "Wrong or Right",
          "Chosen (feat. Ty Dolla $ign)",
          "Falling",
          "Every Good Girl",
          "Chosen (feat. Ty Dolla $ign)",
          "Got It All",
          "Forever Humble",
          "Chosen (feat. Ty Dolla $ign)",
          "Wake It Up",
          "Chosen (feat. Ty Dolla $ign)",
          "Movie",
          "Wrong or Right",
          "Got It All",
          "Chosen (feat. Ty Dolla $ign)",
          "Keep Comin' Back",
          "Chosen (feat. Ty Dolla $ign)",
          "Wrong or Right",
          "Fake Love In LA",
          "Every Good Girl",
          "Chosen (feat. Ty Dolla $ign)",
          "Wrong or Right",
          "Wrong or Right",
          "Fake Love In LA",
          "Be Forreal",
          "Wake It Up",
          "Wrong or Right",
          "Keep Comin' Back",
          "Every Good Girl",
          "Still Omw",
          "Let It Be Known",
          "Sometimes",
          "Every Good Girl",
          "Falling",
          "Still Omw",
          "Let It Be Known",
          "Overrated",
          "Every Good Girl",
          "Movie",
          "Wrong or Right",
          "Still Omw",
          "Keep Comin' Back",
          "Wake It Up",
          "Still Omw",
          "About You",
          "Every Good Girl",
          "Let It Be Known",
          "Keep Comin' Back",
          "About You",
          "Forever Humble",
          "Be Alone",
          "Keep Comin' Back",
          "Got It All",
          "Let It Be Known",
          "Let It Be Known",
          "Keep Comin' Back",
          "Got It All",
          "Sometimes",
          "Got It All",
          "Still Omw",
          "Keep Comin' Back",
          "Be Forreal",
          "Chosen (feat. Ty Dolla $ign)",
          "Let It Be Known",
          "Fake Love In LA",
          "Fake Love In LA",
          "Keep Comin' Back",
          "Keep Comin' Back",
          "Fake Love In LA",
          "Overrated",
          "Wrong or Right",
          "About You",
          "Wake It Up",
          "Be Forreal",
          "Chosen (feat. Ty Dolla $ign)",
          "Fake Love In LA",
          "Every Good Girl",
          "Keep Comin' Back",
          "Still Omw",
          "Chosen (feat. Ty Dolla $ign)",
          "Got It All",
          "Wrong or Right",
          "About You",
          "Keep Comin' Back",
          "Keep Comin' Back",
          "Slip & Slide (feat. 1TakeJay)",
          "Wake It Up",
          "Chosen (feat. Ty Dolla $ign)",
          "Movie",
          "Wake It Up",
          "Every Good Girl",
          "Be Forreal",
          "Keep Comin' Back",
          "Every Good Girl",
          "Forever Humble",
          "Every Good Girl",
          "Every Good Girl",
          "Chosen (feat. Ty Dolla $ign)",
          "Wrong or Right",
          "Chosen (feat. Ty Dolla $ign)",
          "Be Forreal",
          "Every Good Girl",
          "Fake Love In LA",
          "Be Forreal",
          "Got It All",
          "Talk to Me Nicely",
          "Chosen (feat. Ty Dolla $ign)",
          "Chosen (feat. Ty Dolla $ign)",
          "Talk to Me Nicely",
          "Keep Comin' Back",
          "Chosen (feat. Ty Dolla $ign)",
          "Keep Comin' Back",
          "Be Forreal",
          "Chosen (feat. Ty Dolla $ign)",
          "Keep Comin' Back",
          "Be Forreal",
          "Talk to Me Nicely",
          "Keep Comin' Back",
          "Sometimes",
          "Fck Boys",
          "Wrong or Right",
          "Still Omw",
          "Chosen (feat. Ty Dolla $ign)",
          "Keep Comin' Back",
          "Still Omw",
          "Let It Be Known",
          "Talk to Me Nicely",
          "Keep Comin' Back",
          "Let It Be Known",
          "Wake It Up",
          "Forever Humble",
          "Be Forreal",
          "Fake Love In LA",
          "Every Good Girl",
          "About You",
          "Be Forreal",
          "Chosen (feat. Ty Dolla $ign)",
          "Chosen (feat. Ty Dolla $ign)",
          "Let It Be Known",
          "Selfish",
          "About You",
          "Chosen (feat. Ty Dolla $ign)",
          "Talk to Me Nicely",
          "Wake It Up",
          "Keep Comin' Back",
          "Wrong or Right",
          "About You",
          "Wrong or Right",
          "About You",
          "Wrong or Right",
          "Every Good Girl",
          "Wake It Up",
          "Movie",
          "Be Alone",
          "Chosen (feat. Ty Dolla $ign)",
          "Talk to Me Nicely",
          "Wake It Up",
          "Got It All",
          "Fake Love In LA",
          "Keep Comin' Back",
          "Be Forreal",
          "Keep Comin' Back",
          "Wrong or Right",
          "Every Good Girl",
          "Fck Boys",
          "Chosen (feat. Ty Dolla $ign)",
          "Chosen (feat. Ty Dolla $ign)",
          "Every Good Girl",
          "Talk to Me Nicely",
          "Keep Comin' Back",
          "Talk to Me Nicely",
          "About You",
          "Fake Love In LA",
          "Every Good Girl",
          "Talk to Me Nicely",
          "Keep Comin' Back",
          "Be Alone",
          "Chosen (feat. Ty Dolla $ign)",
          "Chosen (feat. Ty Dolla $ign)",
          "Every Good Girl",
          "Got It All",
          "Forever Humble",
          "Keep Comin' Back",
          "Chosen (feat. Ty Dolla $ign)",
          "Every Good Girl",
          "Wrong or Right",
          "Got It All",
          "Got It All",
          "Wrong or Right",
          "Let It Be Known",
          "Falling",
          "Forever Humble",
          "Keep Comin' Back",
          "Movie",
          "Got It All",
          "Be Forreal",
          "Fake Love In LA",
          "Every Good Girl",
          "Chosen (feat. Ty Dolla $ign)",
          "About You",
          "Wake It Up",
          "Every Good Girl",
          "Wake It Up",
          "Chosen (feat. Ty Dolla $ign)",
          "Be Forreal",
          "Keep Comin' Back",
          "Wake It Up",
          "Chosen (feat. Ty Dolla $ign)",
          "Wrong or Right",
          "Overrated",
          "Got It All",
          "Be Alone",
          "Forever Humble",
          "Wrong or Right",
          "Overrated",
          "Chosen (feat. Ty Dolla $ign)",
          "Every Good Girl",
          "About You",
          "Keep Comin' Back",
          "Every Good Girl",
          "Keep Comin' Back",
          "Be Forreal",
          "Sometimes",
          "Talk to Me Nicely",
          "Let It Be Known",
          "Chosen (feat. Ty Dolla $ign)",
          "Every Good Girl",
          "Wake It Up",
          "Chosen (feat. Ty Dolla $ign)",
          "Be Alone",
          "Forever Humble",
          "Chosen (feat. Ty Dolla $ign)",
          "Chosen (feat. Ty Dolla $ign)",
          "Forever Humble",
          "Got It All",
          "About You",
          "Got It All",
          "Keep Comin' Back",
          "Keep Comin' Back",
          "Chosen (feat. Ty Dolla $ign)",
          "Wrong or Right",
          "Chosen (feat. Ty Dolla $ign)",
          "Chosen (feat. Ty Dolla $ign)",
          "Fake Love In LA",
          "Sometimes",
          "Chosen (feat. Ty Dolla $ign)",
          "Forever Humble",
          "Every Good Girl",
          "Keep Comin' Back",
          "Talk to Me Nicely",
          "Talk to Me Nicely",
          "Keep Comin' Back",
          "Wake It Up",
          "Wake It Up",
          "About You",
          "Falling",
          "Slip & Slide (feat. 1TakeJay)",
          "About You",
          "Chosen (feat. Ty Dolla $ign)",
          "Got It All",
          "Forever Humble",
          "Be Alone",
          "Wrong or Right",
          "Overrated",
          "Wrong or Right",
          "Bacc Home",
          "Be Alone",
          "Be Alone",
          "Forever Humble",
          "Bacc Home",
          "Chosen (feat. Ty Dolla $ign)",
          "Chosen (feat. Ty Dolla $ign)",
          "Wake It Up",
          "Wake It Up",
          "Wake It Up",
          "Wake It Up",
          "About You",
          "Wrong or Right",
          "Chosen (feat. Ty Dolla $ign)",
          "Got It All",
          "Wrong or Right",
          "Wake It Up",
          "Selfish",
          "Wake It Up",
          "Bacc Home",
          "Overrated",
          "Fck Boys",
          "About You",
          "Wrong or Right",
          "Wrong or Right",
          "Forever Humble",
          "Movie",
          "About You",
          "Chosen (feat. Ty Dolla $ign)",
          "Every Good Girl",
          "Got It All",
          "Keep Comin' Back",
          "Chosen (feat. Ty Dolla $ign)",
          "Got It All",
          "Chosen (feat. Ty Dolla $ign)",
          "Got It All",
          "Forever Humble",
          "Wrong or Right",
          "Be Alone",
          "Chosen (feat. Ty Dolla $ign)",
          "Wake It Up",
          "Keep Comin' Back",
          "Chosen (feat. Ty Dolla $ign)",
          "Chosen (feat. Ty Dolla $ign)",
          "Be Forreal",
          "Every Good Girl",
          "Keep Comin' Back",
          "Every Good Girl",
          "Every Good Girl",
          "Wake It Up",
          "Fake Love In LA",
          "Every Good Girl",
          "Keep Comin' Back",
          "Chosen (feat. Ty Dolla $ign)",
          "Chosen (feat. Ty Dolla $ign)",
          "Every Good Girl",
          "Keep Comin' Back",
          "Wake It Up",
          "Every Good Girl",
          "About You",
          "Be Forreal",
          "Sometimes",
          "About You",
          "Fake Love In LA",
          "About You",
          "Wake It Up",
          "Every Good Girl",
          "Chosen (feat. Ty Dolla $ign)",
          "Wake It Up",
          "Overrated",
          "Be Alone",
          "Bacc Home",
          "Slip & Slide (feat. 1TakeJay)",
          "About You",
          "About You",
          "Chosen (feat. Ty Dolla $ign)",
          "Chosen (feat. Ty Dolla $ign)",
          "Wake It Up",
          "Chosen (feat. Ty Dolla $ign)",
          "Got It All",
          "Got It All",
          "Wrong or Right",
          "Chosen (feat. Ty Dolla $ign)",
          "Wake It Up",
          "Wake It Up",
          "Fck Boys",
          "Wake It Up",
          "Wake It Up",
          "Chosen (feat. Ty Dolla $ign)",
          "Wake It Up",
          "Wake It Up",
          "Wake It Up",
          "Chosen (feat. Ty Dolla $ign)",
          "About You",
          "Chosen (feat. Ty Dolla $ign)",
          "Got It All",
          "Wrong or Right",
          "Chosen (feat. Ty Dolla $ign)",
          "Wake It Up",
          "Chosen (feat. Ty Dolla $ign)",
          "Chosen (feat. Ty Dolla $ign)",
          "Wake It Up",
          "Wake It Up",
          "Chosen (feat. Ty Dolla $ign)",
          "Wake It Up",
          "Chosen (feat. Ty Dolla $ign)",
          "Falling",
          "Got It All",
          "Wake It Up",
          "Wake It Up",
          "Got It All",
          "About You",
          "Wake It Up",
          "Wake It Up",
          "Sometimes",
          "Chosen (feat. Ty Dolla $ign)",
          "Forever Humble",
          "Wake It Up",
          "Got It All",
          "Got It All",
          "Wrong or Right",
          "Falling",
          "Got It All",
          "Chosen (feat. Ty Dolla $ign)",
          "Forever Humble",
          "Fck Boys",
          "Chosen (feat. Ty Dolla $ign)",
          "Falling",
          "Chosen (feat. Ty Dolla $ign)",
          "Chosen (feat. Ty Dolla $ign)",
          "Falling",
          "Sometimes",
          "Chosen (feat. Ty Dolla $ign)",
          "Got It All",
          "Chosen (feat. Ty Dolla $ign)",
          "Falling",
          "Sometimes",
          "Fck Boys",
          "Movie",
          "Chosen (feat. Ty Dolla $ign)",
          "Don't Forget",
          "Fck Boys",
          "Got It All",
          "Falling",
          "Chosen (feat. Ty Dolla $ign)",
          "About You",
          "Got It All",
          "Fck Boys",
          "Forever Humble",
          "Got It All",
          "Be Alone",
          "Movie",
          "Chosen (feat. Ty Dolla $ign)",
          "Got It All",
          "Chosen (feat. Ty Dolla $ign)",
          "Chosen (feat. Ty Dolla $ign)",
          "Chosen (feat. Ty Dolla $ign)",
          "Chosen (feat. Ty Dolla $ign)",
          "Fck Boys",
          "Don't Forget",
          "Falling",
          "Sometimes",
          "Overrated",
          "Overrated",
          "About You",
          "Fck Boys",
          "About You",
          "Chosen (feat. Ty Dolla $ign)",
          "Forever Humble",
          "Chosen (feat. Ty Dolla $ign)",
          "Chosen (feat. Ty Dolla $ign)",
          "Selfish",
          "Slip & Slide (feat. 1TakeJay)",
          "Got It All",
          "Wrong or Right",
          "Falling",
          "Chosen (feat. Ty Dolla $ign)",
          "Chosen (feat. Ty Dolla $ign)",
          "Fck Boys",
          "Falling",
          "Forever Humble",
          "Got It All",
          "Chosen (feat. Ty Dolla $ign)",
          "Wrong or Right",
          "Chosen (feat. Ty Dolla $ign)",
          "Chosen (feat. Ty Dolla $ign)",
          "Fck Boys",
          "Falling",
          "Chosen (feat. Ty Dolla $ign)",
          "Selfish",
          "Got It All",
          "Fck Boys",
          "Chosen (feat. Ty Dolla $ign)",
          "Forever Humble",
          "Be Alone",
          "Fck Boys",
          "Chosen (feat. Ty Dolla $ign)",
          "Chosen (feat. Ty Dolla $ign)",
          "Sometimes",
          "About You",
          "Forever Humble",
          "Falling",
          "Sometimes",
          "About You",
          "Chosen (feat. Ty Dolla $ign)",
          "Be Alone",
          "Movie",
          "Fck Boys",
          "Sometimes",
          "About You",
          "Falling",
          "Falling",
          "Slip & Slide (feat. 1TakeJay)",
          "Fck Boys",
          "Falling",
          "Forever Humble",
          "Forever Humble",
          "Got It All",
          "Falling",
          "Forever Humble",
          "Falling",
          "Be Alone",
          "About You",
          "Chosen (feat. Ty Dolla $ign)",
          "About You",
          "Forever Humble",
          "Movie",
          "Chosen (feat. Ty Dolla $ign)",
          "About You",
          "Fck Boys",
          "Chosen (feat. Ty Dolla $ign)",
          "Overrated",
          "Forever Humble",
          "About You",
          "About You",
          "Chosen (feat. Ty Dolla $ign)",
          "Chosen (feat. Ty Dolla $ign)",
          "Forever Humble",
          "Forever Humble",
          "About You",
          "About You",
          "Forever Humble",
          "About You",
          "Chosen (feat. Ty Dolla $ign)",
          "Fck Boys",
          "Fck Boys",
          "Fck Boys",
          "Don't Forget",
          "Fck Boys",
          "Wrong or Right",
          "Wrong or Right",
          "Chosen (feat. Ty Dolla $ign)",
          "Forever Humble",
          "Got It All",
          "About You",
          "About You",
          "Chosen (feat. Ty Dolla $ign)",
          "Falling",
          "About You",
          "Chosen (feat. Ty Dolla $ign)",
          "About You",
          "About You",
          "Overrated",
          "Wrong or Right",
          "About You",
          "Don't Forget",
          "Chosen (feat. Ty Dolla $ign)",
          "Got It All",
          "Be Alone",
          "Chosen (feat. Ty Dolla $ign)",
          "Chosen (feat. Ty Dolla $ign)",
          "Wrong or Right",
          "Forever Humble",
          "Falling",
          "Forever Humble",
          "Wrong or Right",
          "Forever Humble",
          "About You",
          "Forever Humble",
          "Chosen (feat. Ty Dolla $ign)",
          "Be Alone",
          "Forever Humble",
          "Movie",
          "Forever Humble",
          "Wrong or Right",
          "Chosen (feat. Ty Dolla $ign)",
          "Chosen (feat. Ty Dolla $ign)",
          "Forever Humble",
          "Got It All",
          "Wrong or Right",
          "Chosen (feat. Ty Dolla $ign)",
          "About You",
          "Forever Humble",
          "Chosen (feat. Ty Dolla $ign)",
          "Chosen (feat. Ty Dolla $ign)",
          "Overrated",
          "Got It All",
          "Be Alone",
          "Forever Humble",
          "Forever Humble",
          "About You",
          "Fck Boys",
          "Chosen (feat. Ty Dolla $ign)",
          "About You",
          "Forever Humble",
          "Forever Humble",
          "Overrated",
          "Overrated",
          "Wrong or Right",
          "Forever Humble",
          "Falling",
          "Forever Humble",
          "Got It All",
          "Wrong or Right",
          "About You",
          "Forever Humble",
          "About You",
          "Forever Humble",
          "About You",
          "Chosen (feat. Ty Dolla $ign)",
          "About You",
          "Chosen (feat. Ty Dolla $ign)",
          "Chosen (feat. Ty Dolla $ign)",
          "About You",
          "Forever Humble",
          "Forever Humble",
          "About You",
          "Wrong or Right",
          "Wake It Up",
          "Chosen (feat. Ty Dolla $ign)",
          "Chosen (feat. Ty Dolla $ign)",
          "Wrong or Right",
          "Chosen (feat. Ty Dolla $ign)",
          "Chosen (feat. Ty Dolla $ign)",
          "About You",
          "Chosen (feat. Ty Dolla $ign)",
          "Still Omw",
          "Forever Humble",
          "About You",
          "Chosen (feat. Ty Dolla $ign)",
          "Still Omw",
          "Still Omw",
          "About You",
          "Chosen (feat. Ty Dolla $ign)",
          "Chosen (feat. Ty Dolla $ign)",
          "Chosen (feat. Ty Dolla $ign)",
          "Still Omw",
          "Wrong or Right",
          "Chosen (feat. Ty Dolla $ign)",
          "Got It All",
          "Forever Humble",
          "Forever Humble",
          "Still Omw",
          "Still Omw",
          "Got It All",
          "Forever Humble",
          "Wrong or Right",
          "Keep Comin' Back",
          "Let It Be Known",
          "About You",
          "Got It All",
          "About You",
          "Still Omw",
          "Forever Humble",
          "Chosen (feat. Ty Dolla $ign)",
          "Still Omw",
          "Wrong or Right",
          "Wrong or Right",
          "Forever Humble",
          "Still Omw",
          "Chosen (feat. Ty Dolla $ign)",
          "Overrated",
          "Forever Humble",
          "About You",
          "Be Alone",
          "Wake It Up",
          "Still Omw",
          "Still Omw",
          "Let It Be Known",
          "Keep Comin' Back",
          "Be Alone",
          "About You",
          "Forever Humble",
          "Wrong or Right",
          "Forever Humble",
          "Forever Humble",
          "Wrong or Right",
          "Wrong or Right",
          "Chosen (feat. Ty Dolla $ign)",
          "Let It Be Known",
          "Still Omw",
          "Chosen (feat. Ty Dolla $ign)",
          "Chosen (feat. Ty Dolla $ign)",
          "Chosen (feat. Ty Dolla $ign)",
          "Forever Humble",
          "About You",
          "Keep Comin' Back",
          "Every Good Girl",
          "Falling",
          "Forever Humble",
          "About You",
          "Keep Comin' Back",
          "Still Omw",
          "Wrong or Right",
          "Wrong or Right",
          "Slip & Slide (feat. 1TakeJay)",
          "Chosen (feat. Ty Dolla $ign)",
          "Still Omw",
          "Chosen (feat. Ty Dolla $ign)",
          "Every Good Girl",
          "Chosen (feat. Ty Dolla $ign)",
          "Still Omw",
          "Keep Comin' Back",
          "Still Omw",
          "Keep Comin' Back",
          "Keep Comin' Back",
          "Chosen (feat. Ty Dolla $ign)",
          "Still Omw",
          "Chosen (feat. Ty Dolla $ign)",
          "Chosen (feat. Ty Dolla $ign)",
          "Forever Humble",
          "About You",
          "Forever Humble",
          "Forever Humble",
          "Forever Humble",
          "About You",
          "Forever Humble",
          "Overrated",
          "Wrong or Right",
          "Falling",
          "About You",
          "Forever Humble",
          "Forever Humble",
          "About You",
          "Forever Humble",
          "About You",
          "Forever Humble",
          "Got It All",
          "Got It All",
          "Falling",
          "Wrong or Right",
          "Movie",
          "About You",
          "Forever Humble",
          "Got It All",
          "About You",
          "Wrong or Right",
          "Chosen (feat. Ty Dolla $ign)",
          "Forever Humble",
          "Forever Humble",
          "Forever Humble",
          "About You",
          "Forever Humble",
          "Forever Humble",
          "Falling",
          "Wrong or Right",
          "Forever Humble",
          "Don't Forget",
          "Fck Boys",
          "Don't Forget",
          "Forever Humble",
          "About You",
          "Forever Humble",
          "About You",
          "Forever Humble",
          "Forever Humble",
          "Be Alone",
          "Got It All",
          "Forever Humble",
          "About You",
          "Chosen (feat. Ty Dolla $ign)",
          "Don't Forget",
          "Forever Humble",
          "Be Alone",
          "Overrated",
          "About You",
          "Forever Humble",
          "Forever Humble",
          "Forever Humble",
          "Got It All",
          "Forever Humble",
          "About You",
          "Chosen (feat. Ty Dolla $ign)",
          "Forever Humble",
          "Wrong or Right",
          "Forever Humble",
          "About You",
          "Chosen (feat. Ty Dolla $ign)",
          "Chosen (feat. Ty Dolla $ign)",
          "Wake It Up",
          "About You",
          "Fck Boys",
          "Be Alone",
          "Still Omw",
          "Overrated",
          "Movie",
          "Wrong or Right",
          "About You",
          "Chosen (feat. Ty Dolla $ign)"
         ],
         "yaxis": "y"
        }
       ],
       "layout": {
        "coloraxis": {
         "colorbar": {
          "title": {
           "text": "Season"
          }
         },
         "colorscale": [
          [
           0,
           "#0d0887"
          ],
          [
           0.1111111111111111,
           "#46039f"
          ],
          [
           0.2222222222222222,
           "#7201a8"
          ],
          [
           0.3333333333333333,
           "#9c179e"
          ],
          [
           0.4444444444444444,
           "#bd3786"
          ],
          [
           0.5555555555555556,
           "#d8576b"
          ],
          [
           0.6666666666666666,
           "#ed7953"
          ],
          [
           0.7777777777777778,
           "#fb9f3a"
          ],
          [
           0.8888888888888888,
           "#fdca26"
          ],
          [
           1,
           "#f0f921"
          ]
         ]
        },
        "legend": {
         "tracegroupgap": 0
        },
        "template": {
         "data": {
          "bar": [
           {
            "error_x": {
             "color": "#2a3f5f"
            },
            "error_y": {
             "color": "#2a3f5f"
            },
            "marker": {
             "line": {
              "color": "#E5ECF6",
              "width": 0.5
             },
             "pattern": {
              "fillmode": "overlay",
              "size": 10,
              "solidity": 0.2
             }
            },
            "type": "bar"
           }
          ],
          "barpolar": [
           {
            "marker": {
             "line": {
              "color": "#E5ECF6",
              "width": 0.5
             },
             "pattern": {
              "fillmode": "overlay",
              "size": 10,
              "solidity": 0.2
             }
            },
            "type": "barpolar"
           }
          ],
          "carpet": [
           {
            "aaxis": {
             "endlinecolor": "#2a3f5f",
             "gridcolor": "white",
             "linecolor": "white",
             "minorgridcolor": "white",
             "startlinecolor": "#2a3f5f"
            },
            "baxis": {
             "endlinecolor": "#2a3f5f",
             "gridcolor": "white",
             "linecolor": "white",
             "minorgridcolor": "white",
             "startlinecolor": "#2a3f5f"
            },
            "type": "carpet"
           }
          ],
          "choropleth": [
           {
            "colorbar": {
             "outlinewidth": 0,
             "ticks": ""
            },
            "type": "choropleth"
           }
          ],
          "contour": [
           {
            "colorbar": {
             "outlinewidth": 0,
             "ticks": ""
            },
            "colorscale": [
             [
              0,
              "#0d0887"
             ],
             [
              0.1111111111111111,
              "#46039f"
             ],
             [
              0.2222222222222222,
              "#7201a8"
             ],
             [
              0.3333333333333333,
              "#9c179e"
             ],
             [
              0.4444444444444444,
              "#bd3786"
             ],
             [
              0.5555555555555556,
              "#d8576b"
             ],
             [
              0.6666666666666666,
              "#ed7953"
             ],
             [
              0.7777777777777778,
              "#fb9f3a"
             ],
             [
              0.8888888888888888,
              "#fdca26"
             ],
             [
              1,
              "#f0f921"
             ]
            ],
            "type": "contour"
           }
          ],
          "contourcarpet": [
           {
            "colorbar": {
             "outlinewidth": 0,
             "ticks": ""
            },
            "type": "contourcarpet"
           }
          ],
          "heatmap": [
           {
            "colorbar": {
             "outlinewidth": 0,
             "ticks": ""
            },
            "colorscale": [
             [
              0,
              "#0d0887"
             ],
             [
              0.1111111111111111,
              "#46039f"
             ],
             [
              0.2222222222222222,
              "#7201a8"
             ],
             [
              0.3333333333333333,
              "#9c179e"
             ],
             [
              0.4444444444444444,
              "#bd3786"
             ],
             [
              0.5555555555555556,
              "#d8576b"
             ],
             [
              0.6666666666666666,
              "#ed7953"
             ],
             [
              0.7777777777777778,
              "#fb9f3a"
             ],
             [
              0.8888888888888888,
              "#fdca26"
             ],
             [
              1,
              "#f0f921"
             ]
            ],
            "type": "heatmap"
           }
          ],
          "heatmapgl": [
           {
            "colorbar": {
             "outlinewidth": 0,
             "ticks": ""
            },
            "colorscale": [
             [
              0,
              "#0d0887"
             ],
             [
              0.1111111111111111,
              "#46039f"
             ],
             [
              0.2222222222222222,
              "#7201a8"
             ],
             [
              0.3333333333333333,
              "#9c179e"
             ],
             [
              0.4444444444444444,
              "#bd3786"
             ],
             [
              0.5555555555555556,
              "#d8576b"
             ],
             [
              0.6666666666666666,
              "#ed7953"
             ],
             [
              0.7777777777777778,
              "#fb9f3a"
             ],
             [
              0.8888888888888888,
              "#fdca26"
             ],
             [
              1,
              "#f0f921"
             ]
            ],
            "type": "heatmapgl"
           }
          ],
          "histogram": [
           {
            "marker": {
             "pattern": {
              "fillmode": "overlay",
              "size": 10,
              "solidity": 0.2
             }
            },
            "type": "histogram"
           }
          ],
          "histogram2d": [
           {
            "colorbar": {
             "outlinewidth": 0,
             "ticks": ""
            },
            "colorscale": [
             [
              0,
              "#0d0887"
             ],
             [
              0.1111111111111111,
              "#46039f"
             ],
             [
              0.2222222222222222,
              "#7201a8"
             ],
             [
              0.3333333333333333,
              "#9c179e"
             ],
             [
              0.4444444444444444,
              "#bd3786"
             ],
             [
              0.5555555555555556,
              "#d8576b"
             ],
             [
              0.6666666666666666,
              "#ed7953"
             ],
             [
              0.7777777777777778,
              "#fb9f3a"
             ],
             [
              0.8888888888888888,
              "#fdca26"
             ],
             [
              1,
              "#f0f921"
             ]
            ],
            "type": "histogram2d"
           }
          ],
          "histogram2dcontour": [
           {
            "colorbar": {
             "outlinewidth": 0,
             "ticks": ""
            },
            "colorscale": [
             [
              0,
              "#0d0887"
             ],
             [
              0.1111111111111111,
              "#46039f"
             ],
             [
              0.2222222222222222,
              "#7201a8"
             ],
             [
              0.3333333333333333,
              "#9c179e"
             ],
             [
              0.4444444444444444,
              "#bd3786"
             ],
             [
              0.5555555555555556,
              "#d8576b"
             ],
             [
              0.6666666666666666,
              "#ed7953"
             ],
             [
              0.7777777777777778,
              "#fb9f3a"
             ],
             [
              0.8888888888888888,
              "#fdca26"
             ],
             [
              1,
              "#f0f921"
             ]
            ],
            "type": "histogram2dcontour"
           }
          ],
          "mesh3d": [
           {
            "colorbar": {
             "outlinewidth": 0,
             "ticks": ""
            },
            "type": "mesh3d"
           }
          ],
          "parcoords": [
           {
            "line": {
             "colorbar": {
              "outlinewidth": 0,
              "ticks": ""
             }
            },
            "type": "parcoords"
           }
          ],
          "pie": [
           {
            "automargin": true,
            "type": "pie"
           }
          ],
          "scatter": [
           {
            "marker": {
             "colorbar": {
              "outlinewidth": 0,
              "ticks": ""
             }
            },
            "type": "scatter"
           }
          ],
          "scatter3d": [
           {
            "line": {
             "colorbar": {
              "outlinewidth": 0,
              "ticks": ""
             }
            },
            "marker": {
             "colorbar": {
              "outlinewidth": 0,
              "ticks": ""
             }
            },
            "type": "scatter3d"
           }
          ],
          "scattercarpet": [
           {
            "marker": {
             "colorbar": {
              "outlinewidth": 0,
              "ticks": ""
             }
            },
            "type": "scattercarpet"
           }
          ],
          "scattergeo": [
           {
            "marker": {
             "colorbar": {
              "outlinewidth": 0,
              "ticks": ""
             }
            },
            "type": "scattergeo"
           }
          ],
          "scattergl": [
           {
            "marker": {
             "colorbar": {
              "outlinewidth": 0,
              "ticks": ""
             }
            },
            "type": "scattergl"
           }
          ],
          "scattermapbox": [
           {
            "marker": {
             "colorbar": {
              "outlinewidth": 0,
              "ticks": ""
             }
            },
            "type": "scattermapbox"
           }
          ],
          "scatterpolar": [
           {
            "marker": {
             "colorbar": {
              "outlinewidth": 0,
              "ticks": ""
             }
            },
            "type": "scatterpolar"
           }
          ],
          "scatterpolargl": [
           {
            "marker": {
             "colorbar": {
              "outlinewidth": 0,
              "ticks": ""
             }
            },
            "type": "scatterpolargl"
           }
          ],
          "scatterternary": [
           {
            "marker": {
             "colorbar": {
              "outlinewidth": 0,
              "ticks": ""
             }
            },
            "type": "scatterternary"
           }
          ],
          "surface": [
           {
            "colorbar": {
             "outlinewidth": 0,
             "ticks": ""
            },
            "colorscale": [
             [
              0,
              "#0d0887"
             ],
             [
              0.1111111111111111,
              "#46039f"
             ],
             [
              0.2222222222222222,
              "#7201a8"
             ],
             [
              0.3333333333333333,
              "#9c179e"
             ],
             [
              0.4444444444444444,
              "#bd3786"
             ],
             [
              0.5555555555555556,
              "#d8576b"
             ],
             [
              0.6666666666666666,
              "#ed7953"
             ],
             [
              0.7777777777777778,
              "#fb9f3a"
             ],
             [
              0.8888888888888888,
              "#fdca26"
             ],
             [
              1,
              "#f0f921"
             ]
            ],
            "type": "surface"
           }
          ],
          "table": [
           {
            "cells": {
             "fill": {
              "color": "#EBF0F8"
             },
             "line": {
              "color": "white"
             }
            },
            "header": {
             "fill": {
              "color": "#C8D4E3"
             },
             "line": {
              "color": "white"
             }
            },
            "type": "table"
           }
          ]
         },
         "layout": {
          "annotationdefaults": {
           "arrowcolor": "#2a3f5f",
           "arrowhead": 0,
           "arrowwidth": 1
          },
          "autotypenumbers": "strict",
          "coloraxis": {
           "colorbar": {
            "outlinewidth": 0,
            "ticks": ""
           }
          },
          "colorscale": {
           "diverging": [
            [
             0,
             "#8e0152"
            ],
            [
             0.1,
             "#c51b7d"
            ],
            [
             0.2,
             "#de77ae"
            ],
            [
             0.3,
             "#f1b6da"
            ],
            [
             0.4,
             "#fde0ef"
            ],
            [
             0.5,
             "#f7f7f7"
            ],
            [
             0.6,
             "#e6f5d0"
            ],
            [
             0.7,
             "#b8e186"
            ],
            [
             0.8,
             "#7fbc41"
            ],
            [
             0.9,
             "#4d9221"
            ],
            [
             1,
             "#276419"
            ]
           ],
           "sequential": [
            [
             0,
             "#0d0887"
            ],
            [
             0.1111111111111111,
             "#46039f"
            ],
            [
             0.2222222222222222,
             "#7201a8"
            ],
            [
             0.3333333333333333,
             "#9c179e"
            ],
            [
             0.4444444444444444,
             "#bd3786"
            ],
            [
             0.5555555555555556,
             "#d8576b"
            ],
            [
             0.6666666666666666,
             "#ed7953"
            ],
            [
             0.7777777777777778,
             "#fb9f3a"
            ],
            [
             0.8888888888888888,
             "#fdca26"
            ],
            [
             1,
             "#f0f921"
            ]
           ],
           "sequentialminus": [
            [
             0,
             "#0d0887"
            ],
            [
             0.1111111111111111,
             "#46039f"
            ],
            [
             0.2222222222222222,
             "#7201a8"
            ],
            [
             0.3333333333333333,
             "#9c179e"
            ],
            [
             0.4444444444444444,
             "#bd3786"
            ],
            [
             0.5555555555555556,
             "#d8576b"
            ],
            [
             0.6666666666666666,
             "#ed7953"
            ],
            [
             0.7777777777777778,
             "#fb9f3a"
            ],
            [
             0.8888888888888888,
             "#fdca26"
            ],
            [
             1,
             "#f0f921"
            ]
           ]
          },
          "colorway": [
           "#636efa",
           "#EF553B",
           "#00cc96",
           "#ab63fa",
           "#FFA15A",
           "#19d3f3",
           "#FF6692",
           "#B6E880",
           "#FF97FF",
           "#FECB52"
          ],
          "font": {
           "color": "#2a3f5f"
          },
          "geo": {
           "bgcolor": "white",
           "lakecolor": "white",
           "landcolor": "#E5ECF6",
           "showlakes": true,
           "showland": true,
           "subunitcolor": "white"
          },
          "hoverlabel": {
           "align": "left"
          },
          "hovermode": "closest",
          "mapbox": {
           "style": "light"
          },
          "paper_bgcolor": "white",
          "plot_bgcolor": "#E5ECF6",
          "polar": {
           "angularaxis": {
            "gridcolor": "white",
            "linecolor": "white",
            "ticks": ""
           },
           "bgcolor": "#E5ECF6",
           "radialaxis": {
            "gridcolor": "white",
            "linecolor": "white",
            "ticks": ""
           }
          },
          "scene": {
           "xaxis": {
            "backgroundcolor": "#E5ECF6",
            "gridcolor": "white",
            "gridwidth": 2,
            "linecolor": "white",
            "showbackground": true,
            "ticks": "",
            "zerolinecolor": "white"
           },
           "yaxis": {
            "backgroundcolor": "#E5ECF6",
            "gridcolor": "white",
            "gridwidth": 2,
            "linecolor": "white",
            "showbackground": true,
            "ticks": "",
            "zerolinecolor": "white"
           },
           "zaxis": {
            "backgroundcolor": "#E5ECF6",
            "gridcolor": "white",
            "gridwidth": 2,
            "linecolor": "white",
            "showbackground": true,
            "ticks": "",
            "zerolinecolor": "white"
           }
          },
          "shapedefaults": {
           "line": {
            "color": "#2a3f5f"
           }
          },
          "ternary": {
           "aaxis": {
            "gridcolor": "white",
            "linecolor": "white",
            "ticks": ""
           },
           "baxis": {
            "gridcolor": "white",
            "linecolor": "white",
            "ticks": ""
           },
           "bgcolor": "#E5ECF6",
           "caxis": {
            "gridcolor": "white",
            "linecolor": "white",
            "ticks": ""
           }
          },
          "title": {
           "x": 0.05
          },
          "xaxis": {
           "automargin": true,
           "gridcolor": "white",
           "linecolor": "white",
           "ticks": "",
           "title": {
            "standoff": 15
           },
           "zerolinecolor": "white",
           "zerolinewidth": 2
          },
          "yaxis": {
           "automargin": true,
           "gridcolor": "white",
           "linecolor": "white",
           "ticks": "",
           "title": {
            "standoff": 15
           },
           "zerolinecolor": "white",
           "zerolinewidth": 2
          }
         }
        },
        "title": {
         "text": "Songs I listened to from Blxst by Season"
        },
        "xaxis": {
         "anchor": "y",
         "domain": [
          0,
          1
         ],
         "title": {
          "text": "endTime"
         }
        },
        "yaxis": {
         "anchor": "x",
         "domain": [
          0,
          1
         ],
         "title": {
          "text": "trackName"
         }
        }
       }
      }
     },
     "metadata": {},
     "output_type": "display_data"
    }
   ],
   "source": [
    "\n",
    "\n",
    "fig = px.scatter(test, x='endTime', y='trackName', color='Season', title='Songs I listened to from Blxst by Season')\n",
    "fig.show()"
   ]
  },
  {
   "cell_type": "code",
   "execution_count": 5,
   "metadata": {},
   "outputs": [
    {
     "data": {
      "text/html": [
       "<div>\n",
       "<style scoped>\n",
       "    .dataframe tbody tr th:only-of-type {\n",
       "        vertical-align: middle;\n",
       "    }\n",
       "\n",
       "    .dataframe tbody tr th {\n",
       "        vertical-align: top;\n",
       "    }\n",
       "\n",
       "    .dataframe thead th {\n",
       "        text-align: right;\n",
       "    }\n",
       "</style>\n",
       "<table border=\"1\" class=\"dataframe\">\n",
       "  <thead>\n",
       "    <tr style=\"text-align: right;\">\n",
       "      <th></th>\n",
       "      <th>Unnamed: 0.1</th>\n",
       "      <th>Unnamed: 0</th>\n",
       "      <th>endTime</th>\n",
       "      <th>artistName</th>\n",
       "      <th>trackName</th>\n",
       "      <th>albumName</th>\n",
       "      <th>msPlayed</th>\n",
       "      <th>month</th>\n",
       "      <th>year</th>\n",
       "      <th>Season</th>\n",
       "      <th>...</th>\n",
       "      <th>liveness</th>\n",
       "      <th>valence</th>\n",
       "      <th>tempo</th>\n",
       "      <th>type</th>\n",
       "      <th>id</th>\n",
       "      <th>uri</th>\n",
       "      <th>track_href</th>\n",
       "      <th>analysis_url</th>\n",
       "      <th>duration_ms</th>\n",
       "      <th>time_signature</th>\n",
       "    </tr>\n",
       "  </thead>\n",
       "  <tbody>\n",
       "    <tr>\n",
       "      <th>2599</th>\n",
       "      <td>12484</td>\n",
       "      <td>8753</td>\n",
       "      <td>9/6/2022 16:11</td>\n",
       "      <td>Kanye West</td>\n",
       "      <td>Pure Souls</td>\n",
       "      <td>Donda</td>\n",
       "      <td>10640</td>\n",
       "      <td>9</td>\n",
       "      <td>2022</td>\n",
       "      <td>4</td>\n",
       "      <td>...</td>\n",
       "      <td>0.269</td>\n",
       "      <td>0.256</td>\n",
       "      <td>97.207</td>\n",
       "      <td>audio_features</td>\n",
       "      <td>7up5MwPUHQdv4DkzQRHRWP</td>\n",
       "      <td>spotify:track:7up5MwPUHQdv4DkzQRHRWP</td>\n",
       "      <td>https://api.spotify.com/v1/tracks/7up5MwPUHQdv...</td>\n",
       "      <td>https://api.spotify.com/v1/audio-analysis/7up5...</td>\n",
       "      <td>358622</td>\n",
       "      <td>4</td>\n",
       "    </tr>\n",
       "    <tr>\n",
       "      <th>1573</th>\n",
       "      <td>7920</td>\n",
       "      <td>5710</td>\n",
       "      <td>9/30/2022 21:02</td>\n",
       "      <td>Kanye West</td>\n",
       "      <td>Good Life</td>\n",
       "      <td>Waking Up</td>\n",
       "      <td>167973</td>\n",
       "      <td>9</td>\n",
       "      <td>2022</td>\n",
       "      <td>4</td>\n",
       "      <td>...</td>\n",
       "      <td>0.132</td>\n",
       "      <td>0.645</td>\n",
       "      <td>94.988</td>\n",
       "      <td>audio_features</td>\n",
       "      <td>6OtCIsQZ64Vs1EbzztvAv4</td>\n",
       "      <td>spotify:track:6OtCIsQZ64Vs1EbzztvAv4</td>\n",
       "      <td>https://api.spotify.com/v1/tracks/6OtCIsQZ64Vs...</td>\n",
       "      <td>https://api.spotify.com/v1/audio-analysis/6OtC...</td>\n",
       "      <td>253307</td>\n",
       "      <td>4</td>\n",
       "    </tr>\n",
       "    <tr>\n",
       "      <th>1572</th>\n",
       "      <td>7902</td>\n",
       "      <td>5704</td>\n",
       "      <td>9/30/2022 15:45</td>\n",
       "      <td>Kanye West</td>\n",
       "      <td>Good Life</td>\n",
       "      <td>Waking Up</td>\n",
       "      <td>131739</td>\n",
       "      <td>9</td>\n",
       "      <td>2022</td>\n",
       "      <td>4</td>\n",
       "      <td>...</td>\n",
       "      <td>0.132</td>\n",
       "      <td>0.645</td>\n",
       "      <td>94.988</td>\n",
       "      <td>audio_features</td>\n",
       "      <td>6OtCIsQZ64Vs1EbzztvAv4</td>\n",
       "      <td>spotify:track:6OtCIsQZ64Vs1EbzztvAv4</td>\n",
       "      <td>https://api.spotify.com/v1/tracks/6OtCIsQZ64Vs...</td>\n",
       "      <td>https://api.spotify.com/v1/audio-analysis/6OtC...</td>\n",
       "      <td>253307</td>\n",
       "      <td>4</td>\n",
       "    </tr>\n",
       "    <tr>\n",
       "      <th>1571</th>\n",
       "      <td>7884</td>\n",
       "      <td>5698</td>\n",
       "      <td>9/30/2022 15:43</td>\n",
       "      <td>Kanye West</td>\n",
       "      <td>Good Life</td>\n",
       "      <td>Waking Up</td>\n",
       "      <td>74580</td>\n",
       "      <td>9</td>\n",
       "      <td>2022</td>\n",
       "      <td>4</td>\n",
       "      <td>...</td>\n",
       "      <td>0.132</td>\n",
       "      <td>0.645</td>\n",
       "      <td>94.988</td>\n",
       "      <td>audio_features</td>\n",
       "      <td>6OtCIsQZ64Vs1EbzztvAv4</td>\n",
       "      <td>spotify:track:6OtCIsQZ64Vs1EbzztvAv4</td>\n",
       "      <td>https://api.spotify.com/v1/tracks/6OtCIsQZ64Vs...</td>\n",
       "      <td>https://api.spotify.com/v1/audio-analysis/6OtC...</td>\n",
       "      <td>253307</td>\n",
       "      <td>4</td>\n",
       "    </tr>\n",
       "    <tr>\n",
       "      <th>10652</th>\n",
       "      <td>49732</td>\n",
       "      <td>37358</td>\n",
       "      <td>9/30/2022 15:42</td>\n",
       "      <td>Kanye West</td>\n",
       "      <td>I Wonder</td>\n",
       "      <td>Graduation</td>\n",
       "      <td>243440</td>\n",
       "      <td>9</td>\n",
       "      <td>2022</td>\n",
       "      <td>4</td>\n",
       "      <td>...</td>\n",
       "      <td>0.135</td>\n",
       "      <td>0.116</td>\n",
       "      <td>191.259</td>\n",
       "      <td>audio_features</td>\n",
       "      <td>6bXOlIfGIWh7Tyn4oyvLQW</td>\n",
       "      <td>spotify:track:6bXOlIfGIWh7Tyn4oyvLQW</td>\n",
       "      <td>https://api.spotify.com/v1/tracks/6bXOlIfGIWh7...</td>\n",
       "      <td>https://api.spotify.com/v1/audio-analysis/6bXO...</td>\n",
       "      <td>243440</td>\n",
       "      <td>4</td>\n",
       "    </tr>\n",
       "    <tr>\n",
       "      <th>...</th>\n",
       "      <td>...</td>\n",
       "      <td>...</td>\n",
       "      <td>...</td>\n",
       "      <td>...</td>\n",
       "      <td>...</td>\n",
       "      <td>...</td>\n",
       "      <td>...</td>\n",
       "      <td>...</td>\n",
       "      <td>...</td>\n",
       "      <td>...</td>\n",
       "      <td>...</td>\n",
       "      <td>...</td>\n",
       "      <td>...</td>\n",
       "      <td>...</td>\n",
       "      <td>...</td>\n",
       "      <td>...</td>\n",
       "      <td>...</td>\n",
       "      <td>...</td>\n",
       "      <td>...</td>\n",
       "      <td>...</td>\n",
       "      <td>...</td>\n",
       "    </tr>\n",
       "    <tr>\n",
       "      <th>2630</th>\n",
       "      <td>12598</td>\n",
       "      <td>8867</td>\n",
       "      <td>1/2/2023 19:05</td>\n",
       "      <td>Kanye West</td>\n",
       "      <td>Pure Souls</td>\n",
       "      <td>Donda</td>\n",
       "      <td>358621</td>\n",
       "      <td>1</td>\n",
       "      <td>2023</td>\n",
       "      <td>1</td>\n",
       "      <td>...</td>\n",
       "      <td>0.269</td>\n",
       "      <td>0.256</td>\n",
       "      <td>97.207</td>\n",
       "      <td>audio_features</td>\n",
       "      <td>7up5MwPUHQdv4DkzQRHRWP</td>\n",
       "      <td>spotify:track:7up5MwPUHQdv4DkzQRHRWP</td>\n",
       "      <td>https://api.spotify.com/v1/tracks/7up5MwPUHQdv...</td>\n",
       "      <td>https://api.spotify.com/v1/audio-analysis/7up5...</td>\n",
       "      <td>358622</td>\n",
       "      <td>4</td>\n",
       "    </tr>\n",
       "    <tr>\n",
       "      <th>12558</th>\n",
       "      <td>55915</td>\n",
       "      <td>42872</td>\n",
       "      <td>1/18/2023 0:17</td>\n",
       "      <td>Kanye West</td>\n",
       "      <td>Stronger</td>\n",
       "      <td>Graduation</td>\n",
       "      <td>1390</td>\n",
       "      <td>1</td>\n",
       "      <td>2023</td>\n",
       "      <td>1</td>\n",
       "      <td>...</td>\n",
       "      <td>0.318</td>\n",
       "      <td>0.483</td>\n",
       "      <td>103.980</td>\n",
       "      <td>audio_features</td>\n",
       "      <td>6C7RJEIUDqKkJRZVWdkfkH</td>\n",
       "      <td>spotify:track:6C7RJEIUDqKkJRZVWdkfkH</td>\n",
       "      <td>https://api.spotify.com/v1/tracks/6C7RJEIUDqKk...</td>\n",
       "      <td>https://api.spotify.com/v1/audio-analysis/6C7R...</td>\n",
       "      <td>311867</td>\n",
       "      <td>4</td>\n",
       "    </tr>\n",
       "    <tr>\n",
       "      <th>2576</th>\n",
       "      <td>12409</td>\n",
       "      <td>8684</td>\n",
       "      <td>1/17/2023 1:38</td>\n",
       "      <td>Kanye West</td>\n",
       "      <td>Hurricane</td>\n",
       "      <td>Donda</td>\n",
       "      <td>160160</td>\n",
       "      <td>1</td>\n",
       "      <td>2023</td>\n",
       "      <td>1</td>\n",
       "      <td>...</td>\n",
       "      <td>0.109</td>\n",
       "      <td>0.351</td>\n",
       "      <td>80.009</td>\n",
       "      <td>audio_features</td>\n",
       "      <td>0RbW8kWozrVSIGb4V13o0o</td>\n",
       "      <td>spotify:track:0RbW8kWozrVSIGb4V13o0o</td>\n",
       "      <td>https://api.spotify.com/v1/tracks/0RbW8kWozrVS...</td>\n",
       "      <td>https://api.spotify.com/v1/audio-analysis/0RbW...</td>\n",
       "      <td>243187</td>\n",
       "      <td>4</td>\n",
       "    </tr>\n",
       "    <tr>\n",
       "      <th>5226</th>\n",
       "      <td>27353</td>\n",
       "      <td>19845</td>\n",
       "      <td>1/14/2023 3:32</td>\n",
       "      <td>Kanye West</td>\n",
       "      <td>Champions</td>\n",
       "      <td>Champions</td>\n",
       "      <td>334253</td>\n",
       "      <td>1</td>\n",
       "      <td>2023</td>\n",
       "      <td>1</td>\n",
       "      <td>...</td>\n",
       "      <td>0.873</td>\n",
       "      <td>0.349</td>\n",
       "      <td>134.952</td>\n",
       "      <td>audio_features</td>\n",
       "      <td>2nBI3iWLhupR7LyAJ5GGkE</td>\n",
       "      <td>spotify:track:2nBI3iWLhupR7LyAJ5GGkE</td>\n",
       "      <td>https://api.spotify.com/v1/tracks/2nBI3iWLhupR...</td>\n",
       "      <td>https://api.spotify.com/v1/audio-analysis/2nBI...</td>\n",
       "      <td>334253</td>\n",
       "      <td>4</td>\n",
       "    </tr>\n",
       "    <tr>\n",
       "      <th>2632</th>\n",
       "      <td>12604</td>\n",
       "      <td>8873</td>\n",
       "      <td>1/10/2023 18:58</td>\n",
       "      <td>Kanye West</td>\n",
       "      <td>Pure Souls</td>\n",
       "      <td>Donda</td>\n",
       "      <td>105637</td>\n",
       "      <td>1</td>\n",
       "      <td>2023</td>\n",
       "      <td>1</td>\n",
       "      <td>...</td>\n",
       "      <td>0.269</td>\n",
       "      <td>0.256</td>\n",
       "      <td>97.207</td>\n",
       "      <td>audio_features</td>\n",
       "      <td>7up5MwPUHQdv4DkzQRHRWP</td>\n",
       "      <td>spotify:track:7up5MwPUHQdv4DkzQRHRWP</td>\n",
       "      <td>https://api.spotify.com/v1/tracks/7up5MwPUHQdv...</td>\n",
       "      <td>https://api.spotify.com/v1/audio-analysis/7up5...</td>\n",
       "      <td>358622</td>\n",
       "      <td>4</td>\n",
       "    </tr>\n",
       "  </tbody>\n",
       "</table>\n",
       "<p>233 rows × 29 columns</p>\n",
       "</div>"
      ],
      "text/plain": [
       "       Unnamed: 0.1  Unnamed: 0          endTime  artistName   trackName  \\\n",
       "2599          12484        8753   9/6/2022 16:11  Kanye West  Pure Souls   \n",
       "1573           7920        5710  9/30/2022 21:02  Kanye West   Good Life   \n",
       "1572           7902        5704  9/30/2022 15:45  Kanye West   Good Life   \n",
       "1571           7884        5698  9/30/2022 15:43  Kanye West   Good Life   \n",
       "10652         49732       37358  9/30/2022 15:42  Kanye West    I Wonder   \n",
       "...             ...         ...              ...         ...         ...   \n",
       "2630          12598        8867   1/2/2023 19:05  Kanye West  Pure Souls   \n",
       "12558         55915       42872   1/18/2023 0:17  Kanye West    Stronger   \n",
       "2576          12409        8684   1/17/2023 1:38  Kanye West   Hurricane   \n",
       "5226          27353       19845   1/14/2023 3:32  Kanye West   Champions   \n",
       "2632          12604        8873  1/10/2023 18:58  Kanye West  Pure Souls   \n",
       "\n",
       "        albumName  msPlayed  month  year  Season  ... liveness  valence  \\\n",
       "2599        Donda     10640      9  2022       4  ...    0.269    0.256   \n",
       "1573    Waking Up    167973      9  2022       4  ...    0.132    0.645   \n",
       "1572    Waking Up    131739      9  2022       4  ...    0.132    0.645   \n",
       "1571    Waking Up     74580      9  2022       4  ...    0.132    0.645   \n",
       "10652  Graduation    243440      9  2022       4  ...    0.135    0.116   \n",
       "...           ...       ...    ...   ...     ...  ...      ...      ...   \n",
       "2630        Donda    358621      1  2023       1  ...    0.269    0.256   \n",
       "12558  Graduation      1390      1  2023       1  ...    0.318    0.483   \n",
       "2576        Donda    160160      1  2023       1  ...    0.109    0.351   \n",
       "5226    Champions    334253      1  2023       1  ...    0.873    0.349   \n",
       "2632        Donda    105637      1  2023       1  ...    0.269    0.256   \n",
       "\n",
       "         tempo            type                      id  \\\n",
       "2599    97.207  audio_features  7up5MwPUHQdv4DkzQRHRWP   \n",
       "1573    94.988  audio_features  6OtCIsQZ64Vs1EbzztvAv4   \n",
       "1572    94.988  audio_features  6OtCIsQZ64Vs1EbzztvAv4   \n",
       "1571    94.988  audio_features  6OtCIsQZ64Vs1EbzztvAv4   \n",
       "10652  191.259  audio_features  6bXOlIfGIWh7Tyn4oyvLQW   \n",
       "...        ...             ...                     ...   \n",
       "2630    97.207  audio_features  7up5MwPUHQdv4DkzQRHRWP   \n",
       "12558  103.980  audio_features  6C7RJEIUDqKkJRZVWdkfkH   \n",
       "2576    80.009  audio_features  0RbW8kWozrVSIGb4V13o0o   \n",
       "5226   134.952  audio_features  2nBI3iWLhupR7LyAJ5GGkE   \n",
       "2632    97.207  audio_features  7up5MwPUHQdv4DkzQRHRWP   \n",
       "\n",
       "                                        uri  \\\n",
       "2599   spotify:track:7up5MwPUHQdv4DkzQRHRWP   \n",
       "1573   spotify:track:6OtCIsQZ64Vs1EbzztvAv4   \n",
       "1572   spotify:track:6OtCIsQZ64Vs1EbzztvAv4   \n",
       "1571   spotify:track:6OtCIsQZ64Vs1EbzztvAv4   \n",
       "10652  spotify:track:6bXOlIfGIWh7Tyn4oyvLQW   \n",
       "...                                     ...   \n",
       "2630   spotify:track:7up5MwPUHQdv4DkzQRHRWP   \n",
       "12558  spotify:track:6C7RJEIUDqKkJRZVWdkfkH   \n",
       "2576   spotify:track:0RbW8kWozrVSIGb4V13o0o   \n",
       "5226   spotify:track:2nBI3iWLhupR7LyAJ5GGkE   \n",
       "2632   spotify:track:7up5MwPUHQdv4DkzQRHRWP   \n",
       "\n",
       "                                              track_href  \\\n",
       "2599   https://api.spotify.com/v1/tracks/7up5MwPUHQdv...   \n",
       "1573   https://api.spotify.com/v1/tracks/6OtCIsQZ64Vs...   \n",
       "1572   https://api.spotify.com/v1/tracks/6OtCIsQZ64Vs...   \n",
       "1571   https://api.spotify.com/v1/tracks/6OtCIsQZ64Vs...   \n",
       "10652  https://api.spotify.com/v1/tracks/6bXOlIfGIWh7...   \n",
       "...                                                  ...   \n",
       "2630   https://api.spotify.com/v1/tracks/7up5MwPUHQdv...   \n",
       "12558  https://api.spotify.com/v1/tracks/6C7RJEIUDqKk...   \n",
       "2576   https://api.spotify.com/v1/tracks/0RbW8kWozrVS...   \n",
       "5226   https://api.spotify.com/v1/tracks/2nBI3iWLhupR...   \n",
       "2632   https://api.spotify.com/v1/tracks/7up5MwPUHQdv...   \n",
       "\n",
       "                                            analysis_url  duration_ms  \\\n",
       "2599   https://api.spotify.com/v1/audio-analysis/7up5...       358622   \n",
       "1573   https://api.spotify.com/v1/audio-analysis/6OtC...       253307   \n",
       "1572   https://api.spotify.com/v1/audio-analysis/6OtC...       253307   \n",
       "1571   https://api.spotify.com/v1/audio-analysis/6OtC...       253307   \n",
       "10652  https://api.spotify.com/v1/audio-analysis/6bXO...       243440   \n",
       "...                                                  ...          ...   \n",
       "2630   https://api.spotify.com/v1/audio-analysis/7up5...       358622   \n",
       "12558  https://api.spotify.com/v1/audio-analysis/6C7R...       311867   \n",
       "2576   https://api.spotify.com/v1/audio-analysis/0RbW...       243187   \n",
       "5226   https://api.spotify.com/v1/audio-analysis/2nBI...       334253   \n",
       "2632   https://api.spotify.com/v1/audio-analysis/7up5...       358622   \n",
       "\n",
       "       time_signature  \n",
       "2599                4  \n",
       "1573                4  \n",
       "1572                4  \n",
       "1571                4  \n",
       "10652               4  \n",
       "...               ...  \n",
       "2630                4  \n",
       "12558               4  \n",
       "2576                4  \n",
       "5226                4  \n",
       "2632                4  \n",
       "\n",
       "[233 rows x 29 columns]"
      ]
     },
     "execution_count": 5,
     "metadata": {},
     "output_type": "execute_result"
    }
   ],
   "source": [
    "test = df[df['artistName'] == 'Kanye West'].sort_values('endTime', ascending=False)\n",
    "test"
   ]
  },
  {
   "cell_type": "code",
   "execution_count": 6,
   "metadata": {},
   "outputs": [
    {
     "data": {
      "application/vnd.plotly.v1+json": {
       "config": {
        "plotlyServerURL": "https://plot.ly"
       },
       "data": [
        {
         "hovertemplate": "endTime=%{x}<br>trackName=%{y}<br>Season=%{marker.color}<extra></extra>",
         "legendgroup": "",
         "marker": {
          "color": [
           4,
           4,
           4,
           4,
           4,
           4,
           4,
           4,
           4,
           4,
           4,
           4,
           4,
           4,
           4,
           4,
           4,
           4,
           3,
           3,
           3,
           3,
           3,
           3,
           3,
           3,
           3,
           3,
           3,
           3,
           3,
           3,
           3,
           3,
           3,
           3,
           3,
           3,
           3,
           3,
           3,
           3,
           3,
           3,
           3,
           3,
           3,
           3,
           3,
           3,
           3,
           3,
           3,
           3,
           3,
           3,
           3,
           3,
           3,
           3,
           3,
           3,
           3,
           2,
           2,
           2,
           2,
           2,
           2,
           2,
           2,
           2,
           2,
           2,
           2,
           2,
           2,
           2,
           2,
           2,
           2,
           2,
           2,
           2,
           2,
           2,
           2,
           2,
           2,
           2,
           2,
           2,
           2,
           2,
           2,
           2,
           2,
           2,
           2,
           2,
           2,
           2,
           2,
           2,
           2,
           2,
           2,
           2,
           2,
           2,
           2,
           2,
           2,
           2,
           2,
           2,
           2,
           2,
           2,
           2,
           2,
           2,
           2,
           2,
           2,
           2,
           2,
           2,
           2,
           2,
           2,
           2,
           2,
           2,
           2,
           2,
           2,
           2,
           1,
           1,
           1,
           1,
           1,
           1,
           1,
           1,
           1,
           1,
           1,
           1,
           1,
           4,
           4,
           4,
           4,
           4,
           4,
           4,
           4,
           4,
           4,
           4,
           4,
           4,
           4,
           4,
           4,
           4,
           4,
           4,
           4,
           4,
           4,
           4,
           4,
           4,
           4,
           4,
           4,
           4,
           4,
           4,
           4,
           4,
           4,
           4,
           4,
           4,
           4,
           4,
           4,
           4,
           4,
           4,
           4,
           4,
           4,
           4,
           4,
           4,
           4,
           4,
           4,
           4,
           4,
           4,
           4,
           4,
           4,
           4,
           4,
           4,
           4,
           4,
           4,
           4,
           4,
           4,
           1,
           1,
           1,
           1,
           1,
           1,
           1,
           1,
           1,
           1,
           1,
           1,
           1,
           1,
           1
          ],
          "coloraxis": "coloraxis",
          "symbol": "circle"
         },
         "mode": "markers",
         "name": "",
         "orientation": "v",
         "showlegend": false,
         "type": "scatter",
         "x": [
          "9/6/2022 16:11",
          "9/30/2022 21:02",
          "9/30/2022 15:45",
          "9/30/2022 15:43",
          "9/30/2022 15:42",
          "9/30/2022 15:37",
          "9/30/2022 15:22",
          "9/29/2022 15:43",
          "9/27/2022 23:33",
          "9/27/2022 22:52",
          "9/20/2022 20:19",
          "9/18/2022 23:27",
          "9/18/2022 21:00",
          "9/18/2022 20:51",
          "9/16/2022 17:11",
          "9/16/2022 17:02",
          "9/15/2022 23:05",
          "9/15/2022 22:54",
          "8/30/2022 1:38",
          "8/28/2022 19:26",
          "8/28/2022 19:07",
          "8/28/2022 17:16",
          "8/25/2022 4:30",
          "8/21/2022 18:28",
          "8/21/2022 18:27",
          "8/20/2022 23:21",
          "8/19/2022 23:52",
          "8/19/2022 23:06",
          "8/19/2022 22:59",
          "8/19/2022 1:34",
          "8/18/2022 2:26",
          "7/5/2022 1:53",
          "7/5/2022 18:41",
          "7/3/2022 0:44",
          "7/26/2022 0:20",
          "7/25/2022 20:21",
          "7/16/2022 22:56",
          "7/15/2022 4:19",
          "7/15/2022 3:42",
          "7/15/2022 1:38",
          "7/15/2022 17:48",
          "7/1/2022 2:42",
          "6/9/2022 18:40",
          "6/5/2022 18:17",
          "6/30/2022 3:28",
          "6/3/2022 19:12",
          "6/28/2022 1:06",
          "6/27/2022 3:25",
          "6/27/2022 3:00",
          "6/27/2022 2:52",
          "6/27/2022 23:55",
          "6/23/2022 3:28",
          "6/23/2022 3:06",
          "6/2/2022 19:28",
          "6/2/2022 18:05",
          "6/14/2022 1:08",
          "6/13/2022 2:18",
          "6/11/2022 19:07",
          "6/11/2022 18:27",
          "6/10/2022 20:20",
          "6/10/2022 19:11",
          "6/10/2022 15:15",
          "6/1/2022 0:07",
          "5/9/2022 5:10",
          "5/9/2022 4:06",
          "5/8/2022 6:04",
          "5/8/2022 5:55",
          "5/8/2022 5:52",
          "5/8/2022 5:37",
          "5/8/2022 5:33",
          "5/8/2022 18:42",
          "5/8/2022 18:35",
          "5/8/2022 18:32",
          "5/8/2022 16:20",
          "5/31/2022 6:47",
          "5/31/2022 5:52",
          "5/31/2022 15:59",
          "5/30/2022 19:49",
          "5/3/2022 23:31",
          "5/28/2022 8:35",
          "5/28/2022 8:30",
          "5/28/2022 7:40",
          "5/28/2022 3:12",
          "5/28/2022 3:09",
          "5/26/2022 6:42",
          "5/25/2022 20:06",
          "5/22/2022 23:17",
          "5/22/2022 22:45",
          "5/22/2022 0:25",
          "5/21/2022 7:20",
          "5/21/2022 6:58",
          "5/21/2022 6:43",
          "5/21/2022 1:55",
          "5/20/2022 0:15",
          "5/19/2022 3:59",
          "5/19/2022 3:30",
          "5/19/2022 3:18",
          "5/19/2022 3:15",
          "5/19/2022 18:30",
          "5/19/2022 16:43",
          "5/16/2022 6:12",
          "5/16/2022 5:51",
          "5/13/2022 1:20",
          "5/12/2022 6:16",
          "5/12/2022 5:53",
          "5/12/2022 5:30",
          "5/12/2022 20:18",
          "5/10/2022 3:48",
          "4/3/2022 5:33",
          "4/29/2022 6:33",
          "4/29/2022 6:18",
          "4/29/2022 5:54",
          "4/29/2022 5:50",
          "4/29/2022 21:31",
          "4/26/2022 1:16",
          "4/26/2022 1:12",
          "4/26/2022 1:10",
          "4/26/2022 1:06",
          "4/26/2022 1:01",
          "4/23/2022 21:42",
          "4/13/2022 5:59",
          "4/13/2022 5:42",
          "4/12/2022 4:44",
          "4/12/2022 21:30",
          "4/12/2022 21:24",
          "4/11/2022 20:12",
          "4/10/2022 1:02",
          "3/4/2022 22:38",
          "3/26/2022 4:12",
          "3/26/2022 4:08",
          "3/25/2022 23:18",
          "3/22/2022 23:01",
          "3/22/2022 22:59",
          "3/21/2022 20:03",
          "3/21/2022 20:02",
          "3/20/2022 3:02",
          "3/14/2022 0:51",
          "3/14/2022 0:47",
          "2/8/2022 22:35",
          "2/6/2022 20:25",
          "2/14/2022 23:57",
          "2/13/2022 0:46",
          "2/13/2022 0:42",
          "2/12/2022 21:36",
          "2/1/2022 4:37",
          "12/7/2022 0:39",
          "12/31/2022 2:49",
          "12/29/2022 4:10",
          "12/20/2022 18:30",
          "12/14/2022 21:14",
          "12/10/2022 23:57",
          "11/9/2022 1:24",
          "11/9/2022 0:33",
          "11/9/2022 0:25",
          "11/8/2022 18:58",
          "11/8/2022 18:54",
          "11/8/2022 18:46",
          "11/7/2022 5:14",
          "11/7/2022 22:44",
          "11/6/2022 21:55",
          "11/3/2022 2:02",
          "11/27/2022 17:19",
          "11/22/2022 1:41",
          "11/2/2022 20:55",
          "11/2/2022 20:51",
          "11/19/2022 5:05",
          "11/17/2022 3:01",
          "11/17/2022 23:54",
          "11/17/2022 19:10",
          "11/17/2022 0:48",
          "11/14/2022 23:14",
          "11/14/2022 1:33",
          "11/13/2022 0:06",
          "11/13/2022 0:04",
          "11/11/2022 0:32",
          "11/10/2022 2:14",
          "11/10/2022 1:53",
          "10/9/2022 18:42",
          "10/9/2022 18:38",
          "10/8/2022 19:38",
          "10/6/2022 14:43",
          "10/5/2022 22:04",
          "10/5/2022 22:02",
          "10/30/2022 3:06",
          "10/30/2022 20:04",
          "10/30/2022 20:03",
          "10/3/2022 17:41",
          "10/3/2022 17:16",
          "10/3/2022 17:11",
          "10/27/2022 2:26",
          "10/27/2022 21:36",
          "10/26/2022 20:41",
          "10/26/2022 20:38",
          "10/26/2022 19:48",
          "10/26/2022 19:35",
          "10/26/2022 19:25",
          "10/25/2022 20:21",
          "10/24/2022 0:03",
          "10/23/2022 23:22",
          "10/22/2022 21:58",
          "10/22/2022 21:54",
          "10/22/2022 20:09",
          "10/2/2022 16:03",
          "10/2/2022 15:01",
          "10/2/2022 14:57",
          "10/2/2022 13:41",
          "10/2/2022 13:35",
          "10/19/2022 3:45",
          "10/15/2022 18:58",
          "10/13/2022 0:05",
          "10/13/2022 0:01",
          "10/12/2022 17:28",
          "10/11/2022 3:00",
          "10/11/2022 2:59",
          "10/11/2022 22:29",
          "10/11/2022 0:17",
          "10/11/2022 0:13",
          "10/1/2022 2:21",
          "1/9/2023 20:16",
          "1/9/2023 20:15",
          "1/8/2023 1:36",
          "1/8/2023 18:59",
          "1/29/2022 21:52",
          "1/21/2022 3:10",
          "1/21/2022 20:32",
          "1/20/2023 20:27",
          "1/20/2022 19:39",
          "1/2/2023 19:09",
          "1/2/2023 19:05",
          "1/18/2023 0:17",
          "1/17/2023 1:38",
          "1/14/2023 3:32",
          "1/10/2023 18:58"
         ],
         "xaxis": "x",
         "y": [
          "Pure Souls",
          "Good Life",
          "Good Life",
          "Good Life",
          "I Wonder",
          "I Wonder",
          "I Wonder",
          "Hurricane",
          "Hurricane",
          "Pure Souls",
          "All Falls Down",
          "Pure Souls",
          "Pure Souls",
          "True Love",
          "Hurricane",
          "Pure Souls",
          "All Falls Down",
          "Violent Crimes",
          "Good Life",
          "Good Life",
          "Pure Souls",
          "Violent Crimes",
          "Champions",
          "Hurricane",
          "Pure Souls",
          "All Falls Down",
          "Good Life",
          "All Falls Down",
          "Pure Souls",
          "Pure Souls",
          "Hurricane",
          "Good Life",
          "Through The Wire",
          "Good Life",
          "True Love",
          "Violent Crimes",
          "True Love",
          "Hurricane",
          "Pure Souls",
          "Stronger",
          "Father Stretch My Hands Pt. 1",
          "Good Life",
          "Pure Souls",
          "True Love",
          "All Falls Down",
          "True Love",
          "Good Life",
          "Good Life",
          "Hurricane",
          "Pure Souls",
          "All Falls Down",
          "Champions",
          "Pure Souls",
          "True Love",
          "True Love",
          "True Love",
          "Good Life",
          "Love Lockdown",
          "I Love It (& Lil Pump)",
          "I Love It (& Lil Pump)",
          "True Love",
          "Violent Crimes",
          "True Love",
          "Waves",
          "Real Friends",
          "I Wonder",
          "Good Life",
          "Good Morning",
          "All Falls Down",
          "Hurricane",
          "No More Parties In LA",
          "Father Stretch My Hands Pt. 1",
          "All Falls Down",
          "All Falls Down",
          "True Love",
          "True Love",
          "True Love",
          "Pure Souls",
          "Pure Souls",
          "Violent Crimes",
          "Violent Crimes",
          "All Falls Down",
          "Pure Souls",
          "Pure Souls",
          "Violent Crimes",
          "Violent Crimes",
          "Good Life",
          "All Falls Down",
          "Pure Souls",
          "Pure Souls",
          "Hurricane",
          "Father Stretch My Hands Pt. 1",
          "Violent Crimes",
          "Hurricane",
          "Father Stretch My Hands Pt. 1",
          "Father Stretch My Hands Pt. 1",
          "Wouldn't Leave",
          "Violent Crimes",
          "Violent Crimes",
          "Violent Crimes",
          "All Falls Down",
          "Hurricane",
          "Champions",
          "Hurricane",
          "Heartless",
          "All Falls Down",
          "Hurricane",
          "Hurricane",
          "Hurricane",
          "Good Life",
          "Champions",
          "Hurricane",
          "I Love It (& Lil Pump)",
          "Hurricane",
          "Hurricane",
          "I Love It (& Lil Pump)",
          "Ok Ok pt 2",
          "Good Life",
          "Pure Souls",
          "Amazing",
          "Pure Souls",
          "Hurricane",
          "Hurricane",
          "Hurricane",
          "Hurricane",
          "Through The Wire",
          "Wouldn't Leave",
          "Hurricane",
          "Hurricane",
          "Pure Souls",
          "Amazing",
          "Father Stretch My Hands Pt. 1",
          "Good Life",
          "Every Hour",
          "Hurricane",
          "Amazing",
          "Hurricane",
          "Pure Souls",
          "Champions",
          "Jail",
          "Pure Souls",
          "Through The Wire",
          "Good Life",
          "Waves",
          "Hurricane",
          "Pure Souls",
          "Hurricane",
          "Champions",
          "Good Life",
          "No More Parties In LA",
          "Hurricane",
          "Pure Souls",
          "Hurricane",
          "Pure Souls",
          "Hurricane",
          "Pure Souls",
          "Pure Souls",
          "Pure Souls",
          "Pure Souls",
          "Champions",
          "Champions",
          "Pure Souls",
          "Hurricane",
          "Hurricane",
          "Pure Souls",
          "Father Stretch My Hands Pt. 1",
          "Hurricane",
          "Hurricane",
          "Pure Souls",
          "Pure Souls",
          "True Love",
          "Hurricane",
          "Hurricane",
          "Hurricane",
          "Hurricane",
          "Champions",
          "True Love",
          "Hurricane",
          "Pure Souls",
          "Hurricane",
          "Hurricane",
          "Hurricane",
          "Pure Souls",
          "Hurricane",
          "Good Morning",
          "I Wonder",
          "Good Life",
          "Pure Souls",
          "Hurricane",
          "Pure Souls",
          "Champions",
          "Hurricane",
          "Pure Souls",
          "Hurricane",
          "I Wonder",
          "All Falls Down",
          "All Falls Down",
          "Hurricane",
          "Pure Souls",
          "Hurricane",
          "Pure Souls",
          "Hurricane",
          "Champions",
          "Hurricane",
          "Pure Souls",
          "Champions",
          "Pure Souls",
          "Pure Souls",
          "Hurricane",
          "Hurricane",
          "Pure Souls",
          "Pure Souls",
          "Hurricane",
          "Pure Souls",
          "Pure Souls",
          "Hurricane",
          "Pure Souls",
          "Good Life",
          "Pure Souls",
          "Hurricane",
          "Hurricane",
          "Every Hour",
          "Good Life",
          "Pure Souls",
          "Pure Souls",
          "Hurricane",
          "Good Life",
          "Hurricane",
          "Pure Souls",
          "Stronger",
          "Hurricane",
          "Champions",
          "Pure Souls"
         ],
         "yaxis": "y"
        }
       ],
       "layout": {
        "coloraxis": {
         "colorbar": {
          "title": {
           "text": "Season"
          }
         },
         "colorscale": [
          [
           0,
           "#0d0887"
          ],
          [
           0.1111111111111111,
           "#46039f"
          ],
          [
           0.2222222222222222,
           "#7201a8"
          ],
          [
           0.3333333333333333,
           "#9c179e"
          ],
          [
           0.4444444444444444,
           "#bd3786"
          ],
          [
           0.5555555555555556,
           "#d8576b"
          ],
          [
           0.6666666666666666,
           "#ed7953"
          ],
          [
           0.7777777777777778,
           "#fb9f3a"
          ],
          [
           0.8888888888888888,
           "#fdca26"
          ],
          [
           1,
           "#f0f921"
          ]
         ]
        },
        "legend": {
         "tracegroupgap": 0
        },
        "margin": {
         "t": 60
        },
        "template": {
         "data": {
          "bar": [
           {
            "error_x": {
             "color": "#2a3f5f"
            },
            "error_y": {
             "color": "#2a3f5f"
            },
            "marker": {
             "line": {
              "color": "#E5ECF6",
              "width": 0.5
             },
             "pattern": {
              "fillmode": "overlay",
              "size": 10,
              "solidity": 0.2
             }
            },
            "type": "bar"
           }
          ],
          "barpolar": [
           {
            "marker": {
             "line": {
              "color": "#E5ECF6",
              "width": 0.5
             },
             "pattern": {
              "fillmode": "overlay",
              "size": 10,
              "solidity": 0.2
             }
            },
            "type": "barpolar"
           }
          ],
          "carpet": [
           {
            "aaxis": {
             "endlinecolor": "#2a3f5f",
             "gridcolor": "white",
             "linecolor": "white",
             "minorgridcolor": "white",
             "startlinecolor": "#2a3f5f"
            },
            "baxis": {
             "endlinecolor": "#2a3f5f",
             "gridcolor": "white",
             "linecolor": "white",
             "minorgridcolor": "white",
             "startlinecolor": "#2a3f5f"
            },
            "type": "carpet"
           }
          ],
          "choropleth": [
           {
            "colorbar": {
             "outlinewidth": 0,
             "ticks": ""
            },
            "type": "choropleth"
           }
          ],
          "contour": [
           {
            "colorbar": {
             "outlinewidth": 0,
             "ticks": ""
            },
            "colorscale": [
             [
              0,
              "#0d0887"
             ],
             [
              0.1111111111111111,
              "#46039f"
             ],
             [
              0.2222222222222222,
              "#7201a8"
             ],
             [
              0.3333333333333333,
              "#9c179e"
             ],
             [
              0.4444444444444444,
              "#bd3786"
             ],
             [
              0.5555555555555556,
              "#d8576b"
             ],
             [
              0.6666666666666666,
              "#ed7953"
             ],
             [
              0.7777777777777778,
              "#fb9f3a"
             ],
             [
              0.8888888888888888,
              "#fdca26"
             ],
             [
              1,
              "#f0f921"
             ]
            ],
            "type": "contour"
           }
          ],
          "contourcarpet": [
           {
            "colorbar": {
             "outlinewidth": 0,
             "ticks": ""
            },
            "type": "contourcarpet"
           }
          ],
          "heatmap": [
           {
            "colorbar": {
             "outlinewidth": 0,
             "ticks": ""
            },
            "colorscale": [
             [
              0,
              "#0d0887"
             ],
             [
              0.1111111111111111,
              "#46039f"
             ],
             [
              0.2222222222222222,
              "#7201a8"
             ],
             [
              0.3333333333333333,
              "#9c179e"
             ],
             [
              0.4444444444444444,
              "#bd3786"
             ],
             [
              0.5555555555555556,
              "#d8576b"
             ],
             [
              0.6666666666666666,
              "#ed7953"
             ],
             [
              0.7777777777777778,
              "#fb9f3a"
             ],
             [
              0.8888888888888888,
              "#fdca26"
             ],
             [
              1,
              "#f0f921"
             ]
            ],
            "type": "heatmap"
           }
          ],
          "heatmapgl": [
           {
            "colorbar": {
             "outlinewidth": 0,
             "ticks": ""
            },
            "colorscale": [
             [
              0,
              "#0d0887"
             ],
             [
              0.1111111111111111,
              "#46039f"
             ],
             [
              0.2222222222222222,
              "#7201a8"
             ],
             [
              0.3333333333333333,
              "#9c179e"
             ],
             [
              0.4444444444444444,
              "#bd3786"
             ],
             [
              0.5555555555555556,
              "#d8576b"
             ],
             [
              0.6666666666666666,
              "#ed7953"
             ],
             [
              0.7777777777777778,
              "#fb9f3a"
             ],
             [
              0.8888888888888888,
              "#fdca26"
             ],
             [
              1,
              "#f0f921"
             ]
            ],
            "type": "heatmapgl"
           }
          ],
          "histogram": [
           {
            "marker": {
             "pattern": {
              "fillmode": "overlay",
              "size": 10,
              "solidity": 0.2
             }
            },
            "type": "histogram"
           }
          ],
          "histogram2d": [
           {
            "colorbar": {
             "outlinewidth": 0,
             "ticks": ""
            },
            "colorscale": [
             [
              0,
              "#0d0887"
             ],
             [
              0.1111111111111111,
              "#46039f"
             ],
             [
              0.2222222222222222,
              "#7201a8"
             ],
             [
              0.3333333333333333,
              "#9c179e"
             ],
             [
              0.4444444444444444,
              "#bd3786"
             ],
             [
              0.5555555555555556,
              "#d8576b"
             ],
             [
              0.6666666666666666,
              "#ed7953"
             ],
             [
              0.7777777777777778,
              "#fb9f3a"
             ],
             [
              0.8888888888888888,
              "#fdca26"
             ],
             [
              1,
              "#f0f921"
             ]
            ],
            "type": "histogram2d"
           }
          ],
          "histogram2dcontour": [
           {
            "colorbar": {
             "outlinewidth": 0,
             "ticks": ""
            },
            "colorscale": [
             [
              0,
              "#0d0887"
             ],
             [
              0.1111111111111111,
              "#46039f"
             ],
             [
              0.2222222222222222,
              "#7201a8"
             ],
             [
              0.3333333333333333,
              "#9c179e"
             ],
             [
              0.4444444444444444,
              "#bd3786"
             ],
             [
              0.5555555555555556,
              "#d8576b"
             ],
             [
              0.6666666666666666,
              "#ed7953"
             ],
             [
              0.7777777777777778,
              "#fb9f3a"
             ],
             [
              0.8888888888888888,
              "#fdca26"
             ],
             [
              1,
              "#f0f921"
             ]
            ],
            "type": "histogram2dcontour"
           }
          ],
          "mesh3d": [
           {
            "colorbar": {
             "outlinewidth": 0,
             "ticks": ""
            },
            "type": "mesh3d"
           }
          ],
          "parcoords": [
           {
            "line": {
             "colorbar": {
              "outlinewidth": 0,
              "ticks": ""
             }
            },
            "type": "parcoords"
           }
          ],
          "pie": [
           {
            "automargin": true,
            "type": "pie"
           }
          ],
          "scatter": [
           {
            "marker": {
             "colorbar": {
              "outlinewidth": 0,
              "ticks": ""
             }
            },
            "type": "scatter"
           }
          ],
          "scatter3d": [
           {
            "line": {
             "colorbar": {
              "outlinewidth": 0,
              "ticks": ""
             }
            },
            "marker": {
             "colorbar": {
              "outlinewidth": 0,
              "ticks": ""
             }
            },
            "type": "scatter3d"
           }
          ],
          "scattercarpet": [
           {
            "marker": {
             "colorbar": {
              "outlinewidth": 0,
              "ticks": ""
             }
            },
            "type": "scattercarpet"
           }
          ],
          "scattergeo": [
           {
            "marker": {
             "colorbar": {
              "outlinewidth": 0,
              "ticks": ""
             }
            },
            "type": "scattergeo"
           }
          ],
          "scattergl": [
           {
            "marker": {
             "colorbar": {
              "outlinewidth": 0,
              "ticks": ""
             }
            },
            "type": "scattergl"
           }
          ],
          "scattermapbox": [
           {
            "marker": {
             "colorbar": {
              "outlinewidth": 0,
              "ticks": ""
             }
            },
            "type": "scattermapbox"
           }
          ],
          "scatterpolar": [
           {
            "marker": {
             "colorbar": {
              "outlinewidth": 0,
              "ticks": ""
             }
            },
            "type": "scatterpolar"
           }
          ],
          "scatterpolargl": [
           {
            "marker": {
             "colorbar": {
              "outlinewidth": 0,
              "ticks": ""
             }
            },
            "type": "scatterpolargl"
           }
          ],
          "scatterternary": [
           {
            "marker": {
             "colorbar": {
              "outlinewidth": 0,
              "ticks": ""
             }
            },
            "type": "scatterternary"
           }
          ],
          "surface": [
           {
            "colorbar": {
             "outlinewidth": 0,
             "ticks": ""
            },
            "colorscale": [
             [
              0,
              "#0d0887"
             ],
             [
              0.1111111111111111,
              "#46039f"
             ],
             [
              0.2222222222222222,
              "#7201a8"
             ],
             [
              0.3333333333333333,
              "#9c179e"
             ],
             [
              0.4444444444444444,
              "#bd3786"
             ],
             [
              0.5555555555555556,
              "#d8576b"
             ],
             [
              0.6666666666666666,
              "#ed7953"
             ],
             [
              0.7777777777777778,
              "#fb9f3a"
             ],
             [
              0.8888888888888888,
              "#fdca26"
             ],
             [
              1,
              "#f0f921"
             ]
            ],
            "type": "surface"
           }
          ],
          "table": [
           {
            "cells": {
             "fill": {
              "color": "#EBF0F8"
             },
             "line": {
              "color": "white"
             }
            },
            "header": {
             "fill": {
              "color": "#C8D4E3"
             },
             "line": {
              "color": "white"
             }
            },
            "type": "table"
           }
          ]
         },
         "layout": {
          "annotationdefaults": {
           "arrowcolor": "#2a3f5f",
           "arrowhead": 0,
           "arrowwidth": 1
          },
          "autotypenumbers": "strict",
          "coloraxis": {
           "colorbar": {
            "outlinewidth": 0,
            "ticks": ""
           }
          },
          "colorscale": {
           "diverging": [
            [
             0,
             "#8e0152"
            ],
            [
             0.1,
             "#c51b7d"
            ],
            [
             0.2,
             "#de77ae"
            ],
            [
             0.3,
             "#f1b6da"
            ],
            [
             0.4,
             "#fde0ef"
            ],
            [
             0.5,
             "#f7f7f7"
            ],
            [
             0.6,
             "#e6f5d0"
            ],
            [
             0.7,
             "#b8e186"
            ],
            [
             0.8,
             "#7fbc41"
            ],
            [
             0.9,
             "#4d9221"
            ],
            [
             1,
             "#276419"
            ]
           ],
           "sequential": [
            [
             0,
             "#0d0887"
            ],
            [
             0.1111111111111111,
             "#46039f"
            ],
            [
             0.2222222222222222,
             "#7201a8"
            ],
            [
             0.3333333333333333,
             "#9c179e"
            ],
            [
             0.4444444444444444,
             "#bd3786"
            ],
            [
             0.5555555555555556,
             "#d8576b"
            ],
            [
             0.6666666666666666,
             "#ed7953"
            ],
            [
             0.7777777777777778,
             "#fb9f3a"
            ],
            [
             0.8888888888888888,
             "#fdca26"
            ],
            [
             1,
             "#f0f921"
            ]
           ],
           "sequentialminus": [
            [
             0,
             "#0d0887"
            ],
            [
             0.1111111111111111,
             "#46039f"
            ],
            [
             0.2222222222222222,
             "#7201a8"
            ],
            [
             0.3333333333333333,
             "#9c179e"
            ],
            [
             0.4444444444444444,
             "#bd3786"
            ],
            [
             0.5555555555555556,
             "#d8576b"
            ],
            [
             0.6666666666666666,
             "#ed7953"
            ],
            [
             0.7777777777777778,
             "#fb9f3a"
            ],
            [
             0.8888888888888888,
             "#fdca26"
            ],
            [
             1,
             "#f0f921"
            ]
           ]
          },
          "colorway": [
           "#636efa",
           "#EF553B",
           "#00cc96",
           "#ab63fa",
           "#FFA15A",
           "#19d3f3",
           "#FF6692",
           "#B6E880",
           "#FF97FF",
           "#FECB52"
          ],
          "font": {
           "color": "#2a3f5f"
          },
          "geo": {
           "bgcolor": "white",
           "lakecolor": "white",
           "landcolor": "#E5ECF6",
           "showlakes": true,
           "showland": true,
           "subunitcolor": "white"
          },
          "hoverlabel": {
           "align": "left"
          },
          "hovermode": "closest",
          "mapbox": {
           "style": "light"
          },
          "paper_bgcolor": "white",
          "plot_bgcolor": "#E5ECF6",
          "polar": {
           "angularaxis": {
            "gridcolor": "white",
            "linecolor": "white",
            "ticks": ""
           },
           "bgcolor": "#E5ECF6",
           "radialaxis": {
            "gridcolor": "white",
            "linecolor": "white",
            "ticks": ""
           }
          },
          "scene": {
           "xaxis": {
            "backgroundcolor": "#E5ECF6",
            "gridcolor": "white",
            "gridwidth": 2,
            "linecolor": "white",
            "showbackground": true,
            "ticks": "",
            "zerolinecolor": "white"
           },
           "yaxis": {
            "backgroundcolor": "#E5ECF6",
            "gridcolor": "white",
            "gridwidth": 2,
            "linecolor": "white",
            "showbackground": true,
            "ticks": "",
            "zerolinecolor": "white"
           },
           "zaxis": {
            "backgroundcolor": "#E5ECF6",
            "gridcolor": "white",
            "gridwidth": 2,
            "linecolor": "white",
            "showbackground": true,
            "ticks": "",
            "zerolinecolor": "white"
           }
          },
          "shapedefaults": {
           "line": {
            "color": "#2a3f5f"
           }
          },
          "ternary": {
           "aaxis": {
            "gridcolor": "white",
            "linecolor": "white",
            "ticks": ""
           },
           "baxis": {
            "gridcolor": "white",
            "linecolor": "white",
            "ticks": ""
           },
           "bgcolor": "#E5ECF6",
           "caxis": {
            "gridcolor": "white",
            "linecolor": "white",
            "ticks": ""
           }
          },
          "title": {
           "x": 0.05
          },
          "xaxis": {
           "automargin": true,
           "gridcolor": "white",
           "linecolor": "white",
           "ticks": "",
           "title": {
            "standoff": 15
           },
           "zerolinecolor": "white",
           "zerolinewidth": 2
          },
          "yaxis": {
           "automargin": true,
           "gridcolor": "white",
           "linecolor": "white",
           "ticks": "",
           "title": {
            "standoff": 15
           },
           "zerolinecolor": "white",
           "zerolinewidth": 2
          }
         }
        },
        "xaxis": {
         "anchor": "y",
         "domain": [
          0,
          1
         ],
         "title": {
          "text": "endTime"
         }
        },
        "yaxis": {
         "anchor": "x",
         "domain": [
          0,
          1
         ],
         "title": {
          "text": "trackName"
         }
        }
       }
      }
     },
     "metadata": {},
     "output_type": "display_data"
    }
   ],
   "source": [
    "fig = px.scatter(test, x='endTime', y='trackName', color='Season')\n",
    "fig.show()"
   ]
  },
  {
   "cell_type": "code",
   "execution_count": 7,
   "metadata": {},
   "outputs": [],
   "source": [
    "tempo_test = test.groupby(['tempo', 'Season'], as_index = False).count()"
   ]
  },
  {
   "cell_type": "code",
   "execution_count": 8,
   "metadata": {},
   "outputs": [
    {
     "data": {
      "text/html": [
       "<div>\n",
       "<style scoped>\n",
       "    .dataframe tbody tr th:only-of-type {\n",
       "        vertical-align: middle;\n",
       "    }\n",
       "\n",
       "    .dataframe tbody tr th {\n",
       "        vertical-align: top;\n",
       "    }\n",
       "\n",
       "    .dataframe thead th {\n",
       "        text-align: right;\n",
       "    }\n",
       "</style>\n",
       "<table border=\"1\" class=\"dataframe\">\n",
       "  <thead>\n",
       "    <tr style=\"text-align: right;\">\n",
       "      <th></th>\n",
       "      <th>tempo</th>\n",
       "      <th>Unnamed: 0</th>\n",
       "      <th>Season</th>\n",
       "    </tr>\n",
       "  </thead>\n",
       "  <tbody>\n",
       "    <tr>\n",
       "      <th>0</th>\n",
       "      <td>76.997</td>\n",
       "      <td>1</td>\n",
       "      <td>1</td>\n",
       "    </tr>\n",
       "    <tr>\n",
       "      <th>1</th>\n",
       "      <td>76.997</td>\n",
       "      <td>1</td>\n",
       "      <td>2</td>\n",
       "    </tr>\n",
       "    <tr>\n",
       "      <th>2</th>\n",
       "      <td>80.009</td>\n",
       "      <td>8</td>\n",
       "      <td>1</td>\n",
       "    </tr>\n",
       "    <tr>\n",
       "      <th>3</th>\n",
       "      <td>80.009</td>\n",
       "      <td>19</td>\n",
       "      <td>2</td>\n",
       "    </tr>\n",
       "    <tr>\n",
       "      <th>4</th>\n",
       "      <td>80.009</td>\n",
       "      <td>4</td>\n",
       "      <td>3</td>\n",
       "    </tr>\n",
       "    <tr>\n",
       "      <th>5</th>\n",
       "      <td>80.009</td>\n",
       "      <td>29</td>\n",
       "      <td>4</td>\n",
       "    </tr>\n",
       "    <tr>\n",
       "      <th>6</th>\n",
       "      <td>81.396</td>\n",
       "      <td>1</td>\n",
       "      <td>2</td>\n",
       "    </tr>\n",
       "    <tr>\n",
       "      <th>7</th>\n",
       "      <td>82.295</td>\n",
       "      <td>1</td>\n",
       "      <td>2</td>\n",
       "    </tr>\n",
       "    <tr>\n",
       "      <th>8</th>\n",
       "      <td>83.089</td>\n",
       "      <td>1</td>\n",
       "      <td>1</td>\n",
       "    </tr>\n",
       "    <tr>\n",
       "      <th>9</th>\n",
       "      <td>83.089</td>\n",
       "      <td>1</td>\n",
       "      <td>2</td>\n",
       "    </tr>\n",
       "    <tr>\n",
       "      <th>10</th>\n",
       "      <td>83.089</td>\n",
       "      <td>1</td>\n",
       "      <td>3</td>\n",
       "    </tr>\n",
       "    <tr>\n",
       "      <th>11</th>\n",
       "      <td>84.042</td>\n",
       "      <td>3</td>\n",
       "      <td>2</td>\n",
       "    </tr>\n",
       "    <tr>\n",
       "      <th>12</th>\n",
       "      <td>84.042</td>\n",
       "      <td>9</td>\n",
       "      <td>3</td>\n",
       "    </tr>\n",
       "    <tr>\n",
       "      <th>13</th>\n",
       "      <td>84.042</td>\n",
       "      <td>3</td>\n",
       "      <td>4</td>\n",
       "    </tr>\n",
       "    <tr>\n",
       "      <th>14</th>\n",
       "      <td>87.999</td>\n",
       "      <td>1</td>\n",
       "      <td>2</td>\n",
       "    </tr>\n",
       "    <tr>\n",
       "      <th>15</th>\n",
       "      <td>91.030</td>\n",
       "      <td>7</td>\n",
       "      <td>2</td>\n",
       "    </tr>\n",
       "    <tr>\n",
       "      <th>16</th>\n",
       "      <td>91.030</td>\n",
       "      <td>4</td>\n",
       "      <td>3</td>\n",
       "    </tr>\n",
       "    <tr>\n",
       "      <th>17</th>\n",
       "      <td>91.030</td>\n",
       "      <td>4</td>\n",
       "      <td>4</td>\n",
       "    </tr>\n",
       "    <tr>\n",
       "      <th>18</th>\n",
       "      <td>93.058</td>\n",
       "      <td>1</td>\n",
       "      <td>1</td>\n",
       "    </tr>\n",
       "    <tr>\n",
       "      <th>19</th>\n",
       "      <td>93.058</td>\n",
       "      <td>1</td>\n",
       "      <td>2</td>\n",
       "    </tr>\n",
       "    <tr>\n",
       "      <th>20</th>\n",
       "      <td>94.988</td>\n",
       "      <td>4</td>\n",
       "      <td>1</td>\n",
       "    </tr>\n",
       "    <tr>\n",
       "      <th>21</th>\n",
       "      <td>94.988</td>\n",
       "      <td>5</td>\n",
       "      <td>2</td>\n",
       "    </tr>\n",
       "    <tr>\n",
       "      <th>22</th>\n",
       "      <td>94.988</td>\n",
       "      <td>9</td>\n",
       "      <td>3</td>\n",
       "    </tr>\n",
       "    <tr>\n",
       "      <th>23</th>\n",
       "      <td>94.988</td>\n",
       "      <td>5</td>\n",
       "      <td>4</td>\n",
       "    </tr>\n",
       "    <tr>\n",
       "      <th>24</th>\n",
       "      <td>96.091</td>\n",
       "      <td>1</td>\n",
       "      <td>1</td>\n",
       "    </tr>\n",
       "    <tr>\n",
       "      <th>25</th>\n",
       "      <td>96.091</td>\n",
       "      <td>1</td>\n",
       "      <td>2</td>\n",
       "    </tr>\n",
       "    <tr>\n",
       "      <th>26</th>\n",
       "      <td>97.207</td>\n",
       "      <td>7</td>\n",
       "      <td>1</td>\n",
       "    </tr>\n",
       "    <tr>\n",
       "      <th>27</th>\n",
       "      <td>97.207</td>\n",
       "      <td>10</td>\n",
       "      <td>2</td>\n",
       "    </tr>\n",
       "    <tr>\n",
       "      <th>28</th>\n",
       "      <td>97.207</td>\n",
       "      <td>8</td>\n",
       "      <td>3</td>\n",
       "    </tr>\n",
       "    <tr>\n",
       "      <th>29</th>\n",
       "      <td>97.207</td>\n",
       "      <td>30</td>\n",
       "      <td>4</td>\n",
       "    </tr>\n",
       "    <tr>\n",
       "      <th>30</th>\n",
       "      <td>103.980</td>\n",
       "      <td>1</td>\n",
       "      <td>1</td>\n",
       "    </tr>\n",
       "    <tr>\n",
       "      <th>31</th>\n",
       "      <td>103.980</td>\n",
       "      <td>1</td>\n",
       "      <td>3</td>\n",
       "    </tr>\n",
       "    <tr>\n",
       "      <th>32</th>\n",
       "      <td>104.053</td>\n",
       "      <td>2</td>\n",
       "      <td>2</td>\n",
       "    </tr>\n",
       "    <tr>\n",
       "      <th>33</th>\n",
       "      <td>104.053</td>\n",
       "      <td>2</td>\n",
       "      <td>3</td>\n",
       "    </tr>\n",
       "    <tr>\n",
       "      <th>34</th>\n",
       "      <td>109.813</td>\n",
       "      <td>8</td>\n",
       "      <td>2</td>\n",
       "    </tr>\n",
       "    <tr>\n",
       "      <th>35</th>\n",
       "      <td>109.813</td>\n",
       "      <td>3</td>\n",
       "      <td>3</td>\n",
       "    </tr>\n",
       "    <tr>\n",
       "      <th>36</th>\n",
       "      <td>109.813</td>\n",
       "      <td>1</td>\n",
       "      <td>4</td>\n",
       "    </tr>\n",
       "    <tr>\n",
       "      <th>37</th>\n",
       "      <td>110.013</td>\n",
       "      <td>1</td>\n",
       "      <td>1</td>\n",
       "    </tr>\n",
       "    <tr>\n",
       "      <th>38</th>\n",
       "      <td>113.088</td>\n",
       "      <td>5</td>\n",
       "      <td>2</td>\n",
       "    </tr>\n",
       "    <tr>\n",
       "      <th>39</th>\n",
       "      <td>113.088</td>\n",
       "      <td>1</td>\n",
       "      <td>3</td>\n",
       "    </tr>\n",
       "    <tr>\n",
       "      <th>40</th>\n",
       "      <td>113.088</td>\n",
       "      <td>1</td>\n",
       "      <td>4</td>\n",
       "    </tr>\n",
       "    <tr>\n",
       "      <th>41</th>\n",
       "      <td>119.603</td>\n",
       "      <td>1</td>\n",
       "      <td>3</td>\n",
       "    </tr>\n",
       "    <tr>\n",
       "      <th>42</th>\n",
       "      <td>134.952</td>\n",
       "      <td>3</td>\n",
       "      <td>1</td>\n",
       "    </tr>\n",
       "    <tr>\n",
       "      <th>43</th>\n",
       "      <td>134.952</td>\n",
       "      <td>2</td>\n",
       "      <td>2</td>\n",
       "    </tr>\n",
       "    <tr>\n",
       "      <th>44</th>\n",
       "      <td>134.952</td>\n",
       "      <td>2</td>\n",
       "      <td>3</td>\n",
       "    </tr>\n",
       "    <tr>\n",
       "      <th>45</th>\n",
       "      <td>134.952</td>\n",
       "      <td>6</td>\n",
       "      <td>4</td>\n",
       "    </tr>\n",
       "    <tr>\n",
       "      <th>46</th>\n",
       "      <td>146.133</td>\n",
       "      <td>3</td>\n",
       "      <td>2</td>\n",
       "    </tr>\n",
       "    <tr>\n",
       "      <th>47</th>\n",
       "      <td>164.235</td>\n",
       "      <td>2</td>\n",
       "      <td>2</td>\n",
       "    </tr>\n",
       "    <tr>\n",
       "      <th>48</th>\n",
       "      <td>169.769</td>\n",
       "      <td>1</td>\n",
       "      <td>2</td>\n",
       "    </tr>\n",
       "    <tr>\n",
       "      <th>49</th>\n",
       "      <td>169.769</td>\n",
       "      <td>1</td>\n",
       "      <td>4</td>\n",
       "    </tr>\n",
       "    <tr>\n",
       "      <th>50</th>\n",
       "      <td>191.259</td>\n",
       "      <td>1</td>\n",
       "      <td>2</td>\n",
       "    </tr>\n",
       "    <tr>\n",
       "      <th>51</th>\n",
       "      <td>191.259</td>\n",
       "      <td>5</td>\n",
       "      <td>4</td>\n",
       "    </tr>\n",
       "  </tbody>\n",
       "</table>\n",
       "</div>"
      ],
      "text/plain": [
       "      tempo  Unnamed: 0  Season\n",
       "0    76.997           1       1\n",
       "1    76.997           1       2\n",
       "2    80.009           8       1\n",
       "3    80.009          19       2\n",
       "4    80.009           4       3\n",
       "5    80.009          29       4\n",
       "6    81.396           1       2\n",
       "7    82.295           1       2\n",
       "8    83.089           1       1\n",
       "9    83.089           1       2\n",
       "10   83.089           1       3\n",
       "11   84.042           3       2\n",
       "12   84.042           9       3\n",
       "13   84.042           3       4\n",
       "14   87.999           1       2\n",
       "15   91.030           7       2\n",
       "16   91.030           4       3\n",
       "17   91.030           4       4\n",
       "18   93.058           1       1\n",
       "19   93.058           1       2\n",
       "20   94.988           4       1\n",
       "21   94.988           5       2\n",
       "22   94.988           9       3\n",
       "23   94.988           5       4\n",
       "24   96.091           1       1\n",
       "25   96.091           1       2\n",
       "26   97.207           7       1\n",
       "27   97.207          10       2\n",
       "28   97.207           8       3\n",
       "29   97.207          30       4\n",
       "30  103.980           1       1\n",
       "31  103.980           1       3\n",
       "32  104.053           2       2\n",
       "33  104.053           2       3\n",
       "34  109.813           8       2\n",
       "35  109.813           3       3\n",
       "36  109.813           1       4\n",
       "37  110.013           1       1\n",
       "38  113.088           5       2\n",
       "39  113.088           1       3\n",
       "40  113.088           1       4\n",
       "41  119.603           1       3\n",
       "42  134.952           3       1\n",
       "43  134.952           2       2\n",
       "44  134.952           2       3\n",
       "45  134.952           6       4\n",
       "46  146.133           3       2\n",
       "47  164.235           2       2\n",
       "48  169.769           1       2\n",
       "49  169.769           1       4\n",
       "50  191.259           1       2\n",
       "51  191.259           5       4"
      ]
     },
     "execution_count": 8,
     "metadata": {},
     "output_type": "execute_result"
    }
   ],
   "source": [
    "num_count = tempo_test[['tempo', 'Unnamed: 0', 'Season']]\n",
    "num_count"
   ]
  },
  {
   "cell_type": "code",
   "execution_count": 25,
   "metadata": {},
   "outputs": [
    {
     "data": {
      "text/html": [
       "<div>\n",
       "<style scoped>\n",
       "    .dataframe tbody tr th:only-of-type {\n",
       "        vertical-align: middle;\n",
       "    }\n",
       "\n",
       "    .dataframe tbody tr th {\n",
       "        vertical-align: top;\n",
       "    }\n",
       "\n",
       "    .dataframe thead th {\n",
       "        text-align: right;\n",
       "    }\n",
       "</style>\n",
       "<table border=\"1\" class=\"dataframe\">\n",
       "  <thead>\n",
       "    <tr style=\"text-align: right;\">\n",
       "      <th></th>\n",
       "      <th>trackName</th>\n",
       "      <th>msPlayed</th>\n",
       "      <th>duration_ms</th>\n",
       "      <th>hoursPlayed</th>\n",
       "      <th>Percentage_Listened</th>\n",
       "    </tr>\n",
       "  </thead>\n",
       "  <tbody>\n",
       "    <tr>\n",
       "      <th>0</th>\n",
       "      <td>#1 Freak (feat. Ty Dolla $ign)</td>\n",
       "      <td>1255018</td>\n",
       "      <td>1659312</td>\n",
       "      <td>0.35</td>\n",
       "      <td>0.76</td>\n",
       "    </tr>\n",
       "    <tr>\n",
       "      <th>1</th>\n",
       "      <td>$ave Dat Money (feat. Fetty Wap &amp; Rich Homie Q...</td>\n",
       "      <td>159753</td>\n",
       "      <td>290836</td>\n",
       "      <td>0.04</td>\n",
       "      <td>0.55</td>\n",
       "    </tr>\n",
       "    <tr>\n",
       "      <th>2</th>\n",
       "      <td>1 0 0 . m i l ‘ (with Bas)</td>\n",
       "      <td>26480</td>\n",
       "      <td>163302</td>\n",
       "      <td>0.01</td>\n",
       "      <td>0.16</td>\n",
       "    </tr>\n",
       "    <tr>\n",
       "      <th>3</th>\n",
       "      <td>1-800-273-8255</td>\n",
       "      <td>176348</td>\n",
       "      <td>500346</td>\n",
       "      <td>0.05</td>\n",
       "      <td>0.35</td>\n",
       "    </tr>\n",
       "    <tr>\n",
       "      <th>4</th>\n",
       "      <td>10 F*CKS (with Mansa)</td>\n",
       "      <td>1014535</td>\n",
       "      <td>1188341</td>\n",
       "      <td>0.28</td>\n",
       "      <td>0.85</td>\n",
       "    </tr>\n",
       "    <tr>\n",
       "      <th>5</th>\n",
       "      <td>10 Freaky Girls (with 21 Savage)</td>\n",
       "      <td>925846</td>\n",
       "      <td>1041465</td>\n",
       "      <td>0.26</td>\n",
       "      <td>0.89</td>\n",
       "    </tr>\n",
       "    <tr>\n",
       "      <th>6</th>\n",
       "      <td>10 TIMES</td>\n",
       "      <td>158493</td>\n",
       "      <td>158493</td>\n",
       "      <td>0.04</td>\n",
       "      <td>1.00</td>\n",
       "    </tr>\n",
       "    <tr>\n",
       "      <th>7</th>\n",
       "      <td>100 Racks (Offset feat. Playboi Carti)</td>\n",
       "      <td>157645</td>\n",
       "      <td>157645</td>\n",
       "      <td>0.04</td>\n",
       "      <td>1.00</td>\n",
       "    </tr>\n",
       "    <tr>\n",
       "      <th>8</th>\n",
       "      <td>100 Years</td>\n",
       "      <td>31207</td>\n",
       "      <td>244600</td>\n",
       "      <td>0.01</td>\n",
       "      <td>0.13</td>\n",
       "    </tr>\n",
       "    <tr>\n",
       "      <th>9</th>\n",
       "      <td>151 Rum</td>\n",
       "      <td>562417</td>\n",
       "      <td>940170</td>\n",
       "      <td>0.16</td>\n",
       "      <td>0.60</td>\n",
       "    </tr>\n",
       "  </tbody>\n",
       "</table>\n",
       "</div>"
      ],
      "text/plain": [
       "                                           trackName  msPlayed  duration_ms  \\\n",
       "0                     #1 Freak (feat. Ty Dolla $ign)   1255018      1659312   \n",
       "1  $ave Dat Money (feat. Fetty Wap & Rich Homie Q...    159753       290836   \n",
       "2                         1 0 0 . m i l ‘ (with Bas)     26480       163302   \n",
       "3                                     1-800-273-8255    176348       500346   \n",
       "4                              10 F*CKS (with Mansa)   1014535      1188341   \n",
       "5                   10 Freaky Girls (with 21 Savage)    925846      1041465   \n",
       "6                                           10 TIMES    158493       158493   \n",
       "7             100 Racks (Offset feat. Playboi Carti)    157645       157645   \n",
       "8                                          100 Years     31207       244600   \n",
       "9                                            151 Rum    562417       940170   \n",
       "\n",
       "   hoursPlayed  Percentage_Listened  \n",
       "0         0.35                 0.76  \n",
       "1         0.04                 0.55  \n",
       "2         0.01                 0.16  \n",
       "3         0.05                 0.35  \n",
       "4         0.28                 0.85  \n",
       "5         0.26                 0.89  \n",
       "6         0.04                 1.00  \n",
       "7         0.04                 1.00  \n",
       "8         0.01                 0.13  \n",
       "9         0.16                 0.60  "
      ]
     },
     "execution_count": 25,
     "metadata": {},
     "output_type": "execute_result"
    }
   ],
   "source": [
    "df = pd.read_csv('Data/Listening_Data/hours_spent_on_songs_unique.csv')\n",
    "df = df[df['Percentage_Listened'] <= 1]\n",
    "df.loc[df['hoursPlayed'] == 0, 'hoursPlayed'] = 0.00000000000000001\n",
    "df.head(10)"
   ]
  },
  {
   "cell_type": "code",
   "execution_count": 26,
   "metadata": {},
   "outputs": [
    {
     "data": {
      "application/vnd.plotly.v1+json": {
       "config": {
        "plotlyServerURL": "https://plot.ly"
       },
       "data": [
        {
         "customdata": [
          [
           "#1 Freak (feat. Ty Dolla $ign)",
           0.35,
           0.76
          ],
          [
           "$ave Dat Money (feat. Fetty Wap & Rich Homie Quan)",
           0.04,
           0.55
          ],
          [
           "1 0 0 . m i l ‘ (with Bas)",
           0.01,
           0.16
          ],
          [
           "1-800-273-8255",
           0.05,
           0.35
          ],
          [
           "10 F*CKS (with Mansa)",
           0.28,
           0.85
          ],
          [
           "10 Freaky Girls (with 21 Savage)",
           0.26,
           0.89
          ],
          [
           "10 TIMES",
           0.04,
           1
          ],
          [
           "100 Racks (Offset feat. Playboi Carti)",
           0.04,
           1
          ],
          [
           "100 Years",
           0.01,
           0.13
          ],
          [
           "151 Rum",
           0.16,
           0.6
          ],
          [
           "16",
           3.98,
           0.78
          ],
          [
           "19",
           0.27,
           0.8
          ],
          [
           "1942 (feat. Yo Gotti & YBN Nahmir)",
           0.2,
           0.85
          ],
          [
           "1985",
           0.02,
           0.35
          ],
          [
           "1995",
           0.04,
           1
          ],
          [
           "1999 WILDFIRE",
           0.28,
           1
          ],
          [
           "2 On (feat. ScHoolboy Q)",
           1e-17,
           0.07
          ],
          [
           "20 Min",
           0.06,
           0.51
          ],
          [
           "2006",
           1e-17,
           0.04
          ],
          [
           "21",
           0.63,
           0.7
          ],
          [
           "21 Questions",
           0.3,
           0.81
          ],
          [
           "23",
           0.05,
           0.99
          ],
          [
           "24 Hours (feat. 2 Chainz)",
           1e-17,
           0.01
          ],
          [
           "24K Magic",
           0.19,
           0.75
          ],
          [
           "25k jacket (feat. Lil Baby)",
           0.5,
           0.83
          ],
          [
           "2AM.",
           0.13,
           0.65
          ],
          [
           "3 Nights",
           0.05,
           1
          ],
          [
           "3 Rounds and a Sound",
           0.12,
           0.54
          ],
          [
           "3 Vets",
           0.1,
           0.67
          ],
          [
           "30,000 ft",
           0.13,
           0.96
          ],
          [
           "3AM",
           1.1,
           0.66
          ],
          [
           "4 Da Gang (with Roddy Ricch)",
           0.05,
           0.64
          ],
          [
           "4 Willem",
           0.39,
           0.59
          ],
          [
           "5 shots",
           0.05,
           1
          ],
          [
           "5:32pm",
           0.06,
           0.82
          ],
          [
           "6 Foot 7 Foot",
           0.96,
           0.46
          ],
          [
           "679",
           0.13,
           0.98
          ],
          [
           "679 (feat. Remy Boyz)",
           0.05,
           0.5
          ],
          [
           "745",
           0.08,
           0.45
          ],
          [
           "92 Explorer",
           0.99,
           0.71
          ],
          [
           "A Fleeting Dream",
           0.24,
           0.53
          ],
          [
           "A Milli",
           0.06,
           1
          ],
          [
           "A Sky Full of Stars",
           0.07,
           1
          ],
          [
           "A Thousand Miles",
           0.07,
           1
          ],
          [
           "A Thousand Times",
           0.01,
           0.09
          ],
          [
           "A Thousand Years",
           0.04,
           0.53
          ],
          [
           "A-Team",
           0.05,
           1
          ],
          [
           "ABC",
           0.05,
           0.36
          ],
          [
           "ASAP",
           0.3,
           0.62
          ],
          [
           "ASTROTHUNDER",
           0.54,
           0.96
          ],
          [
           "About You",
           4.03,
           0.69
          ],
          [
           "About the Money (feat. Young Thug)",
           0.35,
           0.67
          ],
          [
           "Actin' Up (feat. Dom Kennedy)",
           0.07,
           0.35
          ],
          [
           "Actions",
           0.05,
           1
          ],
          [
           "Addison Rae",
           0.14,
           0.46
          ],
          [
           "Adrenaline",
           0.06,
           1
          ],
          [
           "Affection",
           0.07,
           1
          ],
          [
           "Africa",
           0.15,
           0.91
          ],
          [
           "After Party",
           0.02,
           0.25
          ],
          [
           "Again",
           0.16,
           0.36
          ],
          [
           "Agape",
           0.62,
           0.67
          ],
          [
           "Ain't It Fun",
           0.08,
           1
          ],
          [
           "Ain't My Fault - R3hab Remix",
           0.04,
           1
          ],
          [
           "Ain't No Thang",
           0.13,
           1
          ],
          [
           "Ain’t Safe (feat. Don Toliver)",
           0.32,
           0.57
          ],
          [
           "Alive (with Offset & 2 Chainz)",
           1.05,
           0.57
          ],
          [
           "All Eyes on You (feat. Chris Brown & Nicki Minaj)",
           0.02,
           0.34
          ],
          [
           "All Falls Down",
           0.76,
           0.82
          ],
          [
           "All Good Things (Come To An End)",
           0.2,
           0.46
          ],
          [
           "All In",
           2.08,
           0.89
          ],
          [
           "All In My Head (Flex) (feat. Fetty Wap)",
           0.06,
           1
          ],
          [
           "All My Friends (feat. Tinashe & Chance the Rapper)",
           0.43,
           0.74
          ],
          [
           "All Night",
           0.11,
           0.56
          ],
          [
           "All Night (feat. Knox Fortune)",
           0.04,
           1
          ],
          [
           "All The Way Up (Remix)",
           0.07,
           0.89
          ],
          [
           "All The Way Up (feat. Infared)",
           0.21,
           0.77
          ],
          [
           "All We Got (feat. Kanye West & Chicago Children's Choir)",
           0.16,
           0.93
          ],
          [
           "All Your Fault",
           0.01,
           0.15
          ],
          [
           "All of My Years",
           0.13,
           1
          ],
          [
           "All the Above (feat. T-Pain)",
           0.01,
           0.07
          ],
          [
           "All the Smoke (feat. Gunna & Wiz Khalifa)",
           0.01,
           0.24
          ],
          [
           "Already Won (feat. Lil Durk)",
           0.35,
           0.99
          ],
          [
           "Always",
           0.15,
           0.94
          ],
          [
           "Always Been You",
           0.08,
           0.4
          ],
          [
           "Always On Time",
           0.14,
           1
          ],
          [
           "Amazing",
           0.19,
           0.97
          ],
          [
           "Ambition (feat. Meek Mill & Rick Ross)",
           0.17,
           1
          ],
          [
           "Amen (feat. Drake)",
           0.16,
           0.97
          ],
          [
           "American Boy",
           0.07,
           0.92
          ],
          [
           "Amphetamine",
           1e-17,
           0
          ],
          [
           "And You Know That",
           0.19,
           0.65
          ],
          [
           "Angels Never Cry (feat. MoneyBagg Yo & Kodak Black)",
           0.07,
           0.51
          ],
          [
           "Anime World",
           0.01,
           0.25
          ],
          [
           "Another Day in Paradise",
           0.21,
           1
          ],
          [
           "Another Night",
           0.32,
           0.54
          ],
          [
           "Anti",
           0.11,
           0.61
          ],
          [
           "Anti-Hero (feat. Lil Tecca)",
           0.74,
           0.6
          ],
          [
           "Anybody (feat. Nicki Minaj)",
           0.04,
           0.62
          ],
          [
           "Anything U Want (feat. Wiz Khalifa, Jeremih & Ty Dolla $ign)",
           0.06,
           1
          ],
          [
           "Anything You Want",
           0.07,
           0.54
          ],
          [
           "Apologize",
           0.06,
           0.5
          ],
          [
           "Appreciation",
           0.06,
           0.51
          ],
          [
           "As Long As You Love Me",
           0.02,
           0.27
          ],
          [
           "Ass Like That",
           0.21,
           0.42
          ],
          [
           "Aston Martin Truck",
           1.51,
           0.78
          ],
          [
           "Attachments (feat. Coi Leray)",
           0.85,
           0.89
          ],
          [
           "Aura (feat. Kojey Radical)",
           3.12,
           0.58
          ],
          [
           "Awesome (feat. Pusha-T)",
           0.05,
           0.73
          ],
          [
           "Ay Ay Ay (feat. 3 Glizzy)",
           0.04,
           1
          ],
          [
           "Ayo",
           0.05,
           0.4
          ],
          [
           "Ayy Ladies (feat. Tyga)",
           0.06,
           1
          ],
          [
           "Açaí Bowl",
           0.05,
           1
          ],
          [
           "B.I.D",
           0.28,
           0.87
          ],
          [
           "B.Q.E",
           0.07,
           0.5
          ],
          [
           "B.R.O. (Better Ride Out) [feat. Roddy Ricch]",
           0.52,
           0.66
          ],
          [
           "BEAUTIFUL (feat. Future & SZA)",
           0.11,
           0.91
          ],
          [
           "BELIEVE IT",
           0.47,
           0.71
          ],
          [
           "BEST ON EARTH (feat. BIA) - Bonus",
           0.46,
           0.65
          ],
          [
           "BIG BANK (feat. 2 Chainz, Big Sean, Nicki Minaj)",
           0.07,
           0.51
          ],
          [
           "BILLI (feat. Future)",
           0.11,
           0.46
          ],
          [
           "BILLY",
           0.05,
           0.42
          ],
          [
           "BLEACH",
           0.08,
           1
          ],
          [
           "BLIND (feat. Young Thug)",
           0.06,
           0.49
          ],
          [
           "BOOGIE",
           0.14,
           0.5
          ],
          [
           "BOP",
           0.17,
           0.75
          ],
          [
           "Babushka Boi",
           0.01,
           0.17
          ],
          [
           "Baby",
           0.35,
           0.53
          ],
          [
           "Baby Pluto",
           0.22,
           0.75
          ],
          [
           "Bacc Home",
           0.12,
           0.47
          ],
          [
           "Bacc Seat (feat. Ty Dolla $ign)",
           0.05,
           0.52
          ],
          [
           "Backflip (feat. YG & Iamsu!)",
           0.3,
           0.7
          ],
          [
           "Backseat (feat. PnB Rock)",
           0.49,
           0.86
          ],
          [
           "Bad Bad Bad (feat. Lil Baby)",
           0.1,
           0.83
          ],
          [
           "Bad Bad News",
           1.08,
           0.63
          ],
          [
           "Bad Day",
           0.02,
           0.09
          ],
          [
           "Bad Idea (feat. Chance the Rapper)",
           0.31,
           0.8
          ],
          [
           "Bad Romance",
           1e-17,
           0.03
          ],
          [
           "Bad and Boujee (feat. Lil Uzi Vert)",
           0.1,
           1
          ],
          [
           "Baguettes in the Face (feat. NAV, Playboi Carti & A Boogie Wit da Hoodie)",
           0.14,
           0.96
          ],
          [
           "Balance",
           0.87,
           0.89
          ],
          [
           "Ballin'",
           0.03,
           0.98
          ],
          [
           "Ballin' (with Roddy Ricch)",
           2.62,
           0.68
          ],
          [
           "Banana Clip",
           0.02,
           0.42
          ],
          [
           "Banana Pancakes",
           0.11,
           1
          ],
          [
           "Banana Split (with YNW Melly feat. Lil Durk)",
           0.6,
           0.5
          ],
          [
           "Bandit (with YoungBoy Never Broke Again)",
           0.01,
           0.28
          ],
          [
           "Bang Bang",
           0.34,
           0.53
          ],
          [
           "Bank Account",
           0.06,
           1
          ],
          [
           "Banking On Me",
           1.01,
           0.6
          ],
          [
           "Bartender (feat. Akon)",
           0.13,
           1
          ],
          [
           "Be Alone",
           0.75,
           0.76
          ],
          [
           "Be Forreal",
           0.97,
           0.93
          ],
          [
           "Be Like That - feat. Swae Lee & Khalid",
           0.1,
           0.94
          ],
          [
           "Be Real (feat. DeJ Loaf)",
           0.02,
           0.2
          ],
          [
           "Beat It",
           0.14,
           1
          ],
          [
           "Beat It (feat. Chris Brown & Wiz Khalifa)",
           0.07,
           0.93
          ],
          [
           "Beautiful",
           1e-17,
           0
          ],
          [
           "Beautiful Escape",
           0.99,
           0.56
          ],
          [
           "Beautiful Now",
           0.08,
           0.66
          ],
          [
           "Beautiful Pain (Losin My Mind)",
           0.05,
           1
          ],
          [
           "Beauty In The Madness",
           0.89,
           0.72
          ],
          [
           "Because Of You",
           0.07,
           0.48
          ],
          [
           "Because of You",
           1e-17,
           0.02
          ],
          [
           "BedRock",
           0.19,
           0.6
          ],
          [
           "Beef (feat. Meek Mill)",
           0.9,
           0.87
          ],
          [
           "Been Around",
           0.11,
           1
          ],
          [
           "Before He Cheats",
           0.04,
           0.35
          ],
          [
           "Beggar's Lullaby",
           0.03,
           1
          ],
          [
           "Being in Love with U",
           0.01,
           1
          ],
          [
           "Best I Ever Had",
           0.15,
           0.7
          ],
          [
           "Best Life (feat. Chance The Rapper)",
           0.06,
           0.78
          ],
          [
           "Best Part (feat. H.E.R.)",
           0.5,
           0.86
          ],
          [
           "Best You Had",
           0.08,
           1
          ],
          [
           "Better",
           0.36,
           0.49
          ],
          [
           "Better Dayz",
           0.08,
           1
          ],
          [
           "Better On Me (feat. Ty Dolla $ign)",
           0.06,
           0.51
          ],
          [
           "Better Together",
           0.16,
           0.92
          ],
          [
           "Beware",
           0.07,
           1
          ],
          [
           "Bezerk (feat. A$AP Ferg)",
           0.02,
           0.37
          ],
          [
           "Big Boy Diamonds (feat. Kodak Black & London on Da Track)",
           0.04,
           1
          ],
          [
           "Big Fish",
           3.57,
           0.68
          ],
          [
           "Big Green Tractor",
           0.06,
           0.54
          ],
          [
           "Big Homie From The Hood",
           0.05,
           1
          ],
          [
           "Big Homie From the Hood",
           0.14,
           0.94
          ],
          [
           "Big Tymin",
           0.32,
           0.89
          ],
          [
           "Bigger Than You (feat. Drake & Quavo)",
           0.71,
           0.63
          ],
          [
           "Billionaire (feat. Bruno Mars)",
           0.03,
           0.48
          ],
          [
           "Birthday",
           0.12,
           1
          ],
          [
           "Bitch Betta Have My Money",
           0.03,
           0.53
          ],
          [
           "Bitches (feat. 1takejay)",
           0.13,
           0.88
          ],
          [
           "Bitchuary",
           0.12,
           0.65
          ],
          [
           "Black Beatles",
           0.01,
           0.08
          ],
          [
           "Black Hole Sun",
           1.06,
           0.8
          ],
          [
           "Blackbird",
           0.16,
           0.69
          ],
          [
           "Bladadah",
           0.25,
           0.83
          ],
          [
           "Blame",
           0.04,
           1
          ],
          [
           "Blame (feat. John Newman) - R3HAB Trap Remix",
           1e-17,
           0.08
          ],
          [
           "Blame It",
           0.05,
           0.29
          ],
          [
           "Blastoff (feat. Juice Wrld & Trippie Redd)",
           0.08,
           0.81
          ],
          [
           "Bleed It",
           0.04,
           1
          ],
          [
           "Bleeding Love",
           0.07,
           1
          ],
          [
           "Blessing",
           0.79,
           0.86
          ],
          [
           "Blessings",
           1.09,
           0.52
          ],
          [
           "Bloom - Bonus Track",
           0.13,
           0.72
          ],
          [
           "Blow the Whistle",
           0.27,
           1
          ],
          [
           "Blueberry Faygo",
           0.02,
           0.15
          ],
          [
           "Body",
           0.05,
           0.42
          ],
          [
           "Body Language (feat. Usher & Tinashe)",
           0.11,
           0.63
          ],
          [
           "Body Like A Back Road",
           0.08,
           0.9
          ],
          [
           "Body Party",
           0.07,
           0.35
          ],
          [
           "Bompton to Oak Park",
           0.55,
           0.93
          ],
          [
           "Born This Way",
           0.07,
           1
          ],
          [
           "Both (feat. Drake)",
           0.09,
           0.8
          ],
          [
           "Bottle Girls (feat. Polo G & Almighty Jay)",
           0.34,
           0.83
          ],
          [
           "Bottom of the Bottle (feat. August Alsina & Lil Wayne)",
           1e-17,
           0.02
          ],
          [
           "Bottoms Up (feat. Nicki Minaj)",
           0.06,
           0.9
          ],
          [
           "Bounce",
           0.58,
           0.61
          ],
          [
           "Boyfriend #2",
           0.06,
           1
          ],
          [
           "Break My Stride",
           0.14,
           0.92
          ],
          [
           "Break Your Heart",
           0.05,
           0.99
          ],
          [
           "Break of Dawn",
           1.34,
           0.81
          ],
          [
           "Breakeven",
           0.2,
           0.68
          ],
          [
           "Broken",
           0.03,
           0.56
          ],
          [
           "Broken (feat. Jessie Reyez)",
           0.23,
           1
          ],
          [
           "Brooklyn '95",
           0.06,
           1
          ],
          [
           "Brown Boy",
           0.02,
           0.62
          ],
          [
           "Bucket List (feat. Matthew Santos)",
           0.01,
           0.08
          ],
          [
           "Buffalo Soldier",
           0.01,
           0.09
          ],
          [
           "Buried Alive",
           1e-17,
           0.01
          ],
          [
           "Burn Rubber",
           0.12,
           0.72
          ],
          [
           "Bussdown",
           1e-17,
           0.02
          ],
          [
           "But Cha (feat. Josh Golden)",
           0.19,
           1
          ],
          [
           "Buttercup",
           0.06,
           1
          ],
          [
           "Butterflies",
           1.32,
           0.93
          ],
          [
           "Buy U a Drank (Shawty Snappin') (feat. Yung Joc)",
           0.19,
           1
          ],
          [
           "By My Side",
           0.12,
           1
          ],
          [
           "By Yourself (feat. Bryson Tiller, Jhené Aiko & Mustard) - Remix",
           0.75,
           0.81
          ],
          [
           "CAN'T STOP THE FEELING! (from DreamWorks Animation's \"TROLLS\")",
           0.13,
           1
          ],
          [
           "CAPO",
           0.67,
           0.74
          ],
          [
           "CLOUT COBAIN | CLOUT CO13A1N",
           0.57,
           0.74
          ],
          [
           "COUNT ON ME",
           0.06,
           0.67
          ],
          [
           "CUFF IT",
           0.74,
           0.74
          ],
          [
           "Calabasas",
           0.34,
           0.69
          ],
          [
           "California Gurls",
           0.13,
           1
          ],
          [
           "Call Me Maybe",
           0.09,
           0.58
          ],
          [
           "Callaita",
           0.14,
           1
          ],
          [
           "Calling My Phone",
           0.12,
           0.7
          ],
          [
           "Came To Do (feat. Akon)",
           0.01,
           0.12
          ],
          [
           "Campaign (feat. Future)",
           0.07,
           1
          ],
          [
           "Can't Believe It (feat. Lil' Wayne)",
           0.15,
           0.99
          ],
          [
           "Can't Get Enough",
           0.19,
           1
          ],
          [
           "Can't Let You Go (feat. Mike Shorey & Lil' Mo)",
           0.37,
           0.85
          ],
          [
           "Candle",
           0.18,
           1
          ],
          [
           "Candy (feat. Trippie Redd)",
           0.05,
           0.61
          ],
          [
           "Candy Paint",
           0.97,
           0.64
          ],
          [
           "Candy Shop",
           0.06,
           1
          ],
          [
           "Capsize",
           0.06,
           0.85
          ],
          [
           "Cardigan",
           0.12,
           0.92
          ],
          [
           "Carnival",
           1.33,
           0.88
          ],
          [
           "Caroline",
           0.17,
           0.75
          ],
          [
           "Carry Out (Featuring Justin Timberlake)",
           0.32,
           1
          ],
          [
           "Carry on Wayward Son",
           0.12,
           0.65
          ],
          [
           "Cash In Cash Out",
           0.92,
           0.86
          ],
          [
           "Cash Money",
           0.12,
           0.99
          ],
          [
           "Casper",
           0.26,
           0.79
          ],
          [
           "Cassandra",
           0.15,
           0.79
          ],
          [
           "Cat Daddy",
           0.01,
           0.13
          ],
          [
           "Caught Me a Rhythm",
           0.17,
           1
          ],
          [
           "Caught Up",
           0.06,
           1
          ],
          [
           "Cha Cha Slide - Original Live Platinum Band Mix",
           0.09,
           0.44
          ],
          [
           "Champions",
           1.03,
           0.86
          ],
          [
           "Chanel",
           0.12,
           0.42
          ],
          [
           "Chanel (Go Get It) [feat. Gunna & Lil Baby]",
           0.24,
           0.7
          ],
          [
           "Change Lanes",
           0.06,
           1
          ],
          [
           "Changed",
           0.05,
           1
          ],
          [
           "Charlie",
           0.15,
           0.8
          ],
          [
           "Charlie 2 (feat. DaBoii, Nef The Pharaoh & Mike Sherm)",
           0.05,
           1
          ],
          [
           "Charlie Brown",
           0.02,
           0.27
          ],
          [
           "Chasing Cars",
           0.04,
           0.54
          ],
          [
           "Check",
           0.14,
           0.53
          ],
          [
           "Cheesin’ (with Cautious Clay, Remi Wolf, Still Woozy, Sophie Meiers, Claud, Melanie Faye, & HXNS)",
           0.98,
           0.8
          ],
          [
           "Chemicals",
           0.41,
           0.66
          ],
          [
           "Chemistry",
           0.19,
           1
          ],
          [
           "Chicken Adobo",
           1.51,
           0.78
          ],
          [
           "Chicken Tenders",
           0.05,
           1
          ],
          [
           "Chill Bill (feat. J. Davi$ & Spooks)",
           0.1,
           1
          ],
          [
           "Choppa DaVinci",
           0.05,
           0.35
          ],
          [
           "Chosen (feat. Ty Dolla $ign)",
           4.76,
           0.67
          ],
          [
           "Christopher Walking",
           0.14,
           0.53
          ],
          [
           "Chronicles (feat. H.E.R. & Lil Durk)",
           4.46,
           0.79
          ],
          [
           "Chucky Cheese",
           0.06,
           0.63
          ],
          [
           "Church - Hex Cougar Remix",
           0.06,
           0.98
          ],
          [
           "Cigarette Daydreams",
           0.02,
           0.41
          ],
          [
           "Classic",
           0.1,
           0.71
          ],
          [
           "Classic Man (feat. Roman GianArthur)",
           0.03,
           0.16
          ],
          [
           "Classic and Perfect",
           0.82,
           0.73
          ],
          [
           "Cleaner Air",
           0.04,
           1
          ],
          [
           "Climax",
           1e-17,
           0.04
          ],
          [
           "Clocks",
           0.09,
           1
          ],
          [
           "Closer",
           0.67,
           0.62
          ],
          [
           "Cloud 9",
           0.07,
           0.91
          ],
          [
           "Clout (feat. 21 Savage)",
           0.01,
           0.23
          ],
          [
           "Clout (feat. Cardi B)",
           0.01,
           0.2
          ],
          [
           "Club Can't Handle Me (feat. David Guetta)",
           0.07,
           1
          ],
          [
           "CoCo",
           0.08,
           0.61
          ],
          [
           "Coaster",
           0.16,
           0.73
          ],
          [
           "Codeine Crazy",
           0.83,
           0.78
          ],
          [
           "Codeine Dreaming (feat. Lil Wayne)",
           1e-17,
           0.03
          ],
          [
           "Coffee",
           1e-17,
           0.05
          ],
          [
           "Coffee (feat. Marc E. Bassy)",
           0.35,
           1
          ],
          [
           "Colbert",
           1.73,
           0.75
          ],
          [
           "Cold",
           0.33,
           0.65
          ],
          [
           "Cold (feat. Tory Lanez)",
           0.06,
           1
          ],
          [
           "Collard Greens",
           0.03,
           0.39
          ],
          [
           "Colored Dreams / Killers Pt. 2",
           0.12,
           0.4
          ],
          [
           "Colorful Shit",
           0.39,
           0.73
          ],
          [
           "Colours of Freedom",
           0.25,
           1
          ],
          [
           "Come Back To Me (Remix)",
           0.08,
           0.3
          ],
          [
           "Come Through and Chill (feat. J. Cole & Salaam Remi)",
           0.09,
           1
          ],
          [
           "Come With Me",
           2.45,
           0.81
          ],
          [
           "Comfortable",
           1.27,
           0.7
          ],
          [
           "Coming Home",
           0.06,
           0.43
          ],
          [
           "Common (with Big Sean)",
           1.13,
           0.8
          ],
          [
           "Compensating (feat. Young Thug)",
           0.22,
           1
          ],
          [
           "Confessions Part II",
           0.01,
           0.2
          ],
          [
           "Contact",
           0.04,
           1
          ],
          [
           "Controlla",
           0.07,
           1
          ],
          [
           "Cooks",
           0.01,
           0.07
          ],
          [
           "Cooler Than Me - Single Mix",
           0.08,
           0.71
          ],
          [
           "Cooped Up (with Roddy Ricch)",
           5.88,
           0.75
          ],
          [
           "Costa Rica (with Bas & JID feat. Guapdad 4000, Reese LAFLARE, Jace, Mez, Smokepurpp, Buddy & Ski Mask The Slump God)",
           0.06,
           1
          ],
          [
           "Cotton Candy",
           2.84,
           0.86
          ],
          [
           "Counting Stars",
           0.12,
           0.81
          ],
          [
           "Country Girl (Shake It For Me)",
           0.16,
           0.87
          ],
          [
           "Cowboys Don’t Cry",
           0.59,
           0.74
          ],
          [
           "Crank That (Soulja Boy)",
           0.06,
           1
          ],
          [
           "Cravin (feat. G-Eazy)",
           0.02,
           0.42
          ],
          [
           "Crazy Dream",
           0.06,
           1
          ],
          [
           "Crazy In Love (feat. Jay-Z)",
           0.12,
           0.93
          ],
          [
           "Crew (feat. Brent Faiyaz & Shy Glizzy)",
           0.05,
           1
          ],
          [
           "Crooked Smile (feat. TLC)",
           0.31,
           1
          ],
          [
           "Crossroads",
           0.09,
           1
          ],
          [
           "Cupid Shuffle",
           0.16,
           0.63
          ],
          [
           "Cut It (feat. Young Dolph)",
           0.2,
           0.81
          ],
          [
           "Cyclone (feat. T-Pain) - Main",
           0.06,
           0.5
          ],
          [
           "DAMN HOMIE (feat. Lil Yachty)",
           0.56,
           0.6
          ],
          [
           "DHL",
           0.07,
           1
          ],
          [
           "DOLLAZ ON MY HEAD (feat. Young Thug)",
           1.03,
           0.75
          ],
          [
           "Daddy (feat. Rich The Kid)",
           0.05,
           0.4
          ],
          [
           "Daddy's Birthday",
           0.67,
           0.83
          ],
          [
           "Damage",
           0.14,
           0.79
          ],
          [
           "Dancer",
           0.01,
           0.21
          ],
          [
           "Dancing",
           0.59,
           0.79
          ],
          [
           "Dangerous",
           0.09,
           0.45
          ],
          [
           "Danza Kuduro",
           0.11,
           0.67
          ],
          [
           "Dapper (feat. Anderson .Paak)",
           0.11,
           0.67
          ],
          [
           "Dark Queen",
           0.05,
           0.53
          ],
          [
           "Darlin'",
           0.4,
           0.69
          ],
          [
           "Daughters",
           1.73,
           0.87
          ],
          [
           "Dead And Gone",
           0.02,
           0.06
          ],
          [
           "Dead Wrong (feat. Ty Dolla $ign)",
           0.19,
           1
          ],
          [
           "Dear Fear",
           0.38,
           0.49
          ],
          [
           "Deep",
           0.09,
           0.76
          ],
          [
           "Deep End (feat. Lil Skies)",
           0.21,
           0.71
          ],
          [
           "Deep Reverence (feat. Nipsey Hussle)",
           0.05,
           0.76
          ],
          [
           "Deep Wounds",
           0.05,
           1
          ],
          [
           "Deference for Darkness",
           0.31,
           0.56
          ],
          [
           "Designer Boi",
           1.68,
           0.76
          ],
          [
           "Detroit Become Human - Opening Theme",
           0.04,
           1
          ],
          [
           "Devil Eyes",
           0.09,
           0.62
          ],
          [
           "Diamonds (feat. A$AP Rocky)",
           0.01,
           0.2
          ],
          [
           "Die Hard",
           2.16,
           0.78
          ],
          [
           "Die Under The Moon",
           0.06,
           1
          ],
          [
           "Differences",
           0.04,
           0.53
          ],
          [
           "Digits",
           0.05,
           1
          ],
          [
           "Dilemma",
           0.08,
           1
          ],
          [
           "Dior (with Gunna) - Remix",
           0.39,
           0.56
          ],
          [
           "Dip (feat. Nicki Minaj) (feat. Nicki Minaj)",
           0.07,
           0.46
          ],
          [
           "Dip Dip",
           0.17,
           0.8
          ],
          [
           "Dirt Road Anthem",
           0.07,
           0.37
          ],
          [
           "Disco Inferno",
           0.11,
           0.46
          ],
          [
           "Disco Yes",
           0.65,
           0.69
          ],
          [
           "Distance (feat. Issa Gold & Erick The Architect)",
           1e-17,
           0.11
          ],
          [
           "Distraction",
           0.34,
           0.65
          ],
          [
           "Disturbia",
           0.07,
           1
          ],
          [
           "Diva (feat. Lil Tecca)",
           0.05,
           1
          ],
          [
           "Do It Again",
           0.05,
           1
          ],
          [
           "Do It Big",
           0.04,
           0.78
          ],
          [
           "Do Not Disturb ft. NAV and Yung Bleu",
           1.63,
           0.83
          ],
          [
           "Do The John Wall",
           0.06,
           0.76
          ],
          [
           "Do The Most",
           0.04,
           1
          ],
          [
           "Do What I Want",
           0.01,
           0.1
          ],
          [
           "Do What I Want (feat. IAMSU!, K CAMP & RJ)",
           0.03,
           0.41
          ],
          [
           "Do You Remember",
           0.37,
           0.7
          ],
          [
           "Do You There (feat. Marc E. Bassy)",
           0.01,
           0.11
          ],
          [
           "Dolly (with Lil Uzi Vert)",
           0.2,
           1
          ],
          [
           "Dolo (feat. R. Kelly)",
           0.15,
           0.85
          ],
          [
           "Domino",
           0.31,
           0.95
          ],
          [
           "Don't",
           0.08,
           0.35
          ],
          [
           "Don't Even Trip (feat. Moneybagg Yo)",
           0.05,
           0.68
          ],
          [
           "Don't Fade - Single Version",
           0.52,
           0.7
          ],
          [
           "Don't Forget",
           0.25,
           0.79
          ],
          [
           "Don't Get Much Better (with Jeremih, Ty Dolla $ign & Sage The Gemini)",
           0.07,
           0.5
          ],
          [
           "Don't Hurt Me",
           1e-17,
           0.08
          ],
          [
           "Don't Leave Me Lonely(feat. Elley Duhé) [Acoustic]",
           0.08,
           0.68
          ],
          [
           "Don't Let Me Down (feat. Daya) - Illenium Remix",
           0.02,
           0.27
          ],
          [
           "Don't Matter",
           0.53,
           0.59
          ],
          [
           "Don't Mind",
           0.16,
           0.96
          ],
          [
           "Don't Play With Me",
           0.06,
           1
          ],
          [
           "Don't Stop 'Til You Get Enough",
           0.38,
           0.75
          ],
          [
           "Don't Tell 'Em",
           0.15,
           0.67
          ],
          [
           "Don't You (Forget About Me)",
           0.01,
           0.16
          ],
          [
           "Don't You Worry Child - Radio Edit",
           0.06,
           1
          ],
          [
           "Don't make me beg (With Lil Baby)",
           0.63,
           0.73
          ],
          [
           "Dope",
           0.05,
           0.25
          ],
          [
           "Dope Game",
           1e-17,
           0
          ],
          [
           "Down",
           0.06,
           1
          ],
          [
           "Down Below",
           0.02,
           0.28
          ],
          [
           "Down For Me (feat. 24hrs)",
           0.07,
           0.61
          ],
          [
           "Down On Me",
           0.07,
           0.55
          ],
          [
           "Down by the Water",
           0.33,
           0.44
          ],
          [
           "Drank in My Cup",
           0.12,
           0.92
          ],
          [
           "Drankin N Smokin",
           2.67,
           0.69
          ],
          [
           "Dreaming with a Broken Heart",
           0.02,
           0.24
          ],
          [
           "Dreams - 2004 Remaster",
           0.2,
           0.69
          ],
          [
           "Dreams and Nightmares",
           1.64,
           0.62
          ],
          [
           "Dreams, Fairytales, Fantasies (feat. Brent Faiyaz & Salaam Remi)",
           1e-17,
           0.02
          ],
          [
           "Drift",
           0.58,
           0.85
          ],
          [
           "Drip Day N Night (feat. Gunna & Lil Keed)",
           0.01,
           0.22
          ],
          [
           "Drip From My Walk",
           0.02,
           0.47
          ],
          [
           "Drip Too Hard (Lil Baby & Gunna)",
           0.48,
           0.79
          ],
          [
           "Drive By",
           0.08,
           0.47
          ],
          [
           "Drops of Jupiter (Tell Me)",
           0.22,
           0.77
          ],
          [
           "Droptop in the Rain (feat. Tory Lanez)",
           1e-17,
           0.08
          ],
          [
           "Drunk Texting (feat. Jhené Aiko)",
           0.11,
           0.84
          ],
          [
           "Dynamite",
           0.11,
           0.65
          ],
          [
           "E.T.",
           0.06,
           0.5
          ],
          [
           "EX - Remix",
           0.11,
           1
          ],
          [
           "Easily",
           0.06,
           0.51
          ],
          [
           "Easy",
           0.42,
           0.6
          ],
          [
           "Either Way (feat. Joey Bada$$)",
           0.05,
           1
          ],
          [
           "Element",
           2.45,
           0.66
          ],
          [
           "Emotionally Scarred",
           5.32,
           0.75
          ],
          [
           "Empty",
           0.05,
           0.67
          ],
          [
           "Energy",
           0.09,
           0.87
          ],
          [
           "Enjoy Yourself (feat. Karol G)",
           0.66,
           0.71
          ],
          [
           "Entanglements",
           0.21,
           0.56
          ],
          [
           "Erase Your Social",
           0.01,
           0.1
          ],
          [
           "Every Good Girl",
           2.27,
           0.8
          ],
          [
           "Every Hour",
           0.06,
           1
          ],
          [
           "Everybody Dies In Their Nightmares",
           0.06,
           0.72
          ],
          [
           "Everyday (feat. Rod Stewart, Miguel & Mark Ronson)",
           0.01,
           0.18
          ],
          [
           "Everyday We Lit (feat. PnB Rock)",
           0.32,
           0.73
          ],
          [
           "Everything Is Alright",
           0.06,
           1
          ],
          [
           "Everywhere",
           0.04,
           0.77
          ],
          [
           "Ex (feat. YG)",
           0.22,
           0.81
          ],
          [
           "Exchange",
           0.13,
           0.81
          ],
          [
           "Excuse Me (feat. Too $hort)",
           0.65,
           0.75
          ],
          [
           "Eye of the Tiger",
           0.08,
           0.41
          ],
          [
           "F With U (feat. Ty Dolla $ign)",
           0.05,
           0.35
          ],
          [
           "F-Stop Blues",
           0.16,
           0.76
          ],
          [
           "FAR AWAY II (feat. A Boogie Wit da Hoodie & JID)",
           0.02,
           0.27
          ],
          [
           "FIND MY WAY",
           0.08,
           1
          ],
          [
           "FINDERS KEEPERS (FEAT. SCOREY & INTERNET MONEY)",
           0.44,
           0.94
          ],
          [
           "FLIP THE SWITCH (feat. Drake)",
           0.07,
           0.53
          ],
          [
           "FLOWER ROAD",
           0.02,
           0.31
          ],
          [
           "FOOL",
           0.24,
           0.85
          ],
          [
           "Face",
           0.06,
           1
          ],
          [
           "Face It",
           1.77,
           0.54
          ],
          [
           "Faces",
           0.07,
           1
          ],
          [
           "Faded",
           0.12,
           0.61
          ],
          [
           "Fair Trade (with Travis Scott)",
           0.08,
           0.32
          ],
          [
           "Fake Love In LA",
           0.49,
           0.67
          ],
          [
           "Fall Threw (feat. Young Thug & Gunna)",
           0.11,
           1
          ],
          [
           "Falling",
           1.07,
           0.7
          ],
          [
           "Family and Loyalty",
           0.15,
           1
          ],
          [
           "Famous",
           0.13,
           0.78
          ],
          [
           "Famous (feat. Reginae Carter)",
           1e-17,
           0.03
          ],
          [
           "Far Gone (feat. Johnny Yukon)",
           0.07,
           1
          ],
          [
           "Fashion Killa",
           1.57,
           0.86
          ],
          [
           "Fast",
           0.06,
           1
          ],
          [
           "Fast Car",
           0.73,
           0.59
          ],
          [
           "Fast Lane",
           0.4,
           0.71
          ],
          [
           "Father Stretch My Hands Pt. 1",
           0.22,
           0.81
          ],
          [
           "Faucet Failure",
           0.16,
           1
          ],
          [
           "Favorite Song",
           0.03,
           0.51
          ],
          [
           "Favorite Thing",
           0.01,
           0.31
          ],
          [
           "Fck Boys",
           0.97,
           0.82
          ],
          [
           "Feel Good Inc.",
           0.06,
           1
          ],
          [
           "Feel So Close - Radio Edit",
           0.06,
           1
          ],
          [
           "Feel This Moment (feat. Christina Aguilera)",
           0.06,
           1
          ],
          [
           "Feeling",
           0.33,
           0.73
          ],
          [
           "Feelins",
           0.04,
           0.61
          ],
          [
           "Feels Like Summer",
           0.04,
           1
          ],
          [
           "Feels The Same",
           0.62,
           0.82
          ],
          [
           "Fergalicious",
           0.16,
           1
          ],
          [
           "Fever To The Form",
           0.07,
           1
          ],
          [
           "Fight Night",
           0.03,
           0.44
          ],
          [
           "Fighting Demons",
           0.13,
           0.78
          ],
          [
           "Find A Way (feat. Lil Baby & Lil Durk)",
           1.28,
           0.98
          ],
          [
           "Find Your Love",
           0.08,
           0.66
          ],
          [
           "Fine China",
           0.2,
           0.99
          ],
          [
           "Finesse",
           0.11,
           1
          ],
          [
           "Finesse - Remix; feat. Cardi B",
           0.12,
           1
          ],
          [
           "Finessin",
           0.1,
           0.71
          ],
          [
           "Finna Charge",
           0.13,
           0.8
          ],
          [
           "Fire Burning",
           1e-17,
           0
          ],
          [
           "Fire In The Sky",
           2.21,
           0.81
          ],
          [
           "Fire and the Flood",
           0.14,
           1
          ],
          [
           "Fireflies",
           0.15,
           0.6
          ],
          [
           "Firework",
           0.13,
           1
          ],
          [
           "Fireworks",
           0.04,
           1
          ],
          [
           "First Day Out",
           0.1,
           0.71
          ],
          [
           "Flare Guns",
           0.07,
           1
          ],
          [
           "FlatBed Freestyle",
           0.09,
           0.86
          ],
          [
           "Flex (Ooh, Ooh, Ooh)",
           0.29,
           0.66
          ],
          [
           "Flight 99",
           0.47,
           0.57
          ],
          [
           "Flight To Memphis (feat. Chris Brown, Juicy J & A$AP Rocky)",
           1e-17,
           0.05
          ],
          [
           "Flights",
           1.93,
           0.73
          ],
          [
           "Flirt",
           0.85,
           0.78
          ],
          [
           "Flood My Wrist (feat. Lil Uzi Vert)",
           1e-17,
           0.09
          ],
          [
           "Flossin’ (feat. YoungBoy Never Broke Again)",
           0.31,
           0.67
          ],
          [
           "Flowers",
           0.05,
           1
          ],
          [
           "Fly",
           0.04,
           0.52
          ],
          [
           "For Free (feat. Drake)",
           0.09,
           0.44
          ],
          [
           "For Tonight",
           0.45,
           0.6
          ],
          [
           "Foreign (feat. Nav)",
           0.2,
           0.91
          ],
          [
           "Foreplay",
           0.08,
           0.84
          ],
          [
           "Forever",
           0.37,
           0.97
          ],
          [
           "Forever Always",
           0.18,
           0.76
          ],
          [
           "Forever Humble",
           2.53,
           0.78
          ],
          [
           "Forever Never (feat. Swae Lee & Pink Sweat$)",
           0.19,
           0.64
          ],
          [
           "Freak Of The Week",
           0.1,
           0.52
          ],
          [
           "Freaky",
           0.05,
           1
          ],
          [
           "Freaky with You (feat. Jacquees)",
           0.2,
           0.63
          ],
          [
           "Free Fallin'",
           0.04,
           0.6
          ],
          [
           "Free Like Me",
           0.06,
           1
          ],
          [
           "Free Lunch",
           0.11,
           1
          ],
          [
           "Freefall",
           0.42,
           0.83
          ],
          [
           "Freek-A-Leek",
           0.26,
           0.29
          ],
          [
           "Fresh Eyes",
           0.49,
           0.75
          ],
          [
           "Fresh Out",
           0.18,
           1
          ],
          [
           "From Time",
           0.64,
           0.79
          ],
          [
           "Frozen",
           0.17,
           0.82
          ],
          [
           "Fuck It Up (feat. YG)",
           0.3,
           0.76
          ],
          [
           "Fuck Love (feat. Trippie Redd)",
           0.04,
           0.51
          ],
          [
           "Fuck Tha Police",
           0.06,
           0.6
          ],
          [
           "Fuck You",
           0.12,
           1
          ],
          [
           "Fukk Sleep (feat. FKA twigs)",
           1e-17,
           0.02
          ],
          [
           "Fully Focused",
           0.03,
           0.49
          ],
          [
           "Function",
           0.02,
           0.26
          ],
          [
           "GAMES ON YOUR PHONE",
           0.18,
           0.73
          ],
          [
           "GATTI",
           0.35,
           1
          ],
          [
           "GDFR (feat. Sage the Gemini & Lookas) - K Theory Remix",
           0.04,
           0.39
          ],
          [
           "GO (feat. Juice WRLD)",
           0.01,
           0.14
          ],
          [
           "GOLD",
           0.05,
           0.62
          ],
          [
           "GUMMO",
           0.13,
           0.74
          ],
          [
           "Galway Girl",
           0.05,
           1
          ],
          [
           "Gangsta's Paradise",
           0.02,
           0.35
          ],
          [
           "Gas Pedal",
           0.08,
           0.65
          ],
          [
           "Gasolina",
           0.16,
           0.73
          ],
          [
           "Gassed - Yung Bae Remix",
           0.74,
           0.86
          ],
          [
           "Georgia",
           0.06,
           0.87
          ],
          [
           "Georgia Peaches",
           0.05,
           0.34
          ],
          [
           "Get A Bag",
           0.06,
           1
          ],
          [
           "Get Even",
           0.02,
           0.17
          ],
          [
           "Get Low",
           0.23,
           0.62
          ],
          [
           "Get Throwed",
           0.09,
           0.67
          ],
          [
           "Get Together",
           0.12,
           1
          ],
          [
           "Get You (feat. Kali Uchis)",
           0.32,
           0.84
          ],
          [
           "Getcho Mans",
           0.41,
           0.63
          ],
          [
           "Getsomerest/sleepwell",
           0.09,
           1
          ],
          [
           "Ghost",
           0.01,
           0.11
          ],
          [
           "Ghostface Killers (feat. Travis Scott)",
           0.01,
           0.19
          ],
          [
           "Giddy Up (feat. Wiz Khalifa & 24KGoldn)",
           0.13,
           0.76
          ],
          [
           "Gifted (feat. Roddy Ricch)",
           0.14,
           1
          ],
          [
           "Girl on a Train",
           0.79,
           0.92
          ],
          [
           "Girls Have Fun (feat. G-Eazy & Rich The Kid)",
           0.05,
           0.55
          ],
          [
           "Girls That Dance",
           0.06,
           1
          ],
          [
           "Girls Want Girls (with Lil Baby)",
           0.32,
           0.64
          ],
          [
           "Give Me A Kiss",
           0.47,
           0.66
          ],
          [
           "Give Your Heart a Break",
           0.15,
           0.85
          ],
          [
           "Glamorous",
           0.12,
           0.42
          ],
          [
           "Glorious (feat. Skylar Grey)",
           0.25,
           0.58
          ],
          [
           "Go Hard or Go Home (feat. Stressmatic of the Federation)",
           0.18,
           0.93
          ],
          [
           "Go Loko (feat. Tyga, Jon Z)",
           1e-17,
           0
          ],
          [
           "Go Now",
           0.05,
           1
          ],
          [
           "God's Eyes",
           0.03,
           0.89
          ],
          [
           "God's Plan",
           1e-17,
           0.02
          ],
          [
           "Going Bad (feat. Drake)",
           0.43,
           0.71
          ],
          [
           "Gold",
           0.06,
           1
          ],
          [
           "Golden Brown",
           0.06,
           0.27
          ],
          [
           "Good Company (feat. Swae Lee & Quavo)",
           1e-17,
           0.02
          ],
          [
           "Good Day",
           0.17,
           0.39
          ],
          [
           "Good Drank",
           1.8,
           0.73
          ],
          [
           "Good Evening",
           2.03,
           0.87
          ],
          [
           "Good Life",
           1.01,
           0.55
          ],
          [
           "Good Love",
           0.12,
           0.41
          ],
          [
           "Good Morning",
           0.07,
           0.62
          ],
          [
           "Good News",
           1.1,
           0.73
          ],
          [
           "Good Time",
           0.11,
           0.93
          ],
          [
           "Good Vibes (Za)",
           0.24,
           1
          ],
          [
           "Goodie Bag",
           0.08,
           0.67
          ],
          [
           "Goodies (feat. Petey Pablo)",
           0.46,
           0.83
          ],
          [
           "Gospel",
           0.03,
           0.28
          ],
          [
           "Got It All",
           1.86,
           0.71
          ],
          [
           "Got to Be Real",
           0.13,
           0.76
          ],
          [
           "Gradually",
           1.13,
           0.81
          ],
          [
           "Grant Green",
           0.06,
           1
          ],
          [
           "Grapevine Pt. I",
           0.71,
           0.85
          ],
          [
           "Grateful",
           1.15,
           0.75
          ],
          [
           "Gravity",
           0.31,
           0.57
          ],
          [
           "Greedy",
           0.05,
           1
          ],
          [
           "Grove St. Party (feat. Kebo Gotti)",
           1.37,
           0.68
          ],
          [
           "Guatemala - From Swaecation",
           0.07,
           1
          ],
          [
           "Gucci Flip Flops (feat. Lil Yachty)",
           0.03,
           0.63
          ],
          [
           "Gucci Gang",
           0.07,
           0.42
          ],
          [
           "Habit",
           0.09,
           1
          ],
          [
           "Half of My Heart",
           0.14,
           1
          ],
          [
           "Hallelujah",
           0.06,
           0.52
          ],
          [
           "Halo",
           0.02,
           0.13
          ],
          [
           "Hands On You",
           0.35,
           0.91
          ],
          [
           "Happier",
           0.01,
           0.11
          ],
          [
           "Happy Hour",
           0.11,
           0.58
          ],
          [
           "Hard (feat. Tay-K and BlocBoy JB)",
           0.04,
           1
          ],
          [
           "Hard in Da Paint",
           0.29,
           0.42
          ],
          [
           "Harlem Shake",
           0.07,
           0.62
          ],
          [
           "Hate Bein' Sober",
           0.16,
           1
          ],
          [
           "Hate It Or Love It",
           0.06,
           1
          ],
          [
           "Havana (feat. Young Thug)",
           0.12,
           1
          ],
          [
           "Head Right",
           0.04,
           0.73
          ],
          [
           "HeadBand (feat. 2 Chainz)",
           0.12,
           0.67
          ],
          [
           "Headlines",
           0.13,
           1
          ],
          [
           "Headshots (4r Da Locals)",
           1,
           0.81
          ],
          [
           "Hear Me Calling",
           0.1,
           0.96
          ],
          [
           "Hear You Me",
           0.03,
           0.43
          ],
          [
           "Heart 2 Heart (feat. Meek Mill, Arin Ray, Rose Gold)",
           0.07,
           0.54
          ],
          [
           "Heart On Ice",
           0.01,
           0.27
          ],
          [
           "Heartbreak Warfare",
           0.07,
           1
          ],
          [
           "Heartless",
           0.06,
           1
          ],
          [
           "Heat Waves",
           0.5,
           0.75
          ],
          [
           "Heaven Falls / Fall on Me",
           0.27,
           0.8
          ],
          [
           "Heaven Only Knows",
           0.15,
           0.5
          ],
          [
           "Heebiejeebies - Bonus",
           0.24,
           0.99
          ],
          [
           "Hella Neck",
           0.02,
           0.37
          ],
          [
           "Hello Seattle",
           0.04,
           0.48
          ],
          [
           "Her",
           0.03,
           1
          ],
          [
           "Here (In Your Arms)",
           0.07,
           1
          ],
          [
           "Here Comes The Sun - Remastered 2009",
           0.05,
           1
          ],
          [
           "Hero",
           0.45,
           0.84
          ],
          [
           "Herside Story",
           0.05,
           1
          ],
          [
           "Hey Baby (Drop It to the Floor) (feat. T-Pain)",
           0.11,
           0.81
          ],
          [
           "Hey Daddy (Daddy's Home)",
           0.06,
           1
          ],
          [
           "Hey Ma",
           0.11,
           0.57
          ],
          [
           "Hey Ya!",
           0.17,
           0.87
          ],
          [
           "High (feat. Elton John)",
           0.01,
           0.27
          ],
          [
           "High End (feat. Future & Young Thug)",
           0.07,
           0.62
          ],
          [
           "High Fashion (feat. Mustard)",
           1.45,
           0.76
          ],
          [
           "High Hopes",
           0.05,
           1
          ],
          [
           "Higher",
           0.09,
           0.34
          ],
          [
           "Higher (feat. iann dior)",
           0.62,
           0.92
          ],
          [
           "Him",
           0.49,
           0.9
          ],
          [
           "His & Hers (feat. Don Toliver, Lil Uzi Vert & Gunna)",
           1.89,
           0.76
          ],
          [
           "Hit",
           0.02,
           0.4
          ],
          [
           "Hit Me Up",
           0.13,
           1
          ],
          [
           "Hold The Line (feat. A R I Z O N A)",
           0.14,
           0.95
          ],
          [
           "Hold You Down (feat. Chris Brown, August Alsina, Future & Jeremih)",
           0.05,
           0.31
          ],
          [
           "Hold on to Me",
           1e-17,
           0.01
          ],
          [
           "Home",
           0.29,
           0.82
          ],
          [
           "Hood Go Crazy",
           0.1,
           0.56
          ],
          [
           "Hookah",
           0.19,
           0.83
          ],
          [
           "Hopeless Romantic (feat. Swae Lee)",
           0.25,
           0.81
          ],
          [
           "Hot (feat. Gunna)",
           0.13,
           0.62
          ],
          [
           "Hot In Herre",
           0.13,
           1
          ],
          [
           "Hot N*gga",
           0.04,
           0.39
          ],
          [
           "Hotel (feat. Chris Brown)",
           1e-17,
           0.01
          ],
          [
           "How Do I Breathe",
           0.09,
           0.71
          ],
          [
           "How Far I Came (Feat. Roddy Ricch)",
           0.38,
           0.95
          ],
          [
           "How I Move (feat. Lil Baby)",
           1.53,
           0.66
          ],
          [
           "How Many",
           0.43,
           0.75
          ],
          [
           "Hurricane",
           2.59,
           0.64
          ],
          [
           "Hypnotized",
           0.17,
           0.79
          ],
          [
           "Hypnotized (feat. Akon)",
           0.05,
           1
          ],
          [
           "I",
           0.02,
           0.4
          ],
          [
           "I Ain't Perfect (feat. Blxst)",
           0.12,
           1
          ],
          [
           "I Am Yours",
           1e-17,
           0
          ],
          [
           "I Dance (feat. Duki & Cuco)",
           1.09,
           0.89
          ],
          [
           "I Deserve (w/ NOS.)",
           0.9,
           0.86
          ],
          [
           "I Don't Fuck With You",
           0.21,
           0.9
          ],
          [
           "I Don't Mind (feat. Juicy J)",
           0.5,
           0.65
          ],
          [
           "I Don't Wanna Know (feat. Enya & P. Diddy) - 2016 Remaster",
           1e-17,
           0.01
          ],
          [
           "I Get the Bag (feat. Migos)",
           0.17,
           0.88
          ],
          [
           "I Heard You Got Too Litt Last Night",
           1e-17,
           0.08
          ],
          [
           "I Just Wanna Party",
           0.06,
           0.47
          ],
          [
           "I Know How It Feel (feat. Ty Dolla $ign)",
           0.01,
           0.14
          ],
          [
           "I Know There's Gonna Be (Good Times)",
           1.33,
           0.78
          ],
          [
           "I Know You Want Me (Calle Ocho)",
           0.23,
           0.87
          ],
          [
           "I Like Dat",
           3.29,
           0.63
          ],
          [
           "I Like It",
           0.01,
           0.03
          ],
          [
           "I Like It Like That (feat. New Boyz)",
           0.05,
           1
          ],
          [
           "I Like Me Better",
           0.05,
           1
          ],
          [
           "I Like You (A Happier Song) (with Doja Cat)",
           2.08,
           0.86
          ],
          [
           "I Love It (& Lil Pump)",
           0.11,
           0.75
          ],
          [
           "I Made It (Cash Money Heroes)",
           0.07,
           1
          ],
          [
           "I Miss You",
           0.25,
           0.97
          ],
          [
           "I Miss You (feat. Julia Michaels)",
           0.11,
           1
          ],
          [
           "I Miss You (feat. Julia Michaels) - Acoustic",
           0.03,
           0.42
          ],
          [
           "I Sip",
           0.14,
           0.66
          ],
          [
           "I Tried",
           0.08,
           1
          ],
          [
           "I Wanna Benz",
           0.07,
           1
          ],
          [
           "I Want It",
           0.29,
           0.76
          ],
          [
           "I Want It That Way",
           0.19,
           0.8
          ],
          [
           "I Won't Give Up",
           0.01,
           0.18
          ],
          [
           "I Wonder",
           0.27,
           0.67
          ],
          [
           "I'll Find You (feat. Tori Kelly)",
           0.01,
           0.11
          ],
          [
           "I'm Cool With That",
           1.21,
           0.72
          ],
          [
           "I'm So Paid",
           0.07,
           1
          ],
          [
           "I'm Sorry",
           0.04,
           0.45
          ],
          [
           "I'm The Man",
           0.07,
           1
          ],
          [
           "I'm Up (feat. Kid Ink & French Montana)",
           0.01,
           0.16
          ],
          [
           "I.F.L.Y.",
           0.05,
           1
          ],
          [
           "INTERNET GANGSTER",
           1.27,
           0.88
          ],
          [
           "INTRO",
           0.12,
           0.51
          ],
          [
           "IT G MA REMIX (feat. A$AP Ferg, Father, Dumbfoundead, Waka Flocka Flame)",
           0.46,
           0.69
          ],
          [
           "Ice Ice Baby",
           0.06,
           0.39
          ],
          [
           "Ice Tray",
           0.03,
           0.57
          ],
          [
           "If I Ain't Got You",
           0.12,
           0.61
          ],
          [
           "If I Tell You",
           1.33,
           0.83
          ],
          [
           "If I Want It (feat. Yakki Divioshi)",
           0.15,
           1
          ],
          [
           "Ima Boss (feat. Rick Ross)",
           0.19,
           0.68
          ],
          [
           "Immortal",
           0.05,
           0.33
          ],
          [
           "Impatient",
           0.65,
           0.95
          ],
          [
           "In My Head",
           0.06,
           0.34
          ],
          [
           "In The Dark",
           0.73,
           0.8
          ],
          [
           "In The Dark (with Jhené Aiko)",
           0.81,
           0.75
          ],
          [
           "In Those Jeans",
           0.01,
           0.17
          ],
          [
           "In the End",
           1e-17,
           0.04
          ],
          [
           "In the Midst of It All",
           0.09,
           0.47
          ],
          [
           "In the Moment",
           0.09,
           0.85
          ],
          [
           "In the Water (with Quinn XCII)",
           0.08,
           1
          ],
          [
           "Indica",
           0.05,
           0.41
          ],
          [
           "Infatuation",
           0.02,
           0.26
          ],
          [
           "Insecure",
           0.11,
           0.46
          ],
          [
           "Insecurities",
           0.5,
           0.99
          ],
          [
           "Insomnia",
           0.1,
           0.72
          ],
          [
           "Instore",
           0.06,
           1
          ],
          [
           "Into You (feat. Ashanti)",
           0.08,
           1
          ],
          [
           "Into You (feat. Fabolous)",
           0.08,
           1
          ],
          [
           "Into You (feat. Tamia)",
           0.17,
           0.51
          ],
          [
           "Invincible",
           1.41,
           0.76
          ],
          [
           "Iris",
           0.03,
           0.36
          ],
          [
           "Is It Too Much to Ask For (feat. Shiloh)",
           0.03,
           1
          ],
          [
           "Issues",
           0.14,
           0.8
          ],
          [
           "It Doesn't Matter",
           2.61,
           0.77
          ],
          [
           "It Girl",
           0.05,
           1
          ],
          [
           "It Was A Good Day",
           1e-17,
           0.02
          ],
          [
           "It's A Vibe",
           0.17,
           0.71
          ],
          [
           "It's My Life",
           0.06,
           1
          ],
          [
           "It's Time",
           0.07,
           1
          ],
          [
           "Ivy",
           0.15,
           0.71
          ],
          [
           "Iz U Down (feat. Tyga)",
           0.01,
           0.06
          ],
          [
           "Izzo (H.O.V.A.)",
           0.13,
           0.67
          ],
          [
           "I’m Still Trying",
           0.31,
           0.78
          ],
          [
           "JAPAN",
           0.37,
           0.78
          ],
          [
           "JETSKI (feat. Lil Mosey & Lil Tecca)",
           0.09,
           1
          ],
          [
           "JUGGERNAUT (feat. Lil Uzi Vert & Pharrell Williams)",
           0.02,
           0.53
          ],
          [
           "JUMP (feat. YoungBoy Never Broke Again)",
           0.09,
           0.52
          ],
          [
           "Jackass",
           0.04,
           1
          ],
          [
           "Jackie Chan",
           0.11,
           0.95
          ],
          [
           "Jail",
           0.06,
           0.76
          ],
          [
           "Janet",
           0.22,
           0.97
          ],
          [
           "January (feat. Childish Major, Sylvan LaCue & Chris Scholar)",
           0.06,
           0.86
          ],
          [
           "Japanese Denim",
           0.07,
           1
          ],
          [
           "Jealous",
           0.15,
           0.83
          ],
          [
           "Jerry Curl (feat. Larry June)",
           0.05,
           1
          ],
          [
           "Jerry Sprunger (with T-Pain)",
           0.26,
           1
          ],
          [
           "Jet Lag",
           1e-17,
           0.01
          ],
          [
           "Jocelyn Flores",
           0.07,
           0.72
          ],
          [
           "John Redcorn",
           0.05,
           0.52
          ],
          [
           "Jordan Belfort",
           0.1,
           0.84
          ],
          [
           "Jovial",
           0.07,
           0.93
          ],
          [
           "Joy To The World",
           0.17,
           0.57
          ],
          [
           "Juice",
           0.3,
           0.6
          ],
          [
           "Juicy - 2005 Remaster",
           0.02,
           0.24
          ],
          [
           "Just A Dream",
           0.05,
           0.83
          ],
          [
           "Just A Lil' Thick (She Juicy) (feat. Mystikal & Lil Dicky)",
           1.33,
           0.6
          ],
          [
           "KEKE",
           0.08,
           0.96
          ],
          [
           "KIKA",
           0.04,
           1
          ],
          [
           "Keep Comin' Back",
           2.24,
           0.89
          ],
          [
           "Keep Your Head Up",
           0.05,
           1
          ],
          [
           "Keeper (feat. A Boogie Wit da Hoodie)",
           0.41,
           0.79
          ],
          [
           "Kenji",
           0.14,
           0.7
          ],
          [
           "Killed Before",
           0.48,
           0.87
          ],
          [
           "King James",
           0.81,
           0.7
          ],
          [
           "King Kony",
           0.19,
           0.97
          ],
          [
           "Kings & Queens",
           0.05,
           1
          ],
          [
           "Kiss Kiss (feat. T-Pain)",
           1e-17,
           0.01
          ],
          [
           "Kiss Me Thru The Phone",
           0.05,
           1
          ],
          [
           "Knock Knock",
           0.06,
           1
          ],
          [
           "Knock You Down",
           0.12,
           0.45
          ],
          [
           "Know Your Worth",
           0.1,
           1
          ],
          [
           "Kream (feat. Tyga)",
           0.09,
           0.68
          ],
          [
           "Kung Fu",
           0.22,
           0.78
          ],
          [
           "Kyrie",
           0.02,
           0.3
          ],
          [
           "L$D",
           0.02,
           0.24
          ],
          [
           "L.A. Story (feat. Mike Posner)",
           0.23,
           0.8
          ],
          [
           "LA (feat. Kendrick Lamar, Brandy & James Fauntleroy)",
           0.07,
           0.77
          ],
          [
           "LA CANCIÓN",
           0.36,
           0.88
          ],
          [
           "LEMME FIND OUT",
           0.59,
           0.84
          ],
          [
           "LET IT RAIN",
           0.18,
           0.58
          ],
          [
           "LOT OF ME",
           0.88,
           0.85
          ],
          [
           "LOVE. FEAT. ZACARI.",
           0.02,
           0.32
          ],
          [
           "LOYAL (feat. Drake)",
           0.11,
           1
          ],
          [
           "LUV - Snakehips Remix",
           1.25,
           0.61
          ],
          [
           "La La Land (feat. YG)",
           0.15,
           1
          ],
          [
           "Last Day . . .",
           0.08,
           1
          ],
          [
           "Last Friday Night (T.G.I.F.)",
           0.39,
           0.87
          ],
          [
           "Last Night",
           0.37,
           0.53
          ],
          [
           "Last One Left (with Roddy Ricch)",
           0.57,
           0.87
          ],
          [
           "Last Train Home",
           0.69,
           0.35
          ],
          [
           "Latch - Acoustic",
           0.06,
           1
          ],
          [
           "Late Night",
           0.6,
           0.83
          ],
          [
           "Late to the Party",
           0.22,
           0.69
          ],
          [
           "Laugh Now Cry Later (feat. Lil Durk)",
           2.48,
           0.78
          ],
          [
           "Law (feat. E-40)",
           0.14,
           1
          ],
          [
           "Lay It on Me",
           0.17,
           0.97
          ],
          [
           "Leaf Wraps",
           0.63,
           0.76
          ],
          [
           "Lean Back",
           0.45,
           0.82
          ],
          [
           "Lean Like A Cholo",
           0.04,
           0.37
          ],
          [
           "Lean On",
           0.18,
           0.94
          ],
          [
           "Leave Me (feat. Marc E. Bassy)",
           0.24,
           0.83
          ],
          [
           "Leave Me Alone",
           0.11,
           1
          ],
          [
           "Lemonade",
           0.06,
           0.56
          ],
          [
           "Lemonade (Feat. Roddy Ricch & Don Toliver) [Remix]",
           0.02,
           0.36
          ],
          [
           "Lemonade (feat. Gunna, Don Toliver & NAV)",
           0.05,
           1
          ],
          [
           "Lemonade - Remix",
           0.05,
           1
          ],
          [
           "Let Go",
           0.2,
           0.68
          ],
          [
           "Let It Be Known",
           0.71,
           0.79
          ],
          [
           "Let It Go",
           0.19,
           0.52
          ],
          [
           "Let It Rock",
           0.19,
           1
          ],
          [
           "Let Me Go (with Alesso, Florida Georgia Line & watt)",
           0.05,
           0.56
          ],
          [
           "Let Me Love You (Until You Learn To Love Yourself)",
           0.14,
           1
          ],
          [
           "Let's Get It (Remix) [feat. 21 Savage]",
           0.42,
           0.88
          ],
          [
           "Let's Groove",
           0.46,
           0.6
          ],
          [
           "Let's go to Hell",
           0.25,
           0.49
          ],
          [
           "Letter To My Son",
           0.14,
           0.77
          ],
          [
           "Letting Go (Dutty Love) featuring Nicki Minaj (feat. Nicki Minaj)",
           0.06,
           1
          ],
          [
           "Level Up",
           0.86,
           0.96
          ],
          [
           "Levitating (feat. DaBaby)",
           2.52,
           0.73
          ],
          [
           "License to Chill",
           0.1,
           0.69
          ],
          [
           "Lick",
           0.11,
           1
          ],
          [
           "Lies (feat. Ty Dolla $ign & YG)",
           0.05,
           1
          ],
          [
           "Life After You",
           0.11,
           0.91
          ],
          [
           "Life Goes On",
           0.74,
           0.9
          ],
          [
           "Life Goes On (feat. Ty Dolla $ign)",
           0.22,
           0.83
          ],
          [
           "Lifestyle",
           0.21,
           0.48
          ],
          [
           "Lift Me Up (feat. Future & Young Thug)",
           0.18,
           0.76
          ],
          [
           "Lift Off",
           0.04,
           0.48
          ],
          [
           "Light It Up - Remix",
           0.52,
           0.86
          ],
          [
           "Lights Out",
           0.83,
           0.74
          ],
          [
           "Like A G6",
           0.1,
           0.83
          ],
          [
           "Like Me (with PnB Rock)",
           0.09,
           0.87
          ],
          [
           "Lil Favorite (feat. MadeinTYO)",
           1.24,
           0.75
          ],
          [
           "Lil Top",
           4.64,
           0.67
          ],
          [
           "Liquor Locker",
           0.43,
           0.86
          ],
          [
           "Little Things (with Quinn XCII & Chelsea Cutler)",
           0.42,
           0.96
          ],
          [
           "Litty (feat. Tory Lanez)",
           0.31,
           0.8
          ],
          [
           "Livin It Up (with Post Malone & A$AP Rocky)",
           2.02,
           0.64
          ],
          [
           "Livin' On A Prayer",
           0.07,
           1
          ],
          [
           "Living Single",
           0.31,
           1
          ],
          [
           "Locationships",
           0.05,
           1
          ],
          [
           "Locked out of Heaven",
           0.43,
           0.83
          ],
          [
           "Lollipop",
           0.17,
           1
          ],
          [
           "London",
           0.11,
           1
          ],
          [
           "Long Beach",
           0.07,
           0.52
          ],
          [
           "Long Espresso",
           0.03,
           1
          ],
          [
           "Long Time - Intro",
           0.36,
           0.89
          ],
          [
           "Look Alive",
           0.01,
           0.16
          ],
          [
           "Look At Me Now (feat. Lil' Wayne & Busta Rhymes)",
           0.06,
           1
          ],
          [
           "Look At Me!",
           0.04,
           1
          ],
          [
           "Lose Control (Featuring JoJo)",
           0.3,
           1
          ],
          [
           "Losing You",
           0.39,
           0.82
          ],
          [
           "Lost Me",
           0.36,
           0.9
          ],
          [
           "Love & Loyalty (Believe)",
           0.11,
           0.51
          ],
          [
           "Love Come Save Me",
           0.44,
           0.68
          ],
          [
           "Love Galore (feat. Travis Scott)",
           0.4,
           0.66
          ],
          [
           "Love Is Poison",
           0.01,
           0.27
          ],
          [
           "Love Lockdown",
           1e-17,
           0
          ],
          [
           "Love Me",
           0.03,
           0.46
          ],
          [
           "Love On Top",
           0.05,
           0.69
          ],
          [
           "Love Sosa",
           0.01,
           0.07
          ],
          [
           "Love The Way You Lie",
           0.03,
           0.37
          ],
          [
           "Love U Better (feat. Lil Wayne & The-Dream)",
           0.16,
           0.79
          ],
          [
           "Love You Better (feat. Chris Brown)",
           1e-17,
           0.01
          ],
          [
           "Love in This Club (feat. Young Jeezy)",
           0.07,
           1
          ],
          [
           "Love$ick (feat. A$AP Rocky)",
           0.45,
           0.93
          ],
          [
           "Love's Train",
           2.68,
           0.67
          ],
          [
           "Lovers And Friends",
           0.17,
           0.78
          ],
          [
           "Low (feat. T-Pain)",
           0.07,
           0.37
          ],
          [
           "Low Life (feat. The Weeknd)",
           0.09,
           0.35
          ],
          [
           "Lowkey (feat. Roy Woods & 24hrs)",
           0.35,
           0.63
          ],
          [
           "Loyal (feat. Lil Wayne & Tyga)",
           0.05,
           0.72
          ],
          [
           "Loyal to the Soil (feat. Lil Wayne)",
           0.1,
           0.49
          ],
          [
           "Lucid Dreams",
           0.07,
           1
          ],
          [
           "Lush Life",
           0.4,
           0.89
          ],
          [
           "Lust",
           0.18,
           0.81
          ],
          [
           "MAGIC",
           0.67,
           0.76
          ],
          [
           "MIDDLE CHILD",
           1e-17,
           0.02
          ],
          [
           "MONEY ON ME",
           0.38,
           0.64
          ],
          [
           "MY PYT",
           0.07,
           0.5
          ],
          [
           "Made In China",
           0.01,
           0.04
          ],
          [
           "Magic (feat. Rivers Cuomo)",
           0.05,
           1
          ],
          [
           "Magic In The Hamptons (feat. Lil Yachty)",
           0.09,
           0.68
          ],
          [
           "Magnetised - Acoustic",
           0.04,
           0.12
          ],
          [
           "Magnolia",
           0.15,
           0.73
          ],
          [
           "Main Chick (feat. Chris Brown)",
           0.15,
           0.56
          ],
          [
           "Make It Home",
           1e-17,
           0.02
          ],
          [
           "Make It Rain",
           0.01,
           0.09
          ],
          [
           "Make Me Better",
           0.21,
           1
          ],
          [
           "Make My Love Go (feat. Sean Paul)",
           0.02,
           0.34
          ],
          [
           "Make No Sense",
           0.09,
           0.38
          ],
          [
           "Make Time",
           0.01,
           0.09
          ],
          [
           "Make a Mall",
           2.84,
           0.83
          ],
          [
           "Make the Most (feat. H.E.R.)",
           2.69,
           0.62
          ],
          [
           "Mama",
           0.26,
           0.64
          ],
          [
           "Man Listen",
           0.05,
           1
          ],
          [
           "Man Of The Year",
           0.2,
           0.85
          ],
          [
           "Man in the Mirror - 2012 Remaster",
           0.09,
           1
          ],
          [
           "Man's Not Hot",
           0.02,
           0.48
          ],
          [
           "Mando (feat. Mozzy)",
           0.28,
           1
          ],
          [
           "Mango",
           0.05,
           1
          ],
          [
           "Mannequin (feat. Lil Tjay)",
           0.56,
           0.6
          ],
          [
           "March Madness",
           2.26,
           0.76
          ],
          [
           "Mars (feat. Lil Uzi Vert)",
           0.17,
           1
          ],
          [
           "Mask Off",
           1e-17,
           0.01
          ],
          [
           "Maya",
           0.32,
           0.69
          ],
          [
           "Maybe She",
           0.09,
           1
          ],
          [
           "Meant to Be (feat. Florida Georgia Line)",
           0.06,
           0.67
          ],
          [
           "Meet In Tha Middle (Featuring Bran' Nu)",
           0.23,
           0.69
          ],
          [
           "Meet The Moonlight",
           0.08,
           1
          ],
          [
           "Memories",
           0.05,
           0.54
          ],
          [
           "Mesmerize",
           0.28,
           0.72
          ],
          [
           "Meteor Shower",
           0.03,
           0.9
          ],
          [
           "Metropolis",
           1e-17,
           0.04
          ],
          [
           "Mi Gente",
           0.13,
           0.84
          ],
          [
           "MiAMi (feat. Gunna)",
           0.15,
           0.75
          ],
          [
           "Middle",
           0.05,
           0.74
          ],
          [
           "Millidelphia (feat. Swizz Beatz)",
           0.61,
           0.56
          ],
          [
           "Mind of a Real",
           0.06,
           0.33
          ],
          [
           "Mirror Maru",
           1e-17,
           0.01
          ],
          [
           "Miss Independent",
           0.13,
           1
          ],
          [
           "Mixed Personalities (feat. Kanye West)",
           0.06,
           1
          ],
          [
           "Mo Money Mo Problems (feat. Puff Daddy & Mase) - 2014 Remaster",
           0.14,
           1
          ],
          [
           "Moana",
           0.01,
           0.21
          ],
          [
           "Modern Loneliness",
           1e-17,
           0.04
          ],
          [
           "Moist",
           0.02,
           0.36
          ],
          [
           "Mojito",
           1e-17,
           0.07
          ],
          [
           "Molly Girl",
           0.03,
           0.5
          ],
          [
           "Monday Loop",
           0.03,
           1
          ],
          [
           "Money Ball",
           0.07,
           0.58
          ],
          [
           "Money In The Grave (Drake ft. Rick Ross)",
           1e-17,
           0.01
          ],
          [
           "Money Talk (feat. YoungBoy Never Broke Again)",
           0.16,
           0.55
          ],
          [
           "Monica Lewinsky (feat. A Boogie Wit da Hoodie)",
           1.05,
           0.63
          ],
          [
           "Mood (feat. iann dior)",
           0.63,
           0.77
          ],
          [
           "Mood Swings (feat. Lil Tjay)",
           0.01,
           0.09
          ],
          [
           "Moolah",
           0.09,
           0.82
          ],
          [
           "Moonwalk",
           0.25,
           0.49
          ],
          [
           "Moonwalkin (feat. Lil Durk)",
           0.05,
           1
          ],
          [
           "More Than A Woman - From \"Saturday Night Fever\" Soundtrack",
           0.16,
           1
          ],
          [
           "Morning",
           0.18,
           0.61
          ],
          [
           "Morning Dew",
           0.28,
           0.85
          ],
          [
           "Motion",
           0.17,
           0.64
          ],
          [
           "Motivation",
           0.06,
           1
          ],
          [
           "MotorSport",
           0.22,
           0.86
          ],
          [
           "Movie",
           1.65,
           0.5
          ],
          [
           "Mr. Blue Sky",
           0.08,
           1
          ],
          [
           "Mr. Brightside",
           0.06,
           1
          ],
          [
           "Ms. New Booty",
           0.01,
           0.08
          ],
          [
           "Mucho Mango",
           0.01,
           0.14
          ],
          [
           "Mulberry Street",
           0.55,
           0.8
          ],
          [
           "Multiple Flows (with Lil Uzi Vert)",
           0.38,
           0.39
          ],
          [
           "Murmuration",
           0.13,
           1
          ],
          [
           "Muscle Cars (feat. Keak da Sneak & Turf Talk)",
           0.11,
           0.32
          ],
          [
           "Music To My Ears (feat. Tory Lanez)",
           0.16,
           1
          ],
          [
           "Musty",
           0.01,
           0.13
          ],
          [
           "My Bad",
           0.18,
           0.99
          ],
          [
           "My Friends (feat. Lil Durk)",
           0.79,
           0.95
          ],
          [
           "My House",
           0.05,
           1
          ],
          [
           "My Nigga",
           0.04,
           0.28
          ],
          [
           "My Own Worst Enemy",
           0.02,
           0.52
          ],
          [
           "My Storm",
           0.32,
           0.69
          ],
          [
           "My Type",
           0.25,
           0.81
          ],
          [
           "My Type (feat. City Girls & Jhené Aiko) - Remix",
           0.23,
           0.78
          ],
          [
           "My Way",
           0.06,
           1
          ],
          [
           "My Way (feat. Monty)",
           1e-17,
           0.06
          ],
          [
           "Myself",
           0.34,
           0.68
          ],
          [
           "Mystery Lady (feat. Don Toliver)",
           1.66,
           0.57
          ],
          [
           "NO ONE OUTSIDE",
           0.06,
           1
          ],
          [
           "Na Na",
           0.12,
           0.94
          ],
          [
           "Nameless",
           0.56,
           0.78
          ],
          [
           "Nasty Freestyle (feat.Ty Dolla $ign & Chedda Da Connect) - Remix",
           0.39,
           0.79
          ],
          [
           "Navajo",
           0.11,
           1
          ],
          [
           "Need You",
           0.44,
           0.84
          ],
          [
           "Neon",
           0.11,
           0.52
          ],
          [
           "Neon - Live at the Nokia Theatre, Los Angeles, CA - December 2007",
           0.19,
           0.94
          ],
          [
           "Never Forget",
           0.03,
           0.59
          ],
          [
           "Never Recover (Lil Baby & Gunna, Drake)",
           0.07,
           0.67
          ],
          [
           "New Flame (feat. Usher & Rick Ross)",
           0.08,
           0.61
          ],
          [
           "New Level (feat. Future)",
           0.5,
           0.56
          ],
          [
           "New Light",
           0.3,
           0.63
          ],
          [
           "New Patek",
           0.02,
           0.1
          ],
          [
           "New To You (with Normani, Tinashe & Offset)",
           0.82,
           0.61
          ],
          [
           "Next Day",
           0.66,
           0.68
          ],
          [
           "Next to You",
           0.12,
           1
          ],
          [
           "Ni**as In Paris",
           0.15,
           0.81
          ],
          [
           "Niagara Falls (Foot or 2) [with Travis Scott & 21 Savage]",
           0.53,
           0.29
          ],
          [
           "Nice for What",
           0.03,
           0.66
          ],
          [
           "Nightmares (feat. Lil Skies)",
           0.03,
           0.55
          ],
          [
           "Nine Million Bicycles",
           0.02,
           0.4
          ],
          [
           "Ninety",
           0.74,
           0.63
          ],
          [
           "No Cap",
           0.01,
           0.18
          ],
          [
           "No Fear",
           0.19,
           0.81
          ],
          [
           "No Guidance (feat. Drake)",
           0.12,
           0.8
          ],
          [
           "No Handoutz (feat. Yeat)",
           0.34,
           0.68
          ],
          [
           "No Hands (feat. Roscoe Dash & Wale)",
           0.34,
           0.78
          ],
          [
           "No Heart",
           0.26,
           0.67
          ],
          [
           "No Limit",
           0.14,
           0.68
          ],
          [
           "No Love",
           0.02,
           0.24
          ],
          [
           "No Mediocre (feat. Iggy Azalea)",
           0.18,
           0.65
          ],
          [
           "No Mop",
           0.43,
           0.68
          ],
          [
           "No More Parties - Remix",
           0.22,
           0.45
          ],
          [
           "No More Parties In LA",
           0.06,
           0.28
          ],
          [
           "No Problem (feat. Lil Wayne & 2 Chainz)",
           0.21,
           0.84
          ],
          [
           "No Return (with The Kid LAROI & Lil Durk)",
           0.06,
           0.6
          ],
          [
           "No Role Modelz",
           0.21,
           0.66
          ],
          [
           "No Scrubs",
           0.12,
           0.51
          ],
          [
           "No Sleep",
           0.05,
           1
          ],
          [
           "No Smoke",
           0.05,
           0.29
          ],
          [
           "No Stoppin ft. Blxst",
           1.76,
           0.68
          ],
          [
           "No Stylist (feat. Drake)",
           0.11,
           1
          ],
          [
           "No Time (feat. Gunna)",
           0.6,
           0.82
          ],
          [
           "No Type",
           0.06,
           1
          ],
          [
           "Nominated",
           0.05,
           0.89
          ],
          [
           "Nonstop",
           0.07,
           0.5
          ],
          [
           "Norf Norf",
           0.24,
           0.68
          ],
          [
           "North Face",
           0.69,
           0.9
          ],
          [
           "Not Afraid",
           0.07,
           1
          ],
          [
           "Not Coming Back",
           1e-17,
           0.04
          ],
          [
           "Not Jus Anybody (feat. Future)",
           0.05,
           0.59
          ],
          [
           "Not Nice",
           0.28,
           0.72
          ],
          [
           "Not The Boy",
           0.12,
           1
          ],
          [
           "Not for Long (feat. Trey Songz)",
           1e-17,
           0.03
          ],
          [
           "Nothin I Won't Do",
           0.37,
           0.93
          ],
          [
           "Nothin' Like Me (feat. Ty Dolla $ign)",
           0.11,
           0.83
          ],
          [
           "Nothin' on You (feat. Bruno Mars)",
           0.3,
           1
          ],
          [
           "Nothing (feat. Eric Bellinger)",
           0.12,
           0.82
          ],
          [
           "Nothing More To Say (with 6LACK & Donae’o)",
           0.79,
           0.68
          ],
          [
           "Noticed",
           0.19,
           0.69
          ],
          [
           "Nowadays (feat. Landon Cube)",
           0.08,
           0.21
          ],
          [
           "Numb",
           0.04,
           0.29
          ],
          [
           "Numb - Bonus Track",
           0.07,
           1
          ],
          [
           "Numb Numb Juice",
           0.26,
           0.81
          ],
          [
           "O-o-h Child",
           0.05,
           1
          ],
          [
           "OMG (feat. will.i.am)",
           0.13,
           0.34
          ],
          [
           "OOOWWWEEE",
           0.05,
           0.56
          ],
          [
           "ORANGE SODA",
           0.37,
           0.6
          ],
          [
           "Ocean (feat. Jacquees)",
           0.17,
           0.93
          ],
          [
           "Off Deez (with J. Cole)",
           1.11,
           0.47
          ],
          [
           "Often",
           0.74,
           0.45
          ],
          [
           "Oh I (feat. Jeremih, Young Thug & Sevyn)",
           0.12,
           0.67
          ],
          [
           "Ok Ok pt 2",
           0.01,
           0.18
          ],
          [
           "Old Fashioned",
           0.09,
           0.82
          ],
          [
           "Old Pine",
           0.09,
           1
          ],
          [
           "Old Streets",
           0.11,
           0.64
          ],
          [
           "Old Town Road",
           0.03,
           1
          ],
          [
           "On Chill (feat. Jeremih)",
           1.42,
           0.74
          ],
          [
           "On It!",
           0.07,
           1
          ],
          [
           "On Me",
           0.74,
           0.48
          ],
          [
           "On Me (Quality Control, Lil Yachty & Young Thug)",
           0.06,
           1
          ],
          [
           "On One (feat. Ty Dolla Sign & King Marie)",
           0.05,
           0.51
          ],
          [
           "On The Floor - Radio Edit",
           0.06,
           1
          ],
          [
           "On The Wing",
           0.08,
           1
          ],
          [
           "On the Frame",
           0.06,
           1
          ],
          [
           "On the Gang (feat. Skeme)",
           0.36,
           0.8
          ],
          [
           "On the Set (feat. Tory Lanez)",
           5.91,
           0.82
          ],
          [
           "Once In a While",
           0.28,
           0.93
          ],
          [
           "Once Upon a Time",
           0.03,
           0.4
          ],
          [
           "One Call",
           0.14,
           0.66
          ],
          [
           "One Day",
           0.08,
           0.31
          ],
          [
           "One Man Can Change The World",
           0.14,
           1
          ],
          [
           "One More Time",
           0.14,
           0.4
          ],
          [
           "One Time",
           0.04,
           0.16
          ],
          [
           "One Time Comin'",
           0.43,
           0.65
          ],
          [
           "One Way (feat. T-Pain) - Bonus",
           0.08,
           0.24
          ],
          [
           "One Wish",
           0.25,
           0.3
          ],
          [
           "One, Two Step (feat. Missy Elliott)",
           0.3,
           0.66
          ],
          [
           "OneFineBiddy",
           0.8,
           0.76
          ],
          [
           "Only Want You",
           0.07,
           0.65
          ],
          [
           "Open (feat. Majid Jordan)",
           0.14,
           0.46
          ],
          [
           "Open Safe",
           0.05,
           0.85
          ],
          [
           "Oprah’s Bank Account (Lil Yachty & DaBaby feat. Drake)",
           0.07,
           0.6
          ],
          [
           "Oreke",
           0.02,
           0.49
          ],
          [
           "Our Song",
           0.1,
           0.89
          ],
          [
           "Our Time",
           0.19,
           1
          ],
          [
           "Out Of Love (feat. Internet Money)",
           0.38,
           0.99
          ],
          [
           "Out On Bail",
           0.13,
           1
          ],
          [
           "Out Tha Mud",
           0.04,
           0.37
          ],
          [
           "Outside",
           1.03,
           0.67
          ],
          [
           "Outside Today",
           0.05,
           0.65
          ],
          [
           "Outstanding",
           0.05,
           1
          ],
          [
           "Over",
           0.19,
           0.96
          ],
          [
           "Over Now (with The Weeknd)",
           0.06,
           1
          ],
          [
           "Overrated",
           0.42,
           0.49
          ],
          [
           "PIE (feat. Chris Brown)",
           0.16,
           0.9
          ],
          [
           "PRBLMS",
           0.09,
           0.45
          ],
          [
           "PUFFIN ON ZOOTIEZ",
           0.32,
           0.61
          ],
          [
           "Paid the Fine (feat. Lil Baby & YTB Trench)",
           1e-17,
           0.01
          ],
          [
           "Paint",
           0.05,
           1
          ],
          [
           "Panama",
           0.05,
           0.69
          ],
          [
           "Panda",
           0.17,
           0.63
          ],
          [
           "Panini - DaBaby Remix",
           0.08,
           0.62
          ],
          [
           "Panoramic (feat. Sage The Gemini, Show Banga)",
           0.07,
           0.79
          ],
          [
           "Paradise",
           0.67,
           0.75
          ],
          [
           "Paramedic!",
           0.12,
           1
          ],
          [
           "Paranoia (feat. Gunna & Young Thug)",
           0.01,
           0.17
          ],
          [
           "Partna In Crime (P.I.C.)",
           0.03,
           0.9
          ],
          [
           "Party In The U.S.A.",
           0.17,
           0.99
          ],
          [
           "Party Like A Rock Star",
           0.04,
           0.6
          ],
          [
           "Party Up",
           0.11,
           0.73
          ],
          [
           "Passport",
           0.05,
           1
          ],
          [
           "Patek Water (feat. Offset)",
           0.19,
           0.6
          ],
          [
           "Patty Cake",
           0.26,
           0.47
          ],
          [
           "Pay You Back (feat. 21 Savage)",
           0.52,
           0.66
          ],
          [
           "Payphone",
           0.27,
           0.83
          ],
          [
           "Peach",
           0.15,
           1
          ],
          [
           "Peaches (feat. Daniel Caesar & Giveon)",
           1,
           0.51
          ],
          [
           "People I Know",
           0.44,
           0.49
          ],
          [
           "Perfect",
           0.03,
           0.41
          ],
          [
           "Perfect Timing",
           0.06,
           0.35
          ],
          [
           "Perkys Callin' (Free Style)",
           0.21,
           0.75
          ],
          [
           "Perkys Calling",
           1e-17,
           0
          ],
          [
           "Peru - Remix",
           0.85,
           0.71
          ],
          [
           "Peta (feat. Meek Mill)",
           0.06,
           1
          ],
          [
           "Phone Numbers",
           0.11,
           0.65
          ],
          [
           "Photograph",
           1e-17,
           0.02
          ],
          [
           "Photosynthesis",
           0.11,
           1
          ],
          [
           "Piece Of Streets",
           0.06,
           0.57
          ],
          [
           "Pills & Automobiles (feat. Yo Gotti, A Boogie Wit Da Hoodie & Kodak Black)",
           0.3,
           0.93
          ],
          [
           "Pineapple (feat. Gucci Mane & Quavo)",
           0.1,
           0.82
          ],
          [
           "Pink + White",
           0.12,
           0.58
          ],
          [
           "Places + Faces",
           0.13,
           1
          ],
          [
           "Plain Jane",
           0.31,
           0.63
          ],
          [
           "Planez",
           0.2,
           0.75
          ],
          [
           "Playinwitme (feat. Kehlani)",
           0.11,
           1
          ],
          [
           "Playlist",
           0.1,
           0.87
          ],
          [
           "Plug Walk",
           0.43,
           0.99
          ],
          [
           "Po'ed Up (feat. Gunna)",
           0.17,
           0.74
          ],
          [
           "Polo & Shell Tops",
           0.12,
           0.7
          ],
          [
           "Pompeii",
           0.06,
           1
          ],
          [
           "Pop Out (feat. Lil Tjay)",
           0.05,
           1
          ],
          [
           "Poseidon - Original Edit",
           0.12,
           1
          ],
          [
           "Possessive (feat. Lil Wayne & BLEU)",
           0.36,
           0.94
          ],
          [
           "Post to Be (feat. Chris Brown & Jhene Aiko)",
           0.25,
           1
          ],
          [
           "Potato Salad",
           0.15,
           0.96
          ],
          [
           "Potion (with Dua Lipa & Young Thug)",
           0.61,
           0.6
          ],
          [
           "Powder Blue (feat. Gunna)",
           0.08,
           1
          ],
          [
           "Power Trip (feat. Miguel)",
           0.01,
           0.13
          ],
          [
           "Praise The Lord (Da Shine) (feat. Skepta)",
           0.28,
           0.7
          ],
          [
           "Pray For The Drip (feat. Offset)",
           0.07,
           0.77
          ],
          [
           "Prayers Up (feat. Travis Scott & A-Trak)",
           0.2,
           0.7
          ],
          [
           "Pretty",
           0.11,
           1
          ],
          [
           "Pretty Girl Rock",
           0.06,
           0.93
          ],
          [
           "Pretty Little Fears (feat. J. Cole)",
           0.03,
           0.5
          ],
          [
           "Price Tag",
           0.06,
           1
          ],
          [
           "Pricey & Spicy",
           0.1,
           0.77
          ],
          [
           "Private",
           0.44,
           0.83
          ],
          [
           "Problems",
           0.18,
           0.59
          ],
          [
           "Project Dreams",
           0.04,
           0.76
          ],
          [
           "Promiscuous",
           0.19,
           0.96
          ],
          [
           "Promise (feat. Fetty Wap)",
           0.21,
           0.66
          ],
          [
           "Property (feat. Keke Palmer)",
           0.11,
           1
          ],
          [
           "Prospect (ft. Lil Baby)",
           0.2,
           0.53
          ],
          [
           "Provider",
           0.06,
           0.96
          ],
          [
           "Ps & Qs",
           0.06,
           1
          ],
          [
           "Psycho (feat. Ty Dolla $ign)",
           0.12,
           1
          ],
          [
           "Psycho, Pt. 2",
           0.48,
           0.82
          ],
          [
           "Pullin' Me Back",
           0.39,
           0.55
          ],
          [
           "Pure Imagination",
           0.03,
           1
          ],
          [
           "Pure Souls",
           2.9,
           0.53
          ],
          [
           "Pure Water (with Migos)",
           0.19,
           0.49
          ],
          [
           "Put In Work (with Chris Brown)",
           0.12,
           0.7
          ],
          [
           "Put Me on Somethin'",
           0.14,
           0.83
          ],
          [
           "Put On",
           0.16,
           0.89
          ],
          [
           "QUARANTINE CLEAN",
           0.18,
           0.97
          ],
          [
           "Questions",
           0.18,
           0.84
          ],
          [
           "Quicksand",
           0.19,
           1
          ],
          [
           "R.I.C.O. (feat. Drake)",
           0.28,
           0.86
          ],
          [
           "R.I.P.",
           0.1,
           0.93
          ],
          [
           "RAF (feat. A$AP Rocky, Playboi Carti, Quavo, Lil Uzi Vert & Frank Ocean)",
           0.04,
           0.57
          ],
          [
           "REALLY (feat. Stunna 4 Vegas)",
           0.15,
           0.76
          ],
          [
           "REDMERCEDES",
           0.05,
           0.51
          ],
          [
           "REPEAT IT (with Gunna)",
           1.86,
           0.72
          ],
          [
           "RESCUE",
           1.23,
           0.8
          ],
          [
           "RIP Young",
           0.09,
           0.42
          ],
          [
           "RNP (feat. Anderson .Paak)",
           0.09,
           0.65
          ],
          [
           "ROCKSTAR (feat. Roddy Ricch)",
           0.02,
           0.24
          ],
          [
           "ROCKSTAR P",
           0.39,
           0.6
          ],
          [
           "ROXANNE",
           0.14,
           0.75
          ],
          [
           "Rack City",
           0.08,
           0.66
          ],
          [
           "Racks in the Middle (feat. Roddy Ricch and Hit-Boy)",
           0.06,
           1
          ],
          [
           "Ransom",
           0.1,
           0.69
          ],
          [
           "Rap Song (feat. Rick Ross)",
           0.01,
           0.16
          ],
          [
           "Rather Be (feat. Jess Glynne)",
           0.07,
           0.55
          ],
          [
           "Ready or Not",
           0.12,
           0.52
          ],
          [
           "Real (feat. Unfoonk)",
           0.19,
           0.87
          ],
          [
           "Real Friends",
           0.07,
           1
          ],
          [
           "Real Life (feat. Roddy Ricch & Mustard)",
           0.05,
           1
          ],
          [
           "Real Talk",
           2.16,
           0.83
          ],
          [
           "Real Ties",
           0.13,
           0.64
          ],
          [
           "Really Be (Smokin N Drinkin)",
           0.01,
           0.08
          ],
          [
           "Really Really",
           0.15,
           0.75
          ],
          [
           "Reborn",
           0.33,
           0.91
          ],
          [
           "Recap (feat. Don Toliver)",
           2.25,
           0.7
          ],
          [
           "Reckless",
           0.14,
           0.72
          ],
          [
           "Red Cup",
           0.07,
           1
          ],
          [
           "Red Roses (feat. Landon Cube)",
           0.07,
           1
          ],
          [
           "Redbone",
           0.27,
           0.6
          ],
          [
           "Relationship (feat. Future)",
           0.12,
           0.67
          ],
          [
           "Relaxin",
           0.05,
           1
          ],
          [
           "Remember Me?",
           0.06,
           1
          ],
          [
           "Remember the Name (feat. Styles of Beyond)",
           0.13,
           0.65
          ],
          [
           "Rememory (feat. Chance The Rapper)",
           0.11,
           1
          ],
          [
           "Repeat (feat. Fivio Foreign)",
           0.4,
           0.92
          ],
          [
           "Replay",
           0.05,
           1
          ],
          [
           "Respect My Cryppin’ (Remix)",
           0.06,
           1
          ],
          [
           "Retro (Rough)",
           0.02,
           0.15
          ],
          [
           "Ric Flair Drip (with Metro Boomin)",
           0.6,
           0.74
          ],
          [
           "Rich As Fuck",
           0.04,
           0.57
          ],
          [
           "Rich Girl",
           0.04,
           1
          ],
          [
           "Ride",
           0.23,
           0.63
          ],
          [
           "Ride (feat. Kehlani)",
           0.06,
           1
          ],
          [
           "Ride Wit Me",
           0.01,
           0.05
          ],
          [
           "Ride or Die (feat. Foster the People)",
           0.13,
           1
          ],
          [
           "Ridin (feat. Landon Cube & YBN Nahmir)",
           0.06,
           1
          ],
          [
           "Ridin' Solo",
           0.17,
           0.92
          ],
          [
           "Right Now (Na Na Na)",
           0.01,
           0.15
          ],
          [
           "Right There",
           0.04,
           0.6
          ],
          [
           "Right Thurr",
           0.09,
           0.44
          ],
          [
           "Riot",
           0.17,
           0.91
          ],
          [
           "Riri",
           0.05,
           1
          ],
          [
           "Rock N Roll (feat. Kanye West & Kid Cudi)",
           0.41,
           0.78
          ],
          [
           "Rock with You - Single Version",
           0.11,
           0.9
          ],
          [
           "Rocketeer",
           0.23,
           1
          ],
          [
           "Roll With Me",
           0.02,
           0.39
          ],
          [
           "Roll in Peace (feat. XXXTENTACION)",
           0.22,
           0.73
          ],
          [
           "Rollin (feat. Future & Khalid)",
           0.21,
           0.91
          ],
          [
           "Rolling in the Deep",
           0.03,
           0.52
          ],
          [
           "Roses",
           0.06,
           0.64
          ],
          [
           "Rover (feat. Lil Tecca)",
           0.04,
           0.32
          ],
          [
           "Royal Rumble",
           0.21,
           0.93
          ],
          [
           "Rubbin off the Paint",
           0.04,
           1
          ],
          [
           "Rude Boy",
           0.06,
           1
          ],
          [
           "Rum n Tequila",
           0.2,
           0.85
          ],
          [
           "Run (feat. Tyga, 21 Savage & BIA)",
           0.02,
           0.25
          ],
          [
           "Run A Bag Up",
           0.09,
           0.83
          ],
          [
           "Run It Up (feat. Pop Smoke)",
           0.05,
           1
          ],
          [
           "Run It! (feat. Juelz Santana)",
           0.06,
           0.98
          ],
          [
           "Run This Town",
           0.04,
           0.49
          ],
          [
           "Ruthless (feat. Jay Critch)",
           0.07,
           1
          ],
          [
           "SAD!",
           0.06,
           0.47
          ],
          [
           "SCARLETT'S WEEKEND",
           0.16,
           0.84
          ],
          [
           "SHELTER (ft. Wyclef Jean, Chance The Rapper)",
           1e-17,
           0.01
          ],
          [
           "SICKO MODE",
           0.03,
           0.39
          ],
          [
           "SMUCKERS (feat. Lil Wayne & Kanye West)",
           0.05,
           0.54
          ],
          [
           "SOMETHING NEW (feat. Lil Baby)",
           0.13,
           1
          ],
          [
           "SOS",
           0.03,
           0.58
          ],
          [
           "SOS (feat. Aloe Blacc)",
           0.09,
           0.51
          ],
          [
           "STAY (with Justin Bieber)",
           0.08,
           0.3
          ],
          [
           "STILL BREATHING",
           0.06,
           0.56
          ],
          [
           "STROBE LIGHTS",
           0.31,
           0.72
          ],
          [
           "STUNNAMAN (with Roddy Ricch & feat. Lil Wayne)",
           0.03,
           0.45
          ],
          [
           "SUGAR",
           0.14,
           0.85
          ],
          [
           "SUGAR (Remix) [feat. Dua Lipa]",
           0.11,
           0.89
          ],
          [
           "SUMO | ZUMO",
           0.27,
           0.61
          ],
          [
           "SUPERBLOOM",
           0.36,
           0.86
          ],
          [
           "SWISH",
           0.06,
           0.52
          ],
          [
           "Saint-Tropez",
           0.03,
           0.32
          ],
          [
           "Salt Shaker",
           0.07,
           1
          ],
          [
           "Same Drugs",
           0.07,
           0.5
          ],
          [
           "Same Thing",
           0.46,
           0.85
          ],
          [
           "Satisfaction",
           0.16,
           0.89
          ],
          [
           "Satisfied",
           0.22,
           0.82
          ],
          [
           "Saturday Sun",
           0.12,
           0.51
          ],
          [
           "Sauce It Up",
           1e-17,
           0
          ],
          [
           "Savage (feat. Flux Pavilion & MAX)",
           0.01,
           0.07
          ],
          [
           "Save Me From Myself (with NoMBe & Big Gigantic)",
           0.06,
           1
          ],
          [
           "Saved (feat. E-40)",
           0.14,
           0.91
          ],
          [
           "Say",
           0.06,
           1
          ],
          [
           "Say A'",
           1e-17,
           0.03
          ],
          [
           "Say Aah (feat. Fabolous)",
           0.19,
           0.66
          ],
          [
           "Say Goodbye",
           0.08,
           1
          ],
          [
           "Say It",
           0.13,
           0.67
          ],
          [
           "Say It (feat. Tove Lo)",
           0.11,
           0.75
          ],
          [
           "Say It Right",
           0.18,
           0.74
          ],
          [
           "Say My Name",
           0.08,
           1
          ],
          [
           "Say No More",
           0.05,
           1
          ],
          [
           "Say U Won't",
           0.11,
           1
          ],
          [
           "Say Yea",
           1.26,
           0.88
          ],
          [
           "Say You Want Me",
           0.43,
           0.53
          ],
          [
           "Scenario",
           3.13,
           0.79
          ],
          [
           "Score (feat. SZA & 6LACK)",
           0.19,
           0.85
          ],
          [
           "Scrape It Off (feat. Lil Uzi Vert & Don Toliver)",
           0.78,
           0.63
          ],
          [
           "Scream & Shout",
           0.08,
           1
          ],
          [
           "Search for Tomorrow",
           0.07,
           1
          ],
          [
           "Seattle",
           0.13,
           1
          ],
          [
           "Secrets",
           0.06,
           1
          ],
          [
           "September",
           0.6,
           0.84
          ],
          [
           "Serotonin",
           0.84,
           0.59
          ],
          [
           "Sextasy",
           1e-17,
           0.07
          ],
          [
           "Sexy Bitch (feat. Akon)",
           0.01,
           0.18
          ],
          [
           "SexyBack (feat. Timbaland)",
           0.1,
           0.51
          ],
          [
           "Shadow of the Day",
           0.08,
           1
          ],
          [
           "Shake It Off",
           0.51,
           0.87
          ],
          [
           "Shake That",
           0.6,
           0.79
          ],
          [
           "Shake The Room (feat. Quavo)",
           0.16,
           0.57
          ],
          [
           "Shake Ya Tailfeather - Radio Edit",
           0.19,
           0.79
          ],
          [
           "Sharing Locations (feat. Lil Baby & Lil Durk)",
           0.03,
           0.66
          ],
          [
           "Shawty (feat. T Pain)",
           0.18,
           0.52
          ],
          [
           "Shawty Is Da Shit",
           0.01,
           0.17
          ],
          [
           "She Be Like (Bom Bom Bom)",
           0.05,
           0.9
          ],
          [
           "She Don't (feat. Ty Dolla $Ign)",
           0.48,
           0.83
          ],
          [
           "She Feelin Nice (feat. Jamie Foxx)",
           0.67,
           0.68
          ],
          [
           "She Got It",
           0.09,
           0.62
          ],
          [
           "She Knows",
           0.06,
           1
          ],
          [
           "She Never Been To Pluto",
           0.06,
           1
          ],
          [
           "She Think",
           0.02,
           0.52
          ],
          [
           "She Wanna Party (feat. Millie Go Lightly)",
           0.29,
           0.69
          ],
          [
           "She Wants My Money",
           0.07,
           0.95
          ],
          [
           "She Wildin'",
           0.48,
           0.75
          ],
          [
           "She Will",
           0.04,
           0.45
          ],
          [
           "She's Country",
           1e-17,
           0.01
          ],
          [
           "Sheesh!",
           0.53,
           0.92
          ],
          [
           "Shine",
           0.34,
           0.97
          ],
          [
           "Shoota (feat. Lil Uzi Vert)",
           0.9,
           0.75
          ],
          [
           "Shot Clock Violations",
           0.49,
           0.36
          ],
          [
           "Shotta Flow",
           0.04,
           1
          ],
          [
           "Shotta Flow (Feat. Blueface) [Remix]",
           0.05,
           1
          ],
          [
           "Show Me (feat. Chris Brown)",
           0.09,
           0.29
          ],
          [
           "Show You",
           1.44,
           0.64
          ],
          [
           "Shower",
           0.06,
           1
          ],
          [
           "Shut It Down",
           0.07,
           0.61
          ],
          [
           "Sick Boy",
           1e-17,
           0
          ],
          [
           "Silence",
           0.23,
           0.93
          ],
          [
           "Silver Tongue Devil",
           0.31,
           0.94
          ],
          [
           "Sin (feat. Jaden Smith)",
           0.06,
           1
          ],
          [
           "Sing About Me, I'm Dying Of Thirst",
           0.99,
           0.62
          ],
          [
           "Sing For The Moment",
           0.11,
           0.24
          ],
          [
           "Single Again",
           0.18,
           1
          ],
          [
           "Sit Next to Me",
           0.19,
           0.69
          ],
          [
           "Situation",
           0.07,
           0.85
          ],
          [
           "Skate",
           0.27,
           0.68
          ],
          [
           "Ski",
           1.71,
           0.73
          ],
          [
           "Skin like summer",
           0.58,
           0.94
          ],
          [
           "Skinny Love",
           0.06,
           1
          ],
          [
           "Skrt",
           0.06,
           1
          ],
          [
           "Skrt Skrt",
           0.07,
           0.75
          ],
          [
           "Sky",
           0.78,
           0.72
          ],
          [
           "Skyline",
           0.19,
           0.54
          ],
          [
           "Slide",
           0.07,
           0.52
          ],
          [
           "Slide (feat. Frank Ocean & Migos)",
           0.57,
           0.74
          ],
          [
           "Slime Shit (feat. Yak Gotti, Duke & Peewee Roscoe)",
           0.08,
           0.51
          ],
          [
           "Slip & Slide (feat. 1TakeJay)",
           0.21,
           0.9
          ],
          [
           "Slow Dance",
           0.22,
           1
          ],
          [
           "Slow Dancing in a Burning Room",
           0.1,
           0.37
          ],
          [
           "Slow Down",
           0.24,
           0.66
          ],
          [
           "Slow Jamz",
           0.11,
           0.65
          ],
          [
           "Slow Motion",
           0.04,
           0.82
          ],
          [
           "Smile",
           0.07,
           0.87
          ],
          [
           "Smoke Break (feat. Future)",
           0.13,
           0.67
          ],
          [
           "Smooth (feat. Rob Thomas)",
           0.53,
           0.54
          ],
          [
           "Smooth Criminal - 2012 Remaster",
           0.14,
           1
          ],
          [
           "Snow White",
           1e-17,
           0.06
          ],
          [
           "Snowchild",
           0.07,
           1
          ],
          [
           "Snowfall",
           0.1,
           0.51
          ],
          [
           "So 4Real",
           0.17,
           1
          ],
          [
           "So Good",
           0.04,
           0.69
          ],
          [
           "So Good (& Metro Boomin)",
           0.05,
           0.63
          ],
          [
           "So Sick",
           0.11,
           0.62
          ],
          [
           "So What",
           0.01,
           0.14
          ],
          [
           "Sober (feat. Roddy Ricch & Post Malone)",
           1.47,
           0.72
          ],
          [
           "Sold Out Dates (feat. Lil Baby)",
           0.09,
           1
          ],
          [
           "Solid (feat. Blxst & Kehlani)",
           1.19,
           0.79
          ],
          [
           "Solitaires (feat. Travis Scott)",
           1e-17,
           0.08
          ],
          [
           "Some Cool Shit",
           0.15,
           0.61
          ],
          [
           "Some Kind Of Drug (feat. Marc E. Bassy)",
           0.12,
           1
          ],
          [
           "Someone Like You",
           0.08,
           1
          ],
          [
           "Someone Said",
           0.04,
           0.31
          ],
          [
           "Something New",
           0.23,
           0.77
          ],
          [
           "Something New (feat. Ty Dolla $ign)",
           0.11,
           1
          ],
          [
           "Something Special",
           0.04,
           1
          ],
          [
           "Sometimes",
           1.3,
           0.45
          ],
          [
           "Song Cry",
           0.09,
           0.58
          ],
          [
           "Song Goes Off",
           0.02,
           0.23
          ],
          [
           "Sorry Not Sorry",
           0.2,
           0.87
          ],
          [
           "Sorry for Not Answering the Phone I'm Too Busy Trying to Fly Away",
           0.04,
           1
          ],
          [
           "Sour Patch Kids",
           0.19,
           0.68
          ],
          [
           "Spend It (feat. Young Thug)",
           0.03,
           0.32
          ],
          [
           "Spice Girl",
           0.1,
           1
          ],
          [
           "Spirit Of Ecstasy",
           0.34,
           0.57
          ],
          [
           "Splashin",
           0.36,
           0.73
          ],
          [
           "Square One",
           0.27,
           0.86
          ],
          [
           "Staccato",
           0.09,
           0.68
          ],
          [
           "Stacy's Mom",
           0.03,
           0.48
          ],
          [
           "Stairway to Heaven - Remaster",
           0.03,
           0.1
          ],
          [
           "Stan",
           1e-17,
           0.03
          ],
          [
           "Starships",
           0.16,
           0.89
          ],
          [
           "Starving",
           0.05,
           1
          ],
          [
           "Stay",
           0.62,
           0.82
          ],
          [
           "Stay Next To Me (with Chelsea Cutler)",
           0.14,
           0.59
          ],
          [
           "Stay With Me (with Justin Timberlake, Halsey & Pharrell)",
           0.68,
           0.82
          ],
          [
           "Stayin Alive",
           0.11,
           0.72
          ],
          [
           "Stereo Hearts (feat. Adam Levine)",
           1e-17,
           0
          ],
          [
           "Still Be Friends (feat. Tory Lanez & Tyga)",
           0.4,
           0.76
          ],
          [
           "Still Callin' (feat. Teeflii)",
           0.09,
           0.62
          ],
          [
           "Still Dreamin (with JID & Lute feat. 6LACK)",
           0.08,
           0.53
          ],
          [
           "Still Got It",
           0.13,
           0.69
          ],
          [
           "Still Here (feat. Cordae)",
           0.08,
           0.52
          ],
          [
           "Still Omw",
           1.01,
           0.9
          ],
          [
           "Stolen Moments",
           0.04,
           1
          ],
          [
           "Stone Cold",
           0.05,
           1
          ],
          [
           "Stoney (feat. Phoelix & BJRKNC)",
           0.06,
           1
          ],
          [
           "Stoop So Low",
           0.02,
           0.21
          ],
          [
           "Stop Snitchin",
           0.1,
           0.79
          ],
          [
           "Stop This Train",
           0.25,
           0.64
          ],
          [
           "Story Time",
           0.94,
           0.72
          ],
          [
           "Story of My Life",
           1e-17,
           0.02
          ],
          [
           "Straightjacket",
           0.17,
           1
          ],
          [
           "Strangers - R3hab Remix",
           1e-17,
           0.02
          ],
          [
           "Strawberry Skies",
           2.52,
           0.7
          ],
          [
           "Street Kings (feat. Meek Mill)",
           0.03,
           0.53
          ],
          [
           "Streetcar",
           0.14,
           0.7
          ],
          [
           "Streets Ain't Safe",
           0.51,
           0.76
          ],
          [
           "Stressed (with J. Cole & T-Shyne)",
           0.12,
           1
          ],
          [
           "Stressed Out",
           1e-17,
           0.01
          ],
          [
           "Strip (feat. Kevin McCall)",
           0.05,
           1
          ],
          [
           "Stronger",
           0.09,
           0.5
          ],
          [
           "Stubborn Love",
           0.21,
           0.45
          ],
          [
           "Studio",
           0.2,
           0.66
          ],
          [
           "Stuntin' On You (feat. DaBaby)",
           0.1,
           0.86
          ],
          [
           "Suffocate",
           0.03,
           0.26
          ],
          [
           "Suga Suga",
           0.28,
           0.71
          ],
          [
           "Sugar (feat. Wynter)",
           0.03,
           0.49
          ],
          [
           "Sugar, We're Goin Down",
           0.13,
           1
          ],
          [
           "Suge",
           0.27,
           0.83
          ],
          [
           "Sum 2 Prove",
           0.04,
           0.25
          ],
          [
           "Summer",
           0.16,
           0.31
          ],
          [
           "Summer Love",
           0.13,
           0.61
          ],
          [
           "Summer Luv",
           0.03,
           0.5
          ],
          [
           "Summer Madness",
           0.2,
           0.93
          ],
          [
           "Sunday",
           2.26,
           0.71
          ],
          [
           "Sunday Best",
           0.27,
           0.75
          ],
          [
           "Sunday Morning",
           0.34,
           0.71
          ],
          [
           "Sundress",
           0.04,
           0.34
          ],
          [
           "Sunroof",
           0.36,
           0.68
          ],
          [
           "Super Bass",
           0.01,
           0.14
          ],
          [
           "Super Freak",
           0.06,
           1
          ],
          [
           "Superman",
           0.11,
           0.69
          ],
          [
           "Superstar",
           0.05,
           0.67
          ],
          [
           "Suppose To",
           0.01,
           0.23
          ],
          [
           "Surf (feat. Gunna)",
           0.12,
           0.77
          ],
          [
           "Surround Sound (feat. 21 Savage & Baby Tate)",
           0.19,
           0.51
          ],
          [
           "Sway (feat. Quavo & Lil Yachty)",
           0.08,
           0.56
          ],
          [
           "Sweet Caroline",
           0.04,
           0.71
          ],
          [
           "Sweet Pea",
           0.07,
           1
          ],
          [
           "Swervin (feat. 6ix9ine)",
           0.08,
           0.76
          ],
          [
           "Switch Lanes",
           0.06,
           1
          ],
          [
           "T-Shirt",
           0.19,
           0.57
          ],
          [
           "TAlk tO Me (with Rich The Kid)",
           1e-17,
           0.07
          ],
          [
           "TD (feat. Problem)",
           0.15,
           0.78
          ],
          [
           "THE TASTE feat. BJ The Chicago Kid & Papi Beatz",
           2.02,
           0.76
          ],
          [
           "Tadow",
           0.41,
           0.49
          ],
          [
           "Take It Easy",
           0.79,
           0.9
          ],
          [
           "Take You There",
           0.08,
           0.61
          ],
          [
           "Taking A Walk",
           0.14,
           0.67
          ],
          [
           "Talk",
           0.01,
           0.11
          ],
          [
           "Talk Dirty (feat. 2 Chainz)",
           0.05,
           1
          ],
          [
           "Talk To Me Nice (Feat. Meek Mill, Moneybagg Yo & Blxst)",
           0.31,
           0.5
          ],
          [
           "Talk to 'em'",
           0.06,
           1
          ],
          [
           "Talk to Me Nicely",
           0.58,
           0.88
          ],
          [
           "Tap (feat. Meek Mill)",
           0.21,
           0.87
          ],
          [
           "Tapestry",
           0.05,
           1
          ],
          [
           "Taste (feat. Offset)",
           0.11,
           0.57
          ],
          [
           "Teach Me How to Dougie",
           0.06,
           0.43
          ],
          [
           "Team",
           0.05,
           0.5
          ],
          [
           "Teenage Dream",
           0.06,
           1
          ],
          [
           "Telephone",
           0.07,
           0.55
          ],
          [
           "Televised",
           0.02,
           0.39
          ],
          [
           "Tell Em",
           0.12,
           0.61
          ],
          [
           "Tell Me When to Go (feat. Keak da Sneak)",
           0.59,
           0.56
          ],
          [
           "Tell The Truth (with Shordie Shordie)",
           0.04,
           0.37
          ],
          [
           "Temperature",
           0.11,
           0.98
          ],
          [
           "Tempo",
           0.12,
           0.67
          ],
          [
           "Tennis Court",
           0.06,
           0.27
          ],
          [
           "Thank Me Now",
           0.06,
           0.62
          ],
          [
           "Thanksgiving",
           0.11,
           0.98
          ],
          [
           "That Nigga (feat. Jay Ant)",
           0.1,
           1
          ],
          [
           "That Way - Bonus Track",
           1.74,
           0.8
          ],
          [
           "That's A Fact",
           0.1,
           1
          ],
          [
           "That's My N**** (with Meek Mill, YG & Snoop Dogg)",
           1e-17,
           0.01
          ],
          [
           "That's What I Like",
           0.5,
           0.88
          ],
          [
           "That's on You",
           0.23,
           0.55
          ],
          [
           "That's the Way (I Like It) - 2004 Remaster",
           0.05,
           1
          ],
          [
           "That's the Way It Is",
           0.07,
           0.51
          ],
          [
           "The Best Part of Life",
           6.04,
           0.76
          ],
          [
           "The Bigger Picture",
           0.23,
           0.47
          ],
          [
           "The Black and White",
           0.01,
           0.13
          ],
          [
           "The Body (feat. Jeremih)",
           0.07,
           0.53
          ],
          [
           "The Climb",
           0.07,
           1
          ],
          [
           "The Fog",
           0.82,
           0.93
          ],
          [
           "The Jackie (with J. Cole & Lil Tjay)",
           0.09,
           0.79
          ],
          [
           "The Journey",
           1e-17,
           0.03
          ],
          [
           "The Last Song",
           0.9,
           0.52
          ],
          [
           "The Lazy Song",
           0.78,
           0.83
          ],
          [
           "The London (feat. J. Cole & Travis Scott)",
           0.15,
           0.68
          ],
          [
           "The Loser",
           0.04,
           1
          ],
          [
           "The Man Who Can't Be Moved",
           1e-17,
           0.05
          ],
          [
           "The Middle",
           0.71,
           0.77
          ],
          [
           "The Mountain",
           0.07,
           0.56
          ],
          [
           "The Oldest Man In The Room",
           0.06,
           1
          ],
          [
           "The Real Slim Shady",
           0.14,
           0.88
          ],
          [
           "The Take (feat. Chris Brown)",
           0.12,
           1
          ],
          [
           "The Tip Of The Iceberg",
           0.04,
           0.79
          ],
          [
           "The Top",
           0.98,
           0.72
          ],
          [
           "The Tour",
           0.07,
           0.34
          ],
          [
           "The Voice",
           0.05,
           1
          ],
          [
           "The Way",
           0.11,
           0.88
          ],
          [
           "The Way I Live - Radio Clean Edit",
           1e-17,
           0.04
          ],
          [
           "The Way Life Goes (feat. Oh Wonder)",
           0.12,
           0.65
          ],
          [
           "The Way You Make Me Feel - 2012 Remaster",
           0.11,
           0.64
          ],
          [
           "The Way You Move (feat. Sleepy Brown)",
           0.07,
           0.51
          ],
          [
           "The Weekend (feat. Young Thug & Swizz Beatz)",
           0.01,
           0.18
          ],
          [
           "The Woo (feat. 50 Cent & Roddy Ricch)",
           0.79,
           0.71
          ],
          [
           "There Goes My Baby",
           0.02,
           0.15
          ],
          [
           "There I Go",
           0.02,
           0.35
          ],
          [
           "Thinking About You (feat. Ayah Marar)",
           0.07,
           1
          ],
          [
           "This Is What You Came For",
           0.06,
           1
          ],
          [
           "Thong Song",
           0.07,
           1
          ],
          [
           "Thotiana",
           0.07,
           1
          ],
          [
           "Thoughts",
           0.03,
           1
          ],
          [
           "Thousand Ways",
           0.05,
           1
          ],
          [
           "Thrift Shop (feat. Wanz)",
           0.07,
           1
          ],
          [
           "Thriller",
           0.19,
           0.97
          ],
          [
           "Through The Wire",
           0.06,
           0.34
          ],
          [
           "Through and Through",
           0.03,
           1
          ],
          [
           "Through the Fire (feat. Quavo)",
           0.53,
           0.66
          ],
          [
           "Throw It In The Bag",
           0.06,
           1
          ],
          [
           "Throw Sum Mo",
           1e-17,
           0.02
          ],
          [
           "Throw Your Hood Up",
           0.31,
           1
          ],
          [
           "Thru The Fire",
           0.1,
           1
          ],
          [
           "Thrusting (feat. Swae Lee & Future)",
           0.06,
           1
          ],
          [
           "Thugz Mansion (feat. Ty Dolla $ign & YG)",
           0.23,
           0.63
          ],
          [
           "TiK ToK",
           0.06,
           0.53
          ],
          [
           "Tic Toc",
           0.24,
           0.71
          ],
          [
           "Tic Toc (with Tory Lanez)",
           0.04,
           1
          ],
          [
           "Tie Me Down (feat. Ray J)",
           0.05,
           1
          ],
          [
           "Tied Up (feat. DeJ Loaf)",
           0.27,
           0.71
          ],
          [
           "Till I Die",
           0.11,
           0.89
          ],
          [
           "Time",
           1.04,
           0.49
          ],
          [
           "Time (feat. Roddy Ricch)",
           0.02,
           0.13
          ],
          [
           "Time Will Tell",
           0.14,
           1
          ],
          [
           "Time of Our Lives",
           0.19,
           1
          ],
          [
           "Timing",
           0.1,
           1
          ],
          [
           "Tints (feat. Kendrick Lamar)",
           0.15,
           1
          ],
          [
           "Tiny Dancer",
           0.1,
           1
          ],
          [
           "Tipsy - Club Mix",
           0.03,
           0.52
          ],
          [
           "Tired Of You",
           0.01,
           0.11
          ],
          [
           "Today (feat. Gunna)",
           1.15,
           0.81
          ],
          [
           "Tone It Down (feat. Chris Brown)",
           0.13,
           0.73
          ],
          [
           "Tonight",
           0.05,
           0.47
          ],
          [
           "Tonight (I'm Fuckin' You)",
           0.06,
           1
          ],
          [
           "Tonight Tonight",
           0.11,
           0.66
          ],
          [
           "Tony Tone",
           0.01,
           0.11
          ],
          [
           "Too Hotty",
           0.03,
           0.42
          ],
          [
           "Too Many Nights (feat. Don Toliver & with Future)",
           2.63,
           0.84
          ],
          [
           "Too Much (feat. Lucky Daye)",
           0.43,
           0.71
          ],
          [
           "Too Quick",
           0.18,
           0.6
          ],
          [
           "Too Young",
           1e-17,
           0.03
          ],
          [
           "Toot It And Boot It",
           0.14,
           0.53
          ],
          [
           "Top Off Benz (feat. Young Thug)",
           0.13,
           0.66
          ],
          [
           "Touchin, Lovin (feat. Nicki Minaj)",
           0.12,
           1
          ],
          [
           "Transportin'",
           0.14,
           0.75
          ],
          [
           "Trap (feat. Lil Baby)",
           0.12,
           0.78
          ],
          [
           "Trap House (feat. Shoreline Mafia)",
           0.15,
           0.62
          ],
          [
           "Trap Paris (feat. Quavo & Ty Dolla $ign)",
           0.02,
           0.28
          ],
          [
           "Trap Queen",
           0.06,
           0.5
          ],
          [
           "Treehouse (feat. Shotty Horroh)",
           0.06,
           1
          ],
          [
           "Tribe (with J. Cole)",
           0.08,
           0.57
          ],
          [
           "Trick'n - Radio Version",
           0.28,
           0.95
          ],
          [
           "Trina",
           0.04,
           1
          ],
          [
           "Trip On It (feat. DaBoii, $tupid Young & Fenix Flexin)",
           0.82,
           0.64
          ],
          [
           "Trophies",
           0.2,
           0.75
          ],
          [
           "True Love",
           0.39,
           0.63
          ],
          [
           "Truffle Butter",
           0.19,
           0.45
          ],
          [
           "Trumpets",
           0.06,
           1
          ],
          [
           "Trust Nobody",
           0.05,
           1
          ],
          [
           "Truth",
           0.06,
           1
          ],
          [
           "Truth Be Told",
           0.04,
           1
          ],
          [
           "Try Me",
           1e-17,
           0.01
          ],
          [
           "Turks (feat. Travis Scott)",
           0.11,
           0.83
          ],
          [
           "Twin Flame",
           0.95,
           0.7
          ],
          [
           "Tyler Herro",
           0.2,
           0.59
          ],
          [
           "U Mad",
           0.5,
           0.67
          ],
          [
           "U Remind Me",
           0.03,
           0.43
          ],
          [
           "U and Dat (feat. T. Pain & Kandi Girl)",
           0.09,
           0.41
          ],
          [
           "Uber",
           1.63,
           0.89
          ],
          [
           "Uber Everywhere",
           0.04,
           1
          ],
          [
           "Ultraviolet",
           0.18,
           0.89
          ],
          [
           "Umbrella",
           0.03,
           0.35
          ],
          [
           "Unbothered",
           1e-17,
           0.01
          ],
          [
           "Undefeated (feat. Lil Keed)",
           0.07,
           0.77
          ],
          [
           "Under The Sun (with J. Cole & Lute feat. DaBaby)",
           0.03,
           0.22
          ],
          [
           "Understand (feat. Blxst)",
           1.5,
           0.72
          ],
          [
           "Understand Me",
           0.17,
           0.37
          ],
          [
           "Unforgettable",
           0.63,
           0.81
          ],
          [
           "Unstoppable - FKJ Remix",
           0.18,
           0.67
          ],
          [
           "Unwritten",
           0.07,
           0.96
          ],
          [
           "Up All Night",
           0.04,
           1
          ],
          [
           "Up Down (Do This All Day) (feat. B.o.B)",
           0.06,
           1
          ],
          [
           "Up There",
           0.06,
           0.57
          ],
          [
           "Up Up & Away",
           0.12,
           0.94
          ],
          [
           "Up the River",
           0.2,
           0.93
          ],
          [
           "Upgrade U (feat. Jay-Z)",
           0.15,
           0.41
          ],
          [
           "Used To It",
           0.17,
           1
          ],
          [
           "Used to This (feat. Drake)",
           0.05,
           1
          ],
          [
           "VIBEZ",
           0.41,
           0.94
          ],
          [
           "Valerie - Live At BBC Radio 1 Live Lounge, London / 2007",
           0.16,
           0.84
          ],
          [
           "Valet (feat. Fetty Wap and 2 Chainz)",
           0.29,
           0.73
          ],
          [
           "Verify (feat. Young Thug, Gunna)",
           0.2,
           0.75
          ],
          [
           "Versace on the Floor",
           0.08,
           0.27
          ],
          [
           "Vetement Socks",
           1.54,
           0.87
          ],
          [
           "Vibe Like This (feat. Ty Dolla $ign & Lucky Daye)",
           1.74,
           0.73
          ],
          [
           "Vibe With You (feat. Ty Dolla $ign)",
           0.29,
           0.55
          ],
          [
           "Violent Crimes",
           0.51,
           0.71
          ],
          [
           "Vlone Flex",
           0.79,
           0.88
          ],
          [
           "Voice of the Heroes",
           0.75,
           0.92
          ],
          [
           "Vroom Vroom",
           0.13,
           1
          ],
          [
           "W2LEEZY",
           0.05,
           1
          ],
          [
           "WAIT FOR U (feat. Drake & Tems)",
           0.8,
           0.8
          ],
          [
           "WAKE UP",
           0.06,
           1
          ],
          [
           "WELFARE (feat. Westside Gunn)",
           0.05,
           0.34
          ],
          [
           "WHATS POPPIN",
           0.01,
           0.07
          ],
          [
           "WRONG (feat. Lil Mosey)",
           0.45,
           0.99
          ],
          [
           "WUSYANAME (feat. Youngboy Never Broke Again & Ty Dolla $ign)",
           1e-17,
           0.01
          ],
          [
           "Wait for You",
           1e-17,
           0.05
          ],
          [
           "Waiting On the World to Change",
           0.17,
           1
          ],
          [
           "Wake It Up",
           1.66,
           0.75
          ],
          [
           "Wake Up This Day",
           1e-17,
           0.06
          ],
          [
           "Walk",
           0.01,
           0.13
          ],
          [
           "Walk Em Down (feat. Roddy Ricch)",
           0.1,
           0.7
          ],
          [
           "Walk It Out",
           0.04,
           0.38
          ],
          [
           "Walk It Talk It",
           0.24,
           0.62
          ],
          [
           "Walk Thru (feat. Problem)",
           0.04,
           0.81
          ],
          [
           "Walking On A Dream",
           0.06,
           1
          ],
          [
           "Walking On Sunshine",
           0.07,
           1
          ],
          [
           "Wander With Me",
           0.71,
           0.59
          ],
          [
           "Wandering",
           0.08,
           1
          ],
          [
           "Want Her",
           0.36,
           0.42
          ],
          [
           "Wanted You (feat. Lil Uzi Vert)",
           0.03,
           0.55
          ],
          [
           "Wants and Needs (feat. Lil Baby)",
           0.81,
           0.76
          ],
          [
           "War with Me",
           0.12,
           1
          ],
          [
           "Wat's Wrong (feat. Zacari & Kendrick Lamar)",
           0.03,
           0.19
          ],
          [
           "Watch (feat. Lil Uzi Vert & Kanye West)",
           1e-17,
           0.02
          ],
          [
           "Water",
           0.07,
           0.85
          ],
          [
           "Watery",
           0.12,
           1
          ],
          [
           "Wave of You",
           0.8,
           0.74
          ],
          [
           "Waves",
           0.13,
           0.53
          ],
          [
           "Waves - Robin Schulz Radio Edit",
           0.03,
           0.53
          ],
          [
           "Wavy (feat. Joe Moses)",
           0.11,
           0.52
          ],
          [
           "Way Back Home (feat. Ty Dolla $ign)",
           0.28,
           0.84
          ],
          [
           "Way It Goes",
           0.14,
           1
          ],
          [
           "Way More Close (Stuck In A Box) (feat. Big Sean)",
           1.15,
           0.72
          ],
          [
           "We Are",
           0.07,
           1
          ],
          [
           "We Are One (Ole Ola) [The Official 2014 FIFA World Cup Song] (feat. Jennifer Lopez & Claudia Leitte)",
           0.06,
           1
          ],
          [
           "We Belong Together",
           0.06,
           1
          ],
          [
           "We Caa Done (feat. Drake)",
           0.27,
           1
          ],
          [
           "We Can't Be Friends",
           0.06,
           1
          ],
          [
           "We Could Go Back",
           0.05,
           1
          ],
          [
           "We Find Love",
           0.46,
           0.73
          ],
          [
           "We The Ones (feat. Blxst & Tree Thomas)",
           0.06,
           0.51
          ],
          [
           "We've Never Met but Can We Have a Cup of Coffee or Something",
           0.06,
           1
          ],
          [
           "Webbie (feat. Duke)",
           0.37,
           0.93
          ],
          [
           "Wednesday Morning",
           0.07,
           1
          ],
          [
           "Weekend (feat. Miguel)",
           0.1,
           0.55
          ],
          [
           "Weekend Millionaires",
           1.31,
           0.88
          ],
          [
           "Welcome To The Party",
           2.94,
           0.67
          ],
          [
           "West Coast Love",
           1.01,
           0.77
          ],
          [
           "West LA",
           0.01,
           0.09
          ],
          [
           "Wet Dreamz",
           0.04,
           0.67
          ],
          [
           "What Happened To Virgil (feat. Gunna)",
           1.2,
           0.72
          ],
          [
           "What I've Done",
           0.03,
           0.46
          ],
          [
           "What They Want",
           0.05,
           1
          ],
          [
           "What You Know Bout Love",
           0.02,
           0.19
          ],
          [
           "What's My Name?",
           0.07,
           1
          ],
          [
           "What's the Move (feat. Lil Uzi Vert)",
           0.04,
           0.62
          ],
          [
           "Whatcha Say",
           0.05,
           0.87
          ],
          [
           "Whatever You Like",
           0.01,
           0.08
          ],
          [
           "Whatever You Need (feat. Chris Brown & Ty Dolla $ign)",
           0.57,
           0.77
          ],
          [
           "When I Come Around",
           0.25,
           0.81
          ],
          [
           "When I Grow Up",
           1e-17,
           0
          ],
          [
           "Where The Hood At",
           0.08,
           0.5
          ],
          [
           "Where the Party At (feat. Nelly)",
           0.46,
           0.59
          ],
          [
           "Wherever You Are (with Tory Lanez)",
           0.34,
           0.76
          ],
          [
           "White Iverson",
           0.07,
           1
          ],
          [
           "Who Booty (Remix) (feat. French Montana)",
           0.31,
           0.74
          ],
          [
           "Who Dat Girl (feat. Akon)",
           0.04,
           0.19
          ],
          [
           "Who Do You Love?",
           0.39,
           0.86
          ],
          [
           "Who Hurt You?",
           0.26,
           1
          ],
          [
           "Who Needs Love",
           0.1,
           1
          ],
          [
           "Who Says",
           0.05,
           1
          ],
          [
           "Who's That Chick ? (feat. Rihanna) - Single Version",
           0.01,
           0.31
          ],
          [
           "Why Georgia",
           0.61,
           0.68
          ],
          [
           "Why Georgia - Live at the Nokia Theatre, Los Angeles, CA - December 2007",
           0.15,
           0.98
          ],
          [
           "Wide Awake",
           0.01,
           0.05
          ],
          [
           "Wide Open (feat. Ta-ku & Masego) - Cabu & Ta-ku Remix",
           1.2,
           0.65
          ],
          [
           "Wife You",
           0.01,
           0.12
          ],
          [
           "Wife You Up",
           0.03,
           0.59
          ],
          [
           "Wild Thoughts - Medasin Dance Remix",
           0.08,
           1
          ],
          [
           "Will We Ever Know - Intro",
           0.03,
           1
          ],
          [
           "Willing To Trust (with Ty Dolla $ign)",
           0.31,
           0.49
          ],
          [
           "Window",
           0.39,
           0.73
          ],
          [
           "Winner (feat. Justin Timberlake & T.I.)",
           0.19,
           0.94
          ],
          [
           "Wishing Well",
           0.16,
           0.76
          ],
          [
           "With You",
           0.07,
           1
          ],
          [
           "Without Me (with Juice WRLD)",
           0.03,
           0.4
          ],
          [
           "Woah (feat. Miguel & Ty Dolla $ign)",
           0.1,
           0.67
          ],
          [
           "Wobble",
           0.15,
           0.84
          ],
          [
           "Wolves",
           0.02,
           0.27
          ],
          [
           "Won't Go (feat. Blxst)",
           2.21,
           0.83
          ],
          [
           "Woo Baby (feat. Chris Brown)",
           0.17,
           0.81
          ],
          [
           "Woodlawn",
           0.04,
           1
          ],
          [
           "Woods",
           0.44,
           0.91
          ],
          [
           "Work",
           0.06,
           1
          ],
          [
           "Work Out",
           0.13,
           1
          ],
          [
           "Work from Home (feat. Ty Dolla $ign)",
           0.18,
           1
          ],
          [
           "World Rage",
           0.04,
           1
          ],
          [
           "Worth It",
           0.04,
           0.7
          ],
          [
           "Wouldn't Be Us (with YG, Blxst)",
           0.92,
           0.89
          ],
          [
           "Wouldn't Leave",
           0.11,
           1
          ],
          [
           "Wow.",
           0.04,
           0.93
          ],
          [
           "Write My Name",
           0.32,
           0.83
          ],
          [
           "Wrong or Right",
           2.88,
           0.85
          ],
          [
           "X (with 2 Chainz & Saudi)",
           0.27,
           0.91
          ],
          [
           "XO Tour Llif3",
           0.61,
           0.81
          ],
          [
           "Y.M.C.A.",
           0.08,
           1
          ],
          [
           "YOSEMITE",
           0.12,
           0.96
          ],
          [
           "YUSO (feat. Lil Wayne & Saweetie)",
           0.16,
           0.82
          ],
          [
           "Yacht Club (feat. Juice WRLD)",
           0.18,
           1
          ],
          [
           "Yea Yea",
           0.15,
           1
          ],
          [
           "Yeah 3x",
           0.07,
           1
          ],
          [
           "Yeah! (feat. Lil Jon & Ludacris)",
           0.3,
           0.85
          ],
          [
           "Yes Indeed",
           0.14,
           0.7
          ],
          [
           "Yessirskiii",
           0.04,
           0.24
          ],
          [
           "Yiken (Certified)",
           0.14,
           0.83
          ],
          [
           "Yo (Excuse Me Miss)",
           0.11,
           0.84
          ],
          [
           "Yo Love - From \"Queen & Slim: The Soundtrack\"",
           0.44,
           1
          ],
          [
           "You",
           0.44,
           0.44
          ],
          [
           "You & I (Nobody in the World)",
           0.07,
           1
          ],
          [
           "You & Me - Flume Remix",
           0.04,
           0.55
          ],
          [
           "You (Remix) feat. Blueface",
           0.08,
           0.45
          ],
          [
           "You And Me",
           0.05,
           0.95
          ],
          [
           "You Found Me",
           1e-17,
           0.02
          ],
          [
           "You Got It",
           0.2,
           0.69
          ],
          [
           "You Gotta Be",
           0.04,
           0.6
          ],
          [
           "You Said (feat. Quavo)",
           0.1,
           0.88
          ],
          [
           "You and Me",
           0.27,
           0.69
          ],
          [
           "You and Your Friends (feat. Snoop Dogg & Ty Dolla $ign)",
           0.16,
           1
          ],
          [
           "You're On My Mind",
           2.02,
           0.6
          ],
          [
           "Young Dumb & Broke",
           0.06,
           1
          ],
          [
           "Your Body Is a Wonderland",
           0.14,
           0.52
          ],
          [
           "Your Peace (feat. Lil Baby)",
           0.15,
           0.71
          ],
          [
           "You’re Mines Still (feat. Drake)",
           1e-17,
           0.01
          ],
          [
           "Z4L (with Bari & Jay2)",
           0.01,
           0.07
          ],
          [
           "ZEZE (feat. Travis Scott & Offset)",
           0.27,
           0.71
          ],
          [
           "[Admire Her] (with Gunna)",
           0.79,
           0.9
          ],
          [
           "[oops]",
           0.04,
           0.51
          ],
          [
           "a m a r i",
           0.04,
           1
          ],
          [
           "an Interlude Called “Circus” (feat. Eryn Allen Kane)",
           0.06,
           0.82
          ],
          [
           "bad vibes forever",
           0.67,
           0.89
          ],
          [
           "ball w/o you",
           0.25,
           0.77
          ],
          [
           "booman",
           0.02,
           0.46
          ],
          [
           "bury a friend",
           0.05,
           1
          ],
          [
           "can't leave without it",
           0.03,
           0.52
          ],
          [
           "changes",
           1e-17,
           0.01
          ],
          [
           "cocoa (with Don Toliver)",
           0.06,
           1
          ],
          [
           "comethru",
           0.08,
           0.8
          ],
          [
           "everything you need",
           0.37,
           0.53
          ],
          [
           "family ties (with Kendrick Lamar)",
           0.69,
           0.7
          ],
          [
           "fast (Remix) [feat. Offset & A Boogie Wit da Hoodie]",
           0.01,
           0.27
          ],
          [
           "first order of business",
           0.09,
           0.62
          ],
          [
           "gone girl",
           0.27,
           1
          ],
          [
           "goosebumps",
           0.12,
           0.89
          ],
          [
           "gorgeous",
           0.04,
           1
          ],
          [
           "heaD iN thE cloudS",
           0.37,
           0.89
          ],
          [
           "hibachi (feat. Kodak Black & 21 Savage)",
           2.95,
           0.81
          ],
          [
           "julia",
           0.24,
           0.82
          ],
          [
           "just ask",
           0.05,
           1
          ],
          [
           "last day on earth",
           1.21,
           0.63
          ],
          [
           "late at night",
           0.23,
           0.53
          ],
          [
           "life got crazy",
           2.6,
           0.69
          ],
          [
           "lost souls",
           0.18,
           0.82
          ],
          [
           "lovesick",
           0.04,
           1
          ],
          [
           "loving u is harder",
           0.2,
           1
          ],
          [
           "monster gambling in tokyo",
           0.04,
           1
          ],
          [
           "moonlit room",
           0.06,
           0.41
          ],
          [
           "my new love",
           0.02,
           0.56
          ],
          [
           "oneofone_rwrk",
           0.03,
           1
          ],
          [
           "pick up the phone",
           0.07,
           1
          ],
          [
           "pushin P (feat. Young Thug)",
           5.43,
           0.77
          ],
          [
           "rockstar (feat. 21 Savage)",
           0.06,
           0.34
          ],
          [
           "sincerely, yours",
           0.01,
           0.38
          ],
          [
           "snowfall",
           0.75,
           0.84
          ],
          [
           "superstars",
           0.06,
           1
          ],
          [
           "thank u, next",
           0.17,
           0.75
          ],
          [
           "this girl",
           0.03,
           1
          ],
          [
           "too easy (Remix) [feat. Future & Roddy Ricch]",
           4.08,
           0.85
          ],
          [
           "upsides",
           0.38,
           0.93
          ],
          [
           "viola",
           0.02,
           1
          ],
          [
           "way back",
           0.39,
           0.73
          ],
          [
           "when the water meets the mountains (acoustic version)",
           0.08,
           0.93
          ],
          [
           "wokeuplikethis*",
           0.07,
           1
          ]
         ],
         "hovertemplate": "Track: %{customdata[0]} <br>Hours Played: %{customdata[1]} <br>Percentage: %{customdata[2]} </br>",
         "legendgroup": "",
         "marker": {
          "color": [
           0.76,
           0.55,
           0.16,
           0.35,
           0.85,
           0.89,
           1,
           1,
           0.13,
           0.6,
           0.78,
           0.8,
           0.85,
           0.35,
           1,
           1,
           0.07,
           0.51,
           0.04,
           0.7,
           0.81,
           0.99,
           0.01,
           0.75,
           0.83,
           0.65,
           1,
           0.54,
           0.67,
           0.96,
           0.66,
           0.64,
           0.59,
           1,
           0.82,
           0.46,
           0.98,
           0.5,
           0.45,
           0.71,
           0.53,
           1,
           1,
           1,
           0.09,
           0.53,
           1,
           0.36,
           0.62,
           0.96,
           0.69,
           0.67,
           0.35,
           1,
           0.46,
           1,
           1,
           0.91,
           0.25,
           0.36,
           0.67,
           1,
           1,
           1,
           0.57,
           0.57,
           0.34,
           0.82,
           0.46,
           0.89,
           1,
           0.74,
           0.56,
           1,
           0.89,
           0.77,
           0.93,
           0.15,
           1,
           0.07,
           0.24,
           0.99,
           0.94,
           0.4,
           1,
           0.97,
           1,
           0.97,
           0.92,
           0,
           0.65,
           0.51,
           0.25,
           1,
           0.54,
           0.61,
           0.6,
           0.62,
           1,
           0.54,
           0.5,
           0.51,
           0.27,
           0.42,
           0.78,
           0.89,
           0.58,
           0.73,
           1,
           0.4,
           1,
           1,
           0.87,
           0.5,
           0.66,
           0.91,
           0.71,
           0.65,
           0.51,
           0.46,
           0.42,
           1,
           0.49,
           0.5,
           0.75,
           0.17,
           0.53,
           0.75,
           0.47,
           0.52,
           0.7,
           0.86,
           0.83,
           0.63,
           0.09,
           0.8,
           0.03,
           1,
           0.96,
           0.89,
           0.98,
           0.68,
           0.42,
           1,
           0.5,
           0.28,
           0.53,
           1,
           0.6,
           1,
           0.76,
           0.93,
           0.94,
           0.2,
           1,
           0.93,
           0,
           0.56,
           0.66,
           1,
           0.72,
           0.48,
           0.02,
           0.6,
           0.87,
           1,
           0.35,
           1,
           1,
           0.7,
           0.78,
           0.86,
           1,
           0.49,
           1,
           0.51,
           0.92,
           1,
           0.37,
           1,
           0.68,
           0.54,
           1,
           0.94,
           0.89,
           0.63,
           0.48,
           1,
           0.53,
           0.88,
           0.65,
           0.08,
           0.8,
           0.69,
           0.83,
           1,
           0.08,
           0.29,
           0.81,
           1,
           1,
           0.86,
           0.52,
           0.72,
           1,
           0.15,
           0.42,
           0.63,
           0.9,
           0.35,
           0.93,
           1,
           0.8,
           0.83,
           0.02,
           0.9,
           0.61,
           1,
           0.92,
           0.99,
           0.81,
           0.68,
           0.56,
           1,
           1,
           0.62,
           0.08,
           0.09,
           0.01,
           0.72,
           0.02,
           1,
           1,
           0.93,
           1,
           1,
           0.81,
           1,
           0.74,
           0.74,
           0.67,
           0.74,
           0.69,
           1,
           0.58,
           1,
           0.7,
           0.12,
           1,
           0.99,
           1,
           0.85,
           1,
           0.61,
           0.64,
           1,
           0.85,
           0.92,
           0.88,
           0.75,
           1,
           0.65,
           0.86,
           0.99,
           0.79,
           0.79,
           0.13,
           1,
           1,
           0.44,
           0.86,
           0.42,
           0.7,
           1,
           1,
           0.8,
           1,
           0.27,
           0.54,
           0.53,
           0.8,
           0.66,
           1,
           0.78,
           1,
           1,
           0.35,
           0.67,
           0.53,
           0.79,
           0.63,
           0.98,
           0.41,
           0.71,
           0.16,
           0.73,
           1,
           0.04,
           1,
           0.62,
           0.91,
           0.23,
           0.2,
           1,
           0.61,
           0.73,
           0.78,
           0.03,
           0.05,
           1,
           0.75,
           0.65,
           1,
           0.39,
           0.4,
           0.73,
           1,
           0.3,
           1,
           0.81,
           0.7,
           0.43,
           0.8,
           1,
           0.2,
           1,
           1,
           0.07,
           0.71,
           0.75,
           1,
           0.86,
           0.81,
           0.87,
           0.74,
           1,
           0.42,
           1,
           0.93,
           1,
           1,
           1,
           0.63,
           0.81,
           0.5,
           0.6,
           1,
           0.75,
           0.4,
           0.83,
           0.79,
           0.21,
           0.79,
           0.45,
           0.67,
           0.67,
           0.53,
           0.69,
           0.87,
           0.06,
           1,
           0.49,
           0.76,
           0.71,
           0.76,
           1,
           0.56,
           0.76,
           1,
           0.62,
           0.2,
           0.78,
           1,
           0.53,
           1,
           1,
           0.56,
           0.46,
           0.8,
           0.37,
           0.46,
           0.69,
           0.11,
           0.65,
           1,
           1,
           1,
           0.78,
           0.83,
           0.76,
           1,
           0.1,
           0.41,
           0.7,
           0.11,
           1,
           0.85,
           0.95,
           0.35,
           0.68,
           0.7,
           0.79,
           0.5,
           0.08,
           0.68,
           0.27,
           0.59,
           0.96,
           1,
           0.75,
           0.67,
           0.16,
           1,
           0.73,
           0.25,
           0,
           1,
           0.28,
           0.61,
           0.55,
           0.44,
           0.92,
           0.69,
           0.24,
           0.69,
           0.62,
           0.02,
           0.85,
           0.22,
           0.47,
           0.79,
           0.47,
           0.77,
           0.08,
           0.84,
           0.65,
           0.5,
           1,
           0.51,
           0.6,
           1,
           0.66,
           0.75,
           0.67,
           0.87,
           0.71,
           0.56,
           0.1,
           0.8,
           1,
           0.72,
           0.18,
           0.73,
           1,
           0.77,
           0.81,
           0.81,
           0.75,
           0.41,
           0.35,
           0.76,
           0.27,
           1,
           0.94,
           0.53,
           0.31,
           0.85,
           1,
           0.54,
           1,
           0.61,
           0.32,
           0.67,
           1,
           0.7,
           1,
           0.78,
           0.03,
           1,
           0.86,
           1,
           0.59,
           0.71,
           0.81,
           1,
           0.51,
           0.31,
           0.82,
           1,
           1,
           1,
           0.73,
           0.61,
           1,
           0.82,
           1,
           1,
           0.44,
           0.78,
           0.98,
           0.66,
           0.99,
           1,
           1,
           0.71,
           0.8,
           0,
           0.81,
           1,
           0.6,
           1,
           1,
           0.71,
           1,
           0.86,
           0.66,
           0.57,
           0.05,
           0.73,
           0.78,
           0.09,
           0.67,
           1,
           0.52,
           0.44,
           0.6,
           0.91,
           0.84,
           0.97,
           0.76,
           0.78,
           0.64,
           0.52,
           1,
           0.63,
           0.6,
           1,
           1,
           0.83,
           0.29,
           0.75,
           1,
           0.79,
           0.82,
           0.76,
           0.51,
           0.6,
           1,
           0.02,
           0.49,
           0.26,
           0.73,
           1,
           0.39,
           0.14,
           0.62,
           0.74,
           1,
           0.35,
           0.65,
           0.73,
           0.86,
           0.87,
           0.34,
           1,
           0.17,
           0.62,
           0.67,
           1,
           0.84,
           0.63,
           1,
           0.11,
           0.19,
           0.76,
           1,
           0.92,
           0.55,
           1,
           0.64,
           0.66,
           0.85,
           0.42,
           0.58,
           0.93,
           0,
           1,
           0.89,
           0.02,
           0.71,
           1,
           0.27,
           0.02,
           0.39,
           0.73,
           0.87,
           0.55,
           0.41,
           0.62,
           0.73,
           0.93,
           1,
           0.67,
           0.83,
           0.28,
           0.71,
           0.76,
           0.81,
           1,
           0.85,
           0.75,
           0.57,
           1,
           0.68,
           1,
           0.63,
           0.42,
           1,
           1,
           0.52,
           0.13,
           0.91,
           0.11,
           0.58,
           1,
           0.42,
           0.62,
           1,
           1,
           1,
           0.73,
           0.67,
           1,
           0.81,
           0.96,
           0.43,
           0.54,
           0.27,
           1,
           1,
           0.75,
           0.8,
           0.5,
           0.99,
           0.37,
           0.48,
           1,
           1,
           1,
           0.84,
           1,
           0.81,
           1,
           0.57,
           0.87,
           0.27,
           0.62,
           0.76,
           1,
           0.34,
           0.92,
           0.9,
           0.76,
           0.4,
           1,
           0.95,
           0.31,
           0.01,
           0.82,
           0.56,
           0.83,
           0.81,
           0.62,
           1,
           0.39,
           0.01,
           0.71,
           0.95,
           0.66,
           0.75,
           0.64,
           0.79,
           1,
           0.4,
           1,
           0,
           0.89,
           0.86,
           0.9,
           0.65,
           0.01,
           0.88,
           0.08,
           0.47,
           0.14,
           0.78,
           0.87,
           0.63,
           0.03,
           1,
           1,
           0.86,
           0.75,
           1,
           0.97,
           1,
           0.42,
           0.66,
           1,
           1,
           0.76,
           0.8,
           0.18,
           0.67,
           0.11,
           0.72,
           1,
           0.45,
           1,
           0.16,
           1,
           0.88,
           0.51,
           0.69,
           0.39,
           0.57,
           0.61,
           0.83,
           1,
           0.68,
           0.33,
           0.95,
           0.34,
           0.8,
           0.75,
           0.17,
           0.04,
           0.47,
           0.85,
           1,
           0.41,
           0.26,
           0.46,
           0.99,
           0.72,
           1,
           1,
           1,
           0.51,
           0.76,
           0.36,
           1,
           0.8,
           0.77,
           1,
           0.02,
           0.71,
           1,
           1,
           0.71,
           0.06,
           0.67,
           0.78,
           0.78,
           1,
           0.53,
           0.52,
           1,
           0.95,
           0.76,
           0.97,
           0.86,
           1,
           0.83,
           1,
           1,
           0.01,
           0.72,
           0.52,
           0.84,
           0.93,
           0.57,
           0.6,
           0.24,
           0.83,
           0.6,
           0.96,
           1,
           0.89,
           1,
           0.79,
           0.7,
           0.87,
           0.7,
           0.97,
           1,
           0.01,
           1,
           1,
           0.45,
           1,
           0.68,
           0.78,
           0.3,
           0.24,
           0.8,
           0.77,
           0.88,
           0.84,
           0.58,
           0.85,
           0.32,
           1,
           0.61,
           1,
           1,
           0.87,
           0.53,
           0.87,
           0.35,
           1,
           0.83,
           0.69,
           0.78,
           1,
           0.97,
           0.76,
           0.82,
           0.37,
           0.94,
           0.83,
           1,
           0.56,
           0.36,
           1,
           1,
           0.68,
           0.79,
           0.52,
           1,
           0.56,
           1,
           0.88,
           0.6,
           0.49,
           0.77,
           1,
           0.96,
           0.73,
           0.69,
           1,
           1,
           0.91,
           0.9,
           0.83,
           0.48,
           0.76,
           0.48,
           0.86,
           0.74,
           0.83,
           0.87,
           0.75,
           0.67,
           0.86,
           0.96,
           0.8,
           0.64,
           1,
           1,
           1,
           0.83,
           1,
           1,
           0.52,
           1,
           0.89,
           0.16,
           1,
           1,
           1,
           0.82,
           0.9,
           0.51,
           0.68,
           0.66,
           0.27,
           0,
           0.46,
           0.69,
           0.07,
           0.37,
           0.79,
           0.01,
           1,
           0.93,
           0.67,
           0.78,
           0.37,
           0.35,
           0.63,
           0.72,
           0.49,
           1,
           0.89,
           0.81,
           0.76,
           0.02,
           0.64,
           0.5,
           0.04,
           1,
           0.68,
           0.12,
           0.73,
           0.56,
           0.02,
           0.09,
           1,
           0.34,
           0.38,
           0.09,
           0.83,
           0.62,
           0.64,
           1,
           0.85,
           1,
           0.48,
           1,
           1,
           0.6,
           0.76,
           1,
           0.01,
           0.69,
           1,
           0.67,
           0.69,
           1,
           0.54,
           0.72,
           0.9,
           0.04,
           0.84,
           0.75,
           0.74,
           0.56,
           0.33,
           0.01,
           1,
           1,
           1,
           0.21,
           0.04,
           0.36,
           0.07,
           0.5,
           1,
           0.58,
           0.01,
           0.55,
           0.63,
           0.77,
           0.09,
           0.82,
           0.49,
           1,
           1,
           0.61,
           0.85,
           0.64,
           1,
           0.86,
           0.5,
           1,
           1,
           0.08,
           0.14,
           0.8,
           0.39,
           1,
           0.32,
           1,
           0.13,
           0.99,
           0.95,
           1,
           0.28,
           0.52,
           0.69,
           0.81,
           0.78,
           1,
           0.06,
           0.68,
           0.57,
           1,
           0.94,
           0.78,
           0.79,
           1,
           0.84,
           0.52,
           0.94,
           0.59,
           0.67,
           0.61,
           0.56,
           0.63,
           0.1,
           0.61,
           0.68,
           1,
           0.81,
           0.29,
           0.66,
           0.55,
           0.4,
           0.63,
           0.18,
           0.81,
           0.8,
           0.68,
           0.78,
           0.67,
           0.68,
           0.24,
           0.65,
           0.68,
           0.45,
           0.28,
           0.84,
           0.6,
           0.66,
           0.51,
           1,
           0.29,
           0.68,
           1,
           0.82,
           1,
           0.89,
           0.5,
           0.68,
           0.9,
           1,
           0.04,
           0.59,
           0.72,
           1,
           0.03,
           0.93,
           0.83,
           1,
           0.82,
           0.68,
           0.69,
           0.21,
           0.29,
           1,
           0.81,
           1,
           0.34,
           0.56,
           0.6,
           0.93,
           0.47,
           0.45,
           0.67,
           0.18,
           0.82,
           1,
           0.64,
           1,
           0.74,
           1,
           0.48,
           1,
           0.51,
           1,
           1,
           1,
           0.8,
           0.82,
           0.93,
           0.4,
           0.66,
           0.31,
           1,
           0.4,
           0.16,
           0.65,
           0.24,
           0.3,
           0.66,
           0.76,
           0.65,
           0.46,
           0.85,
           0.6,
           0.49,
           0.89,
           1,
           0.99,
           1,
           0.37,
           0.67,
           0.65,
           1,
           0.96,
           1,
           0.49,
           0.9,
           0.45,
           0.61,
           0.01,
           1,
           0.69,
           0.63,
           0.62,
           0.79,
           0.75,
           1,
           0.17,
           0.9,
           0.99,
           0.6,
           0.73,
           1,
           0.6,
           0.47,
           0.66,
           0.83,
           1,
           0.51,
           0.49,
           0.41,
           0.35,
           0.75,
           0,
           0.71,
           1,
           0.65,
           0.02,
           1,
           0.57,
           0.93,
           0.82,
           0.58,
           1,
           0.63,
           0.75,
           1,
           0.87,
           0.99,
           0.74,
           0.7,
           1,
           1,
           1,
           0.94,
           1,
           0.96,
           0.6,
           1,
           0.13,
           0.7,
           0.77,
           0.7,
           1,
           0.93,
           0.5,
           1,
           0.77,
           0.83,
           0.59,
           0.76,
           0.96,
           0.66,
           1,
           0.53,
           0.96,
           1,
           1,
           0.82,
           0.55,
           1,
           0.53,
           0.49,
           0.7,
           0.83,
           0.89,
           0.97,
           0.84,
           1,
           0.86,
           0.93,
           0.57,
           0.76,
           0.51,
           0.72,
           0.8,
           0.42,
           0.65,
           0.24,
           0.6,
           0.75,
           0.66,
           1,
           0.69,
           0.16,
           0.55,
           0.52,
           0.87,
           1,
           1,
           0.83,
           0.64,
           0.08,
           0.75,
           0.91,
           0.7,
           0.72,
           1,
           1,
           0.6,
           0.67,
           1,
           1,
           0.65,
           1,
           0.92,
           1,
           1,
           0.15,
           0.74,
           0.57,
           1,
           0.63,
           1,
           0.05,
           1,
           1,
           0.92,
           0.15,
           0.6,
           0.44,
           0.91,
           1,
           0.78,
           0.9,
           1,
           0.39,
           0.73,
           0.91,
           0.52,
           0.64,
           0.32,
           0.93,
           1,
           1,
           0.85,
           0.25,
           0.83,
           1,
           0.98,
           0.49,
           1,
           0.47,
           0.84,
           0.01,
           0.39,
           0.54,
           1,
           0.58,
           0.51,
           0.3,
           0.56,
           0.72,
           0.45,
           0.85,
           0.89,
           0.61,
           0.86,
           0.52,
           0.32,
           1,
           0.5,
           0.85,
           0.89,
           0.82,
           0.51,
           0,
           0.07,
           1,
           0.91,
           1,
           0.03,
           0.66,
           1,
           0.67,
           0.75,
           0.74,
           1,
           1,
           1,
           0.88,
           0.53,
           0.79,
           0.85,
           0.63,
           1,
           1,
           1,
           1,
           0.84,
           0.59,
           0.07,
           0.18,
           0.51,
           1,
           0.87,
           0.79,
           0.57,
           0.79,
           0.66,
           0.52,
           0.17,
           0.9,
           0.83,
           0.68,
           0.62,
           1,
           1,
           0.52,
           0.69,
           0.95,
           0.75,
           0.45,
           0.01,
           0.92,
           0.97,
           0.75,
           0.36,
           1,
           1,
           0.29,
           0.64,
           1,
           0.61,
           0,
           0.93,
           0.94,
           1,
           0.62,
           0.24,
           1,
           0.69,
           0.85,
           0.68,
           0.73,
           0.94,
           1,
           1,
           0.75,
           0.72,
           0.54,
           0.52,
           0.74,
           0.51,
           0.9,
           1,
           0.37,
           0.66,
           0.65,
           0.82,
           0.87,
           0.67,
           0.54,
           1,
           0.06,
           1,
           0.51,
           1,
           0.69,
           0.63,
           0.62,
           0.14,
           0.72,
           1,
           0.79,
           0.08,
           0.61,
           1,
           1,
           0.31,
           0.77,
           1,
           1,
           0.45,
           0.58,
           0.23,
           0.87,
           1,
           0.68,
           0.32,
           1,
           0.57,
           0.73,
           0.86,
           0.68,
           0.48,
           0.1,
           0.03,
           0.89,
           1,
           0.82,
           0.59,
           0.82,
           0.72,
           0,
           0.76,
           0.62,
           0.53,
           0.69,
           0.52,
           0.9,
           1,
           1,
           1,
           0.21,
           0.79,
           0.64,
           0.72,
           0.02,
           1,
           0.02,
           0.7,
           0.53,
           0.7,
           0.76,
           1,
           0.01,
           1,
           0.5,
           0.45,
           0.66,
           0.86,
           0.26,
           0.71,
           0.49,
           1,
           0.83,
           0.25,
           0.31,
           0.61,
           0.5,
           0.93,
           0.71,
           0.75,
           0.71,
           0.34,
           0.68,
           0.14,
           1,
           0.69,
           0.67,
           0.23,
           0.77,
           0.51,
           0.56,
           0.71,
           1,
           0.76,
           1,
           0.57,
           0.07,
           0.78,
           0.76,
           0.49,
           0.9,
           0.61,
           0.67,
           0.11,
           1,
           0.5,
           1,
           0.88,
           0.87,
           1,
           0.57,
           0.43,
           0.5,
           1,
           0.55,
           0.39,
           0.61,
           0.56,
           0.37,
           0.98,
           0.67,
           0.27,
           0.62,
           0.98,
           1,
           0.8,
           1,
           0.01,
           0.88,
           0.55,
           1,
           0.51,
           0.76,
           0.47,
           0.13,
           0.53,
           1,
           0.93,
           0.79,
           0.03,
           0.52,
           0.83,
           0.68,
           1,
           0.05,
           0.77,
           0.56,
           1,
           0.88,
           1,
           0.79,
           0.72,
           0.34,
           1,
           0.88,
           0.04,
           0.65,
           0.64,
           0.51,
           0.18,
           0.71,
           0.15,
           0.35,
           1,
           1,
           1,
           1,
           1,
           1,
           1,
           0.97,
           0.34,
           1,
           0.66,
           1,
           0.02,
           1,
           1,
           1,
           0.63,
           0.53,
           0.71,
           1,
           1,
           0.71,
           0.89,
           0.49,
           0.13,
           1,
           1,
           1,
           1,
           1,
           0.52,
           0.11,
           0.81,
           0.73,
           0.47,
           1,
           0.66,
           0.11,
           0.42,
           0.84,
           0.71,
           0.6,
           0.03,
           0.53,
           0.66,
           1,
           0.75,
           0.78,
           0.62,
           0.28,
           0.5,
           1,
           0.57,
           0.95,
           1,
           0.64,
           0.75,
           0.63,
           0.45,
           1,
           1,
           1,
           1,
           0.01,
           0.83,
           0.7,
           0.59,
           0.67,
           0.43,
           0.41,
           0.89,
           1,
           0.89,
           0.35,
           0.01,
           0.77,
           0.22,
           0.72,
           0.37,
           0.81,
           0.67,
           0.96,
           1,
           1,
           0.57,
           0.94,
           0.93,
           0.41,
           1,
           1,
           0.94,
           0.84,
           0.73,
           0.75,
           0.27,
           0.87,
           0.73,
           0.55,
           0.71,
           0.88,
           0.92,
           1,
           1,
           0.8,
           1,
           0.34,
           0.07,
           0.99,
           0.01,
           0.05,
           1,
           0.75,
           0.06,
           0.13,
           0.7,
           0.38,
           0.62,
           0.81,
           1,
           1,
           0.59,
           1,
           0.42,
           0.55,
           0.76,
           1,
           0.19,
           0.02,
           0.85,
           1,
           0.74,
           0.53,
           0.53,
           0.52,
           0.84,
           1,
           0.72,
           1,
           1,
           1,
           1,
           1,
           1,
           0.73,
           0.51,
           1,
           0.93,
           1,
           0.55,
           0.88,
           0.67,
           0.77,
           0.09,
           0.67,
           0.72,
           0.46,
           1,
           0.19,
           1,
           0.62,
           0.87,
           0.08,
           0.77,
           0.81,
           0,
           0.5,
           0.59,
           0.76,
           1,
           0.74,
           0.19,
           0.86,
           1,
           1,
           1,
           0.31,
           0.68,
           0.98,
           0.05,
           0.65,
           0.12,
           0.59,
           1,
           1,
           0.49,
           0.73,
           0.94,
           0.76,
           1,
           0.4,
           0.67,
           0.84,
           0.27,
           0.83,
           0.81,
           1,
           0.91,
           1,
           1,
           1,
           1,
           0.7,
           0.89,
           1,
           0.93,
           0.83,
           0.85,
           0.91,
           0.81,
           1,
           0.96,
           0.82,
           1,
           1,
           1,
           0.85,
           0.7,
           0.24,
           0.83,
           0.84,
           1,
           0.44,
           1,
           0.55,
           0.45,
           0.95,
           0.02,
           0.69,
           0.6,
           0.88,
           0.69,
           1,
           0.6,
           1,
           0.52,
           0.71,
           0.01,
           0.07,
           0.71,
           0.9,
           0.51,
           1,
           0.82,
           0.89,
           0.77,
           0.46,
           1,
           0.52,
           0.01,
           1,
           0.8,
           0.53,
           0.7,
           0.27,
           0.62,
           1,
           0.89,
           1,
           0.89,
           0.81,
           0.82,
           1,
           0.63,
           0.53,
           0.69,
           0.82,
           1,
           1,
           1,
           0.41,
           0.56,
           1,
           1,
           0.77,
           0.34,
           0.38,
           0.84,
           1,
           0.75,
           1,
           0.85,
           0.93,
           1,
           0.73,
           0.93,
           1
          ],
          "coloraxis": "coloraxis",
          "symbol": "circle"
         },
         "mode": "markers",
         "name": "",
         "showlegend": false,
         "type": "scattergl",
         "x": [
          0.35,
          0.04,
          0.01,
          0.05,
          0.28,
          0.26,
          0.04,
          0.04,
          0.01,
          0.16,
          3.98,
          0.27,
          0.2,
          0.02,
          0.04,
          0.28,
          1e-17,
          0.06,
          1e-17,
          0.63,
          0.3,
          0.05,
          1e-17,
          0.19,
          0.5,
          0.13,
          0.05,
          0.12,
          0.1,
          0.13,
          1.1,
          0.05,
          0.39,
          0.05,
          0.06,
          0.96,
          0.13,
          0.05,
          0.08,
          0.99,
          0.24,
          0.06,
          0.07,
          0.07,
          0.01,
          0.04,
          0.05,
          0.05,
          0.3,
          0.54,
          4.03,
          0.35,
          0.07,
          0.05,
          0.14,
          0.06,
          0.07,
          0.15,
          0.02,
          0.16,
          0.62,
          0.08,
          0.04,
          0.13,
          0.32,
          1.05,
          0.02,
          0.76,
          0.2,
          2.08,
          0.06,
          0.43,
          0.11,
          0.04,
          0.07,
          0.21,
          0.16,
          0.01,
          0.13,
          0.01,
          0.01,
          0.35,
          0.15,
          0.08,
          0.14,
          0.19,
          0.17,
          0.16,
          0.07,
          1e-17,
          0.19,
          0.07,
          0.01,
          0.21,
          0.32,
          0.11,
          0.74,
          0.04,
          0.06,
          0.07,
          0.06,
          0.06,
          0.02,
          0.21,
          1.51,
          0.85,
          3.12,
          0.05,
          0.04,
          0.05,
          0.06,
          0.05,
          0.28,
          0.07,
          0.52,
          0.11,
          0.47,
          0.46,
          0.07,
          0.11,
          0.05,
          0.08,
          0.06,
          0.14,
          0.17,
          0.01,
          0.35,
          0.22,
          0.12,
          0.05,
          0.3,
          0.49,
          0.1,
          1.08,
          0.02,
          0.31,
          1e-17,
          0.1,
          0.14,
          0.87,
          0.03,
          2.62,
          0.02,
          0.11,
          0.6,
          0.01,
          0.34,
          0.06,
          1.01,
          0.13,
          0.75,
          0.97,
          0.1,
          0.02,
          0.14,
          0.07,
          1e-17,
          0.99,
          0.08,
          0.05,
          0.89,
          0.07,
          1e-17,
          0.19,
          0.9,
          0.11,
          0.04,
          0.03,
          0.01,
          0.15,
          0.06,
          0.5,
          0.08,
          0.36,
          0.08,
          0.06,
          0.16,
          0.07,
          0.02,
          0.04,
          3.57,
          0.06,
          0.05,
          0.14,
          0.32,
          0.71,
          0.03,
          0.12,
          0.03,
          0.13,
          0.12,
          0.01,
          1.06,
          0.16,
          0.25,
          0.04,
          1e-17,
          0.05,
          0.08,
          0.04,
          0.07,
          0.79,
          1.09,
          0.13,
          0.27,
          0.02,
          0.05,
          0.11,
          0.08,
          0.07,
          0.55,
          0.07,
          0.09,
          0.34,
          1e-17,
          0.06,
          0.58,
          0.06,
          0.14,
          0.05,
          1.34,
          0.2,
          0.03,
          0.23,
          0.06,
          0.02,
          0.01,
          0.01,
          1e-17,
          0.12,
          1e-17,
          0.19,
          0.06,
          1.32,
          0.19,
          0.12,
          0.75,
          0.13,
          0.67,
          0.57,
          0.06,
          0.74,
          0.34,
          0.13,
          0.09,
          0.14,
          0.12,
          0.01,
          0.07,
          0.15,
          0.19,
          0.37,
          0.18,
          0.05,
          0.97,
          0.06,
          0.06,
          0.12,
          1.33,
          0.17,
          0.32,
          0.12,
          0.92,
          0.12,
          0.26,
          0.15,
          0.01,
          0.17,
          0.06,
          0.09,
          1.03,
          0.12,
          0.24,
          0.06,
          0.05,
          0.15,
          0.05,
          0.02,
          0.04,
          0.14,
          0.98,
          0.41,
          0.19,
          1.51,
          0.05,
          0.1,
          0.05,
          4.76,
          0.14,
          4.46,
          0.06,
          0.06,
          0.02,
          0.1,
          0.03,
          0.82,
          0.04,
          1e-17,
          0.09,
          0.67,
          0.07,
          0.01,
          0.01,
          0.07,
          0.08,
          0.16,
          0.83,
          1e-17,
          1e-17,
          0.35,
          1.73,
          0.33,
          0.06,
          0.03,
          0.12,
          0.39,
          0.25,
          0.08,
          0.09,
          2.45,
          1.27,
          0.06,
          1.13,
          0.22,
          0.01,
          0.04,
          0.07,
          0.01,
          0.08,
          5.88,
          0.06,
          2.84,
          0.12,
          0.16,
          0.59,
          0.06,
          0.02,
          0.06,
          0.12,
          0.05,
          0.31,
          0.09,
          0.16,
          0.2,
          0.06,
          0.56,
          0.07,
          1.03,
          0.05,
          0.67,
          0.14,
          0.01,
          0.59,
          0.09,
          0.11,
          0.11,
          0.05,
          0.4,
          1.73,
          0.02,
          0.19,
          0.38,
          0.09,
          0.21,
          0.05,
          0.05,
          0.31,
          1.68,
          0.04,
          0.09,
          0.01,
          2.16,
          0.06,
          0.04,
          0.05,
          0.08,
          0.39,
          0.07,
          0.17,
          0.07,
          0.11,
          0.65,
          1e-17,
          0.34,
          0.07,
          0.05,
          0.05,
          0.04,
          1.63,
          0.06,
          0.04,
          0.01,
          0.03,
          0.37,
          0.01,
          0.2,
          0.15,
          0.31,
          0.08,
          0.05,
          0.52,
          0.25,
          0.07,
          1e-17,
          0.08,
          0.02,
          0.53,
          0.16,
          0.06,
          0.38,
          0.15,
          0.01,
          0.06,
          0.63,
          0.05,
          1e-17,
          0.06,
          0.02,
          0.07,
          0.07,
          0.33,
          0.12,
          2.67,
          0.02,
          0.2,
          1.64,
          1e-17,
          0.58,
          0.01,
          0.02,
          0.48,
          0.08,
          0.22,
          1e-17,
          0.11,
          0.11,
          0.06,
          0.11,
          0.06,
          0.42,
          0.05,
          2.45,
          5.32,
          0.05,
          0.09,
          0.66,
          0.21,
          0.01,
          2.27,
          0.06,
          0.06,
          0.01,
          0.32,
          0.06,
          0.04,
          0.22,
          0.13,
          0.65,
          0.08,
          0.05,
          0.16,
          0.02,
          0.08,
          0.44,
          0.07,
          0.02,
          0.24,
          0.06,
          1.77,
          0.07,
          0.12,
          0.08,
          0.49,
          0.11,
          1.07,
          0.15,
          0.13,
          1e-17,
          0.07,
          1.57,
          0.06,
          0.73,
          0.4,
          0.22,
          0.16,
          0.03,
          0.01,
          0.97,
          0.06,
          0.06,
          0.06,
          0.33,
          0.04,
          0.04,
          0.62,
          0.16,
          0.07,
          0.03,
          0.13,
          1.28,
          0.08,
          0.2,
          0.11,
          0.12,
          0.1,
          0.13,
          1e-17,
          2.21,
          0.14,
          0.15,
          0.13,
          0.04,
          0.1,
          0.07,
          0.09,
          0.29,
          0.47,
          1e-17,
          1.93,
          0.85,
          1e-17,
          0.31,
          0.05,
          0.04,
          0.09,
          0.45,
          0.2,
          0.08,
          0.37,
          0.18,
          2.53,
          0.19,
          0.1,
          0.05,
          0.2,
          0.04,
          0.06,
          0.11,
          0.42,
          0.26,
          0.49,
          0.18,
          0.64,
          0.17,
          0.3,
          0.04,
          0.06,
          0.12,
          1e-17,
          0.03,
          0.02,
          0.18,
          0.35,
          0.04,
          0.01,
          0.05,
          0.13,
          0.05,
          0.02,
          0.08,
          0.16,
          0.74,
          0.06,
          0.05,
          0.06,
          0.02,
          0.23,
          0.09,
          0.12,
          0.32,
          0.41,
          0.09,
          0.01,
          0.01,
          0.13,
          0.14,
          0.79,
          0.05,
          0.06,
          0.32,
          0.47,
          0.15,
          0.12,
          0.25,
          0.18,
          1e-17,
          0.05,
          0.03,
          1e-17,
          0.43,
          0.06,
          0.06,
          1e-17,
          0.17,
          1.8,
          2.03,
          1.01,
          0.12,
          0.07,
          1.1,
          0.11,
          0.24,
          0.08,
          0.46,
          0.03,
          1.86,
          0.13,
          1.13,
          0.06,
          0.71,
          1.15,
          0.31,
          0.05,
          1.37,
          0.07,
          0.03,
          0.07,
          0.09,
          0.14,
          0.06,
          0.02,
          0.35,
          0.01,
          0.11,
          0.04,
          0.29,
          0.07,
          0.16,
          0.06,
          0.12,
          0.04,
          0.12,
          0.13,
          1,
          0.1,
          0.03,
          0.07,
          0.01,
          0.07,
          0.06,
          0.5,
          0.27,
          0.15,
          0.24,
          0.02,
          0.04,
          0.03,
          0.07,
          0.05,
          0.45,
          0.05,
          0.11,
          0.06,
          0.11,
          0.17,
          0.01,
          0.07,
          1.45,
          0.05,
          0.09,
          0.62,
          0.49,
          1.89,
          0.02,
          0.13,
          0.14,
          0.05,
          1e-17,
          0.29,
          0.1,
          0.19,
          0.25,
          0.13,
          0.13,
          0.04,
          1e-17,
          0.09,
          0.38,
          1.53,
          0.43,
          2.59,
          0.17,
          0.05,
          0.02,
          0.12,
          1e-17,
          1.09,
          0.9,
          0.21,
          0.5,
          1e-17,
          0.17,
          1e-17,
          0.06,
          0.01,
          1.33,
          0.23,
          3.29,
          0.01,
          0.05,
          0.05,
          2.08,
          0.11,
          0.07,
          0.25,
          0.11,
          0.03,
          0.14,
          0.08,
          0.07,
          0.29,
          0.19,
          0.01,
          0.27,
          0.01,
          1.21,
          0.07,
          0.04,
          0.07,
          0.01,
          0.05,
          1.27,
          0.12,
          0.46,
          0.06,
          0.03,
          0.12,
          1.33,
          0.15,
          0.19,
          0.05,
          0.65,
          0.06,
          0.73,
          0.81,
          0.01,
          1e-17,
          0.09,
          0.09,
          0.08,
          0.05,
          0.02,
          0.11,
          0.5,
          0.1,
          0.06,
          0.08,
          0.08,
          0.17,
          1.41,
          0.03,
          0.03,
          0.14,
          2.61,
          0.05,
          1e-17,
          0.17,
          0.06,
          0.07,
          0.15,
          0.01,
          0.13,
          0.31,
          0.37,
          0.09,
          0.02,
          0.09,
          0.04,
          0.11,
          0.06,
          0.22,
          0.06,
          0.07,
          0.15,
          0.05,
          0.26,
          1e-17,
          0.07,
          0.05,
          0.1,
          0.07,
          0.17,
          0.3,
          0.02,
          0.05,
          1.33,
          0.08,
          0.04,
          2.24,
          0.05,
          0.41,
          0.14,
          0.48,
          0.81,
          0.19,
          0.05,
          1e-17,
          0.05,
          0.06,
          0.12,
          0.1,
          0.09,
          0.22,
          0.02,
          0.02,
          0.23,
          0.07,
          0.36,
          0.59,
          0.18,
          0.88,
          0.02,
          0.11,
          1.25,
          0.15,
          0.08,
          0.39,
          0.37,
          0.57,
          0.69,
          0.06,
          0.6,
          0.22,
          2.48,
          0.14,
          0.17,
          0.63,
          0.45,
          0.04,
          0.18,
          0.24,
          0.11,
          0.06,
          0.02,
          0.05,
          0.05,
          0.2,
          0.71,
          0.19,
          0.19,
          0.05,
          0.14,
          0.42,
          0.46,
          0.25,
          0.14,
          0.06,
          0.86,
          2.52,
          0.1,
          0.11,
          0.05,
          0.11,
          0.74,
          0.22,
          0.21,
          0.18,
          0.04,
          0.52,
          0.83,
          0.1,
          0.09,
          1.24,
          4.64,
          0.43,
          0.42,
          0.31,
          2.02,
          0.07,
          0.31,
          0.05,
          0.43,
          0.17,
          0.11,
          0.07,
          0.03,
          0.36,
          0.01,
          0.06,
          0.04,
          0.3,
          0.39,
          0.36,
          0.11,
          0.44,
          0.4,
          0.01,
          1e-17,
          0.03,
          0.05,
          0.01,
          0.03,
          0.16,
          1e-17,
          0.07,
          0.45,
          2.68,
          0.17,
          0.07,
          0.09,
          0.35,
          0.05,
          0.1,
          0.07,
          0.4,
          0.18,
          0.67,
          1e-17,
          0.38,
          0.07,
          0.01,
          0.05,
          0.09,
          0.04,
          0.15,
          0.15,
          1e-17,
          0.01,
          0.21,
          0.02,
          0.09,
          0.01,
          2.84,
          2.69,
          0.26,
          0.05,
          0.2,
          0.09,
          0.02,
          0.28,
          0.05,
          0.56,
          2.26,
          0.17,
          1e-17,
          0.32,
          0.09,
          0.06,
          0.23,
          0.08,
          0.05,
          0.28,
          0.03,
          1e-17,
          0.13,
          0.15,
          0.05,
          0.61,
          0.06,
          1e-17,
          0.13,
          0.06,
          0.14,
          0.01,
          1e-17,
          0.02,
          1e-17,
          0.03,
          0.03,
          0.07,
          1e-17,
          0.16,
          1.05,
          0.63,
          0.01,
          0.09,
          0.25,
          0.05,
          0.16,
          0.18,
          0.28,
          0.17,
          0.06,
          0.22,
          1.65,
          0.08,
          0.06,
          0.01,
          0.01,
          0.55,
          0.38,
          0.13,
          0.11,
          0.16,
          0.01,
          0.18,
          0.79,
          0.05,
          0.04,
          0.02,
          0.32,
          0.25,
          0.23,
          0.06,
          1e-17,
          0.34,
          1.66,
          0.06,
          0.12,
          0.56,
          0.39,
          0.11,
          0.44,
          0.11,
          0.19,
          0.03,
          0.07,
          0.08,
          0.5,
          0.3,
          0.02,
          0.82,
          0.66,
          0.12,
          0.15,
          0.53,
          0.03,
          0.03,
          0.02,
          0.74,
          0.01,
          0.19,
          0.12,
          0.34,
          0.34,
          0.26,
          0.14,
          0.02,
          0.18,
          0.43,
          0.22,
          0.06,
          0.21,
          0.06,
          0.21,
          0.12,
          0.05,
          0.05,
          1.76,
          0.11,
          0.6,
          0.06,
          0.05,
          0.07,
          0.24,
          0.69,
          0.07,
          1e-17,
          0.05,
          0.28,
          0.12,
          1e-17,
          0.37,
          0.11,
          0.3,
          0.12,
          0.79,
          0.19,
          0.08,
          0.04,
          0.07,
          0.26,
          0.05,
          0.13,
          0.05,
          0.37,
          0.17,
          1.11,
          0.74,
          0.12,
          0.01,
          0.09,
          0.09,
          0.11,
          0.03,
          1.42,
          0.07,
          0.74,
          0.06,
          0.05,
          0.06,
          0.08,
          0.06,
          0.36,
          5.91,
          0.28,
          0.03,
          0.14,
          0.08,
          0.14,
          0.14,
          0.04,
          0.43,
          0.08,
          0.25,
          0.3,
          0.8,
          0.07,
          0.14,
          0.05,
          0.07,
          0.02,
          0.1,
          0.19,
          0.38,
          0.13,
          0.04,
          1.03,
          0.05,
          0.05,
          0.19,
          0.06,
          0.42,
          0.16,
          0.09,
          0.32,
          1e-17,
          0.05,
          0.05,
          0.17,
          0.08,
          0.07,
          0.67,
          0.12,
          0.01,
          0.03,
          0.17,
          0.04,
          0.11,
          0.05,
          0.19,
          0.26,
          0.52,
          0.27,
          0.15,
          1,
          0.44,
          0.03,
          0.06,
          0.21,
          1e-17,
          0.85,
          0.06,
          0.11,
          1e-17,
          0.11,
          0.06,
          0.3,
          0.1,
          0.12,
          0.13,
          0.31,
          0.2,
          0.11,
          0.1,
          0.43,
          0.17,
          0.12,
          0.06,
          0.05,
          0.12,
          0.36,
          0.25,
          0.15,
          0.61,
          0.08,
          0.01,
          0.28,
          0.07,
          0.2,
          0.11,
          0.06,
          0.03,
          0.06,
          0.1,
          0.44,
          0.18,
          0.04,
          0.19,
          0.21,
          0.11,
          0.2,
          0.06,
          0.06,
          0.12,
          0.48,
          0.39,
          0.03,
          2.9,
          0.19,
          0.12,
          0.14,
          0.16,
          0.18,
          0.18,
          0.19,
          0.28,
          0.1,
          0.04,
          0.15,
          0.05,
          1.86,
          1.23,
          0.09,
          0.09,
          0.02,
          0.39,
          0.14,
          0.08,
          0.06,
          0.1,
          0.01,
          0.07,
          0.12,
          0.19,
          0.07,
          0.05,
          2.16,
          0.13,
          0.01,
          0.15,
          0.33,
          2.25,
          0.14,
          0.07,
          0.07,
          0.27,
          0.12,
          0.05,
          0.06,
          0.13,
          0.11,
          0.4,
          0.05,
          0.06,
          0.02,
          0.6,
          0.04,
          0.04,
          0.23,
          0.06,
          0.01,
          0.13,
          0.06,
          0.17,
          0.01,
          0.04,
          0.09,
          0.17,
          0.05,
          0.41,
          0.11,
          0.23,
          0.02,
          0.22,
          0.21,
          0.03,
          0.06,
          0.04,
          0.21,
          0.04,
          0.06,
          0.2,
          0.02,
          0.09,
          0.05,
          0.06,
          0.04,
          0.07,
          0.06,
          0.16,
          1e-17,
          0.03,
          0.05,
          0.13,
          0.03,
          0.09,
          0.08,
          0.06,
          0.31,
          0.03,
          0.14,
          0.11,
          0.27,
          0.36,
          0.06,
          0.03,
          0.07,
          0.07,
          0.46,
          0.16,
          0.22,
          0.12,
          1e-17,
          0.01,
          0.06,
          0.14,
          0.06,
          1e-17,
          0.19,
          0.08,
          0.13,
          0.11,
          0.18,
          0.08,
          0.05,
          0.11,
          1.26,
          0.43,
          3.13,
          0.19,
          0.78,
          0.08,
          0.07,
          0.13,
          0.06,
          0.6,
          0.84,
          1e-17,
          0.01,
          0.1,
          0.08,
          0.51,
          0.6,
          0.16,
          0.19,
          0.03,
          0.18,
          0.01,
          0.05,
          0.48,
          0.67,
          0.09,
          0.06,
          0.06,
          0.02,
          0.29,
          0.07,
          0.48,
          0.04,
          1e-17,
          0.53,
          0.34,
          0.9,
          0.49,
          0.04,
          0.05,
          0.09,
          1.44,
          0.06,
          0.07,
          1e-17,
          0.23,
          0.31,
          0.06,
          0.99,
          0.11,
          0.18,
          0.19,
          0.07,
          0.27,
          1.71,
          0.58,
          0.06,
          0.06,
          0.07,
          0.78,
          0.19,
          0.07,
          0.57,
          0.08,
          0.21,
          0.22,
          0.1,
          0.24,
          0.11,
          0.04,
          0.07,
          0.13,
          0.53,
          0.14,
          1e-17,
          0.07,
          0.1,
          0.17,
          0.04,
          0.05,
          0.11,
          0.01,
          1.47,
          0.09,
          1.19,
          1e-17,
          0.15,
          0.12,
          0.08,
          0.04,
          0.23,
          0.11,
          0.04,
          1.3,
          0.09,
          0.02,
          0.2,
          0.04,
          0.19,
          0.03,
          0.1,
          0.34,
          0.36,
          0.27,
          0.09,
          0.03,
          0.03,
          1e-17,
          0.16,
          0.05,
          0.62,
          0.14,
          0.68,
          0.11,
          1e-17,
          0.4,
          0.09,
          0.08,
          0.13,
          0.08,
          1.01,
          0.04,
          0.05,
          0.06,
          0.02,
          0.1,
          0.25,
          0.94,
          1e-17,
          0.17,
          1e-17,
          2.52,
          0.03,
          0.14,
          0.51,
          0.12,
          1e-17,
          0.05,
          0.09,
          0.21,
          0.2,
          0.1,
          0.03,
          0.28,
          0.03,
          0.13,
          0.27,
          0.04,
          0.16,
          0.13,
          0.03,
          0.2,
          2.26,
          0.27,
          0.34,
          0.04,
          0.36,
          0.01,
          0.06,
          0.11,
          0.05,
          0.01,
          0.12,
          0.19,
          0.08,
          0.04,
          0.07,
          0.08,
          0.06,
          0.19,
          1e-17,
          0.15,
          2.02,
          0.41,
          0.79,
          0.08,
          0.14,
          0.01,
          0.05,
          0.31,
          0.06,
          0.58,
          0.21,
          0.05,
          0.11,
          0.06,
          0.05,
          0.06,
          0.07,
          0.02,
          0.12,
          0.59,
          0.04,
          0.11,
          0.12,
          0.06,
          0.06,
          0.11,
          0.1,
          1.74,
          0.1,
          1e-17,
          0.5,
          0.23,
          0.05,
          0.07,
          6.04,
          0.23,
          0.01,
          0.07,
          0.07,
          0.82,
          0.09,
          1e-17,
          0.9,
          0.78,
          0.15,
          0.04,
          1e-17,
          0.71,
          0.07,
          0.06,
          0.14,
          0.12,
          0.04,
          0.98,
          0.07,
          0.05,
          0.11,
          1e-17,
          0.12,
          0.11,
          0.07,
          0.01,
          0.79,
          0.02,
          0.02,
          0.07,
          0.06,
          0.07,
          0.07,
          0.03,
          0.05,
          0.07,
          0.19,
          0.06,
          0.03,
          0.53,
          0.06,
          1e-17,
          0.31,
          0.1,
          0.06,
          0.23,
          0.06,
          0.24,
          0.04,
          0.05,
          0.27,
          0.11,
          1.04,
          0.02,
          0.14,
          0.19,
          0.1,
          0.15,
          0.1,
          0.03,
          0.01,
          1.15,
          0.13,
          0.05,
          0.06,
          0.11,
          0.01,
          0.03,
          2.63,
          0.43,
          0.18,
          1e-17,
          0.14,
          0.13,
          0.12,
          0.14,
          0.12,
          0.15,
          0.02,
          0.06,
          0.06,
          0.08,
          0.28,
          0.04,
          0.82,
          0.2,
          0.39,
          0.19,
          0.06,
          0.05,
          0.06,
          0.04,
          1e-17,
          0.11,
          0.95,
          0.2,
          0.5,
          0.03,
          0.09,
          1.63,
          0.04,
          0.18,
          0.03,
          1e-17,
          0.07,
          0.03,
          1.5,
          0.17,
          0.63,
          0.18,
          0.07,
          0.04,
          0.06,
          0.06,
          0.12,
          0.2,
          0.15,
          0.17,
          0.05,
          0.41,
          0.16,
          0.29,
          0.2,
          0.08,
          1.54,
          1.74,
          0.29,
          0.51,
          0.79,
          0.75,
          0.13,
          0.05,
          0.8,
          0.06,
          0.05,
          0.01,
          0.45,
          1e-17,
          1e-17,
          0.17,
          1.66,
          1e-17,
          0.01,
          0.1,
          0.04,
          0.24,
          0.04,
          0.06,
          0.07,
          0.71,
          0.08,
          0.36,
          0.03,
          0.81,
          0.12,
          0.03,
          1e-17,
          0.07,
          0.12,
          0.8,
          0.13,
          0.03,
          0.11,
          0.28,
          0.14,
          1.15,
          0.07,
          0.06,
          0.06,
          0.27,
          0.06,
          0.05,
          0.46,
          0.06,
          0.06,
          0.37,
          0.07,
          0.1,
          1.31,
          2.94,
          1.01,
          0.01,
          0.04,
          1.2,
          0.03,
          0.05,
          0.02,
          0.07,
          0.04,
          0.05,
          0.01,
          0.57,
          0.25,
          1e-17,
          0.08,
          0.46,
          0.34,
          0.07,
          0.31,
          0.04,
          0.39,
          0.26,
          0.1,
          0.05,
          0.01,
          0.61,
          0.15,
          0.01,
          1.2,
          0.01,
          0.03,
          0.08,
          0.03,
          0.31,
          0.39,
          0.19,
          0.16,
          0.07,
          0.03,
          0.1,
          0.15,
          0.02,
          2.21,
          0.17,
          0.04,
          0.44,
          0.06,
          0.13,
          0.18,
          0.04,
          0.04,
          0.92,
          0.11,
          0.04,
          0.32,
          2.88,
          0.27,
          0.61,
          0.08,
          0.12,
          0.16,
          0.18,
          0.15,
          0.07,
          0.3,
          0.14,
          0.04,
          0.14,
          0.11,
          0.44,
          0.44,
          0.07,
          0.04,
          0.08,
          0.05,
          1e-17,
          0.2,
          0.04,
          0.1,
          0.27,
          0.16,
          2.02,
          0.06,
          0.14,
          0.15,
          1e-17,
          0.01,
          0.27,
          0.79,
          0.04,
          0.04,
          0.06,
          0.67,
          0.25,
          0.02,
          0.05,
          0.03,
          1e-17,
          0.06,
          0.08,
          0.37,
          0.69,
          0.01,
          0.09,
          0.27,
          0.12,
          0.04,
          0.37,
          2.95,
          0.24,
          0.05,
          1.21,
          0.23,
          2.6,
          0.18,
          0.04,
          0.2,
          0.04,
          0.06,
          0.02,
          0.03,
          0.07,
          5.43,
          0.06,
          0.01,
          0.75,
          0.06,
          0.17,
          0.03,
          4.08,
          0.38,
          0.02,
          0.39,
          0.08,
          0.07
         ],
         "xaxis": "x",
         "y": [
          0.76,
          0.55,
          0.16,
          0.35,
          0.85,
          0.89,
          1,
          1,
          0.13,
          0.6,
          0.78,
          0.8,
          0.85,
          0.35,
          1,
          1,
          0.07,
          0.51,
          0.04,
          0.7,
          0.81,
          0.99,
          0.01,
          0.75,
          0.83,
          0.65,
          1,
          0.54,
          0.67,
          0.96,
          0.66,
          0.64,
          0.59,
          1,
          0.82,
          0.46,
          0.98,
          0.5,
          0.45,
          0.71,
          0.53,
          1,
          1,
          1,
          0.09,
          0.53,
          1,
          0.36,
          0.62,
          0.96,
          0.69,
          0.67,
          0.35,
          1,
          0.46,
          1,
          1,
          0.91,
          0.25,
          0.36,
          0.67,
          1,
          1,
          1,
          0.57,
          0.57,
          0.34,
          0.82,
          0.46,
          0.89,
          1,
          0.74,
          0.56,
          1,
          0.89,
          0.77,
          0.93,
          0.15,
          1,
          0.07,
          0.24,
          0.99,
          0.94,
          0.4,
          1,
          0.97,
          1,
          0.97,
          0.92,
          0,
          0.65,
          0.51,
          0.25,
          1,
          0.54,
          0.61,
          0.6,
          0.62,
          1,
          0.54,
          0.5,
          0.51,
          0.27,
          0.42,
          0.78,
          0.89,
          0.58,
          0.73,
          1,
          0.4,
          1,
          1,
          0.87,
          0.5,
          0.66,
          0.91,
          0.71,
          0.65,
          0.51,
          0.46,
          0.42,
          1,
          0.49,
          0.5,
          0.75,
          0.17,
          0.53,
          0.75,
          0.47,
          0.52,
          0.7,
          0.86,
          0.83,
          0.63,
          0.09,
          0.8,
          0.03,
          1,
          0.96,
          0.89,
          0.98,
          0.68,
          0.42,
          1,
          0.5,
          0.28,
          0.53,
          1,
          0.6,
          1,
          0.76,
          0.93,
          0.94,
          0.2,
          1,
          0.93,
          0,
          0.56,
          0.66,
          1,
          0.72,
          0.48,
          0.02,
          0.6,
          0.87,
          1,
          0.35,
          1,
          1,
          0.7,
          0.78,
          0.86,
          1,
          0.49,
          1,
          0.51,
          0.92,
          1,
          0.37,
          1,
          0.68,
          0.54,
          1,
          0.94,
          0.89,
          0.63,
          0.48,
          1,
          0.53,
          0.88,
          0.65,
          0.08,
          0.8,
          0.69,
          0.83,
          1,
          0.08,
          0.29,
          0.81,
          1,
          1,
          0.86,
          0.52,
          0.72,
          1,
          0.15,
          0.42,
          0.63,
          0.9,
          0.35,
          0.93,
          1,
          0.8,
          0.83,
          0.02,
          0.9,
          0.61,
          1,
          0.92,
          0.99,
          0.81,
          0.68,
          0.56,
          1,
          1,
          0.62,
          0.08,
          0.09,
          0.01,
          0.72,
          0.02,
          1,
          1,
          0.93,
          1,
          1,
          0.81,
          1,
          0.74,
          0.74,
          0.67,
          0.74,
          0.69,
          1,
          0.58,
          1,
          0.7,
          0.12,
          1,
          0.99,
          1,
          0.85,
          1,
          0.61,
          0.64,
          1,
          0.85,
          0.92,
          0.88,
          0.75,
          1,
          0.65,
          0.86,
          0.99,
          0.79,
          0.79,
          0.13,
          1,
          1,
          0.44,
          0.86,
          0.42,
          0.7,
          1,
          1,
          0.8,
          1,
          0.27,
          0.54,
          0.53,
          0.8,
          0.66,
          1,
          0.78,
          1,
          1,
          0.35,
          0.67,
          0.53,
          0.79,
          0.63,
          0.98,
          0.41,
          0.71,
          0.16,
          0.73,
          1,
          0.04,
          1,
          0.62,
          0.91,
          0.23,
          0.2,
          1,
          0.61,
          0.73,
          0.78,
          0.03,
          0.05,
          1,
          0.75,
          0.65,
          1,
          0.39,
          0.4,
          0.73,
          1,
          0.3,
          1,
          0.81,
          0.7,
          0.43,
          0.8,
          1,
          0.2,
          1,
          1,
          0.07,
          0.71,
          0.75,
          1,
          0.86,
          0.81,
          0.87,
          0.74,
          1,
          0.42,
          1,
          0.93,
          1,
          1,
          1,
          0.63,
          0.81,
          0.5,
          0.6,
          1,
          0.75,
          0.4,
          0.83,
          0.79,
          0.21,
          0.79,
          0.45,
          0.67,
          0.67,
          0.53,
          0.69,
          0.87,
          0.06,
          1,
          0.49,
          0.76,
          0.71,
          0.76,
          1,
          0.56,
          0.76,
          1,
          0.62,
          0.2,
          0.78,
          1,
          0.53,
          1,
          1,
          0.56,
          0.46,
          0.8,
          0.37,
          0.46,
          0.69,
          0.11,
          0.65,
          1,
          1,
          1,
          0.78,
          0.83,
          0.76,
          1,
          0.1,
          0.41,
          0.7,
          0.11,
          1,
          0.85,
          0.95,
          0.35,
          0.68,
          0.7,
          0.79,
          0.5,
          0.08,
          0.68,
          0.27,
          0.59,
          0.96,
          1,
          0.75,
          0.67,
          0.16,
          1,
          0.73,
          0.25,
          0,
          1,
          0.28,
          0.61,
          0.55,
          0.44,
          0.92,
          0.69,
          0.24,
          0.69,
          0.62,
          0.02,
          0.85,
          0.22,
          0.47,
          0.79,
          0.47,
          0.77,
          0.08,
          0.84,
          0.65,
          0.5,
          1,
          0.51,
          0.6,
          1,
          0.66,
          0.75,
          0.67,
          0.87,
          0.71,
          0.56,
          0.1,
          0.8,
          1,
          0.72,
          0.18,
          0.73,
          1,
          0.77,
          0.81,
          0.81,
          0.75,
          0.41,
          0.35,
          0.76,
          0.27,
          1,
          0.94,
          0.53,
          0.31,
          0.85,
          1,
          0.54,
          1,
          0.61,
          0.32,
          0.67,
          1,
          0.7,
          1,
          0.78,
          0.03,
          1,
          0.86,
          1,
          0.59,
          0.71,
          0.81,
          1,
          0.51,
          0.31,
          0.82,
          1,
          1,
          1,
          0.73,
          0.61,
          1,
          0.82,
          1,
          1,
          0.44,
          0.78,
          0.98,
          0.66,
          0.99,
          1,
          1,
          0.71,
          0.8,
          0,
          0.81,
          1,
          0.6,
          1,
          1,
          0.71,
          1,
          0.86,
          0.66,
          0.57,
          0.05,
          0.73,
          0.78,
          0.09,
          0.67,
          1,
          0.52,
          0.44,
          0.6,
          0.91,
          0.84,
          0.97,
          0.76,
          0.78,
          0.64,
          0.52,
          1,
          0.63,
          0.6,
          1,
          1,
          0.83,
          0.29,
          0.75,
          1,
          0.79,
          0.82,
          0.76,
          0.51,
          0.6,
          1,
          0.02,
          0.49,
          0.26,
          0.73,
          1,
          0.39,
          0.14,
          0.62,
          0.74,
          1,
          0.35,
          0.65,
          0.73,
          0.86,
          0.87,
          0.34,
          1,
          0.17,
          0.62,
          0.67,
          1,
          0.84,
          0.63,
          1,
          0.11,
          0.19,
          0.76,
          1,
          0.92,
          0.55,
          1,
          0.64,
          0.66,
          0.85,
          0.42,
          0.58,
          0.93,
          0,
          1,
          0.89,
          0.02,
          0.71,
          1,
          0.27,
          0.02,
          0.39,
          0.73,
          0.87,
          0.55,
          0.41,
          0.62,
          0.73,
          0.93,
          1,
          0.67,
          0.83,
          0.28,
          0.71,
          0.76,
          0.81,
          1,
          0.85,
          0.75,
          0.57,
          1,
          0.68,
          1,
          0.63,
          0.42,
          1,
          1,
          0.52,
          0.13,
          0.91,
          0.11,
          0.58,
          1,
          0.42,
          0.62,
          1,
          1,
          1,
          0.73,
          0.67,
          1,
          0.81,
          0.96,
          0.43,
          0.54,
          0.27,
          1,
          1,
          0.75,
          0.8,
          0.5,
          0.99,
          0.37,
          0.48,
          1,
          1,
          1,
          0.84,
          1,
          0.81,
          1,
          0.57,
          0.87,
          0.27,
          0.62,
          0.76,
          1,
          0.34,
          0.92,
          0.9,
          0.76,
          0.4,
          1,
          0.95,
          0.31,
          0.01,
          0.82,
          0.56,
          0.83,
          0.81,
          0.62,
          1,
          0.39,
          0.01,
          0.71,
          0.95,
          0.66,
          0.75,
          0.64,
          0.79,
          1,
          0.4,
          1,
          0,
          0.89,
          0.86,
          0.9,
          0.65,
          0.01,
          0.88,
          0.08,
          0.47,
          0.14,
          0.78,
          0.87,
          0.63,
          0.03,
          1,
          1,
          0.86,
          0.75,
          1,
          0.97,
          1,
          0.42,
          0.66,
          1,
          1,
          0.76,
          0.8,
          0.18,
          0.67,
          0.11,
          0.72,
          1,
          0.45,
          1,
          0.16,
          1,
          0.88,
          0.51,
          0.69,
          0.39,
          0.57,
          0.61,
          0.83,
          1,
          0.68,
          0.33,
          0.95,
          0.34,
          0.8,
          0.75,
          0.17,
          0.04,
          0.47,
          0.85,
          1,
          0.41,
          0.26,
          0.46,
          0.99,
          0.72,
          1,
          1,
          1,
          0.51,
          0.76,
          0.36,
          1,
          0.8,
          0.77,
          1,
          0.02,
          0.71,
          1,
          1,
          0.71,
          0.06,
          0.67,
          0.78,
          0.78,
          1,
          0.53,
          0.52,
          1,
          0.95,
          0.76,
          0.97,
          0.86,
          1,
          0.83,
          1,
          1,
          0.01,
          0.72,
          0.52,
          0.84,
          0.93,
          0.57,
          0.6,
          0.24,
          0.83,
          0.6,
          0.96,
          1,
          0.89,
          1,
          0.79,
          0.7,
          0.87,
          0.7,
          0.97,
          1,
          0.01,
          1,
          1,
          0.45,
          1,
          0.68,
          0.78,
          0.3,
          0.24,
          0.8,
          0.77,
          0.88,
          0.84,
          0.58,
          0.85,
          0.32,
          1,
          0.61,
          1,
          1,
          0.87,
          0.53,
          0.87,
          0.35,
          1,
          0.83,
          0.69,
          0.78,
          1,
          0.97,
          0.76,
          0.82,
          0.37,
          0.94,
          0.83,
          1,
          0.56,
          0.36,
          1,
          1,
          0.68,
          0.79,
          0.52,
          1,
          0.56,
          1,
          0.88,
          0.6,
          0.49,
          0.77,
          1,
          0.96,
          0.73,
          0.69,
          1,
          1,
          0.91,
          0.9,
          0.83,
          0.48,
          0.76,
          0.48,
          0.86,
          0.74,
          0.83,
          0.87,
          0.75,
          0.67,
          0.86,
          0.96,
          0.8,
          0.64,
          1,
          1,
          1,
          0.83,
          1,
          1,
          0.52,
          1,
          0.89,
          0.16,
          1,
          1,
          1,
          0.82,
          0.9,
          0.51,
          0.68,
          0.66,
          0.27,
          0,
          0.46,
          0.69,
          0.07,
          0.37,
          0.79,
          0.01,
          1,
          0.93,
          0.67,
          0.78,
          0.37,
          0.35,
          0.63,
          0.72,
          0.49,
          1,
          0.89,
          0.81,
          0.76,
          0.02,
          0.64,
          0.5,
          0.04,
          1,
          0.68,
          0.12,
          0.73,
          0.56,
          0.02,
          0.09,
          1,
          0.34,
          0.38,
          0.09,
          0.83,
          0.62,
          0.64,
          1,
          0.85,
          1,
          0.48,
          1,
          1,
          0.6,
          0.76,
          1,
          0.01,
          0.69,
          1,
          0.67,
          0.69,
          1,
          0.54,
          0.72,
          0.9,
          0.04,
          0.84,
          0.75,
          0.74,
          0.56,
          0.33,
          0.01,
          1,
          1,
          1,
          0.21,
          0.04,
          0.36,
          0.07,
          0.5,
          1,
          0.58,
          0.01,
          0.55,
          0.63,
          0.77,
          0.09,
          0.82,
          0.49,
          1,
          1,
          0.61,
          0.85,
          0.64,
          1,
          0.86,
          0.5,
          1,
          1,
          0.08,
          0.14,
          0.8,
          0.39,
          1,
          0.32,
          1,
          0.13,
          0.99,
          0.95,
          1,
          0.28,
          0.52,
          0.69,
          0.81,
          0.78,
          1,
          0.06,
          0.68,
          0.57,
          1,
          0.94,
          0.78,
          0.79,
          1,
          0.84,
          0.52,
          0.94,
          0.59,
          0.67,
          0.61,
          0.56,
          0.63,
          0.1,
          0.61,
          0.68,
          1,
          0.81,
          0.29,
          0.66,
          0.55,
          0.4,
          0.63,
          0.18,
          0.81,
          0.8,
          0.68,
          0.78,
          0.67,
          0.68,
          0.24,
          0.65,
          0.68,
          0.45,
          0.28,
          0.84,
          0.6,
          0.66,
          0.51,
          1,
          0.29,
          0.68,
          1,
          0.82,
          1,
          0.89,
          0.5,
          0.68,
          0.9,
          1,
          0.04,
          0.59,
          0.72,
          1,
          0.03,
          0.93,
          0.83,
          1,
          0.82,
          0.68,
          0.69,
          0.21,
          0.29,
          1,
          0.81,
          1,
          0.34,
          0.56,
          0.6,
          0.93,
          0.47,
          0.45,
          0.67,
          0.18,
          0.82,
          1,
          0.64,
          1,
          0.74,
          1,
          0.48,
          1,
          0.51,
          1,
          1,
          1,
          0.8,
          0.82,
          0.93,
          0.4,
          0.66,
          0.31,
          1,
          0.4,
          0.16,
          0.65,
          0.24,
          0.3,
          0.66,
          0.76,
          0.65,
          0.46,
          0.85,
          0.6,
          0.49,
          0.89,
          1,
          0.99,
          1,
          0.37,
          0.67,
          0.65,
          1,
          0.96,
          1,
          0.49,
          0.9,
          0.45,
          0.61,
          0.01,
          1,
          0.69,
          0.63,
          0.62,
          0.79,
          0.75,
          1,
          0.17,
          0.9,
          0.99,
          0.6,
          0.73,
          1,
          0.6,
          0.47,
          0.66,
          0.83,
          1,
          0.51,
          0.49,
          0.41,
          0.35,
          0.75,
          0,
          0.71,
          1,
          0.65,
          0.02,
          1,
          0.57,
          0.93,
          0.82,
          0.58,
          1,
          0.63,
          0.75,
          1,
          0.87,
          0.99,
          0.74,
          0.7,
          1,
          1,
          1,
          0.94,
          1,
          0.96,
          0.6,
          1,
          0.13,
          0.7,
          0.77,
          0.7,
          1,
          0.93,
          0.5,
          1,
          0.77,
          0.83,
          0.59,
          0.76,
          0.96,
          0.66,
          1,
          0.53,
          0.96,
          1,
          1,
          0.82,
          0.55,
          1,
          0.53,
          0.49,
          0.7,
          0.83,
          0.89,
          0.97,
          0.84,
          1,
          0.86,
          0.93,
          0.57,
          0.76,
          0.51,
          0.72,
          0.8,
          0.42,
          0.65,
          0.24,
          0.6,
          0.75,
          0.66,
          1,
          0.69,
          0.16,
          0.55,
          0.52,
          0.87,
          1,
          1,
          0.83,
          0.64,
          0.08,
          0.75,
          0.91,
          0.7,
          0.72,
          1,
          1,
          0.6,
          0.67,
          1,
          1,
          0.65,
          1,
          0.92,
          1,
          1,
          0.15,
          0.74,
          0.57,
          1,
          0.63,
          1,
          0.05,
          1,
          1,
          0.92,
          0.15,
          0.6,
          0.44,
          0.91,
          1,
          0.78,
          0.9,
          1,
          0.39,
          0.73,
          0.91,
          0.52,
          0.64,
          0.32,
          0.93,
          1,
          1,
          0.85,
          0.25,
          0.83,
          1,
          0.98,
          0.49,
          1,
          0.47,
          0.84,
          0.01,
          0.39,
          0.54,
          1,
          0.58,
          0.51,
          0.3,
          0.56,
          0.72,
          0.45,
          0.85,
          0.89,
          0.61,
          0.86,
          0.52,
          0.32,
          1,
          0.5,
          0.85,
          0.89,
          0.82,
          0.51,
          0,
          0.07,
          1,
          0.91,
          1,
          0.03,
          0.66,
          1,
          0.67,
          0.75,
          0.74,
          1,
          1,
          1,
          0.88,
          0.53,
          0.79,
          0.85,
          0.63,
          1,
          1,
          1,
          1,
          0.84,
          0.59,
          0.07,
          0.18,
          0.51,
          1,
          0.87,
          0.79,
          0.57,
          0.79,
          0.66,
          0.52,
          0.17,
          0.9,
          0.83,
          0.68,
          0.62,
          1,
          1,
          0.52,
          0.69,
          0.95,
          0.75,
          0.45,
          0.01,
          0.92,
          0.97,
          0.75,
          0.36,
          1,
          1,
          0.29,
          0.64,
          1,
          0.61,
          0,
          0.93,
          0.94,
          1,
          0.62,
          0.24,
          1,
          0.69,
          0.85,
          0.68,
          0.73,
          0.94,
          1,
          1,
          0.75,
          0.72,
          0.54,
          0.52,
          0.74,
          0.51,
          0.9,
          1,
          0.37,
          0.66,
          0.65,
          0.82,
          0.87,
          0.67,
          0.54,
          1,
          0.06,
          1,
          0.51,
          1,
          0.69,
          0.63,
          0.62,
          0.14,
          0.72,
          1,
          0.79,
          0.08,
          0.61,
          1,
          1,
          0.31,
          0.77,
          1,
          1,
          0.45,
          0.58,
          0.23,
          0.87,
          1,
          0.68,
          0.32,
          1,
          0.57,
          0.73,
          0.86,
          0.68,
          0.48,
          0.1,
          0.03,
          0.89,
          1,
          0.82,
          0.59,
          0.82,
          0.72,
          0,
          0.76,
          0.62,
          0.53,
          0.69,
          0.52,
          0.9,
          1,
          1,
          1,
          0.21,
          0.79,
          0.64,
          0.72,
          0.02,
          1,
          0.02,
          0.7,
          0.53,
          0.7,
          0.76,
          1,
          0.01,
          1,
          0.5,
          0.45,
          0.66,
          0.86,
          0.26,
          0.71,
          0.49,
          1,
          0.83,
          0.25,
          0.31,
          0.61,
          0.5,
          0.93,
          0.71,
          0.75,
          0.71,
          0.34,
          0.68,
          0.14,
          1,
          0.69,
          0.67,
          0.23,
          0.77,
          0.51,
          0.56,
          0.71,
          1,
          0.76,
          1,
          0.57,
          0.07,
          0.78,
          0.76,
          0.49,
          0.9,
          0.61,
          0.67,
          0.11,
          1,
          0.5,
          1,
          0.88,
          0.87,
          1,
          0.57,
          0.43,
          0.5,
          1,
          0.55,
          0.39,
          0.61,
          0.56,
          0.37,
          0.98,
          0.67,
          0.27,
          0.62,
          0.98,
          1,
          0.8,
          1,
          0.01,
          0.88,
          0.55,
          1,
          0.51,
          0.76,
          0.47,
          0.13,
          0.53,
          1,
          0.93,
          0.79,
          0.03,
          0.52,
          0.83,
          0.68,
          1,
          0.05,
          0.77,
          0.56,
          1,
          0.88,
          1,
          0.79,
          0.72,
          0.34,
          1,
          0.88,
          0.04,
          0.65,
          0.64,
          0.51,
          0.18,
          0.71,
          0.15,
          0.35,
          1,
          1,
          1,
          1,
          1,
          1,
          1,
          0.97,
          0.34,
          1,
          0.66,
          1,
          0.02,
          1,
          1,
          1,
          0.63,
          0.53,
          0.71,
          1,
          1,
          0.71,
          0.89,
          0.49,
          0.13,
          1,
          1,
          1,
          1,
          1,
          0.52,
          0.11,
          0.81,
          0.73,
          0.47,
          1,
          0.66,
          0.11,
          0.42,
          0.84,
          0.71,
          0.6,
          0.03,
          0.53,
          0.66,
          1,
          0.75,
          0.78,
          0.62,
          0.28,
          0.5,
          1,
          0.57,
          0.95,
          1,
          0.64,
          0.75,
          0.63,
          0.45,
          1,
          1,
          1,
          1,
          0.01,
          0.83,
          0.7,
          0.59,
          0.67,
          0.43,
          0.41,
          0.89,
          1,
          0.89,
          0.35,
          0.01,
          0.77,
          0.22,
          0.72,
          0.37,
          0.81,
          0.67,
          0.96,
          1,
          1,
          0.57,
          0.94,
          0.93,
          0.41,
          1,
          1,
          0.94,
          0.84,
          0.73,
          0.75,
          0.27,
          0.87,
          0.73,
          0.55,
          0.71,
          0.88,
          0.92,
          1,
          1,
          0.8,
          1,
          0.34,
          0.07,
          0.99,
          0.01,
          0.05,
          1,
          0.75,
          0.06,
          0.13,
          0.7,
          0.38,
          0.62,
          0.81,
          1,
          1,
          0.59,
          1,
          0.42,
          0.55,
          0.76,
          1,
          0.19,
          0.02,
          0.85,
          1,
          0.74,
          0.53,
          0.53,
          0.52,
          0.84,
          1,
          0.72,
          1,
          1,
          1,
          1,
          1,
          1,
          0.73,
          0.51,
          1,
          0.93,
          1,
          0.55,
          0.88,
          0.67,
          0.77,
          0.09,
          0.67,
          0.72,
          0.46,
          1,
          0.19,
          1,
          0.62,
          0.87,
          0.08,
          0.77,
          0.81,
          0,
          0.5,
          0.59,
          0.76,
          1,
          0.74,
          0.19,
          0.86,
          1,
          1,
          1,
          0.31,
          0.68,
          0.98,
          0.05,
          0.65,
          0.12,
          0.59,
          1,
          1,
          0.49,
          0.73,
          0.94,
          0.76,
          1,
          0.4,
          0.67,
          0.84,
          0.27,
          0.83,
          0.81,
          1,
          0.91,
          1,
          1,
          1,
          1,
          0.7,
          0.89,
          1,
          0.93,
          0.83,
          0.85,
          0.91,
          0.81,
          1,
          0.96,
          0.82,
          1,
          1,
          1,
          0.85,
          0.7,
          0.24,
          0.83,
          0.84,
          1,
          0.44,
          1,
          0.55,
          0.45,
          0.95,
          0.02,
          0.69,
          0.6,
          0.88,
          0.69,
          1,
          0.6,
          1,
          0.52,
          0.71,
          0.01,
          0.07,
          0.71,
          0.9,
          0.51,
          1,
          0.82,
          0.89,
          0.77,
          0.46,
          1,
          0.52,
          0.01,
          1,
          0.8,
          0.53,
          0.7,
          0.27,
          0.62,
          1,
          0.89,
          1,
          0.89,
          0.81,
          0.82,
          1,
          0.63,
          0.53,
          0.69,
          0.82,
          1,
          1,
          1,
          0.41,
          0.56,
          1,
          1,
          0.77,
          0.34,
          0.38,
          0.84,
          1,
          0.75,
          1,
          0.85,
          0.93,
          1,
          0.73,
          0.93,
          1
         ],
         "yaxis": "y"
        },
        {
         "hovertemplate": "Track: %{customdata[0]} <br>Hours Played: %{customdata[1]} <br>Percentage: %{customdata[2]} </br>",
         "legendgroup": "",
         "marker": {
          "symbol": "circle"
         },
         "mode": "lines",
         "name": "",
         "showlegend": false,
         "type": "scattergl",
         "x": [
          1e-17,
          1e-17,
          1e-17,
          1e-17,
          1e-17,
          1e-17,
          1e-17,
          1e-17,
          1e-17,
          1e-17,
          1e-17,
          1e-17,
          1e-17,
          1e-17,
          1e-17,
          1e-17,
          1e-17,
          1e-17,
          1e-17,
          1e-17,
          1e-17,
          1e-17,
          1e-17,
          1e-17,
          1e-17,
          1e-17,
          1e-17,
          1e-17,
          1e-17,
          1e-17,
          1e-17,
          1e-17,
          1e-17,
          1e-17,
          1e-17,
          1e-17,
          1e-17,
          1e-17,
          1e-17,
          1e-17,
          1e-17,
          1e-17,
          1e-17,
          1e-17,
          1e-17,
          1e-17,
          1e-17,
          1e-17,
          1e-17,
          1e-17,
          1e-17,
          1e-17,
          1e-17,
          1e-17,
          1e-17,
          1e-17,
          1e-17,
          1e-17,
          1e-17,
          1e-17,
          1e-17,
          1e-17,
          1e-17,
          1e-17,
          1e-17,
          1e-17,
          1e-17,
          1e-17,
          1e-17,
          1e-17,
          1e-17,
          1e-17,
          1e-17,
          1e-17,
          1e-17,
          1e-17,
          1e-17,
          1e-17,
          1e-17,
          1e-17,
          1e-17,
          1e-17,
          0.01,
          0.01,
          0.01,
          0.01,
          0.01,
          0.01,
          0.01,
          0.01,
          0.01,
          0.01,
          0.01,
          0.01,
          0.01,
          0.01,
          0.01,
          0.01,
          0.01,
          0.01,
          0.01,
          0.01,
          0.01,
          0.01,
          0.01,
          0.01,
          0.01,
          0.01,
          0.01,
          0.01,
          0.01,
          0.01,
          0.01,
          0.01,
          0.01,
          0.01,
          0.01,
          0.01,
          0.01,
          0.01,
          0.01,
          0.01,
          0.01,
          0.01,
          0.01,
          0.01,
          0.01,
          0.01,
          0.01,
          0.01,
          0.01,
          0.01,
          0.01,
          0.01,
          0.01,
          0.01,
          0.01,
          0.01,
          0.01,
          0.01,
          0.01,
          0.01,
          0.01,
          0.01,
          0.01,
          0.01,
          0.01,
          0.01,
          0.01,
          0.01,
          0.01,
          0.01,
          0.01,
          0.01,
          0.01,
          0.01,
          0.01,
          0.01,
          0.01,
          0.01,
          0.01,
          0.01,
          0.01,
          0.02,
          0.02,
          0.02,
          0.02,
          0.02,
          0.02,
          0.02,
          0.02,
          0.02,
          0.02,
          0.02,
          0.02,
          0.02,
          0.02,
          0.02,
          0.02,
          0.02,
          0.02,
          0.02,
          0.02,
          0.02,
          0.02,
          0.02,
          0.02,
          0.02,
          0.02,
          0.02,
          0.02,
          0.02,
          0.02,
          0.02,
          0.02,
          0.02,
          0.02,
          0.02,
          0.02,
          0.02,
          0.02,
          0.02,
          0.02,
          0.02,
          0.02,
          0.02,
          0.02,
          0.02,
          0.02,
          0.02,
          0.02,
          0.02,
          0.02,
          0.02,
          0.02,
          0.02,
          0.02,
          0.02,
          0.02,
          0.02,
          0.02,
          0.02,
          0.03,
          0.03,
          0.03,
          0.03,
          0.03,
          0.03,
          0.03,
          0.03,
          0.03,
          0.03,
          0.03,
          0.03,
          0.03,
          0.03,
          0.03,
          0.03,
          0.03,
          0.03,
          0.03,
          0.03,
          0.03,
          0.03,
          0.03,
          0.03,
          0.03,
          0.03,
          0.03,
          0.03,
          0.03,
          0.03,
          0.03,
          0.03,
          0.03,
          0.03,
          0.03,
          0.03,
          0.03,
          0.03,
          0.03,
          0.03,
          0.03,
          0.03,
          0.03,
          0.03,
          0.03,
          0.03,
          0.03,
          0.03,
          0.03,
          0.03,
          0.03,
          0.03,
          0.03,
          0.03,
          0.03,
          0.03,
          0.03,
          0.03,
          0.03,
          0.03,
          0.03,
          0.03,
          0.03,
          0.03,
          0.03,
          0.04,
          0.04,
          0.04,
          0.04,
          0.04,
          0.04,
          0.04,
          0.04,
          0.04,
          0.04,
          0.04,
          0.04,
          0.04,
          0.04,
          0.04,
          0.04,
          0.04,
          0.04,
          0.04,
          0.04,
          0.04,
          0.04,
          0.04,
          0.04,
          0.04,
          0.04,
          0.04,
          0.04,
          0.04,
          0.04,
          0.04,
          0.04,
          0.04,
          0.04,
          0.04,
          0.04,
          0.04,
          0.04,
          0.04,
          0.04,
          0.04,
          0.04,
          0.04,
          0.04,
          0.04,
          0.04,
          0.04,
          0.04,
          0.04,
          0.04,
          0.04,
          0.04,
          0.04,
          0.04,
          0.04,
          0.04,
          0.04,
          0.04,
          0.04,
          0.04,
          0.04,
          0.04,
          0.04,
          0.04,
          0.04,
          0.04,
          0.04,
          0.04,
          0.04,
          0.04,
          0.04,
          0.04,
          0.04,
          0.04,
          0.04,
          0.04,
          0.04,
          0.04,
          0.04,
          0.04,
          0.04,
          0.04,
          0.04,
          0.04,
          0.04,
          0.04,
          0.04,
          0.04,
          0.05,
          0.05,
          0.05,
          0.05,
          0.05,
          0.05,
          0.05,
          0.05,
          0.05,
          0.05,
          0.05,
          0.05,
          0.05,
          0.05,
          0.05,
          0.05,
          0.05,
          0.05,
          0.05,
          0.05,
          0.05,
          0.05,
          0.05,
          0.05,
          0.05,
          0.05,
          0.05,
          0.05,
          0.05,
          0.05,
          0.05,
          0.05,
          0.05,
          0.05,
          0.05,
          0.05,
          0.05,
          0.05,
          0.05,
          0.05,
          0.05,
          0.05,
          0.05,
          0.05,
          0.05,
          0.05,
          0.05,
          0.05,
          0.05,
          0.05,
          0.05,
          0.05,
          0.05,
          0.05,
          0.05,
          0.05,
          0.05,
          0.05,
          0.05,
          0.05,
          0.05,
          0.05,
          0.05,
          0.05,
          0.05,
          0.05,
          0.05,
          0.05,
          0.05,
          0.05,
          0.05,
          0.05,
          0.05,
          0.05,
          0.05,
          0.05,
          0.05,
          0.05,
          0.05,
          0.05,
          0.05,
          0.05,
          0.05,
          0.05,
          0.05,
          0.05,
          0.05,
          0.05,
          0.05,
          0.05,
          0.05,
          0.05,
          0.05,
          0.05,
          0.05,
          0.05,
          0.05,
          0.05,
          0.05,
          0.05,
          0.05,
          0.05,
          0.05,
          0.05,
          0.05,
          0.05,
          0.05,
          0.05,
          0.05,
          0.05,
          0.05,
          0.05,
          0.05,
          0.05,
          0.05,
          0.05,
          0.05,
          0.05,
          0.05,
          0.05,
          0.05,
          0.05,
          0.05,
          0.05,
          0.06,
          0.06,
          0.06,
          0.06,
          0.06,
          0.06,
          0.06,
          0.06,
          0.06,
          0.06,
          0.06,
          0.06,
          0.06,
          0.06,
          0.06,
          0.06,
          0.06,
          0.06,
          0.06,
          0.06,
          0.06,
          0.06,
          0.06,
          0.06,
          0.06,
          0.06,
          0.06,
          0.06,
          0.06,
          0.06,
          0.06,
          0.06,
          0.06,
          0.06,
          0.06,
          0.06,
          0.06,
          0.06,
          0.06,
          0.06,
          0.06,
          0.06,
          0.06,
          0.06,
          0.06,
          0.06,
          0.06,
          0.06,
          0.06,
          0.06,
          0.06,
          0.06,
          0.06,
          0.06,
          0.06,
          0.06,
          0.06,
          0.06,
          0.06,
          0.06,
          0.06,
          0.06,
          0.06,
          0.06,
          0.06,
          0.06,
          0.06,
          0.06,
          0.06,
          0.06,
          0.06,
          0.06,
          0.06,
          0.06,
          0.06,
          0.06,
          0.06,
          0.06,
          0.06,
          0.06,
          0.06,
          0.06,
          0.06,
          0.06,
          0.06,
          0.06,
          0.06,
          0.06,
          0.06,
          0.06,
          0.06,
          0.06,
          0.06,
          0.06,
          0.06,
          0.06,
          0.06,
          0.06,
          0.06,
          0.06,
          0.06,
          0.06,
          0.06,
          0.06,
          0.06,
          0.06,
          0.06,
          0.06,
          0.06,
          0.06,
          0.06,
          0.06,
          0.06,
          0.06,
          0.06,
          0.06,
          0.06,
          0.06,
          0.06,
          0.06,
          0.06,
          0.06,
          0.06,
          0.06,
          0.06,
          0.06,
          0.06,
          0.06,
          0.06,
          0.06,
          0.06,
          0.06,
          0.06,
          0.06,
          0.06,
          0.06,
          0.06,
          0.06,
          0.06,
          0.06,
          0.06,
          0.06,
          0.06,
          0.06,
          0.06,
          0.06,
          0.06,
          0.07,
          0.07,
          0.07,
          0.07,
          0.07,
          0.07,
          0.07,
          0.07,
          0.07,
          0.07,
          0.07,
          0.07,
          0.07,
          0.07,
          0.07,
          0.07,
          0.07,
          0.07,
          0.07,
          0.07,
          0.07,
          0.07,
          0.07,
          0.07,
          0.07,
          0.07,
          0.07,
          0.07,
          0.07,
          0.07,
          0.07,
          0.07,
          0.07,
          0.07,
          0.07,
          0.07,
          0.07,
          0.07,
          0.07,
          0.07,
          0.07,
          0.07,
          0.07,
          0.07,
          0.07,
          0.07,
          0.07,
          0.07,
          0.07,
          0.07,
          0.07,
          0.07,
          0.07,
          0.07,
          0.07,
          0.07,
          0.07,
          0.07,
          0.07,
          0.07,
          0.07,
          0.07,
          0.07,
          0.07,
          0.07,
          0.07,
          0.07,
          0.07,
          0.07,
          0.07,
          0.07,
          0.07,
          0.07,
          0.07,
          0.07,
          0.07,
          0.07,
          0.07,
          0.07,
          0.07,
          0.07,
          0.07,
          0.07,
          0.07,
          0.07,
          0.07,
          0.07,
          0.07,
          0.07,
          0.07,
          0.07,
          0.07,
          0.07,
          0.07,
          0.07,
          0.07,
          0.07,
          0.07,
          0.07,
          0.07,
          0.07,
          0.07,
          0.07,
          0.07,
          0.07,
          0.08,
          0.08,
          0.08,
          0.08,
          0.08,
          0.08,
          0.08,
          0.08,
          0.08,
          0.08,
          0.08,
          0.08,
          0.08,
          0.08,
          0.08,
          0.08,
          0.08,
          0.08,
          0.08,
          0.08,
          0.08,
          0.08,
          0.08,
          0.08,
          0.08,
          0.08,
          0.08,
          0.08,
          0.08,
          0.08,
          0.08,
          0.08,
          0.08,
          0.08,
          0.08,
          0.08,
          0.08,
          0.08,
          0.08,
          0.08,
          0.08,
          0.08,
          0.08,
          0.08,
          0.08,
          0.08,
          0.08,
          0.08,
          0.08,
          0.08,
          0.08,
          0.08,
          0.08,
          0.08,
          0.08,
          0.08,
          0.08,
          0.08,
          0.08,
          0.08,
          0.09,
          0.09,
          0.09,
          0.09,
          0.09,
          0.09,
          0.09,
          0.09,
          0.09,
          0.09,
          0.09,
          0.09,
          0.09,
          0.09,
          0.09,
          0.09,
          0.09,
          0.09,
          0.09,
          0.09,
          0.09,
          0.09,
          0.09,
          0.09,
          0.09,
          0.09,
          0.09,
          0.09,
          0.09,
          0.09,
          0.09,
          0.09,
          0.09,
          0.09,
          0.09,
          0.09,
          0.09,
          0.09,
          0.09,
          0.09,
          0.09,
          0.09,
          0.09,
          0.09,
          0.09,
          0.09,
          0.09,
          0.1,
          0.1,
          0.1,
          0.1,
          0.1,
          0.1,
          0.1,
          0.1,
          0.1,
          0.1,
          0.1,
          0.1,
          0.1,
          0.1,
          0.1,
          0.1,
          0.1,
          0.1,
          0.1,
          0.1,
          0.1,
          0.1,
          0.1,
          0.1,
          0.1,
          0.1,
          0.1,
          0.1,
          0.1,
          0.1,
          0.1,
          0.1,
          0.1,
          0.1,
          0.1,
          0.1,
          0.1,
          0.1,
          0.1,
          0.11,
          0.11,
          0.11,
          0.11,
          0.11,
          0.11,
          0.11,
          0.11,
          0.11,
          0.11,
          0.11,
          0.11,
          0.11,
          0.11,
          0.11,
          0.11,
          0.11,
          0.11,
          0.11,
          0.11,
          0.11,
          0.11,
          0.11,
          0.11,
          0.11,
          0.11,
          0.11,
          0.11,
          0.11,
          0.11,
          0.11,
          0.11,
          0.11,
          0.11,
          0.11,
          0.11,
          0.11,
          0.11,
          0.11,
          0.11,
          0.11,
          0.11,
          0.11,
          0.11,
          0.11,
          0.11,
          0.11,
          0.11,
          0.11,
          0.11,
          0.11,
          0.11,
          0.11,
          0.11,
          0.11,
          0.11,
          0.11,
          0.11,
          0.11,
          0.11,
          0.11,
          0.11,
          0.11,
          0.11,
          0.12,
          0.12,
          0.12,
          0.12,
          0.12,
          0.12,
          0.12,
          0.12,
          0.12,
          0.12,
          0.12,
          0.12,
          0.12,
          0.12,
          0.12,
          0.12,
          0.12,
          0.12,
          0.12,
          0.12,
          0.12,
          0.12,
          0.12,
          0.12,
          0.12,
          0.12,
          0.12,
          0.12,
          0.12,
          0.12,
          0.12,
          0.12,
          0.12,
          0.12,
          0.12,
          0.12,
          0.12,
          0.12,
          0.12,
          0.12,
          0.12,
          0.12,
          0.12,
          0.12,
          0.12,
          0.12,
          0.12,
          0.12,
          0.12,
          0.12,
          0.12,
          0.12,
          0.12,
          0.12,
          0.12,
          0.12,
          0.12,
          0.13,
          0.13,
          0.13,
          0.13,
          0.13,
          0.13,
          0.13,
          0.13,
          0.13,
          0.13,
          0.13,
          0.13,
          0.13,
          0.13,
          0.13,
          0.13,
          0.13,
          0.13,
          0.13,
          0.13,
          0.13,
          0.13,
          0.13,
          0.13,
          0.13,
          0.13,
          0.13,
          0.13,
          0.13,
          0.13,
          0.13,
          0.13,
          0.13,
          0.13,
          0.13,
          0.13,
          0.13,
          0.13,
          0.13,
          0.13,
          0.13,
          0.13,
          0.13,
          0.13,
          0.14,
          0.14,
          0.14,
          0.14,
          0.14,
          0.14,
          0.14,
          0.14,
          0.14,
          0.14,
          0.14,
          0.14,
          0.14,
          0.14,
          0.14,
          0.14,
          0.14,
          0.14,
          0.14,
          0.14,
          0.14,
          0.14,
          0.14,
          0.14,
          0.14,
          0.14,
          0.14,
          0.14,
          0.14,
          0.14,
          0.14,
          0.14,
          0.14,
          0.14,
          0.14,
          0.14,
          0.14,
          0.14,
          0.14,
          0.14,
          0.14,
          0.14,
          0.14,
          0.14,
          0.15,
          0.15,
          0.15,
          0.15,
          0.15,
          0.15,
          0.15,
          0.15,
          0.15,
          0.15,
          0.15,
          0.15,
          0.15,
          0.15,
          0.15,
          0.15,
          0.15,
          0.15,
          0.15,
          0.15,
          0.15,
          0.15,
          0.15,
          0.15,
          0.15,
          0.15,
          0.15,
          0.15,
          0.15,
          0.15,
          0.15,
          0.15,
          0.15,
          0.15,
          0.16,
          0.16,
          0.16,
          0.16,
          0.16,
          0.16,
          0.16,
          0.16,
          0.16,
          0.16,
          0.16,
          0.16,
          0.16,
          0.16,
          0.16,
          0.16,
          0.16,
          0.16,
          0.16,
          0.16,
          0.16,
          0.16,
          0.16,
          0.16,
          0.16,
          0.16,
          0.16,
          0.16,
          0.16,
          0.16,
          0.17,
          0.17,
          0.17,
          0.17,
          0.17,
          0.17,
          0.17,
          0.17,
          0.17,
          0.17,
          0.17,
          0.17,
          0.17,
          0.17,
          0.17,
          0.17,
          0.17,
          0.17,
          0.17,
          0.17,
          0.17,
          0.17,
          0.17,
          0.17,
          0.17,
          0.17,
          0.17,
          0.17,
          0.17,
          0.17,
          0.17,
          0.18,
          0.18,
          0.18,
          0.18,
          0.18,
          0.18,
          0.18,
          0.18,
          0.18,
          0.18,
          0.18,
          0.18,
          0.18,
          0.18,
          0.18,
          0.18,
          0.18,
          0.18,
          0.18,
          0.18,
          0.18,
          0.18,
          0.18,
          0.18,
          0.19,
          0.19,
          0.19,
          0.19,
          0.19,
          0.19,
          0.19,
          0.19,
          0.19,
          0.19,
          0.19,
          0.19,
          0.19,
          0.19,
          0.19,
          0.19,
          0.19,
          0.19,
          0.19,
          0.19,
          0.19,
          0.19,
          0.19,
          0.19,
          0.19,
          0.19,
          0.19,
          0.19,
          0.19,
          0.19,
          0.19,
          0.19,
          0.19,
          0.19,
          0.19,
          0.19,
          0.19,
          0.19,
          0.2,
          0.2,
          0.2,
          0.2,
          0.2,
          0.2,
          0.2,
          0.2,
          0.2,
          0.2,
          0.2,
          0.2,
          0.2,
          0.2,
          0.2,
          0.2,
          0.2,
          0.2,
          0.2,
          0.2,
          0.2,
          0.2,
          0.2,
          0.2,
          0.21,
          0.21,
          0.21,
          0.21,
          0.21,
          0.21,
          0.21,
          0.21,
          0.21,
          0.21,
          0.21,
          0.21,
          0.21,
          0.21,
          0.21,
          0.21,
          0.21,
          0.22,
          0.22,
          0.22,
          0.22,
          0.22,
          0.22,
          0.22,
          0.22,
          0.22,
          0.22,
          0.22,
          0.22,
          0.22,
          0.22,
          0.23,
          0.23,
          0.23,
          0.23,
          0.23,
          0.23,
          0.23,
          0.23,
          0.23,
          0.23,
          0.23,
          0.23,
          0.23,
          0.23,
          0.24,
          0.24,
          0.24,
          0.24,
          0.24,
          0.24,
          0.24,
          0.24,
          0.24,
          0.24,
          0.24,
          0.25,
          0.25,
          0.25,
          0.25,
          0.25,
          0.25,
          0.25,
          0.25,
          0.25,
          0.25,
          0.25,
          0.25,
          0.25,
          0.25,
          0.26,
          0.26,
          0.26,
          0.26,
          0.26,
          0.26,
          0.26,
          0.26,
          0.26,
          0.27,
          0.27,
          0.27,
          0.27,
          0.27,
          0.27,
          0.27,
          0.27,
          0.27,
          0.27,
          0.27,
          0.27,
          0.27,
          0.27,
          0.27,
          0.27,
          0.27,
          0.28,
          0.28,
          0.28,
          0.28,
          0.28,
          0.28,
          0.28,
          0.28,
          0.28,
          0.28,
          0.28,
          0.28,
          0.28,
          0.29,
          0.29,
          0.29,
          0.29,
          0.29,
          0.29,
          0.29,
          0.3,
          0.3,
          0.3,
          0.3,
          0.3,
          0.3,
          0.3,
          0.3,
          0.3,
          0.3,
          0.3,
          0.31,
          0.31,
          0.31,
          0.31,
          0.31,
          0.31,
          0.31,
          0.31,
          0.31,
          0.31,
          0.31,
          0.31,
          0.31,
          0.31,
          0.31,
          0.31,
          0.32,
          0.32,
          0.32,
          0.32,
          0.32,
          0.32,
          0.32,
          0.32,
          0.32,
          0.32,
          0.32,
          0.33,
          0.33,
          0.33,
          0.33,
          0.34,
          0.34,
          0.34,
          0.34,
          0.34,
          0.34,
          0.34,
          0.34,
          0.34,
          0.34,
          0.34,
          0.35,
          0.35,
          0.35,
          0.35,
          0.35,
          0.35,
          0.35,
          0.35,
          0.36,
          0.36,
          0.36,
          0.36,
          0.36,
          0.36,
          0.36,
          0.36,
          0.36,
          0.36,
          0.37,
          0.37,
          0.37,
          0.37,
          0.37,
          0.37,
          0.37,
          0.37,
          0.37,
          0.37,
          0.38,
          0.38,
          0.38,
          0.38,
          0.38,
          0.38,
          0.38,
          0.39,
          0.39,
          0.39,
          0.39,
          0.39,
          0.39,
          0.39,
          0.39,
          0.39,
          0.39,
          0.39,
          0.39,
          0.4,
          0.4,
          0.4,
          0.4,
          0.4,
          0.4,
          0.41,
          0.41,
          0.41,
          0.41,
          0.41,
          0.41,
          0.42,
          0.42,
          0.42,
          0.42,
          0.42,
          0.43,
          0.43,
          0.43,
          0.43,
          0.43,
          0.43,
          0.43,
          0.43,
          0.43,
          0.43,
          0.44,
          0.44,
          0.44,
          0.44,
          0.44,
          0.44,
          0.44,
          0.44,
          0.45,
          0.45,
          0.45,
          0.45,
          0.45,
          0.46,
          0.46,
          0.46,
          0.46,
          0.46,
          0.46,
          0.46,
          0.47,
          0.47,
          0.47,
          0.48,
          0.48,
          0.48,
          0.48,
          0.48,
          0.49,
          0.49,
          0.49,
          0.49,
          0.49,
          0.5,
          0.5,
          0.5,
          0.5,
          0.5,
          0.5,
          0.5,
          0.5,
          0.51,
          0.51,
          0.51,
          0.52,
          0.52,
          0.52,
          0.52,
          0.53,
          0.53,
          0.53,
          0.53,
          0.53,
          0.54,
          0.55,
          0.55,
          0.56,
          0.56,
          0.56,
          0.57,
          0.57,
          0.57,
          0.57,
          0.58,
          0.58,
          0.58,
          0.58,
          0.59,
          0.59,
          0.59,
          0.59,
          0.6,
          0.6,
          0.6,
          0.6,
          0.6,
          0.6,
          0.61,
          0.61,
          0.61,
          0.61,
          0.62,
          0.62,
          0.62,
          0.62,
          0.63,
          0.63,
          0.63,
          0.63,
          0.63,
          0.64,
          0.65,
          0.65,
          0.65,
          0.66,
          0.66,
          0.67,
          0.67,
          0.67,
          0.67,
          0.67,
          0.67,
          0.67,
          0.68,
          0.69,
          0.69,
          0.69,
          0.71,
          0.71,
          0.71,
          0.71,
          0.71,
          0.73,
          0.73,
          0.74,
          0.74,
          0.74,
          0.74,
          0.74,
          0.74,
          0.74,
          0.75,
          0.75,
          0.75,
          0.75,
          0.76,
          0.78,
          0.78,
          0.78,
          0.79,
          0.79,
          0.79,
          0.79,
          0.79,
          0.79,
          0.79,
          0.79,
          0.8,
          0.8,
          0.8,
          0.81,
          0.81,
          0.81,
          0.82,
          0.82,
          0.82,
          0.82,
          0.83,
          0.83,
          0.84,
          0.85,
          0.85,
          0.85,
          0.86,
          0.87,
          0.88,
          0.89,
          0.9,
          0.9,
          0.9,
          0.9,
          0.92,
          0.92,
          0.94,
          0.95,
          0.96,
          0.97,
          0.97,
          0.97,
          0.98,
          0.98,
          0.99,
          0.99,
          0.99,
          1,
          1,
          1.01,
          1.01,
          1.01,
          1.01,
          1.03,
          1.03,
          1.03,
          1.04,
          1.05,
          1.05,
          1.06,
          1.07,
          1.08,
          1.09,
          1.09,
          1.1,
          1.1,
          1.11,
          1.13,
          1.13,
          1.15,
          1.15,
          1.15,
          1.19,
          1.2,
          1.2,
          1.21,
          1.21,
          1.23,
          1.24,
          1.25,
          1.26,
          1.27,
          1.27,
          1.28,
          1.3,
          1.31,
          1.32,
          1.33,
          1.33,
          1.33,
          1.33,
          1.34,
          1.37,
          1.41,
          1.42,
          1.44,
          1.45,
          1.47,
          1.5,
          1.51,
          1.51,
          1.53,
          1.54,
          1.57,
          1.63,
          1.63,
          1.64,
          1.65,
          1.66,
          1.66,
          1.68,
          1.71,
          1.73,
          1.73,
          1.74,
          1.74,
          1.76,
          1.77,
          1.8,
          1.86,
          1.86,
          1.89,
          1.93,
          2.02,
          2.02,
          2.02,
          2.03,
          2.08,
          2.08,
          2.16,
          2.16,
          2.21,
          2.21,
          2.24,
          2.25,
          2.26,
          2.26,
          2.27,
          2.45,
          2.45,
          2.48,
          2.52,
          2.52,
          2.53,
          2.59,
          2.6,
          2.61,
          2.62,
          2.63,
          2.67,
          2.68,
          2.69,
          2.84,
          2.84,
          2.88,
          2.9,
          2.94,
          2.95,
          3.12,
          3.13,
          3.29,
          3.57,
          3.98,
          4.03,
          4.08,
          4.46,
          4.64,
          4.76,
          5.32,
          5.43,
          5.88,
          5.91,
          6.04
         ],
         "xaxis": "x",
         "y": [
          -0.007644596984016427,
          -0.007644596984016427,
          -0.007644596984016427,
          -0.007644596984016427,
          -0.007644596984016427,
          -0.007644596984016427,
          -0.007644596984016427,
          -0.007644596984016427,
          -0.007644596984016427,
          -0.007644596984016427,
          -0.007644596984016427,
          -0.007644596984016427,
          -0.007644596984016427,
          -0.007644596984016427,
          -0.007644596984016427,
          -0.007644596984016427,
          -0.007644596984016427,
          -0.007644596984016427,
          -0.007644596984016427,
          -0.007644596984016427,
          -0.007644596984016427,
          -0.007644596984016427,
          -0.007644596984016427,
          -0.007644596984016427,
          -0.007644596984016427,
          -0.007644596984016427,
          -0.007644596984016427,
          -0.007644596984016427,
          -0.007644596984016427,
          -0.007644596984016427,
          -0.007644596984016427,
          -0.007644596984016427,
          -0.007644596984016427,
          -0.007644596984016427,
          -0.007644596984016427,
          -0.007644596984016427,
          -0.007644596984016427,
          -0.007644596984016427,
          -0.007644596984016427,
          -0.007644596984016427,
          -0.007644596984016427,
          -0.007644596984016427,
          -0.007644596984016427,
          -0.007644596984016427,
          -0.007644596984016427,
          -0.007644596984016427,
          -0.007644596984016427,
          -0.007644596984016427,
          -0.007644596984016427,
          -0.007644596984016427,
          -0.007644596984016427,
          -0.007644596984016427,
          -0.007644596984016427,
          -0.007644596984016427,
          -0.007644596984016427,
          -0.007644596984016427,
          -0.007644596984016427,
          -0.007644596984016427,
          -0.007644596984016427,
          -0.007644596984016427,
          -0.007644596984016427,
          -0.007644596984016427,
          -0.007644596984016427,
          -0.007644596984016427,
          -0.007644596984016427,
          -0.007644596984016427,
          -0.007644596984016427,
          -0.007644596984016427,
          -0.007644596984016427,
          -0.007644596984016427,
          -0.007644596984016427,
          -0.007644596984016427,
          -0.007644596984016427,
          -0.007644596984016427,
          -0.007644596984016427,
          -0.007644596984016427,
          -0.007644596984016427,
          -0.007644596984016427,
          -0.007644596984016427,
          -0.007644596984016427,
          -0.007644596984016427,
          -0.007644596984016427,
          0.6780036857517963,
          0.6780036857517963,
          0.6780036857517963,
          0.6780036857517963,
          0.6780036857517963,
          0.6780036857517963,
          0.6780036857517963,
          0.6780036857517963,
          0.6780036857517963,
          0.6780036857517963,
          0.6780036857517963,
          0.6780036857517963,
          0.6780036857517963,
          0.6780036857517963,
          0.6780036857517963,
          0.6780036857517963,
          0.6780036857517963,
          0.6780036857517963,
          0.6780036857517963,
          0.6780036857517963,
          0.6780036857517963,
          0.6780036857517963,
          0.6780036857517963,
          0.6780036857517963,
          0.6780036857517963,
          0.6780036857517963,
          0.6780036857517963,
          0.6780036857517963,
          0.6780036857517963,
          0.6780036857517963,
          0.6780036857517963,
          0.6780036857517963,
          0.6780036857517963,
          0.6780036857517963,
          0.6780036857517963,
          0.6780036857517963,
          0.6780036857517963,
          0.6780036857517963,
          0.6780036857517963,
          0.6780036857517963,
          0.6780036857517963,
          0.6780036857517963,
          0.6780036857517963,
          0.6780036857517963,
          0.6780036857517963,
          0.6780036857517963,
          0.6780036857517963,
          0.6780036857517963,
          0.6780036857517963,
          0.6780036857517963,
          0.6780036857517963,
          0.6780036857517963,
          0.6780036857517963,
          0.6780036857517963,
          0.6780036857517963,
          0.6780036857517963,
          0.6780036857517963,
          0.6780036857517963,
          0.6780036857517963,
          0.6780036857517963,
          0.6780036857517963,
          0.6780036857517963,
          0.6780036857517963,
          0.6780036857517963,
          0.6780036857517963,
          0.6780036857517963,
          0.6780036857517963,
          0.6780036857517963,
          0.6780036857517963,
          0.6780036857517963,
          0.6780036857517963,
          0.6780036857517963,
          0.6780036857517963,
          0.6780036857517963,
          0.6780036857517963,
          0.6780036857517963,
          0.6780036857517963,
          0.6780036857517963,
          0.6780036857517963,
          0.6780036857517963,
          0.6780036857517963,
          0.6917637323903948,
          0.6917637323903948,
          0.6917637323903948,
          0.6917637323903948,
          0.6917637323903948,
          0.6917637323903948,
          0.6917637323903948,
          0.6917637323903948,
          0.6917637323903948,
          0.6917637323903948,
          0.6917637323903948,
          0.6917637323903948,
          0.6917637323903948,
          0.6917637323903948,
          0.6917637323903948,
          0.6917637323903948,
          0.6917637323903948,
          0.6917637323903948,
          0.6917637323903948,
          0.6917637323903948,
          0.6917637323903948,
          0.6917637323903948,
          0.6917637323903948,
          0.6917637323903948,
          0.6917637323903948,
          0.6917637323903948,
          0.6917637323903948,
          0.6917637323903948,
          0.6917637323903948,
          0.6917637323903948,
          0.6917637323903948,
          0.6917637323903948,
          0.6917637323903948,
          0.6917637323903948,
          0.6917637323903948,
          0.6917637323903948,
          0.6917637323903948,
          0.6917637323903948,
          0.6917637323903948,
          0.6917637323903948,
          0.6917637323903948,
          0.6917637323903948,
          0.6917637323903948,
          0.6917637323903948,
          0.6917637323903948,
          0.6917637323903948,
          0.6917637323903948,
          0.6917637323903948,
          0.6917637323903948,
          0.6917637323903948,
          0.6917637323903948,
          0.6917637323903948,
          0.6917637323903948,
          0.6917637323903948,
          0.6917637323903948,
          0.6917637323903948,
          0.6917637323903948,
          0.6917637323903948,
          0.6917637323903948,
          0.6998128436821491,
          0.6998128436821491,
          0.6998128436821491,
          0.6998128436821491,
          0.6998128436821491,
          0.6998128436821491,
          0.6998128436821491,
          0.6998128436821491,
          0.6998128436821491,
          0.6998128436821491,
          0.6998128436821491,
          0.6998128436821491,
          0.6998128436821491,
          0.6998128436821491,
          0.6998128436821491,
          0.6998128436821491,
          0.6998128436821491,
          0.6998128436821491,
          0.6998128436821491,
          0.6998128436821491,
          0.6998128436821491,
          0.6998128436821491,
          0.6998128436821491,
          0.6998128436821491,
          0.6998128436821491,
          0.6998128436821491,
          0.6998128436821491,
          0.6998128436821491,
          0.6998128436821491,
          0.6998128436821491,
          0.6998128436821491,
          0.6998128436821491,
          0.6998128436821491,
          0.6998128436821491,
          0.6998128436821491,
          0.6998128436821491,
          0.6998128436821491,
          0.6998128436821491,
          0.6998128436821491,
          0.6998128436821491,
          0.6998128436821491,
          0.6998128436821491,
          0.6998128436821491,
          0.6998128436821491,
          0.6998128436821491,
          0.6998128436821491,
          0.6998128436821491,
          0.6998128436821491,
          0.6998128436821491,
          0.6998128436821491,
          0.6998128436821491,
          0.6998128436821491,
          0.6998128436821491,
          0.6998128436821491,
          0.6998128436821491,
          0.6998128436821491,
          0.6998128436821491,
          0.6998128436821491,
          0.6998128436821491,
          0.6998128436821491,
          0.6998128436821491,
          0.6998128436821491,
          0.6998128436821491,
          0.6998128436821491,
          0.6998128436821491,
          0.7055237790289933,
          0.7055237790289933,
          0.7055237790289933,
          0.7055237790289933,
          0.7055237790289933,
          0.7055237790289933,
          0.7055237790289933,
          0.7055237790289933,
          0.7055237790289933,
          0.7055237790289933,
          0.7055237790289933,
          0.7055237790289933,
          0.7055237790289933,
          0.7055237790289933,
          0.7055237790289933,
          0.7055237790289933,
          0.7055237790289933,
          0.7055237790289933,
          0.7055237790289933,
          0.7055237790289933,
          0.7055237790289933,
          0.7055237790289933,
          0.7055237790289933,
          0.7055237790289933,
          0.7055237790289933,
          0.7055237790289933,
          0.7055237790289933,
          0.7055237790289933,
          0.7055237790289933,
          0.7055237790289933,
          0.7055237790289933,
          0.7055237790289933,
          0.7055237790289933,
          0.7055237790289933,
          0.7055237790289933,
          0.7055237790289933,
          0.7055237790289933,
          0.7055237790289933,
          0.7055237790289933,
          0.7055237790289933,
          0.7055237790289933,
          0.7055237790289933,
          0.7055237790289933,
          0.7055237790289933,
          0.7055237790289933,
          0.7055237790289933,
          0.7055237790289933,
          0.7055237790289933,
          0.7055237790289933,
          0.7055237790289933,
          0.7055237790289933,
          0.7055237790289933,
          0.7055237790289933,
          0.7055237790289933,
          0.7055237790289933,
          0.7055237790289933,
          0.7055237790289933,
          0.7055237790289933,
          0.7055237790289933,
          0.7055237790289933,
          0.7055237790289933,
          0.7055237790289933,
          0.7055237790289933,
          0.7055237790289933,
          0.7055237790289933,
          0.7055237790289933,
          0.7055237790289933,
          0.7055237790289933,
          0.7055237790289933,
          0.7055237790289933,
          0.7055237790289933,
          0.7055237790289933,
          0.7055237790289933,
          0.7055237790289933,
          0.7055237790289933,
          0.7055237790289933,
          0.7055237790289933,
          0.7055237790289933,
          0.7055237790289933,
          0.7055237790289933,
          0.7055237790289933,
          0.7055237790289933,
          0.7055237790289933,
          0.7055237790289933,
          0.7055237790289933,
          0.7055237790289933,
          0.7055237790289933,
          0.7055237790289933,
          0.7099535246289186,
          0.7099535246289186,
          0.7099535246289186,
          0.7099535246289186,
          0.7099535246289186,
          0.7099535246289186,
          0.7099535246289186,
          0.7099535246289186,
          0.7099535246289186,
          0.7099535246289186,
          0.7099535246289186,
          0.7099535246289186,
          0.7099535246289186,
          0.7099535246289186,
          0.7099535246289186,
          0.7099535246289186,
          0.7099535246289186,
          0.7099535246289186,
          0.7099535246289186,
          0.7099535246289186,
          0.7099535246289186,
          0.7099535246289186,
          0.7099535246289186,
          0.7099535246289186,
          0.7099535246289186,
          0.7099535246289186,
          0.7099535246289186,
          0.7099535246289186,
          0.7099535246289186,
          0.7099535246289186,
          0.7099535246289186,
          0.7099535246289186,
          0.7099535246289186,
          0.7099535246289186,
          0.7099535246289186,
          0.7099535246289186,
          0.7099535246289186,
          0.7099535246289186,
          0.7099535246289186,
          0.7099535246289186,
          0.7099535246289186,
          0.7099535246289186,
          0.7099535246289186,
          0.7099535246289186,
          0.7099535246289186,
          0.7099535246289186,
          0.7099535246289186,
          0.7099535246289186,
          0.7099535246289186,
          0.7099535246289186,
          0.7099535246289186,
          0.7099535246289186,
          0.7099535246289186,
          0.7099535246289186,
          0.7099535246289186,
          0.7099535246289186,
          0.7099535246289186,
          0.7099535246289186,
          0.7099535246289186,
          0.7099535246289186,
          0.7099535246289186,
          0.7099535246289186,
          0.7099535246289186,
          0.7099535246289186,
          0.7099535246289186,
          0.7099535246289186,
          0.7099535246289186,
          0.7099535246289186,
          0.7099535246289186,
          0.7099535246289186,
          0.7099535246289186,
          0.7099535246289186,
          0.7099535246289186,
          0.7099535246289186,
          0.7099535246289186,
          0.7099535246289186,
          0.7099535246289186,
          0.7099535246289186,
          0.7099535246289186,
          0.7099535246289186,
          0.7099535246289186,
          0.7099535246289186,
          0.7099535246289186,
          0.7099535246289186,
          0.7099535246289186,
          0.7099535246289186,
          0.7099535246289186,
          0.7099535246289186,
          0.7099535246289186,
          0.7099535246289186,
          0.7099535246289186,
          0.7099535246289186,
          0.7099535246289186,
          0.7099535246289186,
          0.7099535246289186,
          0.7099535246289186,
          0.7099535246289186,
          0.7099535246289186,
          0.7099535246289186,
          0.7099535246289186,
          0.7099535246289186,
          0.7099535246289186,
          0.7099535246289186,
          0.7099535246289186,
          0.7099535246289186,
          0.7099535246289186,
          0.7099535246289186,
          0.7099535246289186,
          0.7099535246289186,
          0.7099535246289186,
          0.7099535246289186,
          0.7099535246289186,
          0.7099535246289186,
          0.7099535246289186,
          0.7099535246289186,
          0.7099535246289186,
          0.7099535246289186,
          0.7099535246289186,
          0.7099535246289186,
          0.7099535246289186,
          0.7099535246289186,
          0.7099535246289186,
          0.7099535246289186,
          0.7099535246289186,
          0.7135728903207477,
          0.7135728903207477,
          0.7135728903207477,
          0.7135728903207477,
          0.7135728903207477,
          0.7135728903207477,
          0.7135728903207477,
          0.7135728903207477,
          0.7135728903207477,
          0.7135728903207477,
          0.7135728903207477,
          0.7135728903207477,
          0.7135728903207477,
          0.7135728903207477,
          0.7135728903207477,
          0.7135728903207477,
          0.7135728903207477,
          0.7135728903207477,
          0.7135728903207477,
          0.7135728903207477,
          0.7135728903207477,
          0.7135728903207477,
          0.7135728903207477,
          0.7135728903207477,
          0.7135728903207477,
          0.7135728903207477,
          0.7135728903207477,
          0.7135728903207477,
          0.7135728903207477,
          0.7135728903207477,
          0.7135728903207477,
          0.7135728903207477,
          0.7135728903207477,
          0.7135728903207477,
          0.7135728903207477,
          0.7135728903207477,
          0.7135728903207477,
          0.7135728903207477,
          0.7135728903207477,
          0.7135728903207477,
          0.7135728903207477,
          0.7135728903207477,
          0.7135728903207477,
          0.7135728903207477,
          0.7135728903207477,
          0.7135728903207477,
          0.7135728903207477,
          0.7135728903207477,
          0.7135728903207477,
          0.7135728903207477,
          0.7135728903207477,
          0.7135728903207477,
          0.7135728903207477,
          0.7135728903207477,
          0.7135728903207477,
          0.7135728903207477,
          0.7135728903207477,
          0.7135728903207477,
          0.7135728903207477,
          0.7135728903207477,
          0.7135728903207477,
          0.7135728903207477,
          0.7135728903207477,
          0.7135728903207477,
          0.7135728903207477,
          0.7135728903207477,
          0.7135728903207477,
          0.7135728903207477,
          0.7135728903207477,
          0.7135728903207477,
          0.7135728903207477,
          0.7135728903207477,
          0.7135728903207477,
          0.7135728903207477,
          0.7135728903207477,
          0.7135728903207477,
          0.7135728903207477,
          0.7135728903207477,
          0.7135728903207477,
          0.7135728903207477,
          0.7135728903207477,
          0.7135728903207477,
          0.7135728903207477,
          0.7135728903207477,
          0.7135728903207477,
          0.7135728903207477,
          0.7135728903207477,
          0.7135728903207477,
          0.7135728903207477,
          0.7135728903207477,
          0.7135728903207477,
          0.7135728903207477,
          0.7135728903207477,
          0.7135728903207477,
          0.7135728903207477,
          0.7135728903207477,
          0.7135728903207477,
          0.7135728903207477,
          0.7135728903207477,
          0.7135728903207477,
          0.7135728903207477,
          0.7135728903207477,
          0.7135728903207477,
          0.7135728903207477,
          0.7135728903207477,
          0.7135728903207477,
          0.7135728903207477,
          0.7135728903207477,
          0.7135728903207477,
          0.7135728903207477,
          0.7135728903207477,
          0.7135728903207477,
          0.7135728903207477,
          0.7135728903207477,
          0.7135728903207477,
          0.7135728903207477,
          0.7135728903207477,
          0.7135728903207477,
          0.7135728903207477,
          0.7135728903207477,
          0.7135728903207477,
          0.7135728903207477,
          0.7135728903207477,
          0.7135728903207477,
          0.7135728903207477,
          0.7135728903207477,
          0.7135728903207477,
          0.7135728903207477,
          0.7135728903207477,
          0.7135728903207477,
          0.7135728903207477,
          0.7135728903207477,
          0.7135728903207477,
          0.7135728903207477,
          0.7135728903207477,
          0.7135728903207477,
          0.7135728903207477,
          0.7135728903207477,
          0.7135728903207477,
          0.7135728903207477,
          0.7135728903207477,
          0.7135728903207477,
          0.7135728903207477,
          0.7135728903207477,
          0.7135728903207477,
          0.7135728903207477,
          0.7135728903207477,
          0.716633020410408,
          0.716633020410408,
          0.716633020410408,
          0.716633020410408,
          0.716633020410408,
          0.716633020410408,
          0.716633020410408,
          0.716633020410408,
          0.716633020410408,
          0.716633020410408,
          0.716633020410408,
          0.716633020410408,
          0.716633020410408,
          0.716633020410408,
          0.716633020410408,
          0.716633020410408,
          0.716633020410408,
          0.716633020410408,
          0.716633020410408,
          0.716633020410408,
          0.716633020410408,
          0.716633020410408,
          0.716633020410408,
          0.716633020410408,
          0.716633020410408,
          0.716633020410408,
          0.716633020410408,
          0.716633020410408,
          0.716633020410408,
          0.716633020410408,
          0.716633020410408,
          0.716633020410408,
          0.716633020410408,
          0.716633020410408,
          0.716633020410408,
          0.716633020410408,
          0.716633020410408,
          0.716633020410408,
          0.716633020410408,
          0.716633020410408,
          0.716633020410408,
          0.716633020410408,
          0.716633020410408,
          0.716633020410408,
          0.716633020410408,
          0.716633020410408,
          0.716633020410408,
          0.716633020410408,
          0.716633020410408,
          0.716633020410408,
          0.716633020410408,
          0.716633020410408,
          0.716633020410408,
          0.716633020410408,
          0.716633020410408,
          0.716633020410408,
          0.716633020410408,
          0.716633020410408,
          0.716633020410408,
          0.716633020410408,
          0.716633020410408,
          0.716633020410408,
          0.716633020410408,
          0.716633020410408,
          0.716633020410408,
          0.716633020410408,
          0.716633020410408,
          0.716633020410408,
          0.716633020410408,
          0.716633020410408,
          0.716633020410408,
          0.716633020410408,
          0.716633020410408,
          0.716633020410408,
          0.716633020410408,
          0.716633020410408,
          0.716633020410408,
          0.716633020410408,
          0.716633020410408,
          0.716633020410408,
          0.716633020410408,
          0.716633020410408,
          0.716633020410408,
          0.716633020410408,
          0.716633020410408,
          0.716633020410408,
          0.716633020410408,
          0.716633020410408,
          0.716633020410408,
          0.716633020410408,
          0.716633020410408,
          0.716633020410408,
          0.716633020410408,
          0.716633020410408,
          0.716633020410408,
          0.716633020410408,
          0.716633020410408,
          0.716633020410408,
          0.716633020410408,
          0.716633020410408,
          0.716633020410408,
          0.716633020410408,
          0.716633020410408,
          0.716633020410408,
          0.716633020410408,
          0.7192838256675919,
          0.7192838256675919,
          0.7192838256675919,
          0.7192838256675919,
          0.7192838256675919,
          0.7192838256675919,
          0.7192838256675919,
          0.7192838256675919,
          0.7192838256675919,
          0.7192838256675919,
          0.7192838256675919,
          0.7192838256675919,
          0.7192838256675919,
          0.7192838256675919,
          0.7192838256675919,
          0.7192838256675919,
          0.7192838256675919,
          0.7192838256675919,
          0.7192838256675919,
          0.7192838256675919,
          0.7192838256675919,
          0.7192838256675919,
          0.7192838256675919,
          0.7192838256675919,
          0.7192838256675919,
          0.7192838256675919,
          0.7192838256675919,
          0.7192838256675919,
          0.7192838256675919,
          0.7192838256675919,
          0.7192838256675919,
          0.7192838256675919,
          0.7192838256675919,
          0.7192838256675919,
          0.7192838256675919,
          0.7192838256675919,
          0.7192838256675919,
          0.7192838256675919,
          0.7192838256675919,
          0.7192838256675919,
          0.7192838256675919,
          0.7192838256675919,
          0.7192838256675919,
          0.7192838256675919,
          0.7192838256675919,
          0.7192838256675919,
          0.7192838256675919,
          0.7192838256675919,
          0.7192838256675919,
          0.7192838256675919,
          0.7192838256675919,
          0.7192838256675919,
          0.7192838256675919,
          0.7192838256675919,
          0.7192838256675919,
          0.7192838256675919,
          0.7192838256675919,
          0.7192838256675919,
          0.7192838256675919,
          0.7192838256675919,
          0.721622001612502,
          0.721622001612502,
          0.721622001612502,
          0.721622001612502,
          0.721622001612502,
          0.721622001612502,
          0.721622001612502,
          0.721622001612502,
          0.721622001612502,
          0.721622001612502,
          0.721622001612502,
          0.721622001612502,
          0.721622001612502,
          0.721622001612502,
          0.721622001612502,
          0.721622001612502,
          0.721622001612502,
          0.721622001612502,
          0.721622001612502,
          0.721622001612502,
          0.721622001612502,
          0.721622001612502,
          0.721622001612502,
          0.721622001612502,
          0.721622001612502,
          0.721622001612502,
          0.721622001612502,
          0.721622001612502,
          0.721622001612502,
          0.721622001612502,
          0.721622001612502,
          0.721622001612502,
          0.721622001612502,
          0.721622001612502,
          0.721622001612502,
          0.721622001612502,
          0.721622001612502,
          0.721622001612502,
          0.721622001612502,
          0.721622001612502,
          0.721622001612502,
          0.721622001612502,
          0.721622001612502,
          0.721622001612502,
          0.721622001612502,
          0.721622001612502,
          0.721622001612502,
          0.7237135712675171,
          0.7237135712675171,
          0.7237135712675171,
          0.7237135712675171,
          0.7237135712675171,
          0.7237135712675171,
          0.7237135712675171,
          0.7237135712675171,
          0.7237135712675171,
          0.7237135712675171,
          0.7237135712675171,
          0.7237135712675171,
          0.7237135712675171,
          0.7237135712675171,
          0.7237135712675171,
          0.7237135712675171,
          0.7237135712675171,
          0.7237135712675171,
          0.7237135712675171,
          0.7237135712675171,
          0.7237135712675171,
          0.7237135712675171,
          0.7237135712675171,
          0.7237135712675171,
          0.7237135712675171,
          0.7237135712675171,
          0.7237135712675171,
          0.7237135712675171,
          0.7237135712675171,
          0.7237135712675171,
          0.7237135712675171,
          0.7237135712675171,
          0.7237135712675171,
          0.7237135712675171,
          0.7237135712675171,
          0.7237135712675171,
          0.7237135712675171,
          0.7237135712675171,
          0.7237135712675171,
          0.7256056261672879,
          0.7256056261672879,
          0.7256056261672879,
          0.7256056261672879,
          0.7256056261672879,
          0.7256056261672879,
          0.7256056261672879,
          0.7256056261672879,
          0.7256056261672879,
          0.7256056261672879,
          0.7256056261672879,
          0.7256056261672879,
          0.7256056261672879,
          0.7256056261672879,
          0.7256056261672879,
          0.7256056261672879,
          0.7256056261672879,
          0.7256056261672879,
          0.7256056261672879,
          0.7256056261672879,
          0.7256056261672879,
          0.7256056261672879,
          0.7256056261672879,
          0.7256056261672879,
          0.7256056261672879,
          0.7256056261672879,
          0.7256056261672879,
          0.7256056261672879,
          0.7256056261672879,
          0.7256056261672879,
          0.7256056261672879,
          0.7256056261672879,
          0.7256056261672879,
          0.7256056261672879,
          0.7256056261672879,
          0.7256056261672879,
          0.7256056261672879,
          0.7256056261672879,
          0.7256056261672879,
          0.7256056261672879,
          0.7256056261672879,
          0.7256056261672879,
          0.7256056261672879,
          0.7256056261672879,
          0.7256056261672879,
          0.7256056261672879,
          0.7256056261672879,
          0.7256056261672879,
          0.7256056261672879,
          0.7256056261672879,
          0.7256056261672879,
          0.7256056261672879,
          0.7256056261672879,
          0.7256056261672879,
          0.7256056261672879,
          0.7256056261672879,
          0.7256056261672879,
          0.7256056261672879,
          0.7256056261672879,
          0.7256056261672879,
          0.7256056261672879,
          0.7256056261672879,
          0.7256056261672879,
          0.7256056261672879,
          0.7273329369593462,
          0.7273329369593462,
          0.7273329369593462,
          0.7273329369593462,
          0.7273329369593462,
          0.7273329369593462,
          0.7273329369593462,
          0.7273329369593462,
          0.7273329369593462,
          0.7273329369593462,
          0.7273329369593462,
          0.7273329369593462,
          0.7273329369593462,
          0.7273329369593462,
          0.7273329369593462,
          0.7273329369593462,
          0.7273329369593462,
          0.7273329369593462,
          0.7273329369593462,
          0.7273329369593462,
          0.7273329369593462,
          0.7273329369593462,
          0.7273329369593462,
          0.7273329369593462,
          0.7273329369593462,
          0.7273329369593462,
          0.7273329369593462,
          0.7273329369593462,
          0.7273329369593462,
          0.7273329369593462,
          0.7273329369593462,
          0.7273329369593462,
          0.7273329369593462,
          0.7273329369593462,
          0.7273329369593462,
          0.7273329369593462,
          0.7273329369593462,
          0.7273329369593462,
          0.7273329369593462,
          0.7273329369593462,
          0.7273329369593462,
          0.7273329369593462,
          0.7273329369593462,
          0.7273329369593462,
          0.7273329369593462,
          0.7273329369593462,
          0.7273329369593462,
          0.7273329369593462,
          0.7273329369593462,
          0.7273329369593462,
          0.7273329369593462,
          0.7273329369593462,
          0.7273329369593462,
          0.7273329369593462,
          0.7273329369593462,
          0.7273329369593462,
          0.7273329369593462,
          0.7289219088567401,
          0.7289219088567401,
          0.7289219088567401,
          0.7289219088567401,
          0.7289219088567401,
          0.7289219088567401,
          0.7289219088567401,
          0.7289219088567401,
          0.7289219088567401,
          0.7289219088567401,
          0.7289219088567401,
          0.7289219088567401,
          0.7289219088567401,
          0.7289219088567401,
          0.7289219088567401,
          0.7289219088567401,
          0.7289219088567401,
          0.7289219088567401,
          0.7289219088567401,
          0.7289219088567401,
          0.7289219088567401,
          0.7289219088567401,
          0.7289219088567401,
          0.7289219088567401,
          0.7289219088567401,
          0.7289219088567401,
          0.7289219088567401,
          0.7289219088567401,
          0.7289219088567401,
          0.7289219088567401,
          0.7289219088567401,
          0.7289219088567401,
          0.7289219088567401,
          0.7289219088567401,
          0.7289219088567401,
          0.7289219088567401,
          0.7289219088567401,
          0.7289219088567401,
          0.7289219088567401,
          0.7289219088567401,
          0.7289219088567401,
          0.7289219088567401,
          0.7289219088567401,
          0.7289219088567401,
          0.7303930670490065,
          0.7303930670490065,
          0.7303930670490065,
          0.7303930670490065,
          0.7303930670490065,
          0.7303930670490065,
          0.7303930670490065,
          0.7303930670490065,
          0.7303930670490065,
          0.7303930670490065,
          0.7303930670490065,
          0.7303930670490065,
          0.7303930670490065,
          0.7303930670490065,
          0.7303930670490065,
          0.7303930670490065,
          0.7303930670490065,
          0.7303930670490065,
          0.7303930670490065,
          0.7303930670490065,
          0.7303930670490065,
          0.7303930670490065,
          0.7303930670490065,
          0.7303930670490065,
          0.7303930670490065,
          0.7303930670490065,
          0.7303930670490065,
          0.7303930670490065,
          0.7303930670490065,
          0.7303930670490065,
          0.7303930670490065,
          0.7303930670490065,
          0.7303930670490065,
          0.7303930670490065,
          0.7303930670490065,
          0.7303930670490065,
          0.7303930670490065,
          0.7303930670490065,
          0.7303930670490065,
          0.7303930670490065,
          0.7303930670490065,
          0.7303930670490065,
          0.7303930670490065,
          0.7303930670490065,
          0.7317626825592715,
          0.7317626825592715,
          0.7317626825592715,
          0.7317626825592715,
          0.7317626825592715,
          0.7317626825592715,
          0.7317626825592715,
          0.7317626825592715,
          0.7317626825592715,
          0.7317626825592715,
          0.7317626825592715,
          0.7317626825592715,
          0.7317626825592715,
          0.7317626825592715,
          0.7317626825592715,
          0.7317626825592715,
          0.7317626825592715,
          0.7317626825592715,
          0.7317626825592715,
          0.7317626825592715,
          0.7317626825592715,
          0.7317626825592715,
          0.7317626825592715,
          0.7317626825592715,
          0.7317626825592715,
          0.7317626825592715,
          0.7317626825592715,
          0.7317626825592715,
          0.7317626825592715,
          0.7317626825592715,
          0.7317626825592715,
          0.7317626825592715,
          0.7317626825592715,
          0.7317626825592715,
          0.7330438723061904,
          0.7330438723061904,
          0.7330438723061904,
          0.7330438723061904,
          0.7330438723061904,
          0.7330438723061904,
          0.7330438723061904,
          0.7330438723061904,
          0.7330438723061904,
          0.7330438723061904,
          0.7330438723061904,
          0.7330438723061904,
          0.7330438723061904,
          0.7330438723061904,
          0.7330438723061904,
          0.7330438723061904,
          0.7330438723061904,
          0.7330438723061904,
          0.7330438723061904,
          0.7330438723061904,
          0.7330438723061904,
          0.7330438723061904,
          0.7330438723061904,
          0.7330438723061904,
          0.7330438723061904,
          0.7330438723061904,
          0.7330438723061904,
          0.7330438723061904,
          0.7330438723061904,
          0.7330438723061904,
          0.7342473650809394,
          0.7342473650809394,
          0.7342473650809394,
          0.7342473650809394,
          0.7342473650809394,
          0.7342473650809394,
          0.7342473650809394,
          0.7342473650809394,
          0.7342473650809394,
          0.7342473650809394,
          0.7342473650809394,
          0.7342473650809394,
          0.7342473650809394,
          0.7342473650809394,
          0.7342473650809394,
          0.7342473650809394,
          0.7342473650809394,
          0.7342473650809394,
          0.7342473650809394,
          0.7342473650809394,
          0.7342473650809394,
          0.7342473650809394,
          0.7342473650809394,
          0.7342473650809394,
          0.7342473650809394,
          0.7342473650809394,
          0.7342473650809394,
          0.7342473650809394,
          0.7342473650809394,
          0.7342473650809394,
          0.7342473650809394,
          0.7353820482511005,
          0.7353820482511005,
          0.7353820482511005,
          0.7353820482511005,
          0.7353820482511005,
          0.7353820482511005,
          0.7353820482511005,
          0.7353820482511005,
          0.7353820482511005,
          0.7353820482511005,
          0.7353820482511005,
          0.7353820482511005,
          0.7353820482511005,
          0.7353820482511005,
          0.7353820482511005,
          0.7353820482511005,
          0.7353820482511005,
          0.7353820482511005,
          0.7353820482511005,
          0.7353820482511005,
          0.7353820482511005,
          0.7353820482511005,
          0.7353820482511005,
          0.7353820482511005,
          0.7364553664541659,
          0.7364553664541659,
          0.7364553664541659,
          0.7364553664541659,
          0.7364553664541659,
          0.7364553664541659,
          0.7364553664541659,
          0.7364553664541659,
          0.7364553664541659,
          0.7364553664541659,
          0.7364553664541659,
          0.7364553664541659,
          0.7364553664541659,
          0.7364553664541659,
          0.7364553664541659,
          0.7364553664541659,
          0.7364553664541659,
          0.7364553664541659,
          0.7364553664541659,
          0.7364553664541659,
          0.7364553664541659,
          0.7364553664541659,
          0.7364553664541659,
          0.7364553664541659,
          0.7364553664541659,
          0.7364553664541659,
          0.7364553664541659,
          0.7364553664541659,
          0.7364553664541659,
          0.7364553664541659,
          0.7364553664541659,
          0.7364553664541659,
          0.7364553664541659,
          0.7364553664541659,
          0.7364553664541659,
          0.7364553664541659,
          0.7364553664541659,
          0.7364553664541659,
          0.7374736179061157,
          0.7374736179061157,
          0.7374736179061157,
          0.7374736179061157,
          0.7374736179061157,
          0.7374736179061157,
          0.7374736179061157,
          0.7374736179061157,
          0.7374736179061157,
          0.7374736179061157,
          0.7374736179061157,
          0.7374736179061157,
          0.7374736179061157,
          0.7374736179061157,
          0.7374736179061157,
          0.7374736179061157,
          0.7374736179061157,
          0.7374736179061157,
          0.7374736179061157,
          0.7374736179061157,
          0.7374736179061157,
          0.7374736179061157,
          0.7374736179061157,
          0.7374736179061157,
          0.7384421783407609,
          0.7384421783407609,
          0.7384421783407609,
          0.7384421783407609,
          0.7384421783407609,
          0.7384421783407609,
          0.7384421783407609,
          0.7384421783407609,
          0.7384421783407609,
          0.7384421783407609,
          0.7384421783407609,
          0.7384421783407609,
          0.7384421783407609,
          0.7384421783407609,
          0.7384421783407609,
          0.7384421783407609,
          0.7384421783407609,
          0.7393656728058864,
          0.7393656728058864,
          0.7393656728058864,
          0.7393656728058864,
          0.7393656728058864,
          0.7393656728058864,
          0.7393656728058864,
          0.7393656728058864,
          0.7393656728058864,
          0.7393656728058864,
          0.7393656728058864,
          0.7393656728058864,
          0.7393656728058864,
          0.7393656728058864,
          0.7402481092397307,
          0.7402481092397307,
          0.7402481092397307,
          0.7402481092397307,
          0.7402481092397307,
          0.7402481092397307,
          0.7402481092397307,
          0.7402481092397307,
          0.7402481092397307,
          0.7402481092397307,
          0.7402481092397307,
          0.7402481092397307,
          0.7402481092397307,
          0.7402481092397307,
          0.7410929835979447,
          0.7410929835979447,
          0.7410929835979447,
          0.7410929835979447,
          0.7410929835979447,
          0.7410929835979447,
          0.7410929835979447,
          0.7410929835979447,
          0.7410929835979447,
          0.7410929835979447,
          0.7410929835979447,
          0.7419033635060409,
          0.7419033635060409,
          0.7419033635060409,
          0.7419033635060409,
          0.7419033635060409,
          0.7419033635060409,
          0.7419033635060409,
          0.7419033635060409,
          0.7419033635060409,
          0.7419033635060409,
          0.7419033635060409,
          0.7419033635060409,
          0.7419033635060409,
          0.7419033635060409,
          0.7426819554953387,
          0.7426819554953387,
          0.7426819554953387,
          0.7426819554953387,
          0.7426819554953387,
          0.7426819554953387,
          0.7426819554953387,
          0.7426819554953387,
          0.7426819554953387,
          0.7434311595428549,
          0.7434311595428549,
          0.7434311595428549,
          0.7434311595428549,
          0.7434311595428549,
          0.7434311595428549,
          0.7434311595428549,
          0.7434311595428549,
          0.7434311595428549,
          0.7434311595428549,
          0.7434311595428549,
          0.7434311595428549,
          0.7434311595428549,
          0.7434311595428549,
          0.7434311595428549,
          0.7434311595428549,
          0.7434311595428549,
          0.7441531136876051,
          0.7441531136876051,
          0.7441531136876051,
          0.7441531136876051,
          0.7441531136876051,
          0.7441531136876051,
          0.7441531136876051,
          0.7441531136876051,
          0.7441531136876051,
          0.7441531136876051,
          0.7441531136876051,
          0.7441531136876051,
          0.7441531136876051,
          0.7448497308141769,
          0.7448497308141769,
          0.7448497308141769,
          0.7448497308141769,
          0.7448497308141769,
          0.7448497308141769,
          0.7448497308141769,
          0.74552272919787,
          0.74552272919787,
          0.74552272919787,
          0.74552272919787,
          0.74552272919787,
          0.74552272919787,
          0.74552272919787,
          0.74552272919787,
          0.74552272919787,
          0.74552272919787,
          0.74552272919787,
          0.7461736580394924,
          0.7461736580394924,
          0.7461736580394924,
          0.7461736580394924,
          0.7461736580394924,
          0.7461736580394924,
          0.7461736580394924,
          0.7461736580394924,
          0.7461736580394924,
          0.7461736580394924,
          0.7461736580394924,
          0.7461736580394924,
          0.7461736580394924,
          0.7461736580394924,
          0.7461736580394924,
          0.7461736580394924,
          0.7468039189447889,
          0.7468039189447889,
          0.7468039189447889,
          0.7468039189447889,
          0.7468039189447889,
          0.7468039189447889,
          0.7468039189447889,
          0.7468039189447889,
          0.7468039189447889,
          0.7468039189447889,
          0.7468039189447889,
          0.7474147840976407,
          0.7474147840976407,
          0.7474147840976407,
          0.7474147840976407,
          0.7480074117195379,
          0.7480074117195379,
          0.7480074117195379,
          0.7480074117195379,
          0.7480074117195379,
          0.7480074117195379,
          0.7480074117195379,
          0.7480074117195379,
          0.7480074117195379,
          0.7480074117195379,
          0.7480074117195379,
          0.7485828592875303,
          0.7485828592875303,
          0.7485828592875303,
          0.7485828592875303,
          0.7485828592875303,
          0.7485828592875303,
          0.7485828592875303,
          0.7485828592875303,
          0.7491420948896991,
          0.7491420948896991,
          0.7491420948896991,
          0.7491420948896991,
          0.7491420948896991,
          0.7491420948896991,
          0.7491420948896991,
          0.7491420948896991,
          0.7491420948896991,
          0.7491420948896991,
          0.7496860070244546,
          0.7496860070244546,
          0.7496860070244546,
          0.7496860070244546,
          0.7496860070244546,
          0.7496860070244546,
          0.7496860070244546,
          0.7496860070244546,
          0.7496860070244546,
          0.7496860070244546,
          0.7502154130927644,
          0.7502154130927644,
          0.7502154130927644,
          0.7502154130927644,
          0.7502154130927644,
          0.7502154130927644,
          0.7502154130927644,
          0.7507310667870929,
          0.7507310667870929,
          0.7507310667870929,
          0.7507310667870929,
          0.7507310667870929,
          0.7507310667870929,
          0.7507310667870929,
          0.7507310667870929,
          0.7507310667870929,
          0.7507310667870929,
          0.7507310667870929,
          0.7507310667870929,
          0.7512336645447142,
          0.7512336645447142,
          0.7512336645447142,
          0.7512336645447142,
          0.7512336645447142,
          0.7512336645447142,
          0.7517238512040582,
          0.7517238512040582,
          0.7517238512040582,
          0.7517238512040582,
          0.7517238512040582,
          0.7517238512040582,
          0.7522022249793594,
          0.7522022249793594,
          0.7522022249793594,
          0.7522022249793594,
          0.7522022249793594,
          0.7526693418498805,
          0.7526693418498805,
          0.7526693418498805,
          0.7526693418498805,
          0.7526693418498805,
          0.7526693418498805,
          0.7526693418498805,
          0.7526693418498805,
          0.7526693418498805,
          0.7526693418498805,
          0.7531257194444849,
          0.7531257194444849,
          0.7531257194444849,
          0.7531257194444849,
          0.7531257194444849,
          0.7531257194444849,
          0.7531257194444849,
          0.7531257194444849,
          0.7535718404896243,
          0.7535718404896243,
          0.7535718404896243,
          0.7535718404896243,
          0.7535718404896243,
          0.7540081558783293,
          0.7540081558783293,
          0.7540081558783293,
          0.7540081558783293,
          0.7540081558783293,
          0.7540081558783293,
          0.7540081558783293,
          0.75443508740912,
          0.75443508740912,
          0.75443508740912,
          0.7548530302365433,
          0.7548530302365433,
          0.7548530302365433,
          0.7548530302365433,
          0.7548530302365433,
          0.7552623550690198,
          0.7552623550690198,
          0.7552623550690198,
          0.7552623550690198,
          0.7552623550690198,
          0.7556634101446394,
          0.7556634101446394,
          0.7556634101446394,
          0.7556634101446394,
          0.7556634101446394,
          0.7556634101446394,
          0.7556634101446394,
          0.7556634101446394,
          0.7560565230112922,
          0.7560565230112922,
          0.7560565230112922,
          0.7564420021339371,
          0.7564420021339371,
          0.7564420021339371,
          0.7564420021339371,
          0.7568201383487684,
          0.7568201383487684,
          0.7568201383487684,
          0.7568201383487684,
          0.7568201383487684,
          0.7571912061814534,
          0.7575554650444102,
          0.7575554650444102,
          0.7579131603262036,
          0.7579131603262036,
          0.7579131603262036,
          0.7582645243845187,
          0.7582645243845187,
          0.7582645243845187,
          0.7582645243845187,
          0.7586097774527755,
          0.7586097774527755,
          0.7586097774527755,
          0.7586097774527755,
          0.7589491284692427,
          0.7589491284692427,
          0.7589491284692427,
          0.7589491284692427,
          0.7592827758364685,
          0.7592827758364685,
          0.7592827758364685,
          0.7592827758364685,
          0.7592827758364685,
          0.7592827758364685,
          0.7596109081179392,
          0.7596109081179392,
          0.7596109081179392,
          0.7596109081179392,
          0.759933704678091,
          0.759933704678091,
          0.759933704678091,
          0.759933704678091,
          0.7602513362711137,
          0.7602513362711137,
          0.7602513362711137,
          0.7602513362711137,
          0.7602513362711137,
          0.7605639655833875,
          0.7608717477338625,
          0.7608717477338625,
          0.7608717477338625,
          0.7611748307362393,
          0.7611748307362393,
          0.7614733559263936,
          0.7614733559263936,
          0.7614733559263936,
          0.7614733559263936,
          0.7614733559263936,
          0.7614733559263936,
          0.7614733559263936,
          0.7617674583581364,
          0.7620572671700836,
          0.7620572671700836,
          0.7620572671700836,
          0.7626244929317676,
          0.7626244929317676,
          0.7626244929317676,
          0.7626244929317676,
          0.7626244929317676,
          0.7631759603667279,
          0.7631759603667279,
          0.7634460536630532,
          0.7634460536630532,
          0.7634460536630532,
          0.7634460536630532,
          0.7634460536630532,
          0.7634460536630532,
          0.7634460536630532,
          0.7637125214363938,
          0.7637125214363938,
          0.7637125214363938,
          0.7637125214363938,
          0.7639754597313629,
          0.7644911134256914,
          0.7644911134256914,
          0.7644911134256914,
          0.7647440028462127,
          0.7647440028462127,
          0.7647440028462127,
          0.7647440028462127,
          0.7647440028462127,
          0.7647440028462127,
          0.7647440028462127,
          0.7647440028462127,
          0.7649937111833127,
          0.7649937111833127,
          0.7649937111833127,
          0.7652403174732078,
          0.7652403174732078,
          0.7652403174732078,
          0.7654838978426567,
          0.7654838978426567,
          0.7654838978426567,
          0.7654838978426567,
          0.7657245256500346,
          0.7657245256500346,
          0.7659622716179579,
          0.7661972039580617,
          0.7661972039580617,
          0.7661972039580617,
          0.7664293884884791,
          0.7666588887445298,
          0.7668857660830835,
          0.7671100797810255,
          0.7673318871282229,
          0.7673318871282229,
          0.7673318871282229,
          0.7673318871282229,
          0.7677682025169278,
          0.7677682025169278,
          0.7681951340477186,
          0.7684052053312882,
          0.7686130768751418,
          0.7688187942709765,
          0.7688187942709765,
          0.7688187942709765,
          0.7690224017076183,
          0.7690224017076183,
          0.7692239420279936,
          0.7692239420279936,
          0.7692239420279936,
          0.769423456783238,
          0.769423456783238,
          0.7696209862841132,
          0.7696209862841132,
          0.7696209862841132,
          0.7696209862841132,
          0.770010244854851,
          0.770010244854851,
          0.770010244854851,
          0.7702020487725356,
          0.7703920172178832,
          0.7703920172178832,
          0.7705801849873669,
          0.7707665858972483,
          0.770951252820052,
          0.7711342177193582,
          0.7711342177193582,
          0.7713155116830087,
          0.7713155116830087,
          0.7714951649548075,
          0.7718496663582177,
          0.7718496663582177,
          0.772197948116853,
          0.772197948116853,
          0.772197948116853,
          0.7728766997395511,
          0.7730428224750671,
          0.7730428224750671,
          0.7732075665827794,
          0.7732075665827794,
          0.773533009134411,
          0.7736937513166895,
          0.7738532023831632,
          0.7740113829097123,
          0.7741683129842406,
          0.7741683129842406,
          0.774324012221986,
          0.774631794372461,
          0.7747839142819433,
          0.7749348773748378,
          0.7750847011127776,
          0.7750847011127776,
          0.7750847011127776,
          0.7750847011127776,
          0.7752334025649921,
          0.7756729382556018,
          0.7762442453394729,
          0.7763845395703661,
          0.7766621881668961,
          0.7767995696912993,
          0.7770715129993726,
          0.7774725680749923,
          0.7776044725539619,
          0.7776044725539619,
          0.7778656809416451,
          0.7779950074644981,
          0.7783780074674336,
          0.779122527888398,
          0.779122527888398,
          0.7792439444812552,
          0.779364622974763,
          0.7794845722886331,
          0.7794845722886331,
          0.7797223182565565,
          0.7800736823148716,
          0.7803045169047187,
          0.7803045169047187,
          0.7804189353831283,
          0.7804189353831283,
          0.780645812721682,
          0.7807582863995955,
          0.7810919337668214,
          0.7817428626084438,
          0.7817428626084438,
          0.7820604942014666,
          0.7824762486861606,
          0.7833810329227118,
          0.7833810329227118,
          0.7833810329227118,
          0.7834790654727887,
          0.7839620954111342,
          0.7839620954111342,
          0.7847112994586504,
          0.7847112994586504,
          0.7851655881858832,
          0.7851655881858832,
          0.7854332536034007,
          0.7855216793667467,
          0.7856097129968163,
          0.7856097129968163,
          0.785697357956172,
          0.7872121939461422,
          0.7872121939461422,
          0.787453797955288,
          0.7877714295483108,
          0.7877714295483108,
          0.7878500496552223,
          0.7883153416830664,
          0.7883918410110594,
          0.7884680466748827,
          0.7885439609205417,
          0.7886195859683737,
          0.7889192377113784,
          0.7889934492035906,
          0.7890673843022681,
          0.7901445862089647,
          0.7901445862089647,
          0.7904222348054946,
          0.7905596163298978,
          0.7908315596379711,
          0.790898967346365,
          0.7920112067028885,
          0.7920747317204498,
          0.7930644220677318,
          0.794685857669904,
          0.7968440433305451,
          0.7970918811444362,
          0.7973366629270878,
          0.7991044788363367,
          0.7998899173685711,
          0.8003967930167482,
          0.8026047943899747,
          0.8030110728707154,
          0.8045916062765697,
          0.8046926321996836,
          0.805124565831159
         ],
         "yaxis": "y"
        }
       ],
       "layout": {
        "coloraxis": {
         "colorbar": {
          "title": {
           "text": "Percentage_Listened"
          }
         },
         "colorscale": [
          [
           0,
           "#0d0887"
          ],
          [
           0.1111111111111111,
           "#46039f"
          ],
          [
           0.2222222222222222,
           "#7201a8"
          ],
          [
           0.3333333333333333,
           "#9c179e"
          ],
          [
           0.4444444444444444,
           "#bd3786"
          ],
          [
           0.5555555555555556,
           "#d8576b"
          ],
          [
           0.6666666666666666,
           "#ed7953"
          ],
          [
           0.7777777777777778,
           "#fb9f3a"
          ],
          [
           0.8888888888888888,
           "#fdca26"
          ],
          [
           1,
           "#f0f921"
          ]
         ]
        },
        "legend": {
         "tracegroupgap": 0
        },
        "template": {
         "data": {
          "bar": [
           {
            "error_x": {
             "color": "#2a3f5f"
            },
            "error_y": {
             "color": "#2a3f5f"
            },
            "marker": {
             "line": {
              "color": "#E5ECF6",
              "width": 0.5
             },
             "pattern": {
              "fillmode": "overlay",
              "size": 10,
              "solidity": 0.2
             }
            },
            "type": "bar"
           }
          ],
          "barpolar": [
           {
            "marker": {
             "line": {
              "color": "#E5ECF6",
              "width": 0.5
             },
             "pattern": {
              "fillmode": "overlay",
              "size": 10,
              "solidity": 0.2
             }
            },
            "type": "barpolar"
           }
          ],
          "carpet": [
           {
            "aaxis": {
             "endlinecolor": "#2a3f5f",
             "gridcolor": "white",
             "linecolor": "white",
             "minorgridcolor": "white",
             "startlinecolor": "#2a3f5f"
            },
            "baxis": {
             "endlinecolor": "#2a3f5f",
             "gridcolor": "white",
             "linecolor": "white",
             "minorgridcolor": "white",
             "startlinecolor": "#2a3f5f"
            },
            "type": "carpet"
           }
          ],
          "choropleth": [
           {
            "colorbar": {
             "outlinewidth": 0,
             "ticks": ""
            },
            "type": "choropleth"
           }
          ],
          "contour": [
           {
            "colorbar": {
             "outlinewidth": 0,
             "ticks": ""
            },
            "colorscale": [
             [
              0,
              "#0d0887"
             ],
             [
              0.1111111111111111,
              "#46039f"
             ],
             [
              0.2222222222222222,
              "#7201a8"
             ],
             [
              0.3333333333333333,
              "#9c179e"
             ],
             [
              0.4444444444444444,
              "#bd3786"
             ],
             [
              0.5555555555555556,
              "#d8576b"
             ],
             [
              0.6666666666666666,
              "#ed7953"
             ],
             [
              0.7777777777777778,
              "#fb9f3a"
             ],
             [
              0.8888888888888888,
              "#fdca26"
             ],
             [
              1,
              "#f0f921"
             ]
            ],
            "type": "contour"
           }
          ],
          "contourcarpet": [
           {
            "colorbar": {
             "outlinewidth": 0,
             "ticks": ""
            },
            "type": "contourcarpet"
           }
          ],
          "heatmap": [
           {
            "colorbar": {
             "outlinewidth": 0,
             "ticks": ""
            },
            "colorscale": [
             [
              0,
              "#0d0887"
             ],
             [
              0.1111111111111111,
              "#46039f"
             ],
             [
              0.2222222222222222,
              "#7201a8"
             ],
             [
              0.3333333333333333,
              "#9c179e"
             ],
             [
              0.4444444444444444,
              "#bd3786"
             ],
             [
              0.5555555555555556,
              "#d8576b"
             ],
             [
              0.6666666666666666,
              "#ed7953"
             ],
             [
              0.7777777777777778,
              "#fb9f3a"
             ],
             [
              0.8888888888888888,
              "#fdca26"
             ],
             [
              1,
              "#f0f921"
             ]
            ],
            "type": "heatmap"
           }
          ],
          "heatmapgl": [
           {
            "colorbar": {
             "outlinewidth": 0,
             "ticks": ""
            },
            "colorscale": [
             [
              0,
              "#0d0887"
             ],
             [
              0.1111111111111111,
              "#46039f"
             ],
             [
              0.2222222222222222,
              "#7201a8"
             ],
             [
              0.3333333333333333,
              "#9c179e"
             ],
             [
              0.4444444444444444,
              "#bd3786"
             ],
             [
              0.5555555555555556,
              "#d8576b"
             ],
             [
              0.6666666666666666,
              "#ed7953"
             ],
             [
              0.7777777777777778,
              "#fb9f3a"
             ],
             [
              0.8888888888888888,
              "#fdca26"
             ],
             [
              1,
              "#f0f921"
             ]
            ],
            "type": "heatmapgl"
           }
          ],
          "histogram": [
           {
            "marker": {
             "pattern": {
              "fillmode": "overlay",
              "size": 10,
              "solidity": 0.2
             }
            },
            "type": "histogram"
           }
          ],
          "histogram2d": [
           {
            "colorbar": {
             "outlinewidth": 0,
             "ticks": ""
            },
            "colorscale": [
             [
              0,
              "#0d0887"
             ],
             [
              0.1111111111111111,
              "#46039f"
             ],
             [
              0.2222222222222222,
              "#7201a8"
             ],
             [
              0.3333333333333333,
              "#9c179e"
             ],
             [
              0.4444444444444444,
              "#bd3786"
             ],
             [
              0.5555555555555556,
              "#d8576b"
             ],
             [
              0.6666666666666666,
              "#ed7953"
             ],
             [
              0.7777777777777778,
              "#fb9f3a"
             ],
             [
              0.8888888888888888,
              "#fdca26"
             ],
             [
              1,
              "#f0f921"
             ]
            ],
            "type": "histogram2d"
           }
          ],
          "histogram2dcontour": [
           {
            "colorbar": {
             "outlinewidth": 0,
             "ticks": ""
            },
            "colorscale": [
             [
              0,
              "#0d0887"
             ],
             [
              0.1111111111111111,
              "#46039f"
             ],
             [
              0.2222222222222222,
              "#7201a8"
             ],
             [
              0.3333333333333333,
              "#9c179e"
             ],
             [
              0.4444444444444444,
              "#bd3786"
             ],
             [
              0.5555555555555556,
              "#d8576b"
             ],
             [
              0.6666666666666666,
              "#ed7953"
             ],
             [
              0.7777777777777778,
              "#fb9f3a"
             ],
             [
              0.8888888888888888,
              "#fdca26"
             ],
             [
              1,
              "#f0f921"
             ]
            ],
            "type": "histogram2dcontour"
           }
          ],
          "mesh3d": [
           {
            "colorbar": {
             "outlinewidth": 0,
             "ticks": ""
            },
            "type": "mesh3d"
           }
          ],
          "parcoords": [
           {
            "line": {
             "colorbar": {
              "outlinewidth": 0,
              "ticks": ""
             }
            },
            "type": "parcoords"
           }
          ],
          "pie": [
           {
            "automargin": true,
            "type": "pie"
           }
          ],
          "scatter": [
           {
            "marker": {
             "colorbar": {
              "outlinewidth": 0,
              "ticks": ""
             }
            },
            "type": "scatter"
           }
          ],
          "scatter3d": [
           {
            "line": {
             "colorbar": {
              "outlinewidth": 0,
              "ticks": ""
             }
            },
            "marker": {
             "colorbar": {
              "outlinewidth": 0,
              "ticks": ""
             }
            },
            "type": "scatter3d"
           }
          ],
          "scattercarpet": [
           {
            "marker": {
             "colorbar": {
              "outlinewidth": 0,
              "ticks": ""
             }
            },
            "type": "scattercarpet"
           }
          ],
          "scattergeo": [
           {
            "marker": {
             "colorbar": {
              "outlinewidth": 0,
              "ticks": ""
             }
            },
            "type": "scattergeo"
           }
          ],
          "scattergl": [
           {
            "marker": {
             "colorbar": {
              "outlinewidth": 0,
              "ticks": ""
             }
            },
            "type": "scattergl"
           }
          ],
          "scattermapbox": [
           {
            "marker": {
             "colorbar": {
              "outlinewidth": 0,
              "ticks": ""
             }
            },
            "type": "scattermapbox"
           }
          ],
          "scatterpolar": [
           {
            "marker": {
             "colorbar": {
              "outlinewidth": 0,
              "ticks": ""
             }
            },
            "type": "scatterpolar"
           }
          ],
          "scatterpolargl": [
           {
            "marker": {
             "colorbar": {
              "outlinewidth": 0,
              "ticks": ""
             }
            },
            "type": "scatterpolargl"
           }
          ],
          "scatterternary": [
           {
            "marker": {
             "colorbar": {
              "outlinewidth": 0,
              "ticks": ""
             }
            },
            "type": "scatterternary"
           }
          ],
          "surface": [
           {
            "colorbar": {
             "outlinewidth": 0,
             "ticks": ""
            },
            "colorscale": [
             [
              0,
              "#0d0887"
             ],
             [
              0.1111111111111111,
              "#46039f"
             ],
             [
              0.2222222222222222,
              "#7201a8"
             ],
             [
              0.3333333333333333,
              "#9c179e"
             ],
             [
              0.4444444444444444,
              "#bd3786"
             ],
             [
              0.5555555555555556,
              "#d8576b"
             ],
             [
              0.6666666666666666,
              "#ed7953"
             ],
             [
              0.7777777777777778,
              "#fb9f3a"
             ],
             [
              0.8888888888888888,
              "#fdca26"
             ],
             [
              1,
              "#f0f921"
             ]
            ],
            "type": "surface"
           }
          ],
          "table": [
           {
            "cells": {
             "fill": {
              "color": "#EBF0F8"
             },
             "line": {
              "color": "white"
             }
            },
            "header": {
             "fill": {
              "color": "#C8D4E3"
             },
             "line": {
              "color": "white"
             }
            },
            "type": "table"
           }
          ]
         },
         "layout": {
          "annotationdefaults": {
           "arrowcolor": "#2a3f5f",
           "arrowhead": 0,
           "arrowwidth": 1
          },
          "autotypenumbers": "strict",
          "coloraxis": {
           "colorbar": {
            "outlinewidth": 0,
            "ticks": ""
           }
          },
          "colorscale": {
           "diverging": [
            [
             0,
             "#8e0152"
            ],
            [
             0.1,
             "#c51b7d"
            ],
            [
             0.2,
             "#de77ae"
            ],
            [
             0.3,
             "#f1b6da"
            ],
            [
             0.4,
             "#fde0ef"
            ],
            [
             0.5,
             "#f7f7f7"
            ],
            [
             0.6,
             "#e6f5d0"
            ],
            [
             0.7,
             "#b8e186"
            ],
            [
             0.8,
             "#7fbc41"
            ],
            [
             0.9,
             "#4d9221"
            ],
            [
             1,
             "#276419"
            ]
           ],
           "sequential": [
            [
             0,
             "#0d0887"
            ],
            [
             0.1111111111111111,
             "#46039f"
            ],
            [
             0.2222222222222222,
             "#7201a8"
            ],
            [
             0.3333333333333333,
             "#9c179e"
            ],
            [
             0.4444444444444444,
             "#bd3786"
            ],
            [
             0.5555555555555556,
             "#d8576b"
            ],
            [
             0.6666666666666666,
             "#ed7953"
            ],
            [
             0.7777777777777778,
             "#fb9f3a"
            ],
            [
             0.8888888888888888,
             "#fdca26"
            ],
            [
             1,
             "#f0f921"
            ]
           ],
           "sequentialminus": [
            [
             0,
             "#0d0887"
            ],
            [
             0.1111111111111111,
             "#46039f"
            ],
            [
             0.2222222222222222,
             "#7201a8"
            ],
            [
             0.3333333333333333,
             "#9c179e"
            ],
            [
             0.4444444444444444,
             "#bd3786"
            ],
            [
             0.5555555555555556,
             "#d8576b"
            ],
            [
             0.6666666666666666,
             "#ed7953"
            ],
            [
             0.7777777777777778,
             "#fb9f3a"
            ],
            [
             0.8888888888888888,
             "#fdca26"
            ],
            [
             1,
             "#f0f921"
            ]
           ]
          },
          "colorway": [
           "#636efa",
           "#EF553B",
           "#00cc96",
           "#ab63fa",
           "#FFA15A",
           "#19d3f3",
           "#FF6692",
           "#B6E880",
           "#FF97FF",
           "#FECB52"
          ],
          "font": {
           "color": "#2a3f5f"
          },
          "geo": {
           "bgcolor": "white",
           "lakecolor": "white",
           "landcolor": "#E5ECF6",
           "showlakes": true,
           "showland": true,
           "subunitcolor": "white"
          },
          "hoverlabel": {
           "align": "left"
          },
          "hovermode": "closest",
          "mapbox": {
           "style": "light"
          },
          "paper_bgcolor": "white",
          "plot_bgcolor": "#E5ECF6",
          "polar": {
           "angularaxis": {
            "gridcolor": "white",
            "linecolor": "white",
            "ticks": ""
           },
           "bgcolor": "#E5ECF6",
           "radialaxis": {
            "gridcolor": "white",
            "linecolor": "white",
            "ticks": ""
           }
          },
          "scene": {
           "xaxis": {
            "backgroundcolor": "#E5ECF6",
            "gridcolor": "white",
            "gridwidth": 2,
            "linecolor": "white",
            "showbackground": true,
            "ticks": "",
            "zerolinecolor": "white"
           },
           "yaxis": {
            "backgroundcolor": "#E5ECF6",
            "gridcolor": "white",
            "gridwidth": 2,
            "linecolor": "white",
            "showbackground": true,
            "ticks": "",
            "zerolinecolor": "white"
           },
           "zaxis": {
            "backgroundcolor": "#E5ECF6",
            "gridcolor": "white",
            "gridwidth": 2,
            "linecolor": "white",
            "showbackground": true,
            "ticks": "",
            "zerolinecolor": "white"
           }
          },
          "shapedefaults": {
           "line": {
            "color": "#2a3f5f"
           }
          },
          "ternary": {
           "aaxis": {
            "gridcolor": "white",
            "linecolor": "white",
            "ticks": ""
           },
           "baxis": {
            "gridcolor": "white",
            "linecolor": "white",
            "ticks": ""
           },
           "bgcolor": "#E5ECF6",
           "caxis": {
            "gridcolor": "white",
            "linecolor": "white",
            "ticks": ""
           }
          },
          "title": {
           "x": 0.05
          },
          "xaxis": {
           "automargin": true,
           "gridcolor": "white",
           "linecolor": "white",
           "ticks": "",
           "title": {
            "standoff": 15
           },
           "zerolinecolor": "white",
           "zerolinewidth": 2
          },
          "yaxis": {
           "automargin": true,
           "gridcolor": "white",
           "linecolor": "white",
           "ticks": "",
           "title": {
            "standoff": 15
           },
           "zerolinecolor": "white",
           "zerolinewidth": 2
          }
         }
        },
        "title": {
         "text": "Songs I have listened to by Percentage Listened"
        },
        "xaxis": {
         "anchor": "y",
         "domain": [
          0,
          1
         ],
         "title": {
          "text": "hoursPlayed"
         }
        },
        "yaxis": {
         "anchor": "x",
         "domain": [
          0,
          1
         ],
         "title": {
          "text": "Percentage_Listened"
         }
        }
       }
      }
     },
     "metadata": {},
     "output_type": "display_data"
    }
   ],
   "source": [
    "hovertemplate = \"Track: %{customdata[0]} <br>Hours Played: %{customdata[1]} <br>Percentage: %{customdata[2]} </br>\"\n",
    "fig = px.scatter(df, x='hoursPlayed', y='Percentage_Listened', color = 'Percentage_Listened', custom_data = ['trackName', 'hoursPlayed', 'Percentage_Listened'], trendline='ols', trendline_options=dict(log_x=True), title='Songs I have listened to by Percentage Listened')\n",
    "fig.update_traces(hovertemplate=hovertemplate)\n",
    "fig.show()"
   ]
  },
  {
   "cell_type": "code",
   "execution_count": 11,
   "metadata": {},
   "outputs": [
    {
     "data": {
      "text/plain": [
       "1e-17"
      ]
     },
     "execution_count": 11,
     "metadata": {},
     "output_type": "execute_result"
    }
   ],
   "source": [
    "df['hoursPlayed'].min()"
   ]
  },
  {
   "cell_type": "code",
   "execution_count": 27,
   "metadata": {},
   "outputs": [
    {
     "data": {
      "text/html": [
       "<div>\n",
       "<style scoped>\n",
       "    .dataframe tbody tr th:only-of-type {\n",
       "        vertical-align: middle;\n",
       "    }\n",
       "\n",
       "    .dataframe tbody tr th {\n",
       "        vertical-align: top;\n",
       "    }\n",
       "\n",
       "    .dataframe thead th {\n",
       "        text-align: right;\n",
       "    }\n",
       "</style>\n",
       "<table border=\"1\" class=\"dataframe\">\n",
       "  <thead>\n",
       "    <tr style=\"text-align: right;\">\n",
       "      <th></th>\n",
       "      <th>trackName</th>\n",
       "      <th>msPlayed</th>\n",
       "      <th>duration_ms</th>\n",
       "      <th>hoursPlayed</th>\n",
       "      <th>Percentage_Listened</th>\n",
       "    </tr>\n",
       "  </thead>\n",
       "  <tbody>\n",
       "    <tr>\n",
       "      <th>0</th>\n",
       "      <td>#1 Freak (feat. Ty Dolla $ign)</td>\n",
       "      <td>1255018</td>\n",
       "      <td>1659312</td>\n",
       "      <td>0.35</td>\n",
       "      <td>0.76</td>\n",
       "    </tr>\n",
       "    <tr>\n",
       "      <th>1</th>\n",
       "      <td>$ave Dat Money (feat. Fetty Wap &amp; Rich Homie Q...</td>\n",
       "      <td>159753</td>\n",
       "      <td>290836</td>\n",
       "      <td>0.04</td>\n",
       "      <td>0.55</td>\n",
       "    </tr>\n",
       "    <tr>\n",
       "      <th>2</th>\n",
       "      <td>1 0 0 . m i l ‘ (with Bas)</td>\n",
       "      <td>26480</td>\n",
       "      <td>163302</td>\n",
       "      <td>0.01</td>\n",
       "      <td>0.16</td>\n",
       "    </tr>\n",
       "    <tr>\n",
       "      <th>3</th>\n",
       "      <td>1-800-273-8255</td>\n",
       "      <td>176348</td>\n",
       "      <td>500346</td>\n",
       "      <td>0.05</td>\n",
       "      <td>0.35</td>\n",
       "    </tr>\n",
       "    <tr>\n",
       "      <th>4</th>\n",
       "      <td>10 F*CKS (with Mansa)</td>\n",
       "      <td>1014535</td>\n",
       "      <td>1188341</td>\n",
       "      <td>0.28</td>\n",
       "      <td>0.85</td>\n",
       "    </tr>\n",
       "    <tr>\n",
       "      <th>...</th>\n",
       "      <td>...</td>\n",
       "      <td>...</td>\n",
       "      <td>...</td>\n",
       "      <td>...</td>\n",
       "      <td>...</td>\n",
       "    </tr>\n",
       "    <tr>\n",
       "      <th>1845</th>\n",
       "      <td>upsides</td>\n",
       "      <td>1382984</td>\n",
       "      <td>1491336</td>\n",
       "      <td>0.38</td>\n",
       "      <td>0.93</td>\n",
       "    </tr>\n",
       "    <tr>\n",
       "      <th>1846</th>\n",
       "      <td>viola</td>\n",
       "      <td>86571</td>\n",
       "      <td>86571</td>\n",
       "      <td>0.02</td>\n",
       "      <td>1.00</td>\n",
       "    </tr>\n",
       "    <tr>\n",
       "      <th>1847</th>\n",
       "      <td>way back</td>\n",
       "      <td>1390238</td>\n",
       "      <td>1907507</td>\n",
       "      <td>0.39</td>\n",
       "      <td>0.73</td>\n",
       "    </tr>\n",
       "    <tr>\n",
       "      <th>1848</th>\n",
       "      <td>when the water meets the mountains (acoustic v...</td>\n",
       "      <td>294374</td>\n",
       "      <td>315894</td>\n",
       "      <td>0.08</td>\n",
       "      <td>0.93</td>\n",
       "    </tr>\n",
       "    <tr>\n",
       "      <th>1849</th>\n",
       "      <td>wokeuplikethis*</td>\n",
       "      <td>235535</td>\n",
       "      <td>235535</td>\n",
       "      <td>0.07</td>\n",
       "      <td>1.00</td>\n",
       "    </tr>\n",
       "  </tbody>\n",
       "</table>\n",
       "<p>1830 rows × 5 columns</p>\n",
       "</div>"
      ],
      "text/plain": [
       "                                              trackName  msPlayed  \\\n",
       "0                        #1 Freak (feat. Ty Dolla $ign)   1255018   \n",
       "1     $ave Dat Money (feat. Fetty Wap & Rich Homie Q...    159753   \n",
       "2                            1 0 0 . m i l ‘ (with Bas)     26480   \n",
       "3                                        1-800-273-8255    176348   \n",
       "4                                 10 F*CKS (with Mansa)   1014535   \n",
       "...                                                 ...       ...   \n",
       "1845                                            upsides   1382984   \n",
       "1846                                              viola     86571   \n",
       "1847                                           way back   1390238   \n",
       "1848  when the water meets the mountains (acoustic v...    294374   \n",
       "1849                                    wokeuplikethis*    235535   \n",
       "\n",
       "      duration_ms  hoursPlayed  Percentage_Listened  \n",
       "0         1659312         0.35                 0.76  \n",
       "1          290836         0.04                 0.55  \n",
       "2          163302         0.01                 0.16  \n",
       "3          500346         0.05                 0.35  \n",
       "4         1188341         0.28                 0.85  \n",
       "...           ...          ...                  ...  \n",
       "1845      1491336         0.38                 0.93  \n",
       "1846        86571         0.02                 1.00  \n",
       "1847      1907507         0.39                 0.73  \n",
       "1848       315894         0.08                 0.93  \n",
       "1849       235535         0.07                 1.00  \n",
       "\n",
       "[1830 rows x 5 columns]"
      ]
     },
     "execution_count": 27,
     "metadata": {},
     "output_type": "execute_result"
    }
   ],
   "source": []
  },
  {
   "cell_type": "code",
   "execution_count": null,
   "metadata": {},
   "outputs": [],
   "source": []
  }
 ],
 "metadata": {
  "kernelspec": {
   "display_name": "base",
   "language": "python",
   "name": "python3"
  },
  "language_info": {
   "codemirror_mode": {
    "name": "ipython",
    "version": 3
   },
   "file_extension": ".py",
   "mimetype": "text/x-python",
   "name": "python",
   "nbconvert_exporter": "python",
   "pygments_lexer": "ipython3",
   "version": "3.9.12"
  },
  "orig_nbformat": 4,
  "vscode": {
   "interpreter": {
    "hash": "33a11755222a1f7d86ea2cf2f4dfdec365d04f7453605f968c7500575cda950b"
   }
  }
 },
 "nbformat": 4,
 "nbformat_minor": 2
}
