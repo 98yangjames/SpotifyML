{
 "cells": [
  {
   "attachments": {},
   "cell_type": "markdown",
   "metadata": {},
   "source": [
    "# Pulling from Stream History and putting it into a dataframe"
   ]
  },
  {
   "cell_type": "code",
   "execution_count": 44,
   "metadata": {},
   "outputs": [],
   "source": [
    "import pandas as pd\n",
    "import datetime"
   ]
  },
  {
   "cell_type": "code",
   "execution_count": 9,
   "metadata": {},
   "outputs": [
    {
     "data": {
      "text/html": [
       "<div>\n",
       "<style scoped>\n",
       "    .dataframe tbody tr th:only-of-type {\n",
       "        vertical-align: middle;\n",
       "    }\n",
       "\n",
       "    .dataframe tbody tr th {\n",
       "        vertical-align: top;\n",
       "    }\n",
       "\n",
       "    .dataframe thead th {\n",
       "        text-align: right;\n",
       "    }\n",
       "</style>\n",
       "<table border=\"1\" class=\"dataframe\">\n",
       "  <thead>\n",
       "    <tr style=\"text-align: right;\">\n",
       "      <th></th>\n",
       "      <th>endTime</th>\n",
       "      <th>artistName</th>\n",
       "      <th>trackName</th>\n",
       "      <th>msPlayed</th>\n",
       "    </tr>\n",
       "  </thead>\n",
       "  <tbody>\n",
       "    <tr>\n",
       "      <th>0</th>\n",
       "      <td>2021-02-14 02:09</td>\n",
       "      <td>Unknown Artist</td>\n",
       "      <td>Unknown Track</td>\n",
       "      <td>1730</td>\n",
       "    </tr>\n",
       "    <tr>\n",
       "      <th>1</th>\n",
       "      <td>2022-01-20 04:50</td>\n",
       "      <td>Lonr.</td>\n",
       "      <td>Make the Most (feat. H.E.R.)</td>\n",
       "      <td>60</td>\n",
       "    </tr>\n",
       "    <tr>\n",
       "      <th>2</th>\n",
       "      <td>2022-01-20 04:53</td>\n",
       "      <td>Yung Bleu</td>\n",
       "      <td>You’re Mines Still (feat. Drake)</td>\n",
       "      <td>6430</td>\n",
       "    </tr>\n",
       "    <tr>\n",
       "      <th>3</th>\n",
       "      <td>2022-01-20 04:53</td>\n",
       "      <td>Lonr.</td>\n",
       "      <td>Make the Most (feat. H.E.R.)</td>\n",
       "      <td>213851</td>\n",
       "    </tr>\n",
       "    <tr>\n",
       "      <th>4</th>\n",
       "      <td>2022-01-20 04:57</td>\n",
       "      <td>Kota the Friend</td>\n",
       "      <td>Face It</td>\n",
       "      <td>41122</td>\n",
       "    </tr>\n",
       "    <tr>\n",
       "      <th>...</th>\n",
       "      <td>...</td>\n",
       "      <td>...</td>\n",
       "      <td>...</td>\n",
       "      <td>...</td>\n",
       "    </tr>\n",
       "    <tr>\n",
       "      <th>3698</th>\n",
       "      <td>2023-01-20 20:49</td>\n",
       "      <td>Fivio Foreign</td>\n",
       "      <td>Through the Fire (feat. Quavo)</td>\n",
       "      <td>205287</td>\n",
       "    </tr>\n",
       "    <tr>\n",
       "      <th>3699</th>\n",
       "      <td>2023-01-20 20:52</td>\n",
       "      <td>FNF Chop</td>\n",
       "      <td>Repeat (feat. Fivio Foreign)</td>\n",
       "      <td>157687</td>\n",
       "    </tr>\n",
       "    <tr>\n",
       "      <th>3700</th>\n",
       "      <td>2023-01-20 20:56</td>\n",
       "      <td>Hunxho</td>\n",
       "      <td>Let's Get It (Remix) [feat. 21 Savage]</td>\n",
       "      <td>156995</td>\n",
       "    </tr>\n",
       "    <tr>\n",
       "      <th>3701</th>\n",
       "      <td>2023-01-20 23:34</td>\n",
       "      <td>Lil Wayne</td>\n",
       "      <td>Multiple Flows (with Lil Uzi Vert)</td>\n",
       "      <td>67335</td>\n",
       "    </tr>\n",
       "    <tr>\n",
       "      <th>3702</th>\n",
       "      <td>2023-01-20 23:38</td>\n",
       "      <td>Calvin Harris</td>\n",
       "      <td>Prayers Up (feat. Travis Scott &amp; A-Trak)</td>\n",
       "      <td>204280</td>\n",
       "    </tr>\n",
       "  </tbody>\n",
       "</table>\n",
       "<p>23703 rows × 4 columns</p>\n",
       "</div>"
      ],
      "text/plain": [
       "               endTime       artistName  \\\n",
       "0     2021-02-14 02:09   Unknown Artist   \n",
       "1     2022-01-20 04:50            Lonr.   \n",
       "2     2022-01-20 04:53        Yung Bleu   \n",
       "3     2022-01-20 04:53            Lonr.   \n",
       "4     2022-01-20 04:57  Kota the Friend   \n",
       "...                ...              ...   \n",
       "3698  2023-01-20 20:49    Fivio Foreign   \n",
       "3699  2023-01-20 20:52         FNF Chop   \n",
       "3700  2023-01-20 20:56           Hunxho   \n",
       "3701  2023-01-20 23:34        Lil Wayne   \n",
       "3702  2023-01-20 23:38    Calvin Harris   \n",
       "\n",
       "                                     trackName  msPlayed  \n",
       "0                                Unknown Track      1730  \n",
       "1                 Make the Most (feat. H.E.R.)        60  \n",
       "2             You’re Mines Still (feat. Drake)      6430  \n",
       "3                 Make the Most (feat. H.E.R.)    213851  \n",
       "4                                      Face It     41122  \n",
       "...                                        ...       ...  \n",
       "3698            Through the Fire (feat. Quavo)    205287  \n",
       "3699              Repeat (feat. Fivio Foreign)    157687  \n",
       "3700    Let's Get It (Remix) [feat. 21 Savage]    156995  \n",
       "3701        Multiple Flows (with Lil Uzi Vert)     67335  \n",
       "3702  Prayers Up (feat. Travis Scott & A-Trak)    204280  \n",
       "\n",
       "[23703 rows x 4 columns]"
      ]
     },
     "execution_count": 9,
     "metadata": {},
     "output_type": "execute_result"
    }
   ],
   "source": [
    "df1 = pd.read_json('SpotifyData/StreamingHistory0.json')\n",
    "df2 = pd.read_json('SpotifyData/StreamingHistory1.json')\n",
    "df3 = pd.read_json('SpotifyData/StreamingHistory2.json')\n",
    "df = pd.concat([df1, df2, df3])\n",
    "df"
   ]
  },
  {
   "cell_type": "code",
   "execution_count": null,
   "metadata": {},
   "outputs": [],
   "source": []
  },
  {
   "cell_type": "code",
   "execution_count": 22,
   "metadata": {},
   "outputs": [],
   "source": [
    "df['endTime']= pd.to_datetime(df['endTime'])\n"
   ]
  },
  {
   "cell_type": "code",
   "execution_count": 14,
   "metadata": {},
   "outputs": [
    {
     "name": "stderr",
     "output_type": "stream",
     "text": [
      "C:\\Users\\yangj\\AppData\\Local\\Temp\\ipykernel_18124\\4059792243.py:1: FutureWarning: The default value of numeric_only in DataFrameGroupBy.sum is deprecated. In a future version, numeric_only will default to False. Either specify numeric_only or select only columns which should be valid for the function.\n",
      "  output_df = df.groupby('artistName', as_index=False).sum().sort_values('msPlayed', ascending=False)\n"
     ]
    }
   ],
   "source": [
    "output_df = df.groupby('artistName', as_index=False).sum().sort_values('msPlayed', ascending=False)\n",
    "output_df['minPlayed'] = output_df['msPlayed'] / 60000\n",
    "output_df['hourPlayed'] = output_df['minPlayed'] / 60\n",
    "output_df.to_csv('Data/Listening_Data/minutes_played_artists.csv')"
   ]
  },
  {
   "cell_type": "code",
   "execution_count": 34,
   "metadata": {},
   "outputs": [],
   "source": [
    "#Associate Month to Season\n",
    "df['month'] = pd.DatetimeIndex(df['endTime']).month\n",
    "df['year'] = pd.DatetimeIndex(df['endTime']).year\n",
    "\n",
    "seasons = [1, 1, 2, 2, 2, 3, 3, 3, 4, 4, 4, 1]\n",
    "month_to_season = dict(zip(range(1,13), seasons))\n",
    "season_arr = df.month.map(month_to_season) \n",
    "df['Season'] = season_arr"
   ]
  },
  {
   "cell_type": "markdown",
   "metadata": {},
   "source": []
  },
  {
   "cell_type": "code",
   "execution_count": 39,
   "metadata": {},
   "outputs": [],
   "source": [
    "df.to_csv('Data/Listening_Data/seasons.csv')"
   ]
  },
  {
   "cell_type": "code",
   "execution_count": 43,
   "metadata": {},
   "outputs": [
    {
     "data": {
      "text/plain": [
       "array([2021, 2022, 2023], dtype=int64)"
      ]
     },
     "execution_count": 43,
     "metadata": {},
     "output_type": "execute_result"
    }
   ],
   "source": []
  },
  {
   "cell_type": "code",
   "execution_count": null,
   "metadata": {},
   "outputs": [],
   "source": []
  }
 ],
 "metadata": {
  "kernelspec": {
   "display_name": "Python 3",
   "language": "python",
   "name": "python3"
  },
  "language_info": {
   "codemirror_mode": {
    "name": "ipython",
    "version": 3
   },
   "file_extension": ".py",
   "mimetype": "text/x-python",
   "name": "python",
   "nbconvert_exporter": "python",
   "pygments_lexer": "ipython3",
   "version": "3.10.9"
  },
  "orig_nbformat": 4,
  "vscode": {
   "interpreter": {
    "hash": "a5a3c20dd14690a1a44dfb81e75df91fd6280261442decb18661f86a16b5adb9"
   }
  }
 },
 "nbformat": 4,
 "nbformat_minor": 2
}
