{
 "cells": [
  {
   "cell_type": "code",
   "execution_count": 20,
   "metadata": {},
   "outputs": [],
   "source": [
    "import pandas as pd"
   ]
  },
  {
   "cell_type": "code",
   "execution_count": 21,
   "metadata": {},
   "outputs": [
    {
     "data": {
      "text/html": [
       "<div>\n",
       "<style scoped>\n",
       "    .dataframe tbody tr th:only-of-type {\n",
       "        vertical-align: middle;\n",
       "    }\n",
       "\n",
       "    .dataframe tbody tr th {\n",
       "        vertical-align: top;\n",
       "    }\n",
       "\n",
       "    .dataframe thead th {\n",
       "        text-align: right;\n",
       "    }\n",
       "</style>\n",
       "<table border=\"1\" class=\"dataframe\">\n",
       "  <thead>\n",
       "    <tr style=\"text-align: right;\">\n",
       "      <th></th>\n",
       "      <th>endTime</th>\n",
       "      <th>artistName</th>\n",
       "      <th>trackName</th>\n",
       "      <th>albumName</th>\n",
       "      <th>msPlayed</th>\n",
       "      <th>month</th>\n",
       "      <th>year</th>\n",
       "      <th>Season</th>\n",
       "      <th>trackUri</th>\n",
       "      <th>danceability</th>\n",
       "      <th>...</th>\n",
       "      <th>liveness</th>\n",
       "      <th>valence</th>\n",
       "      <th>tempo</th>\n",
       "      <th>type</th>\n",
       "      <th>id</th>\n",
       "      <th>uri</th>\n",
       "      <th>track_href</th>\n",
       "      <th>analysis_url</th>\n",
       "      <th>duration_ms</th>\n",
       "      <th>time_signature</th>\n",
       "    </tr>\n",
       "  </thead>\n",
       "  <tbody>\n",
       "    <tr>\n",
       "      <th>0</th>\n",
       "      <td>1/20/2022 4:50</td>\n",
       "      <td>Lonr.</td>\n",
       "      <td>Make the Most (feat. H.E.R.)</td>\n",
       "      <td>Land Of Nothing Real</td>\n",
       "      <td>60</td>\n",
       "      <td>1</td>\n",
       "      <td>2022</td>\n",
       "      <td>1</td>\n",
       "      <td>spotify:track:6UF1vUIoLleFrhcxg2L26V</td>\n",
       "      <td>0.566</td>\n",
       "      <td>...</td>\n",
       "      <td>0.0806</td>\n",
       "      <td>0.838</td>\n",
       "      <td>78.743</td>\n",
       "      <td>audio_features</td>\n",
       "      <td>6UF1vUIoLleFrhcxg2L26V</td>\n",
       "      <td>spotify:track:6UF1vUIoLleFrhcxg2L26V</td>\n",
       "      <td>https://api.spotify.com/v1/tracks/6UF1vUIoLleF...</td>\n",
       "      <td>https://api.spotify.com/v1/audio-analysis/6UF1...</td>\n",
       "      <td>213851</td>\n",
       "      <td>4</td>\n",
       "    </tr>\n",
       "    <tr>\n",
       "      <th>1</th>\n",
       "      <td>1/20/2022 4:53</td>\n",
       "      <td>Lonr.</td>\n",
       "      <td>Make the Most (feat. H.E.R.)</td>\n",
       "      <td>Land Of Nothing Real</td>\n",
       "      <td>213851</td>\n",
       "      <td>1</td>\n",
       "      <td>2022</td>\n",
       "      <td>1</td>\n",
       "      <td>spotify:track:6UF1vUIoLleFrhcxg2L26V</td>\n",
       "      <td>0.566</td>\n",
       "      <td>...</td>\n",
       "      <td>0.0806</td>\n",
       "      <td>0.838</td>\n",
       "      <td>78.743</td>\n",
       "      <td>audio_features</td>\n",
       "      <td>6UF1vUIoLleFrhcxg2L26V</td>\n",
       "      <td>spotify:track:6UF1vUIoLleFrhcxg2L26V</td>\n",
       "      <td>https://api.spotify.com/v1/tracks/6UF1vUIoLleF...</td>\n",
       "      <td>https://api.spotify.com/v1/audio-analysis/6UF1...</td>\n",
       "      <td>213851</td>\n",
       "      <td>4</td>\n",
       "    </tr>\n",
       "  </tbody>\n",
       "</table>\n",
       "<p>2 rows × 27 columns</p>\n",
       "</div>"
      ],
      "text/plain": [
       "          endTime artistName                     trackName  \\\n",
       "0  1/20/2022 4:50      Lonr.  Make the Most (feat. H.E.R.)   \n",
       "1  1/20/2022 4:53      Lonr.  Make the Most (feat. H.E.R.)   \n",
       "\n",
       "              albumName  msPlayed  month  year  Season  \\\n",
       "0  Land Of Nothing Real        60      1  2022       1   \n",
       "1  Land Of Nothing Real    213851      1  2022       1   \n",
       "\n",
       "                               trackUri  danceability  ...  liveness  valence  \\\n",
       "0  spotify:track:6UF1vUIoLleFrhcxg2L26V         0.566  ...    0.0806    0.838   \n",
       "1  spotify:track:6UF1vUIoLleFrhcxg2L26V         0.566  ...    0.0806    0.838   \n",
       "\n",
       "    tempo            type                      id  \\\n",
       "0  78.743  audio_features  6UF1vUIoLleFrhcxg2L26V   \n",
       "1  78.743  audio_features  6UF1vUIoLleFrhcxg2L26V   \n",
       "\n",
       "                                    uri  \\\n",
       "0  spotify:track:6UF1vUIoLleFrhcxg2L26V   \n",
       "1  spotify:track:6UF1vUIoLleFrhcxg2L26V   \n",
       "\n",
       "                                          track_href  \\\n",
       "0  https://api.spotify.com/v1/tracks/6UF1vUIoLleF...   \n",
       "1  https://api.spotify.com/v1/tracks/6UF1vUIoLleF...   \n",
       "\n",
       "                                        analysis_url  duration_ms  \\\n",
       "0  https://api.spotify.com/v1/audio-analysis/6UF1...       213851   \n",
       "1  https://api.spotify.com/v1/audio-analysis/6UF1...       213851   \n",
       "\n",
       "   time_signature  \n",
       "0               4  \n",
       "1               4  \n",
       "\n",
       "[2 rows x 27 columns]"
      ]
     },
     "execution_count": 21,
     "metadata": {},
     "output_type": "execute_result"
    }
   ],
   "source": [
    "df = pd.read_csv('Data/Listening_Data/songs_listened_to_with_all_info_unique.csv')\n",
    "df = df.drop('Unnamed: 0.1', axis=1)\n",
    "df = df.drop('Unnamed: 0', axis = 1)\n",
    "df.head(2)"
   ]
  },
  {
   "cell_type": "code",
   "execution_count": 22,
   "metadata": {},
   "outputs": [
    {
     "data": {
      "text/html": [
       "<div>\n",
       "<style scoped>\n",
       "    .dataframe tbody tr th:only-of-type {\n",
       "        vertical-align: middle;\n",
       "    }\n",
       "\n",
       "    .dataframe tbody tr th {\n",
       "        vertical-align: top;\n",
       "    }\n",
       "\n",
       "    .dataframe thead th {\n",
       "        text-align: right;\n",
       "    }\n",
       "</style>\n",
       "<table border=\"1\" class=\"dataframe\">\n",
       "  <thead>\n",
       "    <tr style=\"text-align: right;\">\n",
       "      <th></th>\n",
       "      <th>endTime</th>\n",
       "      <th>artistName</th>\n",
       "      <th>trackName</th>\n",
       "      <th>albumName</th>\n",
       "      <th>msPlayed</th>\n",
       "      <th>year</th>\n",
       "      <th>Season</th>\n",
       "      <th>trackUri</th>\n",
       "      <th>danceability</th>\n",
       "      <th>energy</th>\n",
       "      <th>...</th>\n",
       "      <th>id</th>\n",
       "      <th>uri</th>\n",
       "      <th>track_href</th>\n",
       "      <th>analysis_url</th>\n",
       "      <th>duration_ms</th>\n",
       "      <th>time_signature</th>\n",
       "      <th>1</th>\n",
       "      <th>2</th>\n",
       "      <th>3</th>\n",
       "      <th>4</th>\n",
       "    </tr>\n",
       "  </thead>\n",
       "  <tbody>\n",
       "    <tr>\n",
       "      <th>0</th>\n",
       "      <td>1/20/2022 4:50</td>\n",
       "      <td>Lonr.</td>\n",
       "      <td>Make the Most (feat. H.E.R.)</td>\n",
       "      <td>Land Of Nothing Real</td>\n",
       "      <td>60</td>\n",
       "      <td>2022</td>\n",
       "      <td>1</td>\n",
       "      <td>spotify:track:6UF1vUIoLleFrhcxg2L26V</td>\n",
       "      <td>0.566</td>\n",
       "      <td>0.693</td>\n",
       "      <td>...</td>\n",
       "      <td>6UF1vUIoLleFrhcxg2L26V</td>\n",
       "      <td>spotify:track:6UF1vUIoLleFrhcxg2L26V</td>\n",
       "      <td>https://api.spotify.com/v1/tracks/6UF1vUIoLleF...</td>\n",
       "      <td>https://api.spotify.com/v1/audio-analysis/6UF1...</td>\n",
       "      <td>213851</td>\n",
       "      <td>4</td>\n",
       "      <td>1</td>\n",
       "      <td>0</td>\n",
       "      <td>0</td>\n",
       "      <td>0</td>\n",
       "    </tr>\n",
       "    <tr>\n",
       "      <th>1</th>\n",
       "      <td>1/20/2022 4:53</td>\n",
       "      <td>Lonr.</td>\n",
       "      <td>Make the Most (feat. H.E.R.)</td>\n",
       "      <td>Land Of Nothing Real</td>\n",
       "      <td>213851</td>\n",
       "      <td>2022</td>\n",
       "      <td>1</td>\n",
       "      <td>spotify:track:6UF1vUIoLleFrhcxg2L26V</td>\n",
       "      <td>0.566</td>\n",
       "      <td>0.693</td>\n",
       "      <td>...</td>\n",
       "      <td>6UF1vUIoLleFrhcxg2L26V</td>\n",
       "      <td>spotify:track:6UF1vUIoLleFrhcxg2L26V</td>\n",
       "      <td>https://api.spotify.com/v1/tracks/6UF1vUIoLleF...</td>\n",
       "      <td>https://api.spotify.com/v1/audio-analysis/6UF1...</td>\n",
       "      <td>213851</td>\n",
       "      <td>4</td>\n",
       "      <td>1</td>\n",
       "      <td>0</td>\n",
       "      <td>0</td>\n",
       "      <td>0</td>\n",
       "    </tr>\n",
       "  </tbody>\n",
       "</table>\n",
       "<p>2 rows × 30 columns</p>\n",
       "</div>"
      ],
      "text/plain": [
       "          endTime artistName                     trackName  \\\n",
       "0  1/20/2022 4:50      Lonr.  Make the Most (feat. H.E.R.)   \n",
       "1  1/20/2022 4:53      Lonr.  Make the Most (feat. H.E.R.)   \n",
       "\n",
       "              albumName  msPlayed  year  Season  \\\n",
       "0  Land Of Nothing Real        60  2022       1   \n",
       "1  Land Of Nothing Real    213851  2022       1   \n",
       "\n",
       "                               trackUri  danceability  energy  ...  \\\n",
       "0  spotify:track:6UF1vUIoLleFrhcxg2L26V         0.566   0.693  ...   \n",
       "1  spotify:track:6UF1vUIoLleFrhcxg2L26V         0.566   0.693  ...   \n",
       "\n",
       "                       id                                   uri  \\\n",
       "0  6UF1vUIoLleFrhcxg2L26V  spotify:track:6UF1vUIoLleFrhcxg2L26V   \n",
       "1  6UF1vUIoLleFrhcxg2L26V  spotify:track:6UF1vUIoLleFrhcxg2L26V   \n",
       "\n",
       "                                          track_href  \\\n",
       "0  https://api.spotify.com/v1/tracks/6UF1vUIoLleF...   \n",
       "1  https://api.spotify.com/v1/tracks/6UF1vUIoLleF...   \n",
       "\n",
       "                                        analysis_url  duration_ms  \\\n",
       "0  https://api.spotify.com/v1/audio-analysis/6UF1...       213851   \n",
       "1  https://api.spotify.com/v1/audio-analysis/6UF1...       213851   \n",
       "\n",
       "   time_signature  1  2  3  4  \n",
       "0               4  1  0  0  0  \n",
       "1               4  1  0  0  0  \n",
       "\n",
       "[2 rows x 30 columns]"
      ]
     },
     "execution_count": 22,
     "metadata": {},
     "output_type": "execute_result"
    }
   ],
   "source": [
    "one_hot_df = pd.concat([df.drop('month', axis=1), pd.get_dummies(df['Season'])], axis=1)\n",
    "one_hot_df.head(2)"
   ]
  },
  {
   "cell_type": "code",
   "execution_count": 23,
   "metadata": {},
   "outputs": [
    {
     "data": {
      "text/plain": [
       "Index([         'endTime',       'artistName',        'trackName',\n",
       "              'albumName',         'msPlayed',             'year',\n",
       "                 'Season',         'trackUri',     'danceability',\n",
       "                 'energy',              'key',         'loudness',\n",
       "                   'mode',      'speechiness',     'acousticness',\n",
       "       'instrumentalness',         'liveness',          'valence',\n",
       "                  'tempo',             'type',               'id',\n",
       "                    'uri',       'track_href',     'analysis_url',\n",
       "            'duration_ms',   'time_signature',                  1,\n",
       "                        2,                  3,                  4],\n",
       "      dtype='object')"
      ]
     },
     "execution_count": 23,
     "metadata": {},
     "output_type": "execute_result"
    }
   ],
   "source": [
    "one_hot_df.columns"
   ]
  },
  {
   "cell_type": "code",
   "execution_count": 24,
   "metadata": {},
   "outputs": [
    {
     "data": {
      "text/html": [
       "<div>\n",
       "<style scoped>\n",
       "    .dataframe tbody tr th:only-of-type {\n",
       "        vertical-align: middle;\n",
       "    }\n",
       "\n",
       "    .dataframe tbody tr th {\n",
       "        vertical-align: top;\n",
       "    }\n",
       "\n",
       "    .dataframe thead th {\n",
       "        text-align: right;\n",
       "    }\n",
       "</style>\n",
       "<table border=\"1\" class=\"dataframe\">\n",
       "  <thead>\n",
       "    <tr style=\"text-align: right;\">\n",
       "      <th></th>\n",
       "      <th>trackName</th>\n",
       "      <th>Count</th>\n",
       "    </tr>\n",
       "  </thead>\n",
       "  <tbody>\n",
       "    <tr>\n",
       "      <th>0</th>\n",
       "      <td>#1 Freak (feat. Ty Dolla $ign)</td>\n",
       "      <td>9</td>\n",
       "    </tr>\n",
       "    <tr>\n",
       "      <th>1</th>\n",
       "      <td>$ave Dat Money (feat. Fetty Wap &amp; Rich Homie Q...</td>\n",
       "      <td>1</td>\n",
       "    </tr>\n",
       "    <tr>\n",
       "      <th>2</th>\n",
       "      <td>1 0 0 . m i l ‘ (with Bas)</td>\n",
       "      <td>1</td>\n",
       "    </tr>\n",
       "    <tr>\n",
       "      <th>3</th>\n",
       "      <td>1-800-273-8255</td>\n",
       "      <td>2</td>\n",
       "    </tr>\n",
       "    <tr>\n",
       "      <th>4</th>\n",
       "      <td>10 F*CKS (with Mansa)</td>\n",
       "      <td>7</td>\n",
       "    </tr>\n",
       "    <tr>\n",
       "      <th>...</th>\n",
       "      <td>...</td>\n",
       "      <td>...</td>\n",
       "    </tr>\n",
       "    <tr>\n",
       "      <th>1845</th>\n",
       "      <td>upsides</td>\n",
       "      <td>11</td>\n",
       "    </tr>\n",
       "    <tr>\n",
       "      <th>1846</th>\n",
       "      <td>viola</td>\n",
       "      <td>1</td>\n",
       "    </tr>\n",
       "    <tr>\n",
       "      <th>1847</th>\n",
       "      <td>way back</td>\n",
       "      <td>7</td>\n",
       "    </tr>\n",
       "    <tr>\n",
       "      <th>1848</th>\n",
       "      <td>when the water meets the mountains (acoustic v...</td>\n",
       "      <td>2</td>\n",
       "    </tr>\n",
       "    <tr>\n",
       "      <th>1849</th>\n",
       "      <td>wokeuplikethis*</td>\n",
       "      <td>1</td>\n",
       "    </tr>\n",
       "  </tbody>\n",
       "</table>\n",
       "<p>1850 rows × 2 columns</p>\n",
       "</div>"
      ],
      "text/plain": [
       "                                              trackName  Count\n",
       "0                        #1 Freak (feat. Ty Dolla $ign)      9\n",
       "1     $ave Dat Money (feat. Fetty Wap & Rich Homie Q...      1\n",
       "2                            1 0 0 . m i l ‘ (with Bas)      1\n",
       "3                                        1-800-273-8255      2\n",
       "4                                 10 F*CKS (with Mansa)      7\n",
       "...                                                 ...    ...\n",
       "1845                                            upsides     11\n",
       "1846                                              viola      1\n",
       "1847                                           way back      7\n",
       "1848  when the water meets the mountains (acoustic v...      2\n",
       "1849                                    wokeuplikethis*      1\n",
       "\n",
       "[1850 rows x 2 columns]"
      ]
     },
     "execution_count": 24,
     "metadata": {},
     "output_type": "execute_result"
    }
   ],
   "source": [
    "df['Count'] = 1\n",
    "count_df = df.groupby('trackName', as_index = False).sum('Count')\n",
    "count_df[['trackName', 'Count']]"
   ]
  },
  {
   "cell_type": "code",
   "execution_count": null,
   "metadata": {},
   "outputs": [],
   "source": []
  },
  {
   "cell_type": "code",
   "execution_count": 43,
   "metadata": {},
   "outputs": [],
   "source": [
    "from sklearn.model_selection import train_test_split\n",
    "# Split the data into training and testing sets\n",
    "\n",
    "features = one_hot_df[['danceability', 'energy', 'key', 'loudness', 'speechiness', 'acousticness', 'instrumentalness', 'liveness', 'valence', 'tempo', 1, 2, 3, 4]]\n",
    "features.columns = features.columns.astype(str)\n",
    "labels = pd.merge(one_hot_df, count_df, on='trackName')['Count']\n",
    "train_features, test_features, train_labels, test_labels = train_test_split(features, labels, test_size = 0.25, random_state = 42)"
   ]
  },
  {
   "cell_type": "code",
   "execution_count": 44,
   "metadata": {},
   "outputs": [
    {
     "data": {
      "text/plain": [
       "0        73\n",
       "1        73\n",
       "2        73\n",
       "3        73\n",
       "4        73\n",
       "         ..\n",
       "14121     3\n",
       "14122     3\n",
       "14123     3\n",
       "14124     1\n",
       "14125     1\n",
       "Name: Count, Length: 14126, dtype: int64"
      ]
     },
     "execution_count": 44,
     "metadata": {},
     "output_type": "execute_result"
    }
   ],
   "source": [
    "labels"
   ]
  },
  {
   "cell_type": "code",
   "execution_count": 27,
   "metadata": {},
   "outputs": [
    {
     "data": {
      "text/html": [
       "<style>#sk-container-id-2 {color: black;background-color: white;}#sk-container-id-2 pre{padding: 0;}#sk-container-id-2 div.sk-toggleable {background-color: white;}#sk-container-id-2 label.sk-toggleable__label {cursor: pointer;display: block;width: 100%;margin-bottom: 0;padding: 0.3em;box-sizing: border-box;text-align: center;}#sk-container-id-2 label.sk-toggleable__label-arrow:before {content: \"▸\";float: left;margin-right: 0.25em;color: #696969;}#sk-container-id-2 label.sk-toggleable__label-arrow:hover:before {color: black;}#sk-container-id-2 div.sk-estimator:hover label.sk-toggleable__label-arrow:before {color: black;}#sk-container-id-2 div.sk-toggleable__content {max-height: 0;max-width: 0;overflow: hidden;text-align: left;background-color: #f0f8ff;}#sk-container-id-2 div.sk-toggleable__content pre {margin: 0.2em;color: black;border-radius: 0.25em;background-color: #f0f8ff;}#sk-container-id-2 input.sk-toggleable__control:checked~div.sk-toggleable__content {max-height: 200px;max-width: 100%;overflow: auto;}#sk-container-id-2 input.sk-toggleable__control:checked~label.sk-toggleable__label-arrow:before {content: \"▾\";}#sk-container-id-2 div.sk-estimator input.sk-toggleable__control:checked~label.sk-toggleable__label {background-color: #d4ebff;}#sk-container-id-2 div.sk-label input.sk-toggleable__control:checked~label.sk-toggleable__label {background-color: #d4ebff;}#sk-container-id-2 input.sk-hidden--visually {border: 0;clip: rect(1px 1px 1px 1px);clip: rect(1px, 1px, 1px, 1px);height: 1px;margin: -1px;overflow: hidden;padding: 0;position: absolute;width: 1px;}#sk-container-id-2 div.sk-estimator {font-family: monospace;background-color: #f0f8ff;border: 1px dotted black;border-radius: 0.25em;box-sizing: border-box;margin-bottom: 0.5em;}#sk-container-id-2 div.sk-estimator:hover {background-color: #d4ebff;}#sk-container-id-2 div.sk-parallel-item::after {content: \"\";width: 100%;border-bottom: 1px solid gray;flex-grow: 1;}#sk-container-id-2 div.sk-label:hover label.sk-toggleable__label {background-color: #d4ebff;}#sk-container-id-2 div.sk-serial::before {content: \"\";position: absolute;border-left: 1px solid gray;box-sizing: border-box;top: 0;bottom: 0;left: 50%;z-index: 0;}#sk-container-id-2 div.sk-serial {display: flex;flex-direction: column;align-items: center;background-color: white;padding-right: 0.2em;padding-left: 0.2em;position: relative;}#sk-container-id-2 div.sk-item {position: relative;z-index: 1;}#sk-container-id-2 div.sk-parallel {display: flex;align-items: stretch;justify-content: center;background-color: white;position: relative;}#sk-container-id-2 div.sk-item::before, #sk-container-id-2 div.sk-parallel-item::before {content: \"\";position: absolute;border-left: 1px solid gray;box-sizing: border-box;top: 0;bottom: 0;left: 50%;z-index: -1;}#sk-container-id-2 div.sk-parallel-item {display: flex;flex-direction: column;z-index: 1;position: relative;background-color: white;}#sk-container-id-2 div.sk-parallel-item:first-child::after {align-self: flex-end;width: 50%;}#sk-container-id-2 div.sk-parallel-item:last-child::after {align-self: flex-start;width: 50%;}#sk-container-id-2 div.sk-parallel-item:only-child::after {width: 0;}#sk-container-id-2 div.sk-dashed-wrapped {border: 1px dashed gray;margin: 0 0.4em 0.5em 0.4em;box-sizing: border-box;padding-bottom: 0.4em;background-color: white;}#sk-container-id-2 div.sk-label label {font-family: monospace;font-weight: bold;display: inline-block;line-height: 1.2em;}#sk-container-id-2 div.sk-label-container {text-align: center;}#sk-container-id-2 div.sk-container {/* jupyter's `normalize.less` sets `[hidden] { display: none; }` but bootstrap.min.css set `[hidden] { display: none !important; }` so we also need the `!important` here to be able to override the default hidden behavior on the sphinx rendered scikit-learn.org. See: https://github.com/scikit-learn/scikit-learn/issues/21755 */display: inline-block !important;position: relative;}#sk-container-id-2 div.sk-text-repr-fallback {display: none;}</style><div id=\"sk-container-id-2\" class=\"sk-top-container\"><div class=\"sk-text-repr-fallback\"><pre>RandomForestRegressor(n_estimators=1000, random_state=42)</pre><b>In a Jupyter environment, please rerun this cell to show the HTML representation or trust the notebook. <br />On GitHub, the HTML representation is unable to render, please try loading this page with nbviewer.org.</b></div><div class=\"sk-container\" hidden><div class=\"sk-item\"><div class=\"sk-estimator sk-toggleable\"><input class=\"sk-toggleable__control sk-hidden--visually\" id=\"sk-estimator-id-2\" type=\"checkbox\" checked><label for=\"sk-estimator-id-2\" class=\"sk-toggleable__label sk-toggleable__label-arrow\">RandomForestRegressor</label><div class=\"sk-toggleable__content\"><pre>RandomForestRegressor(n_estimators=1000, random_state=42)</pre></div></div></div></div></div>"
      ],
      "text/plain": [
       "RandomForestRegressor(n_estimators=1000, random_state=42)"
      ]
     },
     "execution_count": 27,
     "metadata": {},
     "output_type": "execute_result"
    }
   ],
   "source": [
    "# Import the model we are using\n",
    "from sklearn.ensemble import RandomForestRegressor\n",
    "# Instantiate model with 1000 decision trees\n",
    "rf = RandomForestRegressor(n_estimators = 1000, random_state = 42)\n",
    "# Train the model on training data\n",
    "rf.fit(features, labels)\n"
   ]
  },
  {
   "cell_type": "code",
   "execution_count": 28,
   "metadata": {},
   "outputs": [
    {
     "data": {
      "text/html": [
       "<div>\n",
       "<style scoped>\n",
       "    .dataframe tbody tr th:only-of-type {\n",
       "        vertical-align: middle;\n",
       "    }\n",
       "\n",
       "    .dataframe tbody tr th {\n",
       "        vertical-align: top;\n",
       "    }\n",
       "\n",
       "    .dataframe thead th {\n",
       "        text-align: right;\n",
       "    }\n",
       "</style>\n",
       "<table border=\"1\" class=\"dataframe\">\n",
       "  <thead>\n",
       "    <tr style=\"text-align: right;\">\n",
       "      <th></th>\n",
       "      <th>danceability</th>\n",
       "      <th>energy</th>\n",
       "      <th>key</th>\n",
       "      <th>loudness</th>\n",
       "      <th>speechiness</th>\n",
       "      <th>acousticness</th>\n",
       "      <th>instrumentalness</th>\n",
       "      <th>liveness</th>\n",
       "      <th>valence</th>\n",
       "      <th>tempo</th>\n",
       "    </tr>\n",
       "  </thead>\n",
       "  <tbody>\n",
       "    <tr>\n",
       "      <th>0</th>\n",
       "      <td>0.812</td>\n",
       "      <td>0.807</td>\n",
       "      <td>9</td>\n",
       "      <td>-3.354</td>\n",
       "      <td>0.339</td>\n",
       "      <td>0.11</td>\n",
       "      <td>0</td>\n",
       "      <td>0.211</td>\n",
       "      <td>0.4</td>\n",
       "      <td>136.979</td>\n",
       "    </tr>\n",
       "  </tbody>\n",
       "</table>\n",
       "</div>"
      ],
      "text/plain": [
       "   danceability  energy  key  loudness  speechiness  acousticness  \\\n",
       "0         0.812   0.807    9    -3.354        0.339          0.11   \n",
       "\n",
       "   instrumentalness  liveness  valence    tempo  \n",
       "0                 0     0.211      0.4  136.979  "
      ]
     },
     "execution_count": 28,
     "metadata": {},
     "output_type": "execute_result"
    }
   ],
   "source": [
    "# Get the new song\n",
    "from spotipy.oauth2 import SpotifyClientCredentials\n",
    "import spotipy\n",
    "\n",
    "cid = '7cda6c1856a24d109ba5521fd35fd5a3'\n",
    "secret = 'ac6d7cd270aa48cab17e179262d78031'\n",
    "\n",
    "client_credentials_manager = SpotifyClientCredentials(client_id=cid, client_secret=secret)\n",
    "sp = spotipy.Spotify(client_credentials_manager = client_credentials_manager)\n",
    "\n",
    "new_song_uri = 'spotify:track:4b3rGL8LDSkbARUUA20136'\n",
    "song_stats = pd.DataFrame.from_dict(sp.audio_features(new_song_uri)).drop(['type', 'mode', 'id', 'uri', 'track_href', 'analysis_url', 'time_signature', 'duration_ms'], axis = 1)\n",
    "song_stats"
   ]
  },
  {
   "cell_type": "code",
   "execution_count": 32,
   "metadata": {},
   "outputs": [
    {
     "data": {
      "text/html": [
       "<div>\n",
       "<style scoped>\n",
       "    .dataframe tbody tr th:only-of-type {\n",
       "        vertical-align: middle;\n",
       "    }\n",
       "\n",
       "    .dataframe tbody tr th {\n",
       "        vertical-align: top;\n",
       "    }\n",
       "\n",
       "    .dataframe thead th {\n",
       "        text-align: right;\n",
       "    }\n",
       "</style>\n",
       "<table border=\"1\" class=\"dataframe\">\n",
       "  <thead>\n",
       "    <tr style=\"text-align: right;\">\n",
       "      <th></th>\n",
       "      <th>danceability</th>\n",
       "      <th>energy</th>\n",
       "      <th>key</th>\n",
       "      <th>loudness</th>\n",
       "      <th>speechiness</th>\n",
       "      <th>acousticness</th>\n",
       "      <th>instrumentalness</th>\n",
       "      <th>liveness</th>\n",
       "      <th>valence</th>\n",
       "      <th>tempo</th>\n",
       "      <th>1</th>\n",
       "      <th>2</th>\n",
       "      <th>3</th>\n",
       "      <th>4</th>\n",
       "    </tr>\n",
       "  </thead>\n",
       "  <tbody>\n",
       "    <tr>\n",
       "      <th>0</th>\n",
       "      <td>0.812</td>\n",
       "      <td>0.807</td>\n",
       "      <td>9</td>\n",
       "      <td>-3.354</td>\n",
       "      <td>0.339</td>\n",
       "      <td>0.11</td>\n",
       "      <td>0</td>\n",
       "      <td>0.211</td>\n",
       "      <td>0.4</td>\n",
       "      <td>136.979</td>\n",
       "      <td>1</td>\n",
       "      <td>0</td>\n",
       "      <td>0</td>\n",
       "      <td>0</td>\n",
       "    </tr>\n",
       "  </tbody>\n",
       "</table>\n",
       "</div>"
      ],
      "text/plain": [
       "   danceability  energy  key  loudness  speechiness  acousticness  \\\n",
       "0         0.812   0.807    9    -3.354        0.339          0.11   \n",
       "\n",
       "   instrumentalness  liveness  valence    tempo  1  2  3  4  \n",
       "0                 0     0.211      0.4  136.979  1  0  0  0  "
      ]
     },
     "execution_count": 32,
     "metadata": {},
     "output_type": "execute_result"
    }
   ],
   "source": [
    "# Attach the Season\n",
    "song_stats[1] = 1\n",
    "song_stats[2] = 0\n",
    "song_stats[3] = 0\n",
    "song_stats[4] = 0\n",
    "song_stats.columns = song_stats.columns.astype(str)\n",
    "song_stats"
   ]
  },
  {
   "cell_type": "code",
   "execution_count": 33,
   "metadata": {},
   "outputs": [
    {
     "data": {
      "text/html": [
       "<div>\n",
       "<style scoped>\n",
       "    .dataframe tbody tr th:only-of-type {\n",
       "        vertical-align: middle;\n",
       "    }\n",
       "\n",
       "    .dataframe tbody tr th {\n",
       "        vertical-align: top;\n",
       "    }\n",
       "\n",
       "    .dataframe thead th {\n",
       "        text-align: right;\n",
       "    }\n",
       "</style>\n",
       "<table border=\"1\" class=\"dataframe\">\n",
       "  <thead>\n",
       "    <tr style=\"text-align: right;\">\n",
       "      <th></th>\n",
       "      <th>danceability</th>\n",
       "      <th>energy</th>\n",
       "      <th>key</th>\n",
       "      <th>loudness</th>\n",
       "      <th>speechiness</th>\n",
       "      <th>acousticness</th>\n",
       "      <th>instrumentalness</th>\n",
       "      <th>liveness</th>\n",
       "      <th>valence</th>\n",
       "      <th>tempo</th>\n",
       "      <th>1</th>\n",
       "      <th>2</th>\n",
       "      <th>3</th>\n",
       "      <th>4</th>\n",
       "    </tr>\n",
       "  </thead>\n",
       "  <tbody>\n",
       "    <tr>\n",
       "      <th>0</th>\n",
       "      <td>0.566</td>\n",
       "      <td>0.693</td>\n",
       "      <td>10</td>\n",
       "      <td>-6.917</td>\n",
       "      <td>0.368</td>\n",
       "      <td>0.361</td>\n",
       "      <td>0.0</td>\n",
       "      <td>0.0806</td>\n",
       "      <td>0.838</td>\n",
       "      <td>78.743</td>\n",
       "      <td>1</td>\n",
       "      <td>0</td>\n",
       "      <td>0</td>\n",
       "      <td>0</td>\n",
       "    </tr>\n",
       "  </tbody>\n",
       "</table>\n",
       "</div>"
      ],
      "text/plain": [
       "   danceability  energy  key  loudness  speechiness  acousticness  \\\n",
       "0         0.566   0.693   10    -6.917        0.368         0.361   \n",
       "\n",
       "   instrumentalness  liveness  valence   tempo  1  2  3  4  \n",
       "0               0.0    0.0806    0.838  78.743  1  0  0  0  "
      ]
     },
     "execution_count": 33,
     "metadata": {},
     "output_type": "execute_result"
    }
   ],
   "source": [
    "features.head(1)"
   ]
  },
  {
   "cell_type": "code",
   "execution_count": 34,
   "metadata": {},
   "outputs": [],
   "source": [
    "import numpy as np\n",
    "# Use the forest's predict method on the test data\n",
    "\n",
    "predictions = rf.predict(song_stats)\n",
    "# test_labels = test_labels['Count']"
   ]
  },
  {
   "cell_type": "code",
   "execution_count": null,
   "metadata": {},
   "outputs": [],
   "source": []
  },
  {
   "cell_type": "code",
   "execution_count": 35,
   "metadata": {},
   "outputs": [
    {
     "name": "stdout",
     "output_type": "stream",
     "text": [
      "You will listen to Venom by Stray Kids 15 Times\n"
     ]
    }
   ],
   "source": [
    "# This is how many times you are predicted to listen to it\n",
    "print(\"You will listen to \" + \"Venom by Stray Kids \" + str(round(predictions[0])) + \" Times\")"
   ]
  },
  {
   "cell_type": "code",
   "execution_count": 48,
   "metadata": {},
   "outputs": [],
   "source": [
    "prediction_df = pd.DataFrame()\n",
    "prediction_df['Count'] = predictions"
   ]
  },
  {
   "cell_type": "code",
   "execution_count": 49,
   "metadata": {},
   "outputs": [
    {
     "data": {
      "text/html": [
       "<div>\n",
       "<style scoped>\n",
       "    .dataframe tbody tr th:only-of-type {\n",
       "        vertical-align: middle;\n",
       "    }\n",
       "\n",
       "    .dataframe tbody tr th {\n",
       "        vertical-align: top;\n",
       "    }\n",
       "\n",
       "    .dataframe thead th {\n",
       "        text-align: right;\n",
       "    }\n",
       "</style>\n",
       "<table border=\"1\" class=\"dataframe\">\n",
       "  <thead>\n",
       "    <tr style=\"text-align: right;\">\n",
       "      <th></th>\n",
       "      <th>Count</th>\n",
       "    </tr>\n",
       "  </thead>\n",
       "  <tbody>\n",
       "    <tr>\n",
       "      <th>0</th>\n",
       "      <td>15.094</td>\n",
       "    </tr>\n",
       "  </tbody>\n",
       "</table>\n",
       "</div>"
      ],
      "text/plain": [
       "    Count\n",
       "0  15.094"
      ]
     },
     "execution_count": 49,
     "metadata": {},
     "output_type": "execute_result"
    }
   ],
   "source": [
    "prediction_df"
   ]
  },
  {
   "cell_type": "code",
   "execution_count": 50,
   "metadata": {},
   "outputs": [
    {
     "name": "stderr",
     "output_type": "stream",
     "text": [
      "C:\\Users\\yangj\\AppData\\Local\\Temp\\ipykernel_27068\\2193887814.py:1: FutureWarning: The series.append method is deprecated and will be removed from pandas in a future version. Use pandas.concat instead.\n",
      "  labels = labels.append(prediction_df['Count'])\n"
     ]
    }
   ],
   "source": [
    "labels = labels.append(prediction_df['Count'])"
   ]
  },
  {
   "cell_type": "code",
   "execution_count": 51,
   "metadata": {},
   "outputs": [
    {
     "data": {
      "text/plain": [
       "0                                                                73.0\n",
       "73                                                                2.0\n",
       "75                                                               51.0\n",
       "126                                                             146.0\n",
       "272                                                              95.0\n",
       "                                          ...                        \n",
       "11789                                                            45.0\n",
       "12330                                                            82.0\n",
       "13834                                                            56.0\n",
       "0                                                              15.094\n",
       "normalized_count    0        0.392473\n",
       "73       0.010753\n",
       "75       0...\n",
       "Name: Count, Length: 81, dtype: object"
      ]
     },
     "execution_count": 51,
     "metadata": {},
     "output_type": "execute_result"
    }
   ],
   "source": [
    "labels = labels.drop_duplicates()\n",
    "labels['normalized_count'] = labels /labels.abs().max()\n",
    "labels"
   ]
  },
  {
   "cell_type": "code",
   "execution_count": null,
   "metadata": {},
   "outputs": [
    {
     "data": {
      "text/html": [
       "<div>\n",
       "<style scoped>\n",
       "    .dataframe tbody tr th:only-of-type {\n",
       "        vertical-align: middle;\n",
       "    }\n",
       "\n",
       "    .dataframe tbody tr th {\n",
       "        vertical-align: top;\n",
       "    }\n",
       "\n",
       "    .dataframe thead th {\n",
       "        text-align: right;\n",
       "    }\n",
       "</style>\n",
       "<table border=\"1\" class=\"dataframe\">\n",
       "  <thead>\n",
       "    <tr style=\"text-align: right;\">\n",
       "      <th></th>\n",
       "      <th>Count</th>\n",
       "      <th>normalized_count</th>\n",
       "    </tr>\n",
       "  </thead>\n",
       "  <tbody>\n",
       "    <tr>\n",
       "      <th>1264</th>\n",
       "      <td>15</td>\n",
       "      <td>0.080645</td>\n",
       "    </tr>\n",
       "  </tbody>\n",
       "</table>\n",
       "</div>"
      ],
      "text/plain": [
       "      Count  normalized_count\n",
       "1264     15          0.080645"
      ]
     },
     "execution_count": 153,
     "metadata": {},
     "output_type": "execute_result"
    }
   ],
   "source": [
    "labels[labels['Count'] == round(predictions[0])]"
   ]
  }
 ],
 "metadata": {
  "kernelspec": {
   "display_name": "Python 3",
   "language": "python",
   "name": "python3"
  },
  "language_info": {
   "codemirror_mode": {
    "name": "ipython",
    "version": 3
   },
   "file_extension": ".py",
   "mimetype": "text/x-python",
   "name": "python",
   "nbconvert_exporter": "python",
   "pygments_lexer": "ipython3",
   "version": "3.10.9"
  },
  "orig_nbformat": 4,
  "vscode": {
   "interpreter": {
    "hash": "a5a3c20dd14690a1a44dfb81e75df91fd6280261442decb18661f86a16b5adb9"
   }
  }
 },
 "nbformat": 4,
 "nbformat_minor": 2
}
