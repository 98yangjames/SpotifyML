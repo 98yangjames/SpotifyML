{
 "cells": [
  {
   "cell_type": "code",
   "execution_count": 109,
   "metadata": {},
   "outputs": [],
   "source": [
    "import pandas as pd"
   ]
  },
  {
   "cell_type": "code",
   "execution_count": 110,
   "metadata": {},
   "outputs": [
    {
     "data": {
      "text/html": [
       "<div>\n",
       "<style scoped>\n",
       "    .dataframe tbody tr th:only-of-type {\n",
       "        vertical-align: middle;\n",
       "    }\n",
       "\n",
       "    .dataframe tbody tr th {\n",
       "        vertical-align: top;\n",
       "    }\n",
       "\n",
       "    .dataframe thead th {\n",
       "        text-align: right;\n",
       "    }\n",
       "</style>\n",
       "<table border=\"1\" class=\"dataframe\">\n",
       "  <thead>\n",
       "    <tr style=\"text-align: right;\">\n",
       "      <th></th>\n",
       "      <th>endTime</th>\n",
       "      <th>artistName</th>\n",
       "      <th>trackName</th>\n",
       "      <th>albumName</th>\n",
       "      <th>msPlayed</th>\n",
       "      <th>month</th>\n",
       "      <th>year</th>\n",
       "      <th>Season</th>\n",
       "      <th>trackUri</th>\n",
       "      <th>danceability</th>\n",
       "      <th>...</th>\n",
       "      <th>liveness</th>\n",
       "      <th>valence</th>\n",
       "      <th>tempo</th>\n",
       "      <th>type</th>\n",
       "      <th>id</th>\n",
       "      <th>uri</th>\n",
       "      <th>track_href</th>\n",
       "      <th>analysis_url</th>\n",
       "      <th>duration_ms</th>\n",
       "      <th>time_signature</th>\n",
       "    </tr>\n",
       "  </thead>\n",
       "  <tbody>\n",
       "    <tr>\n",
       "      <th>0</th>\n",
       "      <td>1/20/2022 4:50</td>\n",
       "      <td>Lonr.</td>\n",
       "      <td>Make the Most (feat. H.E.R.)</td>\n",
       "      <td>Land Of Nothing Real</td>\n",
       "      <td>60</td>\n",
       "      <td>1</td>\n",
       "      <td>2022</td>\n",
       "      <td>1</td>\n",
       "      <td>spotify:track:6UF1vUIoLleFrhcxg2L26V</td>\n",
       "      <td>0.566</td>\n",
       "      <td>...</td>\n",
       "      <td>0.0806</td>\n",
       "      <td>0.838</td>\n",
       "      <td>78.743</td>\n",
       "      <td>audio_features</td>\n",
       "      <td>6UF1vUIoLleFrhcxg2L26V</td>\n",
       "      <td>spotify:track:6UF1vUIoLleFrhcxg2L26V</td>\n",
       "      <td>https://api.spotify.com/v1/tracks/6UF1vUIoLleF...</td>\n",
       "      <td>https://api.spotify.com/v1/audio-analysis/6UF1...</td>\n",
       "      <td>213851</td>\n",
       "      <td>4</td>\n",
       "    </tr>\n",
       "    <tr>\n",
       "      <th>1</th>\n",
       "      <td>1/20/2022 4:53</td>\n",
       "      <td>Lonr.</td>\n",
       "      <td>Make the Most (feat. H.E.R.)</td>\n",
       "      <td>Land Of Nothing Real</td>\n",
       "      <td>213851</td>\n",
       "      <td>1</td>\n",
       "      <td>2022</td>\n",
       "      <td>1</td>\n",
       "      <td>spotify:track:6UF1vUIoLleFrhcxg2L26V</td>\n",
       "      <td>0.566</td>\n",
       "      <td>...</td>\n",
       "      <td>0.0806</td>\n",
       "      <td>0.838</td>\n",
       "      <td>78.743</td>\n",
       "      <td>audio_features</td>\n",
       "      <td>6UF1vUIoLleFrhcxg2L26V</td>\n",
       "      <td>spotify:track:6UF1vUIoLleFrhcxg2L26V</td>\n",
       "      <td>https://api.spotify.com/v1/tracks/6UF1vUIoLleF...</td>\n",
       "      <td>https://api.spotify.com/v1/audio-analysis/6UF1...</td>\n",
       "      <td>213851</td>\n",
       "      <td>4</td>\n",
       "    </tr>\n",
       "  </tbody>\n",
       "</table>\n",
       "<p>2 rows × 27 columns</p>\n",
       "</div>"
      ],
      "text/plain": [
       "          endTime artistName                     trackName  \\\n",
       "0  1/20/2022 4:50      Lonr.  Make the Most (feat. H.E.R.)   \n",
       "1  1/20/2022 4:53      Lonr.  Make the Most (feat. H.E.R.)   \n",
       "\n",
       "              albumName  msPlayed  month  year  Season  \\\n",
       "0  Land Of Nothing Real        60      1  2022       1   \n",
       "1  Land Of Nothing Real    213851      1  2022       1   \n",
       "\n",
       "                               trackUri  danceability  ...  liveness  valence  \\\n",
       "0  spotify:track:6UF1vUIoLleFrhcxg2L26V         0.566  ...    0.0806    0.838   \n",
       "1  spotify:track:6UF1vUIoLleFrhcxg2L26V         0.566  ...    0.0806    0.838   \n",
       "\n",
       "    tempo            type                      id  \\\n",
       "0  78.743  audio_features  6UF1vUIoLleFrhcxg2L26V   \n",
       "1  78.743  audio_features  6UF1vUIoLleFrhcxg2L26V   \n",
       "\n",
       "                                    uri  \\\n",
       "0  spotify:track:6UF1vUIoLleFrhcxg2L26V   \n",
       "1  spotify:track:6UF1vUIoLleFrhcxg2L26V   \n",
       "\n",
       "                                          track_href  \\\n",
       "0  https://api.spotify.com/v1/tracks/6UF1vUIoLleF...   \n",
       "1  https://api.spotify.com/v1/tracks/6UF1vUIoLleF...   \n",
       "\n",
       "                                        analysis_url  duration_ms  \\\n",
       "0  https://api.spotify.com/v1/audio-analysis/6UF1...       213851   \n",
       "1  https://api.spotify.com/v1/audio-analysis/6UF1...       213851   \n",
       "\n",
       "   time_signature  \n",
       "0               4  \n",
       "1               4  \n",
       "\n",
       "[2 rows x 27 columns]"
      ]
     },
     "execution_count": 110,
     "metadata": {},
     "output_type": "execute_result"
    }
   ],
   "source": [
    "df = pd.read_csv('Data/Listening_Data/songs_listened_to_with_all_info_unique.csv')\n",
    "df = df.drop('Unnamed: 0.1', axis=1)\n",
    "df = df.drop('Unnamed: 0', axis = 1)\n",
    "df.head(2)"
   ]
  },
  {
   "cell_type": "code",
   "execution_count": 111,
   "metadata": {},
   "outputs": [
    {
     "data": {
      "text/html": [
       "<div>\n",
       "<style scoped>\n",
       "    .dataframe tbody tr th:only-of-type {\n",
       "        vertical-align: middle;\n",
       "    }\n",
       "\n",
       "    .dataframe tbody tr th {\n",
       "        vertical-align: top;\n",
       "    }\n",
       "\n",
       "    .dataframe thead th {\n",
       "        text-align: right;\n",
       "    }\n",
       "</style>\n",
       "<table border=\"1\" class=\"dataframe\">\n",
       "  <thead>\n",
       "    <tr style=\"text-align: right;\">\n",
       "      <th></th>\n",
       "      <th>endTime</th>\n",
       "      <th>artistName</th>\n",
       "      <th>trackName</th>\n",
       "      <th>albumName</th>\n",
       "      <th>msPlayed</th>\n",
       "      <th>year</th>\n",
       "      <th>Season</th>\n",
       "      <th>trackUri</th>\n",
       "      <th>danceability</th>\n",
       "      <th>energy</th>\n",
       "      <th>...</th>\n",
       "      <th>id</th>\n",
       "      <th>uri</th>\n",
       "      <th>track_href</th>\n",
       "      <th>analysis_url</th>\n",
       "      <th>duration_ms</th>\n",
       "      <th>time_signature</th>\n",
       "      <th>1</th>\n",
       "      <th>2</th>\n",
       "      <th>3</th>\n",
       "      <th>4</th>\n",
       "    </tr>\n",
       "  </thead>\n",
       "  <tbody>\n",
       "    <tr>\n",
       "      <th>0</th>\n",
       "      <td>1/20/2022 4:50</td>\n",
       "      <td>Lonr.</td>\n",
       "      <td>Make the Most (feat. H.E.R.)</td>\n",
       "      <td>Land Of Nothing Real</td>\n",
       "      <td>60</td>\n",
       "      <td>2022</td>\n",
       "      <td>1</td>\n",
       "      <td>spotify:track:6UF1vUIoLleFrhcxg2L26V</td>\n",
       "      <td>0.566</td>\n",
       "      <td>0.693</td>\n",
       "      <td>...</td>\n",
       "      <td>6UF1vUIoLleFrhcxg2L26V</td>\n",
       "      <td>spotify:track:6UF1vUIoLleFrhcxg2L26V</td>\n",
       "      <td>https://api.spotify.com/v1/tracks/6UF1vUIoLleF...</td>\n",
       "      <td>https://api.spotify.com/v1/audio-analysis/6UF1...</td>\n",
       "      <td>213851</td>\n",
       "      <td>4</td>\n",
       "      <td>1</td>\n",
       "      <td>0</td>\n",
       "      <td>0</td>\n",
       "      <td>0</td>\n",
       "    </tr>\n",
       "    <tr>\n",
       "      <th>1</th>\n",
       "      <td>1/20/2022 4:53</td>\n",
       "      <td>Lonr.</td>\n",
       "      <td>Make the Most (feat. H.E.R.)</td>\n",
       "      <td>Land Of Nothing Real</td>\n",
       "      <td>213851</td>\n",
       "      <td>2022</td>\n",
       "      <td>1</td>\n",
       "      <td>spotify:track:6UF1vUIoLleFrhcxg2L26V</td>\n",
       "      <td>0.566</td>\n",
       "      <td>0.693</td>\n",
       "      <td>...</td>\n",
       "      <td>6UF1vUIoLleFrhcxg2L26V</td>\n",
       "      <td>spotify:track:6UF1vUIoLleFrhcxg2L26V</td>\n",
       "      <td>https://api.spotify.com/v1/tracks/6UF1vUIoLleF...</td>\n",
       "      <td>https://api.spotify.com/v1/audio-analysis/6UF1...</td>\n",
       "      <td>213851</td>\n",
       "      <td>4</td>\n",
       "      <td>1</td>\n",
       "      <td>0</td>\n",
       "      <td>0</td>\n",
       "      <td>0</td>\n",
       "    </tr>\n",
       "  </tbody>\n",
       "</table>\n",
       "<p>2 rows × 30 columns</p>\n",
       "</div>"
      ],
      "text/plain": [
       "          endTime artistName                     trackName  \\\n",
       "0  1/20/2022 4:50      Lonr.  Make the Most (feat. H.E.R.)   \n",
       "1  1/20/2022 4:53      Lonr.  Make the Most (feat. H.E.R.)   \n",
       "\n",
       "              albumName  msPlayed  year  Season  \\\n",
       "0  Land Of Nothing Real        60  2022       1   \n",
       "1  Land Of Nothing Real    213851  2022       1   \n",
       "\n",
       "                               trackUri  danceability  energy  ...  \\\n",
       "0  spotify:track:6UF1vUIoLleFrhcxg2L26V         0.566   0.693  ...   \n",
       "1  spotify:track:6UF1vUIoLleFrhcxg2L26V         0.566   0.693  ...   \n",
       "\n",
       "                       id                                   uri  \\\n",
       "0  6UF1vUIoLleFrhcxg2L26V  spotify:track:6UF1vUIoLleFrhcxg2L26V   \n",
       "1  6UF1vUIoLleFrhcxg2L26V  spotify:track:6UF1vUIoLleFrhcxg2L26V   \n",
       "\n",
       "                                          track_href  \\\n",
       "0  https://api.spotify.com/v1/tracks/6UF1vUIoLleF...   \n",
       "1  https://api.spotify.com/v1/tracks/6UF1vUIoLleF...   \n",
       "\n",
       "                                        analysis_url  duration_ms  \\\n",
       "0  https://api.spotify.com/v1/audio-analysis/6UF1...       213851   \n",
       "1  https://api.spotify.com/v1/audio-analysis/6UF1...       213851   \n",
       "\n",
       "   time_signature  1  2  3  4  \n",
       "0               4  1  0  0  0  \n",
       "1               4  1  0  0  0  \n",
       "\n",
       "[2 rows x 30 columns]"
      ]
     },
     "execution_count": 111,
     "metadata": {},
     "output_type": "execute_result"
    }
   ],
   "source": [
    "one_hot_df = pd.concat([df.drop('month', axis=1), pd.get_dummies(df['Season'])], axis=1)\n",
    "one_hot_df.head(2)"
   ]
  },
  {
   "cell_type": "code",
   "execution_count": 112,
   "metadata": {},
   "outputs": [
    {
     "data": {
      "text/plain": [
       "Index([         'endTime',       'artistName',        'trackName',\n",
       "              'albumName',         'msPlayed',             'year',\n",
       "                 'Season',         'trackUri',     'danceability',\n",
       "                 'energy',              'key',         'loudness',\n",
       "                   'mode',      'speechiness',     'acousticness',\n",
       "       'instrumentalness',         'liveness',          'valence',\n",
       "                  'tempo',             'type',               'id',\n",
       "                    'uri',       'track_href',     'analysis_url',\n",
       "            'duration_ms',   'time_signature',                  1,\n",
       "                        2,                  3,                  4],\n",
       "      dtype='object')"
      ]
     },
     "execution_count": 112,
     "metadata": {},
     "output_type": "execute_result"
    }
   ],
   "source": [
    "one_hot_df.columns"
   ]
  },
  {
   "cell_type": "code",
   "execution_count": 113,
   "metadata": {},
   "outputs": [
    {
     "data": {
      "text/html": [
       "<div>\n",
       "<style scoped>\n",
       "    .dataframe tbody tr th:only-of-type {\n",
       "        vertical-align: middle;\n",
       "    }\n",
       "\n",
       "    .dataframe tbody tr th {\n",
       "        vertical-align: top;\n",
       "    }\n",
       "\n",
       "    .dataframe thead th {\n",
       "        text-align: right;\n",
       "    }\n",
       "</style>\n",
       "<table border=\"1\" class=\"dataframe\">\n",
       "  <thead>\n",
       "    <tr style=\"text-align: right;\">\n",
       "      <th></th>\n",
       "      <th>trackName</th>\n",
       "      <th>Count</th>\n",
       "    </tr>\n",
       "  </thead>\n",
       "  <tbody>\n",
       "    <tr>\n",
       "      <th>0</th>\n",
       "      <td>#1 Freak (feat. Ty Dolla $ign)</td>\n",
       "      <td>9</td>\n",
       "    </tr>\n",
       "    <tr>\n",
       "      <th>1</th>\n",
       "      <td>$ave Dat Money (feat. Fetty Wap &amp; Rich Homie Q...</td>\n",
       "      <td>1</td>\n",
       "    </tr>\n",
       "    <tr>\n",
       "      <th>2</th>\n",
       "      <td>1 0 0 . m i l ‘ (with Bas)</td>\n",
       "      <td>1</td>\n",
       "    </tr>\n",
       "    <tr>\n",
       "      <th>3</th>\n",
       "      <td>1-800-273-8255</td>\n",
       "      <td>2</td>\n",
       "    </tr>\n",
       "    <tr>\n",
       "      <th>4</th>\n",
       "      <td>10 F*CKS (with Mansa)</td>\n",
       "      <td>7</td>\n",
       "    </tr>\n",
       "    <tr>\n",
       "      <th>...</th>\n",
       "      <td>...</td>\n",
       "      <td>...</td>\n",
       "    </tr>\n",
       "    <tr>\n",
       "      <th>1845</th>\n",
       "      <td>upsides</td>\n",
       "      <td>11</td>\n",
       "    </tr>\n",
       "    <tr>\n",
       "      <th>1846</th>\n",
       "      <td>viola</td>\n",
       "      <td>1</td>\n",
       "    </tr>\n",
       "    <tr>\n",
       "      <th>1847</th>\n",
       "      <td>way back</td>\n",
       "      <td>7</td>\n",
       "    </tr>\n",
       "    <tr>\n",
       "      <th>1848</th>\n",
       "      <td>when the water meets the mountains (acoustic v...</td>\n",
       "      <td>2</td>\n",
       "    </tr>\n",
       "    <tr>\n",
       "      <th>1849</th>\n",
       "      <td>wokeuplikethis*</td>\n",
       "      <td>1</td>\n",
       "    </tr>\n",
       "  </tbody>\n",
       "</table>\n",
       "<p>1850 rows × 2 columns</p>\n",
       "</div>"
      ],
      "text/plain": [
       "                                              trackName  Count\n",
       "0                        #1 Freak (feat. Ty Dolla $ign)      9\n",
       "1     $ave Dat Money (feat. Fetty Wap & Rich Homie Q...      1\n",
       "2                            1 0 0 . m i l ‘ (with Bas)      1\n",
       "3                                        1-800-273-8255      2\n",
       "4                                 10 F*CKS (with Mansa)      7\n",
       "...                                                 ...    ...\n",
       "1845                                            upsides     11\n",
       "1846                                              viola      1\n",
       "1847                                           way back      7\n",
       "1848  when the water meets the mountains (acoustic v...      2\n",
       "1849                                    wokeuplikethis*      1\n",
       "\n",
       "[1850 rows x 2 columns]"
      ]
     },
     "execution_count": 113,
     "metadata": {},
     "output_type": "execute_result"
    }
   ],
   "source": [
    "df['Count'] = 1\n",
    "count_df = df.groupby('trackName', as_index = False).sum('Count')\n",
    "count_df[['trackName', 'Count']]"
   ]
  },
  {
   "cell_type": "code",
   "execution_count": null,
   "metadata": {},
   "outputs": [],
   "source": []
  },
  {
   "cell_type": "code",
   "execution_count": 150,
   "metadata": {},
   "outputs": [],
   "source": [
    "from sklearn.model_selection import train_test_split\n",
    "# Split the data into training and testing sets\n",
    "\n",
    "features = one_hot_df[['danceability', 'energy', 'key', 'loudness', 'speechiness', 'acousticness', 'instrumentalness', 'liveness', 'valence', 'tempo', 1, 2, 3, 4]]\n",
    "labels = pd.merge(one_hot_df, count_df, on='trackName')[['Count']]\n",
    "train_features, test_features, train_labels, test_labels = train_test_split(features, labels, test_size = 0.25, random_state = 42)"
   ]
  },
  {
   "cell_type": "code",
   "execution_count": 115,
   "metadata": {},
   "outputs": [
    {
     "name": "stderr",
     "output_type": "stream",
     "text": [
      "/Users/jamesyang/opt/anaconda3/lib/python3.9/site-packages/sklearn/utils/validation.py:1688: FutureWarning: Feature names only support names that are all strings. Got feature names with dtypes: ['int', 'str']. An error will be raised in 1.2.\n",
      "  warnings.warn(\n",
      "/var/folders/h4/6452mjq15618sb_49rqm1mkw0000gn/T/ipykernel_68980/2590962362.py:6: DataConversionWarning: A column-vector y was passed when a 1d array was expected. Please change the shape of y to (n_samples,), for example using ravel().\n",
      "  rf.fit(features, labels)\n"
     ]
    },
    {
     "data": {
      "text/plain": [
       "RandomForestRegressor(n_estimators=1000, random_state=42)"
      ]
     },
     "execution_count": 115,
     "metadata": {},
     "output_type": "execute_result"
    }
   ],
   "source": [
    "# Import the model we are using\n",
    "from sklearn.ensemble import RandomForestRegressor\n",
    "# Instantiate model with 1000 decision trees\n",
    "rf = RandomForestRegressor(n_estimators = 1000, random_state = 42)\n",
    "# Train the model on training data\n",
    "rf.fit(features, labels)\n"
   ]
  },
  {
   "cell_type": "code",
   "execution_count": 116,
   "metadata": {},
   "outputs": [
    {
     "data": {
      "text/html": [
       "<div>\n",
       "<style scoped>\n",
       "    .dataframe tbody tr th:only-of-type {\n",
       "        vertical-align: middle;\n",
       "    }\n",
       "\n",
       "    .dataframe tbody tr th {\n",
       "        vertical-align: top;\n",
       "    }\n",
       "\n",
       "    .dataframe thead th {\n",
       "        text-align: right;\n",
       "    }\n",
       "</style>\n",
       "<table border=\"1\" class=\"dataframe\">\n",
       "  <thead>\n",
       "    <tr style=\"text-align: right;\">\n",
       "      <th></th>\n",
       "      <th>danceability</th>\n",
       "      <th>energy</th>\n",
       "      <th>key</th>\n",
       "      <th>loudness</th>\n",
       "      <th>speechiness</th>\n",
       "      <th>acousticness</th>\n",
       "      <th>instrumentalness</th>\n",
       "      <th>liveness</th>\n",
       "      <th>valence</th>\n",
       "      <th>tempo</th>\n",
       "    </tr>\n",
       "  </thead>\n",
       "  <tbody>\n",
       "    <tr>\n",
       "      <th>0</th>\n",
       "      <td>0.812</td>\n",
       "      <td>0.807</td>\n",
       "      <td>9</td>\n",
       "      <td>-3.354</td>\n",
       "      <td>0.339</td>\n",
       "      <td>0.11</td>\n",
       "      <td>0</td>\n",
       "      <td>0.211</td>\n",
       "      <td>0.4</td>\n",
       "      <td>136.979</td>\n",
       "    </tr>\n",
       "  </tbody>\n",
       "</table>\n",
       "</div>"
      ],
      "text/plain": [
       "   danceability  energy  key  loudness  speechiness  acousticness  \\\n",
       "0         0.812   0.807    9    -3.354        0.339          0.11   \n",
       "\n",
       "   instrumentalness  liveness  valence    tempo  \n",
       "0                 0     0.211      0.4  136.979  "
      ]
     },
     "execution_count": 116,
     "metadata": {},
     "output_type": "execute_result"
    }
   ],
   "source": [
    "# Get the new song\n",
    "from spotipy.oauth2 import SpotifyClientCredentials\n",
    "import spotipy\n",
    "\n",
    "cid = '7cda6c1856a24d109ba5521fd35fd5a3'\n",
    "secret = 'ac6d7cd270aa48cab17e179262d78031'\n",
    "\n",
    "client_credentials_manager = SpotifyClientCredentials(client_id=cid, client_secret=secret)\n",
    "sp = spotipy.Spotify(client_credentials_manager = client_credentials_manager)\n",
    "\n",
    "new_song_uri = 'spotify:track:4b3rGL8LDSkbARUUA20136'\n",
    "song_stats = pd.DataFrame.from_dict(sp.audio_features(new_song_uri)).drop(['type', 'mode', 'id', 'uri', 'track_href', 'analysis_url', 'time_signature', 'duration_ms'], axis = 1)\n",
    "song_stats"
   ]
  },
  {
   "cell_type": "code",
   "execution_count": 117,
   "metadata": {},
   "outputs": [
    {
     "data": {
      "text/html": [
       "<div>\n",
       "<style scoped>\n",
       "    .dataframe tbody tr th:only-of-type {\n",
       "        vertical-align: middle;\n",
       "    }\n",
       "\n",
       "    .dataframe tbody tr th {\n",
       "        vertical-align: top;\n",
       "    }\n",
       "\n",
       "    .dataframe thead th {\n",
       "        text-align: right;\n",
       "    }\n",
       "</style>\n",
       "<table border=\"1\" class=\"dataframe\">\n",
       "  <thead>\n",
       "    <tr style=\"text-align: right;\">\n",
       "      <th></th>\n",
       "      <th>danceability</th>\n",
       "      <th>energy</th>\n",
       "      <th>key</th>\n",
       "      <th>loudness</th>\n",
       "      <th>speechiness</th>\n",
       "      <th>acousticness</th>\n",
       "      <th>instrumentalness</th>\n",
       "      <th>liveness</th>\n",
       "      <th>valence</th>\n",
       "      <th>tempo</th>\n",
       "      <th>1</th>\n",
       "      <th>2</th>\n",
       "      <th>3</th>\n",
       "      <th>4</th>\n",
       "    </tr>\n",
       "  </thead>\n",
       "  <tbody>\n",
       "    <tr>\n",
       "      <th>0</th>\n",
       "      <td>0.812</td>\n",
       "      <td>0.807</td>\n",
       "      <td>9</td>\n",
       "      <td>-3.354</td>\n",
       "      <td>0.339</td>\n",
       "      <td>0.11</td>\n",
       "      <td>0</td>\n",
       "      <td>0.211</td>\n",
       "      <td>0.4</td>\n",
       "      <td>136.979</td>\n",
       "      <td>1</td>\n",
       "      <td>0</td>\n",
       "      <td>0</td>\n",
       "      <td>0</td>\n",
       "    </tr>\n",
       "  </tbody>\n",
       "</table>\n",
       "</div>"
      ],
      "text/plain": [
       "   danceability  energy  key  loudness  speechiness  acousticness  \\\n",
       "0         0.812   0.807    9    -3.354        0.339          0.11   \n",
       "\n",
       "   instrumentalness  liveness  valence    tempo  1  2  3  4  \n",
       "0                 0     0.211      0.4  136.979  1  0  0  0  "
      ]
     },
     "execution_count": 117,
     "metadata": {},
     "output_type": "execute_result"
    }
   ],
   "source": [
    "# Attach the Season\n",
    "song_stats[1] = 1\n",
    "song_stats[2] = 0\n",
    "song_stats[3] = 0\n",
    "song_stats[4] = 0\n",
    "song_stats"
   ]
  },
  {
   "cell_type": "code",
   "execution_count": 118,
   "metadata": {},
   "outputs": [
    {
     "data": {
      "text/html": [
       "<div>\n",
       "<style scoped>\n",
       "    .dataframe tbody tr th:only-of-type {\n",
       "        vertical-align: middle;\n",
       "    }\n",
       "\n",
       "    .dataframe tbody tr th {\n",
       "        vertical-align: top;\n",
       "    }\n",
       "\n",
       "    .dataframe thead th {\n",
       "        text-align: right;\n",
       "    }\n",
       "</style>\n",
       "<table border=\"1\" class=\"dataframe\">\n",
       "  <thead>\n",
       "    <tr style=\"text-align: right;\">\n",
       "      <th></th>\n",
       "      <th>danceability</th>\n",
       "      <th>energy</th>\n",
       "      <th>key</th>\n",
       "      <th>loudness</th>\n",
       "      <th>speechiness</th>\n",
       "      <th>acousticness</th>\n",
       "      <th>instrumentalness</th>\n",
       "      <th>liveness</th>\n",
       "      <th>valence</th>\n",
       "      <th>tempo</th>\n",
       "      <th>1</th>\n",
       "      <th>2</th>\n",
       "      <th>3</th>\n",
       "      <th>4</th>\n",
       "    </tr>\n",
       "  </thead>\n",
       "  <tbody>\n",
       "    <tr>\n",
       "      <th>0</th>\n",
       "      <td>0.566</td>\n",
       "      <td>0.693</td>\n",
       "      <td>10</td>\n",
       "      <td>-6.917</td>\n",
       "      <td>0.368</td>\n",
       "      <td>0.361</td>\n",
       "      <td>0.0</td>\n",
       "      <td>0.0806</td>\n",
       "      <td>0.838</td>\n",
       "      <td>78.743</td>\n",
       "      <td>1</td>\n",
       "      <td>0</td>\n",
       "      <td>0</td>\n",
       "      <td>0</td>\n",
       "    </tr>\n",
       "  </tbody>\n",
       "</table>\n",
       "</div>"
      ],
      "text/plain": [
       "   danceability  energy  key  loudness  speechiness  acousticness  \\\n",
       "0         0.566   0.693   10    -6.917        0.368         0.361   \n",
       "\n",
       "   instrumentalness  liveness  valence   tempo  1  2  3  4  \n",
       "0               0.0    0.0806    0.838  78.743  1  0  0  0  "
      ]
     },
     "execution_count": 118,
     "metadata": {},
     "output_type": "execute_result"
    }
   ],
   "source": [
    "features.head(1)"
   ]
  },
  {
   "cell_type": "code",
   "execution_count": 132,
   "metadata": {},
   "outputs": [
    {
     "name": "stderr",
     "output_type": "stream",
     "text": [
      "/Users/jamesyang/opt/anaconda3/lib/python3.9/site-packages/sklearn/utils/validation.py:1688: FutureWarning: Feature names only support names that are all strings. Got feature names with dtypes: ['int', 'str']. An error will be raised in 1.2.\n",
      "  warnings.warn(\n"
     ]
    }
   ],
   "source": [
    "import numpy as np\n",
    "# Use the forest's predict method on the test data\n",
    "\n",
    "predictions = rf.predict(song_stats)\n",
    "# test_labels = test_labels['Count']"
   ]
  },
  {
   "cell_type": "code",
   "execution_count": null,
   "metadata": {},
   "outputs": [],
   "source": []
  },
  {
   "cell_type": "code",
   "execution_count": 133,
   "metadata": {},
   "outputs": [
    {
     "name": "stdout",
     "output_type": "stream",
     "text": [
      "You will listen to Venom by Stray Kids 15 Times\n"
     ]
    }
   ],
   "source": [
    "# This is how many times you are predicted to listen to it\n",
    "print(\"You will listen to \" + \"Venom by Stray Kids \" + str(round(predictions[0])) + \" Times\")"
   ]
  },
  {
   "cell_type": "code",
   "execution_count": 138,
   "metadata": {},
   "outputs": [
    {
     "data": {
      "text/plain": [
       "15.094"
      ]
     },
     "execution_count": 138,
     "metadata": {},
     "output_type": "execute_result"
    }
   ],
   "source": [
    "prediction_df = pd.DataFrame()\n",
    "prediction_df['Count'] = predictions"
   ]
  },
  {
   "cell_type": "code",
   "execution_count": 141,
   "metadata": {},
   "outputs": [
    {
     "name": "stderr",
     "output_type": "stream",
     "text": [
      "/var/folders/h4/6452mjq15618sb_49rqm1mkw0000gn/T/ipykernel_68980/1046272346.py:1: FutureWarning: The frame.append method is deprecated and will be removed from pandas in a future version. Use pandas.concat instead.\n",
      "  labels = labels.append(prediction_df)\n"
     ]
    }
   ],
   "source": [
    "labels = labels.append(prediction_df)\n"
   ]
  },
  {
   "cell_type": "code",
   "execution_count": 151,
   "metadata": {},
   "outputs": [
    {
     "data": {
      "text/html": [
       "<div>\n",
       "<style scoped>\n",
       "    .dataframe tbody tr th:only-of-type {\n",
       "        vertical-align: middle;\n",
       "    }\n",
       "\n",
       "    .dataframe tbody tr th {\n",
       "        vertical-align: top;\n",
       "    }\n",
       "\n",
       "    .dataframe thead th {\n",
       "        text-align: right;\n",
       "    }\n",
       "</style>\n",
       "<table border=\"1\" class=\"dataframe\">\n",
       "  <thead>\n",
       "    <tr style=\"text-align: right;\">\n",
       "      <th></th>\n",
       "      <th>Count</th>\n",
       "      <th>normalized_count</th>\n",
       "    </tr>\n",
       "  </thead>\n",
       "  <tbody>\n",
       "    <tr>\n",
       "      <th>0</th>\n",
       "      <td>73</td>\n",
       "      <td>0.392473</td>\n",
       "    </tr>\n",
       "    <tr>\n",
       "      <th>73</th>\n",
       "      <td>2</td>\n",
       "      <td>0.010753</td>\n",
       "    </tr>\n",
       "    <tr>\n",
       "      <th>75</th>\n",
       "      <td>51</td>\n",
       "      <td>0.274194</td>\n",
       "    </tr>\n",
       "    <tr>\n",
       "      <th>126</th>\n",
       "      <td>146</td>\n",
       "      <td>0.784946</td>\n",
       "    </tr>\n",
       "    <tr>\n",
       "      <th>272</th>\n",
       "      <td>95</td>\n",
       "      <td>0.510753</td>\n",
       "    </tr>\n",
       "    <tr>\n",
       "      <th>...</th>\n",
       "      <td>...</td>\n",
       "      <td>...</td>\n",
       "    </tr>\n",
       "    <tr>\n",
       "      <th>11068</th>\n",
       "      <td>34</td>\n",
       "      <td>0.182796</td>\n",
       "    </tr>\n",
       "    <tr>\n",
       "      <th>11548</th>\n",
       "      <td>126</td>\n",
       "      <td>0.677419</td>\n",
       "    </tr>\n",
       "    <tr>\n",
       "      <th>11789</th>\n",
       "      <td>45</td>\n",
       "      <td>0.241935</td>\n",
       "    </tr>\n",
       "    <tr>\n",
       "      <th>12330</th>\n",
       "      <td>82</td>\n",
       "      <td>0.440860</td>\n",
       "    </tr>\n",
       "    <tr>\n",
       "      <th>13834</th>\n",
       "      <td>56</td>\n",
       "      <td>0.301075</td>\n",
       "    </tr>\n",
       "  </tbody>\n",
       "</table>\n",
       "<p>79 rows × 2 columns</p>\n",
       "</div>"
      ],
      "text/plain": [
       "       Count  normalized_count\n",
       "0         73          0.392473\n",
       "73         2          0.010753\n",
       "75        51          0.274194\n",
       "126      146          0.784946\n",
       "272       95          0.510753\n",
       "...      ...               ...\n",
       "11068     34          0.182796\n",
       "11548    126          0.677419\n",
       "11789     45          0.241935\n",
       "12330     82          0.440860\n",
       "13834     56          0.301075\n",
       "\n",
       "[79 rows x 2 columns]"
      ]
     },
     "execution_count": 151,
     "metadata": {},
     "output_type": "execute_result"
    }
   ],
   "source": [
    "labels = labels.drop_duplicates()\n",
    "labels['normalized_count'] = labels /labels.abs().max()\n",
    "labels"
   ]
  },
  {
   "cell_type": "code",
   "execution_count": 153,
   "metadata": {},
   "outputs": [
    {
     "data": {
      "text/html": [
       "<div>\n",
       "<style scoped>\n",
       "    .dataframe tbody tr th:only-of-type {\n",
       "        vertical-align: middle;\n",
       "    }\n",
       "\n",
       "    .dataframe tbody tr th {\n",
       "        vertical-align: top;\n",
       "    }\n",
       "\n",
       "    .dataframe thead th {\n",
       "        text-align: right;\n",
       "    }\n",
       "</style>\n",
       "<table border=\"1\" class=\"dataframe\">\n",
       "  <thead>\n",
       "    <tr style=\"text-align: right;\">\n",
       "      <th></th>\n",
       "      <th>Count</th>\n",
       "      <th>normalized_count</th>\n",
       "    </tr>\n",
       "  </thead>\n",
       "  <tbody>\n",
       "    <tr>\n",
       "      <th>1264</th>\n",
       "      <td>15</td>\n",
       "      <td>0.080645</td>\n",
       "    </tr>\n",
       "  </tbody>\n",
       "</table>\n",
       "</div>"
      ],
      "text/plain": [
       "      Count  normalized_count\n",
       "1264     15          0.080645"
      ]
     },
     "execution_count": 153,
     "metadata": {},
     "output_type": "execute_result"
    }
   ],
   "source": [
    "labels[labels['Count'] == round(predictions[0])]"
   ]
  },
  {
   "cell_type": "code",
   "execution_count": null,
   "metadata": {},
   "outputs": [],
   "source": []
  },
  {
   "cell_type": "code",
   "execution_count": null,
   "metadata": {},
   "outputs": [],
   "source": []
  }
 ],
 "metadata": {
  "kernelspec": {
   "display_name": "base",
   "language": "python",
   "name": "python3"
  },
  "language_info": {
   "codemirror_mode": {
    "name": "ipython",
    "version": 3
   },
   "file_extension": ".py",
   "mimetype": "text/x-python",
   "name": "python",
   "nbconvert_exporter": "python",
   "pygments_lexer": "ipython3",
   "version": "3.9.12"
  },
  "orig_nbformat": 4,
  "vscode": {
   "interpreter": {
    "hash": "33a11755222a1f7d86ea2cf2f4dfdec365d04f7453605f968c7500575cda950b"
   }
  }
 },
 "nbformat": 4,
 "nbformat_minor": 2
}
