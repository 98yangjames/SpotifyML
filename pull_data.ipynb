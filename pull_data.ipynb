{
 "cells": [
  {
   "cell_type": "code",
   "execution_count": 75,
   "metadata": {},
   "outputs": [],
   "source": [
    "import pandas as pd\n",
    "import warnings\n",
    "import numpy as np\n",
    "warnings.filterwarnings('ignore')"
   ]
  },
  {
   "cell_type": "code",
   "execution_count": 74,
   "metadata": {},
   "outputs": [],
   "source": [
    "df = pd.read_json('SpotifyData/Playlist1.json')\n",
    "df = pd.json_normalize(df['playlists'])\n",
    "df = df.sort_values('lastModifiedDate')\n",
    "total_df = pd.DataFrame()\n",
    "empty_df = pd.DataFrame()\n",
    "for i in df['items']:\n",
    "    for j in i:\n",
    "        total_df = total_df.append(pd.DataFrame.from_dict(j))\n"
   ]
  },
  {
   "cell_type": "code",
   "execution_count": 73,
   "metadata": {},
   "outputs": [
    {
     "data": {
      "text/html": [
       "<div>\n",
       "<style scoped>\n",
       "    .dataframe tbody tr th:only-of-type {\n",
       "        vertical-align: middle;\n",
       "    }\n",
       "\n",
       "    .dataframe tbody tr th {\n",
       "        vertical-align: top;\n",
       "    }\n",
       "\n",
       "    .dataframe thead th {\n",
       "        text-align: right;\n",
       "    }\n",
       "</style>\n",
       "<table border=\"1\" class=\"dataframe\">\n",
       "  <thead>\n",
       "    <tr style=\"text-align: right;\">\n",
       "      <th></th>\n",
       "      <th>albumName</th>\n",
       "      <th>artistName</th>\n",
       "      <th>trackName</th>\n",
       "      <th>trackUri</th>\n",
       "      <th>uri</th>\n",
       "    </tr>\n",
       "  </thead>\n",
       "  <tbody>\n",
       "    <tr>\n",
       "      <th>track</th>\n",
       "      <td>ASTROWORLD</td>\n",
       "      <td>Travis Scott</td>\n",
       "      <td>YOSEMITE</td>\n",
       "      <td>spotify:track:7lAK3oHbfEnvUQWosrMMpR</td>\n",
       "      <td>NaN</td>\n",
       "    </tr>\n",
       "    <tr>\n",
       "      <th>track</th>\n",
       "      <td>ONEPOINTFIVE</td>\n",
       "      <td>Aminé</td>\n",
       "      <td>RATCHET SATURN GIRL</td>\n",
       "      <td>spotify:track:2q4F6OpQgx9umNB9uGFPYo</td>\n",
       "      <td>NaN</td>\n",
       "    </tr>\n",
       "    <tr>\n",
       "      <th>track</th>\n",
       "      <td>ONEPOINTFIVE</td>\n",
       "      <td>Aminé</td>\n",
       "      <td>CHINGY</td>\n",
       "      <td>spotify:track:5KpUzmHFirESqWjCrXnmWS</td>\n",
       "      <td>NaN</td>\n",
       "    </tr>\n",
       "    <tr>\n",
       "      <th>track</th>\n",
       "      <td>Kamikaze</td>\n",
       "      <td>Eminem</td>\n",
       "      <td>Lucky You (feat. Joyner Lucas)</td>\n",
       "      <td>spotify:track:60SdxE8apGAxMiRrpbmLY0</td>\n",
       "      <td>NaN</td>\n",
       "    </tr>\n",
       "    <tr>\n",
       "      <th>track</th>\n",
       "      <td>Kamikaze</td>\n",
       "      <td>Eminem</td>\n",
       "      <td>The Ringer</td>\n",
       "      <td>spotify:track:2jt2WxXMCD4zjACthkJQVE</td>\n",
       "      <td>NaN</td>\n",
       "    </tr>\n",
       "    <tr>\n",
       "      <th>...</th>\n",
       "      <td>...</td>\n",
       "      <td>...</td>\n",
       "      <td>...</td>\n",
       "      <td>...</td>\n",
       "      <td>...</td>\n",
       "    </tr>\n",
       "    <tr>\n",
       "      <th>track</th>\n",
       "      <td>An Evening With Silk Sonic</td>\n",
       "      <td>Bruno Mars</td>\n",
       "      <td>Skate</td>\n",
       "      <td>spotify:track:7jvCeWOSnJs2N3spqobWnO</td>\n",
       "      <td>NaN</td>\n",
       "    </tr>\n",
       "    <tr>\n",
       "      <th>track</th>\n",
       "      <td>Tints (feat. Kendrick Lamar)</td>\n",
       "      <td>Anderson .Paak</td>\n",
       "      <td>Tints (feat. Kendrick Lamar)</td>\n",
       "      <td>spotify:track:1gnwGVoG7V08vMX3hyr90x</td>\n",
       "      <td>NaN</td>\n",
       "    </tr>\n",
       "    <tr>\n",
       "      <th>track</th>\n",
       "      <td>Anything You Want</td>\n",
       "      <td>JAWNY</td>\n",
       "      <td>Anything You Want</td>\n",
       "      <td>spotify:track:78LMazmfqncADjyJVae8dN</td>\n",
       "      <td>NaN</td>\n",
       "    </tr>\n",
       "    <tr>\n",
       "      <th>track</th>\n",
       "      <td>The Whispers: Greatest Hits</td>\n",
       "      <td>The Whispers</td>\n",
       "      <td>And the Beat Goes On</td>\n",
       "      <td>spotify:track:7oQ1wkBmYSBEC2x7U08dvn</td>\n",
       "      <td>NaN</td>\n",
       "    </tr>\n",
       "    <tr>\n",
       "      <th>track</th>\n",
       "      <td>Give Me the Night</td>\n",
       "      <td>George Benson</td>\n",
       "      <td>Give Me the Night</td>\n",
       "      <td>spotify:track:5gaUkg5JNk8c4mr2jnpX8H</td>\n",
       "      <td>NaN</td>\n",
       "    </tr>\n",
       "  </tbody>\n",
       "</table>\n",
       "<p>6406 rows × 5 columns</p>\n",
       "</div>"
      ],
      "text/plain": [
       "                          albumName      artistName  \\\n",
       "track                    ASTROWORLD    Travis Scott   \n",
       "track                  ONEPOINTFIVE           Aminé   \n",
       "track                  ONEPOINTFIVE           Aminé   \n",
       "track                      Kamikaze          Eminem   \n",
       "track                      Kamikaze          Eminem   \n",
       "...                             ...             ...   \n",
       "track    An Evening With Silk Sonic      Bruno Mars   \n",
       "track  Tints (feat. Kendrick Lamar)  Anderson .Paak   \n",
       "track             Anything You Want           JAWNY   \n",
       "track   The Whispers: Greatest Hits    The Whispers   \n",
       "track             Give Me the Night   George Benson   \n",
       "\n",
       "                            trackName                              trackUri  \\\n",
       "track                        YOSEMITE  spotify:track:7lAK3oHbfEnvUQWosrMMpR   \n",
       "track             RATCHET SATURN GIRL  spotify:track:2q4F6OpQgx9umNB9uGFPYo   \n",
       "track                          CHINGY  spotify:track:5KpUzmHFirESqWjCrXnmWS   \n",
       "track  Lucky You (feat. Joyner Lucas)  spotify:track:60SdxE8apGAxMiRrpbmLY0   \n",
       "track                      The Ringer  spotify:track:2jt2WxXMCD4zjACthkJQVE   \n",
       "...                               ...                                   ...   \n",
       "track                           Skate  spotify:track:7jvCeWOSnJs2N3spqobWnO   \n",
       "track    Tints (feat. Kendrick Lamar)  spotify:track:1gnwGVoG7V08vMX3hyr90x   \n",
       "track               Anything You Want  spotify:track:78LMazmfqncADjyJVae8dN   \n",
       "track            And the Beat Goes On  spotify:track:7oQ1wkBmYSBEC2x7U08dvn   \n",
       "track               Give Me the Night  spotify:track:5gaUkg5JNk8c4mr2jnpX8H   \n",
       "\n",
       "       uri  \n",
       "track  NaN  \n",
       "track  NaN  \n",
       "track  NaN  \n",
       "track  NaN  \n",
       "track  NaN  \n",
       "...    ...  \n",
       "track  NaN  \n",
       "track  NaN  \n",
       "track  NaN  \n",
       "track  NaN  \n",
       "track  NaN  \n",
       "\n",
       "[6406 rows x 5 columns]"
      ]
     },
     "execution_count": 73,
     "metadata": {},
     "output_type": "execute_result"
    }
   ],
   "source": [
    "# pd.DataFrame(np.reshape(total_df.T.values, (len(total_df), 4))).to_csv('test.csv')\n",
    "total_df.to_csv('Data/Songs_Listened_to.csv')\n",
    "total_df"
   ]
  },
  {
   "cell_type": "code",
   "execution_count": 39,
   "metadata": {},
   "outputs": [
    {
     "data": {
      "text/plain": [
       "3294"
      ]
     },
     "execution_count": 39,
     "metadata": {},
     "output_type": "execute_result"
    }
   ],
   "source": [
    "len(total_df['trackName'].unique())"
   ]
  },
  {
   "cell_type": "code",
   "execution_count": 66,
   "metadata": {},
   "outputs": [
    {
     "data": {
      "text/plain": [
       "25495"
      ]
     },
     "execution_count": 66,
     "metadata": {},
     "output_type": "execute_result"
    }
   ],
   "source": [
    "len(total_df)"
   ]
  },
  {
   "cell_type": "code",
   "execution_count": 47,
   "metadata": {},
   "outputs": [],
   "source": [
    "df.to_csv('Data/plays.csv')"
   ]
  },
  {
   "cell_type": "code",
   "execution_count": null,
   "metadata": {},
   "outputs": [],
   "source": []
  }
 ],
 "metadata": {
  "kernelspec": {
   "display_name": "base",
   "language": "python",
   "name": "python3"
  },
  "language_info": {
   "codemirror_mode": {
    "name": "ipython",
    "version": 3
   },
   "file_extension": ".py",
   "mimetype": "text/x-python",
   "name": "python",
   "nbconvert_exporter": "python",
   "pygments_lexer": "ipython3",
   "version": "3.9.12"
  },
  "orig_nbformat": 4,
  "vscode": {
   "interpreter": {
    "hash": "33a11755222a1f7d86ea2cf2f4dfdec365d04f7453605f968c7500575cda950b"
   }
  }
 },
 "nbformat": 4,
 "nbformat_minor": 2
}
