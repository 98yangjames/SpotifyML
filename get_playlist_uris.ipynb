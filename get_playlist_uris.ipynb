{
 "cells": [
  {
   "cell_type": "code",
   "execution_count": 1,
   "metadata": {},
   "outputs": [],
   "source": [
    "import pandas as pd\n",
    "from spotipy.oauth2 import SpotifyClientCredentials\n",
    "import spotipy"
   ]
  },
  {
   "cell_type": "code",
   "execution_count": 2,
   "metadata": {},
   "outputs": [],
   "source": [
    "cid = '7cda6c1856a24d109ba5521fd35fd5a3'\n",
    "secret = 'ac6d7cd270aa48cab17e179262d78031'\n",
    "\n",
    "client_credentials_manager = SpotifyClientCredentials(client_id=cid, client_secret=secret)\n",
    "sp = spotipy.Spotify(client_credentials_manager = client_credentials_manager)"
   ]
  },
  {
   "cell_type": "code",
   "execution_count": 3,
   "metadata": {},
   "outputs": [],
   "source": [
    "playlist_dict = sp.playlist('https://open.spotify.com/playlist/2F8cd6CDC9HmnB0kC31TNL?si=7d9b6344d86644eb')"
   ]
  },
  {
   "cell_type": "code",
   "execution_count": 4,
   "metadata": {},
   "outputs": [],
   "source": [
    "# Get playlist Uris\n",
    "playlist_uris = []\n",
    "trackNames = []\n",
    "df = pd.DataFrame()\n",
    "for i in range(len(playlist_dict)):\n",
    "    playlist_uris.append(playlist_dict['tracks']['items'][i]['track']['uri'])\n",
    "    trackNames.append(playlist_dict['tracks']['items'][i]['track']['name'])\n",
    "\n",
    "df['trackName'] = trackNames\n",
    "df['uri'] = playlist_uris"
   ]
  },
  {
   "cell_type": "code",
   "execution_count": 5,
   "metadata": {},
   "outputs": [],
   "source": [
    "df.to_csv('Data/Playlist_Data/playlist.csv')"
   ]
  },
  {
   "cell_type": "code",
   "execution_count": null,
   "metadata": {},
   "outputs": [],
   "source": []
  }
 ],
 "metadata": {
  "kernelspec": {
   "display_name": "Python 3",
   "language": "python",
   "name": "python3"
  },
  "language_info": {
   "codemirror_mode": {
    "name": "ipython",
    "version": 3
   },
   "file_extension": ".py",
   "mimetype": "text/x-python",
   "name": "python",
   "nbconvert_exporter": "python",
   "pygments_lexer": "ipython3",
   "version": "3.10.9"
  },
  "orig_nbformat": 4,
  "vscode": {
   "interpreter": {
    "hash": "a5a3c20dd14690a1a44dfb81e75df91fd6280261442decb18661f86a16b5adb9"
   }
  }
 },
 "nbformat": 4,
 "nbformat_minor": 2
}
