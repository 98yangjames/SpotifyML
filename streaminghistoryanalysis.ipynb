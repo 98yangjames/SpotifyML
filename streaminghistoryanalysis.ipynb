{
 "cells": [
  {
   "cell_type": "code",
   "execution_count": 1,
   "metadata": {},
   "outputs": [],
   "source": [
    "import pandas as pd"
   ]
  },
  {
   "cell_type": "code",
   "execution_count": 2,
   "metadata": {},
   "outputs": [],
   "source": [
    "df = pd.read_csv('Data/Listening_Data/seasons.csv')"
   ]
  },
  {
   "cell_type": "code",
   "execution_count": 3,
   "metadata": {},
   "outputs": [
    {
     "name": "stderr",
     "output_type": "stream",
     "text": [
      "C:\\Users\\yangj\\AppData\\Local\\Temp\\ipykernel_14216\\570484009.py:1: FutureWarning: The default value of numeric_only in DataFrameGroupBy.sum is deprecated. In a future version, numeric_only will default to False. Either specify numeric_only or select only columns which should be valid for the function.\n",
      "  t = df.groupby(['month', 'year', 'Season']).sum().sort_values('Season')\n"
     ]
    }
   ],
   "source": [
    "t = df.groupby(['month', 'year', 'Season']).sum().sort_values('Season')\n",
    "t['hoursPlayed'] = t['msPlayed'] / 3600000"
   ]
  },
  {
   "cell_type": "code",
   "execution_count": 4,
   "metadata": {},
   "outputs": [
    {
     "data": {
      "text/plain": [
       "month  year  Season\n",
       "1      2022  1         28.377413\n",
       "       2023  1         34.448866\n",
       "2      2021  1          0.000481\n",
       "       2022  1         73.164574\n",
       "12     2022  1         51.708278\n",
       "3      2022  2         82.585544\n",
       "4      2022  2         65.103917\n",
       "5      2022  2         88.664762\n",
       "6      2022  3         57.668470\n",
       "7      2022  3         64.025068\n",
       "8      2022  3         43.151900\n",
       "9      2022  4         46.002048\n",
       "10     2022  4         44.005821\n",
       "11     2022  4         59.733466\n",
       "Name: hoursPlayed, dtype: float64"
      ]
     },
     "execution_count": 4,
     "metadata": {},
     "output_type": "execute_result"
    }
   ],
   "source": [
    "t['hoursPlayed'] "
   ]
  },
  {
   "cell_type": "code",
   "execution_count": null,
   "metadata": {},
   "outputs": [],
   "source": []
  }
 ],
 "metadata": {
  "kernelspec": {
   "display_name": "base",
   "language": "python",
   "name": "python3"
  },
  "language_info": {
   "codemirror_mode": {
    "name": "ipython",
    "version": 3
   },
   "file_extension": ".py",
   "mimetype": "text/x-python",
   "name": "python",
   "nbconvert_exporter": "python",
   "pygments_lexer": "ipython3",
   "version": "3.9.12 (main, Apr  5 2022, 01:53:17) \n[Clang 12.0.0 ]"
  },
  "orig_nbformat": 4,
  "vscode": {
   "interpreter": {
    "hash": "33a11755222a1f7d86ea2cf2f4dfdec365d04f7453605f968c7500575cda950b"
   }
  }
 },
 "nbformat": 4,
 "nbformat_minor": 2
}
