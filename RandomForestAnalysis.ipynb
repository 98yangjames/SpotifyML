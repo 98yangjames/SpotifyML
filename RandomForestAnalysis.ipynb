{
 "cells": [
  {
   "cell_type": "code",
   "execution_count": 1,
   "metadata": {},
   "outputs": [],
   "source": [
    "import pandas as pd"
   ]
  },
  {
   "cell_type": "code",
   "execution_count": 4,
   "metadata": {},
   "outputs": [],
   "source": [
    "s1 = pd.read_csv('Data/Playlist_Data/Season1.csv').drop('Unnamed: 0', axis=1)\n",
    "s2 = pd.read_csv('Data/Playlist_Data/Season2.csv').drop('Unnamed: 0', axis=1)\n",
    "s3 = pd.read_csv('Data/Playlist_Data/Season3.csv').drop('Unnamed: 0', axis=1)\n",
    "s4 = pd.read_csv('Data/Playlist_Data/Season4.csv').drop('Unnamed: 0', axis=1)"
   ]
  },
  {
   "cell_type": "code",
   "execution_count": 30,
   "metadata": {},
   "outputs": [
    {
     "name": "stderr",
     "output_type": "stream",
     "text": [
      "/var/folders/h4/6452mjq15618sb_49rqm1mkw0000gn/T/ipykernel_77253/2248350563.py:6: FutureWarning:\n",
      "\n",
      "The frame.append method is deprecated and will be removed from pandas in a future version. Use pandas.concat instead.\n",
      "\n",
      "/var/folders/h4/6452mjq15618sb_49rqm1mkw0000gn/T/ipykernel_77253/2248350563.py:7: FutureWarning:\n",
      "\n",
      "The frame.append method is deprecated and will be removed from pandas in a future version. Use pandas.concat instead.\n",
      "\n",
      "/var/folders/h4/6452mjq15618sb_49rqm1mkw0000gn/T/ipykernel_77253/2248350563.py:8: FutureWarning:\n",
      "\n",
      "The frame.append method is deprecated and will be removed from pandas in a future version. Use pandas.concat instead.\n",
      "\n"
     ]
    }
   ],
   "source": [
    "s1['Season'] = 1\n",
    "s2['Season'] = 2\n",
    "s3['Season'] = 3\n",
    "s4['Season'] = 4\n",
    "\n",
    "s1 = s1.append(s2)\n",
    "s1 = s1.append(s3)\n",
    "s1 = s1.append(s4)"
   ]
  },
  {
   "cell_type": "code",
   "execution_count": 43,
   "metadata": {},
   "outputs": [
    {
     "data": {
      "text/html": [
       "<div>\n",
       "<style scoped>\n",
       "    .dataframe tbody tr th:only-of-type {\n",
       "        vertical-align: middle;\n",
       "    }\n",
       "\n",
       "    .dataframe tbody tr th {\n",
       "        vertical-align: top;\n",
       "    }\n",
       "\n",
       "    .dataframe thead th {\n",
       "        text-align: right;\n",
       "    }\n",
       "</style>\n",
       "<table border=\"1\" class=\"dataframe\">\n",
       "  <thead>\n",
       "    <tr style=\"text-align: right;\">\n",
       "      <th></th>\n",
       "      <th>Count</th>\n",
       "      <th>trackName</th>\n",
       "      <th>color</th>\n",
       "      <th>Season</th>\n",
       "      <th>normalized_count</th>\n",
       "    </tr>\n",
       "  </thead>\n",
       "  <tbody>\n",
       "    <tr>\n",
       "      <th>0</th>\n",
       "      <td>8.150000</td>\n",
       "      <td>Good Days</td>\n",
       "      <td>pred</td>\n",
       "      <td>1</td>\n",
       "      <td>0.104487</td>\n",
       "    </tr>\n",
       "    <tr>\n",
       "      <th>1</th>\n",
       "      <td>6.664000</td>\n",
       "      <td>Dark Red</td>\n",
       "      <td>pred</td>\n",
       "      <td>1</td>\n",
       "      <td>0.085436</td>\n",
       "    </tr>\n",
       "    <tr>\n",
       "      <th>2</th>\n",
       "      <td>4.310000</td>\n",
       "      <td>Lost</td>\n",
       "      <td>pred</td>\n",
       "      <td>1</td>\n",
       "      <td>0.055256</td>\n",
       "    </tr>\n",
       "    <tr>\n",
       "      <th>3</th>\n",
       "      <td>10.931000</td>\n",
       "      <td>Funny Thing</td>\n",
       "      <td>pred</td>\n",
       "      <td>1</td>\n",
       "      <td>0.140141</td>\n",
       "    </tr>\n",
       "    <tr>\n",
       "      <th>4</th>\n",
       "      <td>5.450000</td>\n",
       "      <td>I Hate U</td>\n",
       "      <td>pred</td>\n",
       "      <td>1</td>\n",
       "      <td>0.069872</td>\n",
       "    </tr>\n",
       "    <tr>\n",
       "      <th>5</th>\n",
       "      <td>4.043000</td>\n",
       "      <td>Pink + White</td>\n",
       "      <td>pred</td>\n",
       "      <td>1</td>\n",
       "      <td>0.051833</td>\n",
       "    </tr>\n",
       "    <tr>\n",
       "      <th>6</th>\n",
       "      <td>5.533000</td>\n",
       "      <td>Love Is Only a Feeling</td>\n",
       "      <td>pred</td>\n",
       "      <td>1</td>\n",
       "      <td>0.070936</td>\n",
       "    </tr>\n",
       "    <tr>\n",
       "      <th>7</th>\n",
       "      <td>3.505000</td>\n",
       "      <td>Ivy</td>\n",
       "      <td>pred</td>\n",
       "      <td>1</td>\n",
       "      <td>0.044936</td>\n",
       "    </tr>\n",
       "    <tr>\n",
       "      <th>8</th>\n",
       "      <td>2.935000</td>\n",
       "      <td>Sundress</td>\n",
       "      <td>pred</td>\n",
       "      <td>1</td>\n",
       "      <td>0.037628</td>\n",
       "    </tr>\n",
       "    <tr>\n",
       "      <th>9</th>\n",
       "      <td>5.415000</td>\n",
       "      <td>White Ferrari</td>\n",
       "      <td>pred</td>\n",
       "      <td>1</td>\n",
       "      <td>0.069423</td>\n",
       "    </tr>\n",
       "    <tr>\n",
       "      <th>10</th>\n",
       "      <td>3.382000</td>\n",
       "      <td>Dreams, Fairytales, Fantasies (feat. Brent Fai...</td>\n",
       "      <td>pred</td>\n",
       "      <td>1</td>\n",
       "      <td>0.043359</td>\n",
       "    </tr>\n",
       "    <tr>\n",
       "      <th>11</th>\n",
       "      <td>5.069000</td>\n",
       "      <td>Novacane</td>\n",
       "      <td>pred</td>\n",
       "      <td>1</td>\n",
       "      <td>0.064987</td>\n",
       "    </tr>\n",
       "    <tr>\n",
       "      <th>12</th>\n",
       "      <td>6.817000</td>\n",
       "      <td>Super Rich Kids</td>\n",
       "      <td>pred</td>\n",
       "      <td>1</td>\n",
       "      <td>0.087397</td>\n",
       "    </tr>\n",
       "    <tr>\n",
       "      <th>13</th>\n",
       "      <td>78.000000</td>\n",
       "      <td>Strawberry Skies</td>\n",
       "      <td>pred</td>\n",
       "      <td>1</td>\n",
       "      <td>1.000000</td>\n",
       "    </tr>\n",
       "    <tr>\n",
       "      <th>14</th>\n",
       "      <td>4.117000</td>\n",
       "      <td>DEVASTATED</td>\n",
       "      <td>pred</td>\n",
       "      <td>1</td>\n",
       "      <td>0.052782</td>\n",
       "    </tr>\n",
       "    <tr>\n",
       "      <th>0</th>\n",
       "      <td>8.207000</td>\n",
       "      <td>Good Days</td>\n",
       "      <td>pred</td>\n",
       "      <td>2</td>\n",
       "      <td>0.105218</td>\n",
       "    </tr>\n",
       "    <tr>\n",
       "      <th>1</th>\n",
       "      <td>6.659000</td>\n",
       "      <td>Dark Red</td>\n",
       "      <td>pred</td>\n",
       "      <td>2</td>\n",
       "      <td>0.085372</td>\n",
       "    </tr>\n",
       "    <tr>\n",
       "      <th>2</th>\n",
       "      <td>4.316000</td>\n",
       "      <td>Lost</td>\n",
       "      <td>pred</td>\n",
       "      <td>2</td>\n",
       "      <td>0.055333</td>\n",
       "    </tr>\n",
       "    <tr>\n",
       "      <th>3</th>\n",
       "      <td>10.934000</td>\n",
       "      <td>Funny Thing</td>\n",
       "      <td>pred</td>\n",
       "      <td>2</td>\n",
       "      <td>0.140179</td>\n",
       "    </tr>\n",
       "    <tr>\n",
       "      <th>4</th>\n",
       "      <td>5.461000</td>\n",
       "      <td>I Hate U</td>\n",
       "      <td>pred</td>\n",
       "      <td>2</td>\n",
       "      <td>0.070013</td>\n",
       "    </tr>\n",
       "    <tr>\n",
       "      <th>5</th>\n",
       "      <td>4.050000</td>\n",
       "      <td>Pink + White</td>\n",
       "      <td>pred</td>\n",
       "      <td>2</td>\n",
       "      <td>0.051923</td>\n",
       "    </tr>\n",
       "    <tr>\n",
       "      <th>6</th>\n",
       "      <td>5.519000</td>\n",
       "      <td>Love Is Only a Feeling</td>\n",
       "      <td>pred</td>\n",
       "      <td>2</td>\n",
       "      <td>0.070756</td>\n",
       "    </tr>\n",
       "    <tr>\n",
       "      <th>7</th>\n",
       "      <td>3.507000</td>\n",
       "      <td>Ivy</td>\n",
       "      <td>pred</td>\n",
       "      <td>2</td>\n",
       "      <td>0.044962</td>\n",
       "    </tr>\n",
       "    <tr>\n",
       "      <th>8</th>\n",
       "      <td>2.894000</td>\n",
       "      <td>Sundress</td>\n",
       "      <td>pred</td>\n",
       "      <td>2</td>\n",
       "      <td>0.037103</td>\n",
       "    </tr>\n",
       "    <tr>\n",
       "      <th>9</th>\n",
       "      <td>5.404000</td>\n",
       "      <td>White Ferrari</td>\n",
       "      <td>pred</td>\n",
       "      <td>2</td>\n",
       "      <td>0.069282</td>\n",
       "    </tr>\n",
       "    <tr>\n",
       "      <th>10</th>\n",
       "      <td>3.359000</td>\n",
       "      <td>Dreams, Fairytales, Fantasies (feat. Brent Fai...</td>\n",
       "      <td>pred</td>\n",
       "      <td>2</td>\n",
       "      <td>0.043064</td>\n",
       "    </tr>\n",
       "    <tr>\n",
       "      <th>11</th>\n",
       "      <td>5.055000</td>\n",
       "      <td>Novacane</td>\n",
       "      <td>pred</td>\n",
       "      <td>2</td>\n",
       "      <td>0.064808</td>\n",
       "    </tr>\n",
       "    <tr>\n",
       "      <th>12</th>\n",
       "      <td>6.941143</td>\n",
       "      <td>Super Rich Kids</td>\n",
       "      <td>pred</td>\n",
       "      <td>2</td>\n",
       "      <td>0.088989</td>\n",
       "    </tr>\n",
       "    <tr>\n",
       "      <th>13</th>\n",
       "      <td>78.000000</td>\n",
       "      <td>Strawberry Skies</td>\n",
       "      <td>pred</td>\n",
       "      <td>2</td>\n",
       "      <td>1.000000</td>\n",
       "    </tr>\n",
       "    <tr>\n",
       "      <th>14</th>\n",
       "      <td>4.123000</td>\n",
       "      <td>DEVASTATED</td>\n",
       "      <td>pred</td>\n",
       "      <td>2</td>\n",
       "      <td>0.052859</td>\n",
       "    </tr>\n",
       "    <tr>\n",
       "      <th>0</th>\n",
       "      <td>8.244000</td>\n",
       "      <td>Good Days</td>\n",
       "      <td>pred</td>\n",
       "      <td>3</td>\n",
       "      <td>0.105692</td>\n",
       "    </tr>\n",
       "    <tr>\n",
       "      <th>1</th>\n",
       "      <td>6.659000</td>\n",
       "      <td>Dark Red</td>\n",
       "      <td>pred</td>\n",
       "      <td>3</td>\n",
       "      <td>0.085372</td>\n",
       "    </tr>\n",
       "    <tr>\n",
       "      <th>2</th>\n",
       "      <td>4.302000</td>\n",
       "      <td>Lost</td>\n",
       "      <td>pred</td>\n",
       "      <td>3</td>\n",
       "      <td>0.055154</td>\n",
       "    </tr>\n",
       "    <tr>\n",
       "      <th>3</th>\n",
       "      <td>10.931000</td>\n",
       "      <td>Funny Thing</td>\n",
       "      <td>pred</td>\n",
       "      <td>3</td>\n",
       "      <td>0.140141</td>\n",
       "    </tr>\n",
       "    <tr>\n",
       "      <th>4</th>\n",
       "      <td>5.510000</td>\n",
       "      <td>I Hate U</td>\n",
       "      <td>pred</td>\n",
       "      <td>3</td>\n",
       "      <td>0.070641</td>\n",
       "    </tr>\n",
       "    <tr>\n",
       "      <th>5</th>\n",
       "      <td>4.046000</td>\n",
       "      <td>Pink + White</td>\n",
       "      <td>pred</td>\n",
       "      <td>3</td>\n",
       "      <td>0.051872</td>\n",
       "    </tr>\n",
       "    <tr>\n",
       "      <th>6</th>\n",
       "      <td>5.610000</td>\n",
       "      <td>Love Is Only a Feeling</td>\n",
       "      <td>pred</td>\n",
       "      <td>3</td>\n",
       "      <td>0.071923</td>\n",
       "    </tr>\n",
       "    <tr>\n",
       "      <th>7</th>\n",
       "      <td>3.546000</td>\n",
       "      <td>Ivy</td>\n",
       "      <td>pred</td>\n",
       "      <td>3</td>\n",
       "      <td>0.045462</td>\n",
       "    </tr>\n",
       "    <tr>\n",
       "      <th>8</th>\n",
       "      <td>2.919000</td>\n",
       "      <td>Sundress</td>\n",
       "      <td>pred</td>\n",
       "      <td>3</td>\n",
       "      <td>0.037423</td>\n",
       "    </tr>\n",
       "    <tr>\n",
       "      <th>9</th>\n",
       "      <td>5.404000</td>\n",
       "      <td>White Ferrari</td>\n",
       "      <td>pred</td>\n",
       "      <td>3</td>\n",
       "      <td>0.069282</td>\n",
       "    </tr>\n",
       "    <tr>\n",
       "      <th>10</th>\n",
       "      <td>3.385000</td>\n",
       "      <td>Dreams, Fairytales, Fantasies (feat. Brent Fai...</td>\n",
       "      <td>pred</td>\n",
       "      <td>3</td>\n",
       "      <td>0.043397</td>\n",
       "    </tr>\n",
       "    <tr>\n",
       "      <th>11</th>\n",
       "      <td>5.054000</td>\n",
       "      <td>Novacane</td>\n",
       "      <td>pred</td>\n",
       "      <td>3</td>\n",
       "      <td>0.064795</td>\n",
       "    </tr>\n",
       "    <tr>\n",
       "      <th>12</th>\n",
       "      <td>6.828000</td>\n",
       "      <td>Super Rich Kids</td>\n",
       "      <td>pred</td>\n",
       "      <td>3</td>\n",
       "      <td>0.087538</td>\n",
       "    </tr>\n",
       "    <tr>\n",
       "      <th>13</th>\n",
       "      <td>78.000000</td>\n",
       "      <td>Strawberry Skies</td>\n",
       "      <td>pred</td>\n",
       "      <td>3</td>\n",
       "      <td>1.000000</td>\n",
       "    </tr>\n",
       "    <tr>\n",
       "      <th>14</th>\n",
       "      <td>4.131000</td>\n",
       "      <td>DEVASTATED</td>\n",
       "      <td>pred</td>\n",
       "      <td>3</td>\n",
       "      <td>0.052962</td>\n",
       "    </tr>\n",
       "    <tr>\n",
       "      <th>0</th>\n",
       "      <td>8.211000</td>\n",
       "      <td>Good Days</td>\n",
       "      <td>pred</td>\n",
       "      <td>4</td>\n",
       "      <td>0.105269</td>\n",
       "    </tr>\n",
       "    <tr>\n",
       "      <th>1</th>\n",
       "      <td>6.659000</td>\n",
       "      <td>Dark Red</td>\n",
       "      <td>pred</td>\n",
       "      <td>4</td>\n",
       "      <td>0.085372</td>\n",
       "    </tr>\n",
       "    <tr>\n",
       "      <th>2</th>\n",
       "      <td>4.327000</td>\n",
       "      <td>Lost</td>\n",
       "      <td>pred</td>\n",
       "      <td>4</td>\n",
       "      <td>0.055474</td>\n",
       "    </tr>\n",
       "    <tr>\n",
       "      <th>3</th>\n",
       "      <td>10.923000</td>\n",
       "      <td>Funny Thing</td>\n",
       "      <td>pred</td>\n",
       "      <td>4</td>\n",
       "      <td>0.140038</td>\n",
       "    </tr>\n",
       "    <tr>\n",
       "      <th>4</th>\n",
       "      <td>5.473000</td>\n",
       "      <td>I Hate U</td>\n",
       "      <td>pred</td>\n",
       "      <td>4</td>\n",
       "      <td>0.070167</td>\n",
       "    </tr>\n",
       "    <tr>\n",
       "      <th>5</th>\n",
       "      <td>4.050000</td>\n",
       "      <td>Pink + White</td>\n",
       "      <td>pred</td>\n",
       "      <td>4</td>\n",
       "      <td>0.051923</td>\n",
       "    </tr>\n",
       "    <tr>\n",
       "      <th>6</th>\n",
       "      <td>5.546000</td>\n",
       "      <td>Love Is Only a Feeling</td>\n",
       "      <td>pred</td>\n",
       "      <td>4</td>\n",
       "      <td>0.071103</td>\n",
       "    </tr>\n",
       "    <tr>\n",
       "      <th>7</th>\n",
       "      <td>3.519000</td>\n",
       "      <td>Ivy</td>\n",
       "      <td>pred</td>\n",
       "      <td>4</td>\n",
       "      <td>0.045115</td>\n",
       "    </tr>\n",
       "    <tr>\n",
       "      <th>8</th>\n",
       "      <td>3.170000</td>\n",
       "      <td>Sundress</td>\n",
       "      <td>pred</td>\n",
       "      <td>4</td>\n",
       "      <td>0.040641</td>\n",
       "    </tr>\n",
       "    <tr>\n",
       "      <th>9</th>\n",
       "      <td>5.372000</td>\n",
       "      <td>White Ferrari</td>\n",
       "      <td>pred</td>\n",
       "      <td>4</td>\n",
       "      <td>0.068872</td>\n",
       "    </tr>\n",
       "    <tr>\n",
       "      <th>10</th>\n",
       "      <td>4.277000</td>\n",
       "      <td>Dreams, Fairytales, Fantasies (feat. Brent Fai...</td>\n",
       "      <td>pred</td>\n",
       "      <td>4</td>\n",
       "      <td>0.054833</td>\n",
       "    </tr>\n",
       "    <tr>\n",
       "      <th>11</th>\n",
       "      <td>6.422000</td>\n",
       "      <td>Novacane</td>\n",
       "      <td>pred</td>\n",
       "      <td>4</td>\n",
       "      <td>0.082333</td>\n",
       "    </tr>\n",
       "    <tr>\n",
       "      <th>12</th>\n",
       "      <td>6.912000</td>\n",
       "      <td>Super Rich Kids</td>\n",
       "      <td>pred</td>\n",
       "      <td>4</td>\n",
       "      <td>0.088615</td>\n",
       "    </tr>\n",
       "    <tr>\n",
       "      <th>13</th>\n",
       "      <td>78.000000</td>\n",
       "      <td>Strawberry Skies</td>\n",
       "      <td>pred</td>\n",
       "      <td>4</td>\n",
       "      <td>1.000000</td>\n",
       "    </tr>\n",
       "    <tr>\n",
       "      <th>14</th>\n",
       "      <td>4.697000</td>\n",
       "      <td>DEVASTATED</td>\n",
       "      <td>pred</td>\n",
       "      <td>4</td>\n",
       "      <td>0.060218</td>\n",
       "    </tr>\n",
       "  </tbody>\n",
       "</table>\n",
       "</div>"
      ],
      "text/plain": [
       "        Count                                          trackName color  \\\n",
       "0    8.150000                                          Good Days  pred   \n",
       "1    6.664000                                           Dark Red  pred   \n",
       "2    4.310000                                               Lost  pred   \n",
       "3   10.931000                                        Funny Thing  pred   \n",
       "4    5.450000                                           I Hate U  pred   \n",
       "5    4.043000                                       Pink + White  pred   \n",
       "6    5.533000                             Love Is Only a Feeling  pred   \n",
       "7    3.505000                                                Ivy  pred   \n",
       "8    2.935000                                           Sundress  pred   \n",
       "9    5.415000                                      White Ferrari  pred   \n",
       "10   3.382000  Dreams, Fairytales, Fantasies (feat. Brent Fai...  pred   \n",
       "11   5.069000                                           Novacane  pred   \n",
       "12   6.817000                                    Super Rich Kids  pred   \n",
       "13  78.000000                                   Strawberry Skies  pred   \n",
       "14   4.117000                                         DEVASTATED  pred   \n",
       "0    8.207000                                          Good Days  pred   \n",
       "1    6.659000                                           Dark Red  pred   \n",
       "2    4.316000                                               Lost  pred   \n",
       "3   10.934000                                        Funny Thing  pred   \n",
       "4    5.461000                                           I Hate U  pred   \n",
       "5    4.050000                                       Pink + White  pred   \n",
       "6    5.519000                             Love Is Only a Feeling  pred   \n",
       "7    3.507000                                                Ivy  pred   \n",
       "8    2.894000                                           Sundress  pred   \n",
       "9    5.404000                                      White Ferrari  pred   \n",
       "10   3.359000  Dreams, Fairytales, Fantasies (feat. Brent Fai...  pred   \n",
       "11   5.055000                                           Novacane  pred   \n",
       "12   6.941143                                    Super Rich Kids  pred   \n",
       "13  78.000000                                   Strawberry Skies  pred   \n",
       "14   4.123000                                         DEVASTATED  pred   \n",
       "0    8.244000                                          Good Days  pred   \n",
       "1    6.659000                                           Dark Red  pred   \n",
       "2    4.302000                                               Lost  pred   \n",
       "3   10.931000                                        Funny Thing  pred   \n",
       "4    5.510000                                           I Hate U  pred   \n",
       "5    4.046000                                       Pink + White  pred   \n",
       "6    5.610000                             Love Is Only a Feeling  pred   \n",
       "7    3.546000                                                Ivy  pred   \n",
       "8    2.919000                                           Sundress  pred   \n",
       "9    5.404000                                      White Ferrari  pred   \n",
       "10   3.385000  Dreams, Fairytales, Fantasies (feat. Brent Fai...  pred   \n",
       "11   5.054000                                           Novacane  pred   \n",
       "12   6.828000                                    Super Rich Kids  pred   \n",
       "13  78.000000                                   Strawberry Skies  pred   \n",
       "14   4.131000                                         DEVASTATED  pred   \n",
       "0    8.211000                                          Good Days  pred   \n",
       "1    6.659000                                           Dark Red  pred   \n",
       "2    4.327000                                               Lost  pred   \n",
       "3   10.923000                                        Funny Thing  pred   \n",
       "4    5.473000                                           I Hate U  pred   \n",
       "5    4.050000                                       Pink + White  pred   \n",
       "6    5.546000                             Love Is Only a Feeling  pred   \n",
       "7    3.519000                                                Ivy  pred   \n",
       "8    3.170000                                           Sundress  pred   \n",
       "9    5.372000                                      White Ferrari  pred   \n",
       "10   4.277000  Dreams, Fairytales, Fantasies (feat. Brent Fai...  pred   \n",
       "11   6.422000                                           Novacane  pred   \n",
       "12   6.912000                                    Super Rich Kids  pred   \n",
       "13  78.000000                                   Strawberry Skies  pred   \n",
       "14   4.697000                                         DEVASTATED  pred   \n",
       "\n",
       "    Season  normalized_count  \n",
       "0        1          0.104487  \n",
       "1        1          0.085436  \n",
       "2        1          0.055256  \n",
       "3        1          0.140141  \n",
       "4        1          0.069872  \n",
       "5        1          0.051833  \n",
       "6        1          0.070936  \n",
       "7        1          0.044936  \n",
       "8        1          0.037628  \n",
       "9        1          0.069423  \n",
       "10       1          0.043359  \n",
       "11       1          0.064987  \n",
       "12       1          0.087397  \n",
       "13       1          1.000000  \n",
       "14       1          0.052782  \n",
       "0        2          0.105218  \n",
       "1        2          0.085372  \n",
       "2        2          0.055333  \n",
       "3        2          0.140179  \n",
       "4        2          0.070013  \n",
       "5        2          0.051923  \n",
       "6        2          0.070756  \n",
       "7        2          0.044962  \n",
       "8        2          0.037103  \n",
       "9        2          0.069282  \n",
       "10       2          0.043064  \n",
       "11       2          0.064808  \n",
       "12       2          0.088989  \n",
       "13       2          1.000000  \n",
       "14       2          0.052859  \n",
       "0        3          0.105692  \n",
       "1        3          0.085372  \n",
       "2        3          0.055154  \n",
       "3        3          0.140141  \n",
       "4        3          0.070641  \n",
       "5        3          0.051872  \n",
       "6        3          0.071923  \n",
       "7        3          0.045462  \n",
       "8        3          0.037423  \n",
       "9        3          0.069282  \n",
       "10       3          0.043397  \n",
       "11       3          0.064795  \n",
       "12       3          0.087538  \n",
       "13       3          1.000000  \n",
       "14       3          0.052962  \n",
       "0        4          0.105269  \n",
       "1        4          0.085372  \n",
       "2        4          0.055474  \n",
       "3        4          0.140038  \n",
       "4        4          0.070167  \n",
       "5        4          0.051923  \n",
       "6        4          0.071103  \n",
       "7        4          0.045115  \n",
       "8        4          0.040641  \n",
       "9        4          0.068872  \n",
       "10       4          0.054833  \n",
       "11       4          0.082333  \n",
       "12       4          0.088615  \n",
       "13       4          1.000000  \n",
       "14       4          0.060218  "
      ]
     },
     "execution_count": 43,
     "metadata": {},
     "output_type": "execute_result"
    }
   ],
   "source": [
    "s1"
   ]
  },
  {
   "cell_type": "code",
   "execution_count": 46,
   "metadata": {},
   "outputs": [
    {
     "data": {
      "application/vnd.plotly.v1+json": {
       "config": {
        "plotlyServerURL": "https://plot.ly"
       },
       "data": [
        {
         "hovertemplate": "Season=1<br>trackName=%{x}<br>Count=%{y}<extra></extra>",
         "legendgroup": "1",
         "line": {
          "color": "#636efa",
          "dash": "solid"
         },
         "marker": {
          "symbol": "circle"
         },
         "mode": "lines",
         "name": "1",
         "orientation": "v",
         "showlegend": true,
         "type": "scatter",
         "x": [
          "Good Days",
          "Dark Red",
          "Lost",
          "Funny Thing",
          "I Hate U",
          "Pink + White",
          "Love Is Only a Feeling",
          "Ivy",
          "Sundress",
          "White Ferrari",
          "Dreams, Fairytales, Fantasies (feat. Brent Faiyaz & Salaam Remi)",
          "Novacane",
          "Super Rich Kids",
          "Strawberry Skies",
          "DEVASTATED"
         ],
         "xaxis": "x",
         "y": [
          8.15,
          6.664,
          4.31,
          10.931,
          5.45,
          4.043,
          5.533,
          3.505,
          2.935,
          5.415,
          3.382,
          5.069,
          6.817,
          78,
          4.117
         ],
         "yaxis": "y"
        },
        {
         "hovertemplate": "Season=2<br>trackName=%{x}<br>Count=%{y}<extra></extra>",
         "legendgroup": "2",
         "line": {
          "color": "#EF553B",
          "dash": "solid"
         },
         "marker": {
          "symbol": "circle"
         },
         "mode": "lines",
         "name": "2",
         "orientation": "v",
         "showlegend": true,
         "type": "scatter",
         "x": [
          "Good Days",
          "Dark Red",
          "Lost",
          "Funny Thing",
          "I Hate U",
          "Pink + White",
          "Love Is Only a Feeling",
          "Ivy",
          "Sundress",
          "White Ferrari",
          "Dreams, Fairytales, Fantasies (feat. Brent Faiyaz & Salaam Remi)",
          "Novacane",
          "Super Rich Kids",
          "Strawberry Skies",
          "DEVASTATED"
         ],
         "xaxis": "x",
         "y": [
          8.207,
          6.659,
          4.316,
          10.934,
          5.461,
          4.05,
          5.519,
          3.507,
          2.894,
          5.404,
          3.359,
          5.055,
          6.941142857142857,
          78,
          4.123
         ],
         "yaxis": "y"
        },
        {
         "hovertemplate": "Season=3<br>trackName=%{x}<br>Count=%{y}<extra></extra>",
         "legendgroup": "3",
         "line": {
          "color": "#00cc96",
          "dash": "solid"
         },
         "marker": {
          "symbol": "circle"
         },
         "mode": "lines",
         "name": "3",
         "orientation": "v",
         "showlegend": true,
         "type": "scatter",
         "x": [
          "Good Days",
          "Dark Red",
          "Lost",
          "Funny Thing",
          "I Hate U",
          "Pink + White",
          "Love Is Only a Feeling",
          "Ivy",
          "Sundress",
          "White Ferrari",
          "Dreams, Fairytales, Fantasies (feat. Brent Faiyaz & Salaam Remi)",
          "Novacane",
          "Super Rich Kids",
          "Strawberry Skies",
          "DEVASTATED"
         ],
         "xaxis": "x",
         "y": [
          8.244,
          6.659,
          4.302,
          10.931,
          5.51,
          4.046,
          5.61,
          3.546,
          2.919,
          5.404,
          3.385,
          5.054,
          6.828,
          78,
          4.131
         ],
         "yaxis": "y"
        },
        {
         "hovertemplate": "Season=4<br>trackName=%{x}<br>Count=%{y}<extra></extra>",
         "legendgroup": "4",
         "line": {
          "color": "#ab63fa",
          "dash": "solid"
         },
         "marker": {
          "symbol": "circle"
         },
         "mode": "lines",
         "name": "4",
         "orientation": "v",
         "showlegend": true,
         "type": "scatter",
         "x": [
          "Good Days",
          "Dark Red",
          "Lost",
          "Funny Thing",
          "I Hate U",
          "Pink + White",
          "Love Is Only a Feeling",
          "Ivy",
          "Sundress",
          "White Ferrari",
          "Dreams, Fairytales, Fantasies (feat. Brent Faiyaz & Salaam Remi)",
          "Novacane",
          "Super Rich Kids",
          "Strawberry Skies",
          "DEVASTATED"
         ],
         "xaxis": "x",
         "y": [
          8.211,
          6.659,
          4.327,
          10.923,
          5.473,
          4.05,
          5.546,
          3.519,
          3.17,
          5.372,
          4.277,
          6.422,
          6.912,
          78,
          4.697
         ],
         "yaxis": "y"
        }
       ],
       "layout": {
        "legend": {
         "title": {
          "text": "Season"
         },
         "tracegroupgap": 0
        },
        "margin": {
         "t": 60
        },
        "template": {
         "data": {
          "bar": [
           {
            "error_x": {
             "color": "#2a3f5f"
            },
            "error_y": {
             "color": "#2a3f5f"
            },
            "marker": {
             "line": {
              "color": "#E5ECF6",
              "width": 0.5
             },
             "pattern": {
              "fillmode": "overlay",
              "size": 10,
              "solidity": 0.2
             }
            },
            "type": "bar"
           }
          ],
          "barpolar": [
           {
            "marker": {
             "line": {
              "color": "#E5ECF6",
              "width": 0.5
             },
             "pattern": {
              "fillmode": "overlay",
              "size": 10,
              "solidity": 0.2
             }
            },
            "type": "barpolar"
           }
          ],
          "carpet": [
           {
            "aaxis": {
             "endlinecolor": "#2a3f5f",
             "gridcolor": "white",
             "linecolor": "white",
             "minorgridcolor": "white",
             "startlinecolor": "#2a3f5f"
            },
            "baxis": {
             "endlinecolor": "#2a3f5f",
             "gridcolor": "white",
             "linecolor": "white",
             "minorgridcolor": "white",
             "startlinecolor": "#2a3f5f"
            },
            "type": "carpet"
           }
          ],
          "choropleth": [
           {
            "colorbar": {
             "outlinewidth": 0,
             "ticks": ""
            },
            "type": "choropleth"
           }
          ],
          "contour": [
           {
            "colorbar": {
             "outlinewidth": 0,
             "ticks": ""
            },
            "colorscale": [
             [
              0,
              "#0d0887"
             ],
             [
              0.1111111111111111,
              "#46039f"
             ],
             [
              0.2222222222222222,
              "#7201a8"
             ],
             [
              0.3333333333333333,
              "#9c179e"
             ],
             [
              0.4444444444444444,
              "#bd3786"
             ],
             [
              0.5555555555555556,
              "#d8576b"
             ],
             [
              0.6666666666666666,
              "#ed7953"
             ],
             [
              0.7777777777777778,
              "#fb9f3a"
             ],
             [
              0.8888888888888888,
              "#fdca26"
             ],
             [
              1,
              "#f0f921"
             ]
            ],
            "type": "contour"
           }
          ],
          "contourcarpet": [
           {
            "colorbar": {
             "outlinewidth": 0,
             "ticks": ""
            },
            "type": "contourcarpet"
           }
          ],
          "heatmap": [
           {
            "colorbar": {
             "outlinewidth": 0,
             "ticks": ""
            },
            "colorscale": [
             [
              0,
              "#0d0887"
             ],
             [
              0.1111111111111111,
              "#46039f"
             ],
             [
              0.2222222222222222,
              "#7201a8"
             ],
             [
              0.3333333333333333,
              "#9c179e"
             ],
             [
              0.4444444444444444,
              "#bd3786"
             ],
             [
              0.5555555555555556,
              "#d8576b"
             ],
             [
              0.6666666666666666,
              "#ed7953"
             ],
             [
              0.7777777777777778,
              "#fb9f3a"
             ],
             [
              0.8888888888888888,
              "#fdca26"
             ],
             [
              1,
              "#f0f921"
             ]
            ],
            "type": "heatmap"
           }
          ],
          "heatmapgl": [
           {
            "colorbar": {
             "outlinewidth": 0,
             "ticks": ""
            },
            "colorscale": [
             [
              0,
              "#0d0887"
             ],
             [
              0.1111111111111111,
              "#46039f"
             ],
             [
              0.2222222222222222,
              "#7201a8"
             ],
             [
              0.3333333333333333,
              "#9c179e"
             ],
             [
              0.4444444444444444,
              "#bd3786"
             ],
             [
              0.5555555555555556,
              "#d8576b"
             ],
             [
              0.6666666666666666,
              "#ed7953"
             ],
             [
              0.7777777777777778,
              "#fb9f3a"
             ],
             [
              0.8888888888888888,
              "#fdca26"
             ],
             [
              1,
              "#f0f921"
             ]
            ],
            "type": "heatmapgl"
           }
          ],
          "histogram": [
           {
            "marker": {
             "pattern": {
              "fillmode": "overlay",
              "size": 10,
              "solidity": 0.2
             }
            },
            "type": "histogram"
           }
          ],
          "histogram2d": [
           {
            "colorbar": {
             "outlinewidth": 0,
             "ticks": ""
            },
            "colorscale": [
             [
              0,
              "#0d0887"
             ],
             [
              0.1111111111111111,
              "#46039f"
             ],
             [
              0.2222222222222222,
              "#7201a8"
             ],
             [
              0.3333333333333333,
              "#9c179e"
             ],
             [
              0.4444444444444444,
              "#bd3786"
             ],
             [
              0.5555555555555556,
              "#d8576b"
             ],
             [
              0.6666666666666666,
              "#ed7953"
             ],
             [
              0.7777777777777778,
              "#fb9f3a"
             ],
             [
              0.8888888888888888,
              "#fdca26"
             ],
             [
              1,
              "#f0f921"
             ]
            ],
            "type": "histogram2d"
           }
          ],
          "histogram2dcontour": [
           {
            "colorbar": {
             "outlinewidth": 0,
             "ticks": ""
            },
            "colorscale": [
             [
              0,
              "#0d0887"
             ],
             [
              0.1111111111111111,
              "#46039f"
             ],
             [
              0.2222222222222222,
              "#7201a8"
             ],
             [
              0.3333333333333333,
              "#9c179e"
             ],
             [
              0.4444444444444444,
              "#bd3786"
             ],
             [
              0.5555555555555556,
              "#d8576b"
             ],
             [
              0.6666666666666666,
              "#ed7953"
             ],
             [
              0.7777777777777778,
              "#fb9f3a"
             ],
             [
              0.8888888888888888,
              "#fdca26"
             ],
             [
              1,
              "#f0f921"
             ]
            ],
            "type": "histogram2dcontour"
           }
          ],
          "mesh3d": [
           {
            "colorbar": {
             "outlinewidth": 0,
             "ticks": ""
            },
            "type": "mesh3d"
           }
          ],
          "parcoords": [
           {
            "line": {
             "colorbar": {
              "outlinewidth": 0,
              "ticks": ""
             }
            },
            "type": "parcoords"
           }
          ],
          "pie": [
           {
            "automargin": true,
            "type": "pie"
           }
          ],
          "scatter": [
           {
            "marker": {
             "colorbar": {
              "outlinewidth": 0,
              "ticks": ""
             }
            },
            "type": "scatter"
           }
          ],
          "scatter3d": [
           {
            "line": {
             "colorbar": {
              "outlinewidth": 0,
              "ticks": ""
             }
            },
            "marker": {
             "colorbar": {
              "outlinewidth": 0,
              "ticks": ""
             }
            },
            "type": "scatter3d"
           }
          ],
          "scattercarpet": [
           {
            "marker": {
             "colorbar": {
              "outlinewidth": 0,
              "ticks": ""
             }
            },
            "type": "scattercarpet"
           }
          ],
          "scattergeo": [
           {
            "marker": {
             "colorbar": {
              "outlinewidth": 0,
              "ticks": ""
             }
            },
            "type": "scattergeo"
           }
          ],
          "scattergl": [
           {
            "marker": {
             "colorbar": {
              "outlinewidth": 0,
              "ticks": ""
             }
            },
            "type": "scattergl"
           }
          ],
          "scattermapbox": [
           {
            "marker": {
             "colorbar": {
              "outlinewidth": 0,
              "ticks": ""
             }
            },
            "type": "scattermapbox"
           }
          ],
          "scatterpolar": [
           {
            "marker": {
             "colorbar": {
              "outlinewidth": 0,
              "ticks": ""
             }
            },
            "type": "scatterpolar"
           }
          ],
          "scatterpolargl": [
           {
            "marker": {
             "colorbar": {
              "outlinewidth": 0,
              "ticks": ""
             }
            },
            "type": "scatterpolargl"
           }
          ],
          "scatterternary": [
           {
            "marker": {
             "colorbar": {
              "outlinewidth": 0,
              "ticks": ""
             }
            },
            "type": "scatterternary"
           }
          ],
          "surface": [
           {
            "colorbar": {
             "outlinewidth": 0,
             "ticks": ""
            },
            "colorscale": [
             [
              0,
              "#0d0887"
             ],
             [
              0.1111111111111111,
              "#46039f"
             ],
             [
              0.2222222222222222,
              "#7201a8"
             ],
             [
              0.3333333333333333,
              "#9c179e"
             ],
             [
              0.4444444444444444,
              "#bd3786"
             ],
             [
              0.5555555555555556,
              "#d8576b"
             ],
             [
              0.6666666666666666,
              "#ed7953"
             ],
             [
              0.7777777777777778,
              "#fb9f3a"
             ],
             [
              0.8888888888888888,
              "#fdca26"
             ],
             [
              1,
              "#f0f921"
             ]
            ],
            "type": "surface"
           }
          ],
          "table": [
           {
            "cells": {
             "fill": {
              "color": "#EBF0F8"
             },
             "line": {
              "color": "white"
             }
            },
            "header": {
             "fill": {
              "color": "#C8D4E3"
             },
             "line": {
              "color": "white"
             }
            },
            "type": "table"
           }
          ]
         },
         "layout": {
          "annotationdefaults": {
           "arrowcolor": "#2a3f5f",
           "arrowhead": 0,
           "arrowwidth": 1
          },
          "autotypenumbers": "strict",
          "coloraxis": {
           "colorbar": {
            "outlinewidth": 0,
            "ticks": ""
           }
          },
          "colorscale": {
           "diverging": [
            [
             0,
             "#8e0152"
            ],
            [
             0.1,
             "#c51b7d"
            ],
            [
             0.2,
             "#de77ae"
            ],
            [
             0.3,
             "#f1b6da"
            ],
            [
             0.4,
             "#fde0ef"
            ],
            [
             0.5,
             "#f7f7f7"
            ],
            [
             0.6,
             "#e6f5d0"
            ],
            [
             0.7,
             "#b8e186"
            ],
            [
             0.8,
             "#7fbc41"
            ],
            [
             0.9,
             "#4d9221"
            ],
            [
             1,
             "#276419"
            ]
           ],
           "sequential": [
            [
             0,
             "#0d0887"
            ],
            [
             0.1111111111111111,
             "#46039f"
            ],
            [
             0.2222222222222222,
             "#7201a8"
            ],
            [
             0.3333333333333333,
             "#9c179e"
            ],
            [
             0.4444444444444444,
             "#bd3786"
            ],
            [
             0.5555555555555556,
             "#d8576b"
            ],
            [
             0.6666666666666666,
             "#ed7953"
            ],
            [
             0.7777777777777778,
             "#fb9f3a"
            ],
            [
             0.8888888888888888,
             "#fdca26"
            ],
            [
             1,
             "#f0f921"
            ]
           ],
           "sequentialminus": [
            [
             0,
             "#0d0887"
            ],
            [
             0.1111111111111111,
             "#46039f"
            ],
            [
             0.2222222222222222,
             "#7201a8"
            ],
            [
             0.3333333333333333,
             "#9c179e"
            ],
            [
             0.4444444444444444,
             "#bd3786"
            ],
            [
             0.5555555555555556,
             "#d8576b"
            ],
            [
             0.6666666666666666,
             "#ed7953"
            ],
            [
             0.7777777777777778,
             "#fb9f3a"
            ],
            [
             0.8888888888888888,
             "#fdca26"
            ],
            [
             1,
             "#f0f921"
            ]
           ]
          },
          "colorway": [
           "#636efa",
           "#EF553B",
           "#00cc96",
           "#ab63fa",
           "#FFA15A",
           "#19d3f3",
           "#FF6692",
           "#B6E880",
           "#FF97FF",
           "#FECB52"
          ],
          "font": {
           "color": "#2a3f5f"
          },
          "geo": {
           "bgcolor": "white",
           "lakecolor": "white",
           "landcolor": "#E5ECF6",
           "showlakes": true,
           "showland": true,
           "subunitcolor": "white"
          },
          "hoverlabel": {
           "align": "left"
          },
          "hovermode": "closest",
          "mapbox": {
           "style": "light"
          },
          "paper_bgcolor": "white",
          "plot_bgcolor": "#E5ECF6",
          "polar": {
           "angularaxis": {
            "gridcolor": "white",
            "linecolor": "white",
            "ticks": ""
           },
           "bgcolor": "#E5ECF6",
           "radialaxis": {
            "gridcolor": "white",
            "linecolor": "white",
            "ticks": ""
           }
          },
          "scene": {
           "xaxis": {
            "backgroundcolor": "#E5ECF6",
            "gridcolor": "white",
            "gridwidth": 2,
            "linecolor": "white",
            "showbackground": true,
            "ticks": "",
            "zerolinecolor": "white"
           },
           "yaxis": {
            "backgroundcolor": "#E5ECF6",
            "gridcolor": "white",
            "gridwidth": 2,
            "linecolor": "white",
            "showbackground": true,
            "ticks": "",
            "zerolinecolor": "white"
           },
           "zaxis": {
            "backgroundcolor": "#E5ECF6",
            "gridcolor": "white",
            "gridwidth": 2,
            "linecolor": "white",
            "showbackground": true,
            "ticks": "",
            "zerolinecolor": "white"
           }
          },
          "shapedefaults": {
           "line": {
            "color": "#2a3f5f"
           }
          },
          "ternary": {
           "aaxis": {
            "gridcolor": "white",
            "linecolor": "white",
            "ticks": ""
           },
           "baxis": {
            "gridcolor": "white",
            "linecolor": "white",
            "ticks": ""
           },
           "bgcolor": "#E5ECF6",
           "caxis": {
            "gridcolor": "white",
            "linecolor": "white",
            "ticks": ""
           }
          },
          "title": {
           "x": 0.05
          },
          "xaxis": {
           "automargin": true,
           "gridcolor": "white",
           "linecolor": "white",
           "ticks": "",
           "title": {
            "standoff": 15
           },
           "zerolinecolor": "white",
           "zerolinewidth": 2
          },
          "yaxis": {
           "automargin": true,
           "gridcolor": "white",
           "linecolor": "white",
           "ticks": "",
           "title": {
            "standoff": 15
           },
           "zerolinecolor": "white",
           "zerolinewidth": 2
          }
         }
        },
        "xaxis": {
         "anchor": "y",
         "domain": [
          0,
          1
         ],
         "title": {
          "text": "trackName"
         }
        },
        "yaxis": {
         "anchor": "x",
         "domain": [
          0,
          1
         ],
         "title": {
          "text": "Count"
         }
        }
       }
      }
     },
     "metadata": {},
     "output_type": "display_data"
    }
   ],
   "source": [
    "import plotly.express as px\n",
    "from plotly.subplots import make_subplots\n",
    "\n",
    "fig = px.line(s1, x = 'trackName', y = 'Count', color = 'Season')\n",
    "\n",
    "fig.show()"
   ]
  },
  {
   "cell_type": "code",
   "execution_count": null,
   "metadata": {},
   "outputs": [],
   "source": []
  }
 ],
 "metadata": {
  "kernelspec": {
   "display_name": "base",
   "language": "python",
   "name": "python3"
  },
  "language_info": {
   "codemirror_mode": {
    "name": "ipython",
    "version": 3
   },
   "file_extension": ".py",
   "mimetype": "text/x-python",
   "name": "python",
   "nbconvert_exporter": "python",
   "pygments_lexer": "ipython3",
   "version": "3.9.12"
  },
  "orig_nbformat": 4,
  "vscode": {
   "interpreter": {
    "hash": "33a11755222a1f7d86ea2cf2f4dfdec365d04f7453605f968c7500575cda950b"
   }
  }
 },
 "nbformat": 4,
 "nbformat_minor": 2
}
